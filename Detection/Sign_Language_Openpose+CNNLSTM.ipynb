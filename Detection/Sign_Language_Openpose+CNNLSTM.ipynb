{
  "cells": [
    {
      "cell_type": "markdown",
      "metadata": {
        "id": "view-in-github",
        "colab_type": "text"
      },
      "source": [
        "<a href=\"https://colab.research.google.com/github/BouzCS/Sign-Language-Detection/blob/main/Sign_Language_Openpose%2BCNNLSTM.ipynb\" target=\"_parent\"><img src=\"https://colab.research.google.com/assets/colab-badge.svg\" alt=\"Open In Colab\"/></a>"
      ]
    },
    {
      "cell_type": "code",
      "execution_count": null,
      "metadata": {
        "id": "RS2CSlefk7fp"
      },
      "outputs": [],
      "source": [
        "import cv2\n",
        "import time\n",
        "import numpy as np\n",
        "from random import randint\n",
        "import sys, os\n",
        "from sys import platform\n",
        "import pandas as pd\n",
        "import argparse\n",
        "from math import sqrt, acos, degrees, atan, degrees\n",
        "import numpy as np\n",
        "import random\n",
        "import glob\n",
        "from PIL import Image\n",
        "import itertools\n",
        "import _pickle as pickle\n",
        "from datetime import datetime"
      ]
    },
    {
      "cell_type": "code",
      "execution_count": null,
      "metadata": {
        "colab": {
          "base_uri": "https://localhost:8080/"
        },
        "id": "RRlbRH6sugIs",
        "outputId": "5462f5ee-9e2b-43ea-9704-dbe7f53c98fd"
      },
      "outputs": [
        {
          "output_type": "stream",
          "name": "stdout",
          "text": [
            "Looking in indexes: https://pypi.org/simple, https://us-python.pkg.dev/colab-wheels/public/simple/\n",
            "Collecting mediapipe\n",
            "  Downloading mediapipe-0.8.10-cp37-cp37m-manylinux_2_17_x86_64.manylinux2014_x86_64.whl (32.8 MB)\n",
            "\u001b[K     |████████████████████████████████| 32.8 MB 1.2 MB/s \n",
            "\u001b[?25hCollecting yt-dlp\n",
            "  Downloading yt_dlp-2022.5.18-py2.py3-none-any.whl (2.6 MB)\n",
            "\u001b[K     |████████████████████████████████| 2.6 MB 61.4 MB/s \n",
            "\u001b[?25hRequirement already satisfied: protobuf>=3.11.4 in /usr/local/lib/python3.7/dist-packages (from mediapipe) (3.17.3)\n",
            "Requirement already satisfied: matplotlib in /usr/local/lib/python3.7/dist-packages (from mediapipe) (3.2.2)\n",
            "Requirement already satisfied: absl-py in /usr/local/lib/python3.7/dist-packages (from mediapipe) (1.0.0)\n",
            "Requirement already satisfied: opencv-contrib-python in /usr/local/lib/python3.7/dist-packages (from mediapipe) (4.1.2.30)\n",
            "Requirement already satisfied: attrs>=19.1.0 in /usr/local/lib/python3.7/dist-packages (from mediapipe) (21.4.0)\n",
            "Requirement already satisfied: numpy in /usr/local/lib/python3.7/dist-packages (from mediapipe) (1.21.6)\n",
            "Requirement already satisfied: six>=1.9 in /usr/local/lib/python3.7/dist-packages (from protobuf>=3.11.4->mediapipe) (1.15.0)\n",
            "Collecting pycryptodomex\n",
            "  Downloading pycryptodomex-3.14.1-cp35-abi3-manylinux2010_x86_64.whl (2.0 MB)\n",
            "\u001b[K     |████████████████████████████████| 2.0 MB 50.1 MB/s \n",
            "\u001b[?25hCollecting mutagen\n",
            "  Downloading mutagen-1.45.1-py3-none-any.whl (218 kB)\n",
            "\u001b[K     |████████████████████████████████| 218 kB 72.7 MB/s \n",
            "\u001b[?25hRequirement already satisfied: certifi in /usr/local/lib/python3.7/dist-packages (from yt-dlp) (2022.5.18.1)\n",
            "Collecting websockets\n",
            "  Downloading websockets-10.3-cp37-cp37m-manylinux_2_5_x86_64.manylinux1_x86_64.manylinux_2_12_x86_64.manylinux2010_x86_64.whl (112 kB)\n",
            "\u001b[K     |████████████████████████████████| 112 kB 59.6 MB/s \n",
            "\u001b[?25hCollecting brotli\n",
            "  Downloading Brotli-1.0.9-cp37-cp37m-manylinux1_x86_64.whl (357 kB)\n",
            "\u001b[K     |████████████████████████████████| 357 kB 66.1 MB/s \n",
            "\u001b[?25hRequirement already satisfied: pyparsing!=2.0.4,!=2.1.2,!=2.1.6,>=2.0.1 in /usr/local/lib/python3.7/dist-packages (from matplotlib->mediapipe) (3.0.9)\n",
            "Requirement already satisfied: python-dateutil>=2.1 in /usr/local/lib/python3.7/dist-packages (from matplotlib->mediapipe) (2.8.2)\n",
            "Requirement already satisfied: kiwisolver>=1.0.1 in /usr/local/lib/python3.7/dist-packages (from matplotlib->mediapipe) (1.4.2)\n",
            "Requirement already satisfied: cycler>=0.10 in /usr/local/lib/python3.7/dist-packages (from matplotlib->mediapipe) (0.11.0)\n",
            "Requirement already satisfied: typing-extensions in /usr/local/lib/python3.7/dist-packages (from kiwisolver>=1.0.1->matplotlib->mediapipe) (4.2.0)\n",
            "Installing collected packages: websockets, pycryptodomex, mutagen, brotli, yt-dlp, mediapipe\n",
            "Successfully installed brotli-1.0.9 mediapipe-0.8.10 mutagen-1.45.1 pycryptodomex-3.14.1 websockets-10.3 yt-dlp-2022.5.18\n"
          ]
        }
      ],
      "source": [
        "!pip install mediapipe yt-dlp"
      ]
    },
    {
      "cell_type": "code",
      "execution_count": null,
      "metadata": {
        "colab": {
          "base_uri": "https://localhost:8080/"
        },
        "id": "ZlI-ApOylA87",
        "outputId": "7b106735-0d7e-41a9-96ba-e29c5a46492a"
      },
      "outputs": [
        {
          "output_type": "stream",
          "name": "stdout",
          "text": [
            "Cloning into 'Deep-learning-based-human-action-recognition-using-human-skeletons'...\n",
            "remote: Enumerating objects: 95, done.\u001b[K\n",
            "remote: Total 95 (delta 0), reused 0 (delta 0), pack-reused 95\u001b[K\n",
            "Unpacking objects: 100% (95/95), done.\n"
          ]
        }
      ],
      "source": [
        "!git clone https://github.com/hafizas101/Deep-learning-based-human-action-recognition-using-human-skeletons.git"
      ]
    },
    {
      "cell_type": "code",
      "execution_count": null,
      "metadata": {
        "colab": {
          "base_uri": "https://localhost:8080/"
        },
        "id": "TCHe-eXN7v6E",
        "outputId": "dfedde5a-c332-4fdc-9cdf-7bd92226b468"
      },
      "outputs": [
        {
          "output_type": "stream",
          "name": "stdout",
          "text": [
            "--2022-06-07 11:43:03--  https://download.microsoft.com/download/3/c/a/3ca92c78-1c4a-4a91-a7ee-6980c1d242ec/MS-ASL.zip\n",
            "Resolving download.microsoft.com (download.microsoft.com)... 184.29.132.114, 2600:141b:f000:c08a::e59, 2600:141b:f000:c09f::e59\n",
            "Connecting to download.microsoft.com (download.microsoft.com)|184.29.132.114|:443... connected.\n",
            "HTTP request sent, awaiting response... 200 OK\n",
            "Length: 2022053 (1.9M) [application/octet-stream]\n",
            "Saving to: ‘MS-ASL.zip’\n",
            "\n",
            "\rMS-ASL.zip            0%[                    ]       0  --.-KB/s               \rMS-ASL.zip          100%[===================>]   1.93M  --.-KB/s    in 0.05s   \n",
            "\n",
            "2022-06-07 11:43:03 (39.4 MB/s) - ‘MS-ASL.zip’ saved [2022053/2022053]\n",
            "\n"
          ]
        }
      ],
      "source": [
        "!wget https://download.microsoft.com/download/3/c/a/3ca92c78-1c4a-4a91-a7ee-6980c1d242ec/MS-ASL.zip"
      ]
    },
    {
      "cell_type": "code",
      "execution_count": null,
      "metadata": {
        "colab": {
          "base_uri": "https://localhost:8080/"
        },
        "id": "TOXA7_h08B7B",
        "outputId": "db278a05-a9fa-4dab-e9a5-2680f61910b7"
      },
      "outputs": [
        {
          "output_type": "stream",
          "name": "stdout",
          "text": [
            "Archive:  /content/MS-ASL.zip\n",
            "  inflating: MS-ASL/C-UDA-0.1_annotated_discussion.pdf  \n",
            "  inflating: MS-ASL/MSASL_classes.json  \n",
            "  inflating: MS-ASL/MSASL_synonym.json  \n",
            "  inflating: MS-ASL/MSASL_test.json  \n",
            "  inflating: MS-ASL/MSASL_train.json  \n",
            "  inflating: MS-ASL/MSASL_val.json   \n",
            "  inflating: MS-ASL/README.md        \n"
          ]
        }
      ],
      "source": [
        "!unzip  /content/MS-ASL.zip"
      ]
    },
    {
      "cell_type": "code",
      "execution_count": null,
      "metadata": {
        "id": "vE9xYFFQ_D_P"
      },
      "outputs": [],
      "source": [
        "df = pd.read_json('/content/MS-ASL/MSASL_train.json')"
      ]
    },
    {
      "cell_type": "code",
      "execution_count": null,
      "metadata": {
        "colab": {
          "base_uri": "https://localhost:8080/",
          "height": 834
        },
        "id": "ieQ6lFMV_Qz7",
        "outputId": "c131331f-d385-42ac-d157-c70e62d53dc7"
      },
      "outputs": [
        {
          "output_type": "execute_result",
          "data": {
            "text/plain": [
              "                    org_text     clean_text  start_time  signer_id  signer  \\\n",
              "0      match [light-a-MATCH]          match       0.000          0       0   \n",
              "1                       FAIL           fail       0.000          0      -1   \n",
              "2                      laugh          laugh       0.000          4      26   \n",
              "3                       BOOK           book       0.000          0      -1   \n",
              "4              sign-language  sign language       0.000          0      -1   \n",
              "...                      ...            ...         ...        ...     ...   \n",
              "16049                  WRITE          write     539.939         32      17   \n",
              "16050                    hot            hot       0.000          2      42   \n",
              "16051                     hi             hi       0.000          0       0   \n",
              "16052                 Learn           learn       0.000        135      -1   \n",
              "16053             accountant     accountant       0.000          2      81   \n",
              "\n",
              "       start    end                          file  label  height     fps  \\\n",
              "0          0     83           match light-a-MATCH    830     360  30.000   \n",
              "1          0     74                          FAIL    542     360  25.000   \n",
              "2          0     31  SignSchool Laugh with Legs 2    312     360  29.970   \n",
              "3          0     66                       BOOK(3)     38     360  25.000   \n",
              "4          0     75        SIGN-LANGUAGE-S-CLAW-F    848     360  29.970   \n",
              "...      ...    ...                           ...    ...     ...     ...   \n",
              "16049  16182  16301       ASL 1 Unit 1 Vocabulary     53     360  29.970   \n",
              "16050      0    127                           Hot    135     360  29.657   \n",
              "16051      0     47                            Hi    379     360  29.970   \n",
              "16052      0    104                    ASL Learn      22     360  30.000   \n",
              "16053      0    156                    Accountant    777     360  29.658   \n",
              "\n",
              "       end_time                                          url           text  \\\n",
              "0         2.767  https://www.youtube.com/watch?v=C37R_Ix8-qs          match   \n",
              "1         2.960  https://www.youtube.com/watch?v=PIsUJl8BN_I           fail   \n",
              "2         1.034          www.youtube.com/watch?v=9FdHlMOnVjg          laugh   \n",
              "3         2.640  https://www.youtube.com/watch?v=J7tP98oDxqE           book   \n",
              "4         2.502          www.youtube.com/watch?v=N2mG9ZKjrGA  sign language   \n",
              "...         ...                                          ...            ...   \n",
              "16049   543.910  https://www.youtube.com/watch?v=fNg_sJ9f8EI          write   \n",
              "16050     4.282  https://www.youtube.com/watch?v=MkXUHhsMAns            hot   \n",
              "16051     1.568          www.youtube.com/watch?v=rhfJGeMDMzQ             hi   \n",
              "16052     3.467  https://www.youtube.com/watch?v=n-b2NMAwk28          learn   \n",
              "16053     5.260  https://www.youtube.com/watch?v=YwF_2ko6RxQ     accountant   \n",
              "\n",
              "                                                     box  width  review  \n",
              "0      [0.057544618844985004, 0.21637457609176602, 1....    640     NaN  \n",
              "1      [0.06577941775321901, 0.167171776294708, 0.939...    480     NaN  \n",
              "2      [0.131885945796966, 0.32334136962890603, 1.0, ...    640     NaN  \n",
              "3      [0.055698871612548, 0.25173279643058705, 0.996...    480     NaN  \n",
              "4      [0.039043992757797005, 0.24198183417320202, 1....    640     NaN  \n",
              "...                                                  ...    ...     ...  \n",
              "16049  [0.032177031040191005, 0.31613153219223, 1.0, ...    640     NaN  \n",
              "16050  [0.000367134809494, 0.20649650692939703, 1.0, ...    640     NaN  \n",
              "16051  [0.013705313205718002, 0.17314371466636602, 1....    640     NaN  \n",
              "16052  [0.18269836902618403, 0.19255371391773202, 1.0...    480     NaN  \n",
              "16053  [0.0, 0.20838260650634702, 1.0, 0.855440020561...    640     NaN  \n",
              "\n",
              "[16054 rows x 17 columns]"
            ],
            "text/html": [
              "\n",
              "  <div id=\"df-b84dd26b-fde3-40a8-a8e4-d23533b7ee61\">\n",
              "    <div class=\"colab-df-container\">\n",
              "      <div>\n",
              "<style scoped>\n",
              "    .dataframe tbody tr th:only-of-type {\n",
              "        vertical-align: middle;\n",
              "    }\n",
              "\n",
              "    .dataframe tbody tr th {\n",
              "        vertical-align: top;\n",
              "    }\n",
              "\n",
              "    .dataframe thead th {\n",
              "        text-align: right;\n",
              "    }\n",
              "</style>\n",
              "<table border=\"1\" class=\"dataframe\">\n",
              "  <thead>\n",
              "    <tr style=\"text-align: right;\">\n",
              "      <th></th>\n",
              "      <th>org_text</th>\n",
              "      <th>clean_text</th>\n",
              "      <th>start_time</th>\n",
              "      <th>signer_id</th>\n",
              "      <th>signer</th>\n",
              "      <th>start</th>\n",
              "      <th>end</th>\n",
              "      <th>file</th>\n",
              "      <th>label</th>\n",
              "      <th>height</th>\n",
              "      <th>fps</th>\n",
              "      <th>end_time</th>\n",
              "      <th>url</th>\n",
              "      <th>text</th>\n",
              "      <th>box</th>\n",
              "      <th>width</th>\n",
              "      <th>review</th>\n",
              "    </tr>\n",
              "  </thead>\n",
              "  <tbody>\n",
              "    <tr>\n",
              "      <th>0</th>\n",
              "      <td>match [light-a-MATCH]</td>\n",
              "      <td>match</td>\n",
              "      <td>0.000</td>\n",
              "      <td>0</td>\n",
              "      <td>0</td>\n",
              "      <td>0</td>\n",
              "      <td>83</td>\n",
              "      <td>match light-a-MATCH</td>\n",
              "      <td>830</td>\n",
              "      <td>360</td>\n",
              "      <td>30.000</td>\n",
              "      <td>2.767</td>\n",
              "      <td>https://www.youtube.com/watch?v=C37R_Ix8-qs</td>\n",
              "      <td>match</td>\n",
              "      <td>[0.057544618844985004, 0.21637457609176602, 1....</td>\n",
              "      <td>640</td>\n",
              "      <td>NaN</td>\n",
              "    </tr>\n",
              "    <tr>\n",
              "      <th>1</th>\n",
              "      <td>FAIL</td>\n",
              "      <td>fail</td>\n",
              "      <td>0.000</td>\n",
              "      <td>0</td>\n",
              "      <td>-1</td>\n",
              "      <td>0</td>\n",
              "      <td>74</td>\n",
              "      <td>FAIL</td>\n",
              "      <td>542</td>\n",
              "      <td>360</td>\n",
              "      <td>25.000</td>\n",
              "      <td>2.960</td>\n",
              "      <td>https://www.youtube.com/watch?v=PIsUJl8BN_I</td>\n",
              "      <td>fail</td>\n",
              "      <td>[0.06577941775321901, 0.167171776294708, 0.939...</td>\n",
              "      <td>480</td>\n",
              "      <td>NaN</td>\n",
              "    </tr>\n",
              "    <tr>\n",
              "      <th>2</th>\n",
              "      <td>laugh</td>\n",
              "      <td>laugh</td>\n",
              "      <td>0.000</td>\n",
              "      <td>4</td>\n",
              "      <td>26</td>\n",
              "      <td>0</td>\n",
              "      <td>31</td>\n",
              "      <td>SignSchool Laugh with Legs 2</td>\n",
              "      <td>312</td>\n",
              "      <td>360</td>\n",
              "      <td>29.970</td>\n",
              "      <td>1.034</td>\n",
              "      <td>www.youtube.com/watch?v=9FdHlMOnVjg</td>\n",
              "      <td>laugh</td>\n",
              "      <td>[0.131885945796966, 0.32334136962890603, 1.0, ...</td>\n",
              "      <td>640</td>\n",
              "      <td>NaN</td>\n",
              "    </tr>\n",
              "    <tr>\n",
              "      <th>3</th>\n",
              "      <td>BOOK</td>\n",
              "      <td>book</td>\n",
              "      <td>0.000</td>\n",
              "      <td>0</td>\n",
              "      <td>-1</td>\n",
              "      <td>0</td>\n",
              "      <td>66</td>\n",
              "      <td>BOOK(3)</td>\n",
              "      <td>38</td>\n",
              "      <td>360</td>\n",
              "      <td>25.000</td>\n",
              "      <td>2.640</td>\n",
              "      <td>https://www.youtube.com/watch?v=J7tP98oDxqE</td>\n",
              "      <td>book</td>\n",
              "      <td>[0.055698871612548, 0.25173279643058705, 0.996...</td>\n",
              "      <td>480</td>\n",
              "      <td>NaN</td>\n",
              "    </tr>\n",
              "    <tr>\n",
              "      <th>4</th>\n",
              "      <td>sign-language</td>\n",
              "      <td>sign language</td>\n",
              "      <td>0.000</td>\n",
              "      <td>0</td>\n",
              "      <td>-1</td>\n",
              "      <td>0</td>\n",
              "      <td>75</td>\n",
              "      <td>SIGN-LANGUAGE-S-CLAW-F</td>\n",
              "      <td>848</td>\n",
              "      <td>360</td>\n",
              "      <td>29.970</td>\n",
              "      <td>2.502</td>\n",
              "      <td>www.youtube.com/watch?v=N2mG9ZKjrGA</td>\n",
              "      <td>sign language</td>\n",
              "      <td>[0.039043992757797005, 0.24198183417320202, 1....</td>\n",
              "      <td>640</td>\n",
              "      <td>NaN</td>\n",
              "    </tr>\n",
              "    <tr>\n",
              "      <th>...</th>\n",
              "      <td>...</td>\n",
              "      <td>...</td>\n",
              "      <td>...</td>\n",
              "      <td>...</td>\n",
              "      <td>...</td>\n",
              "      <td>...</td>\n",
              "      <td>...</td>\n",
              "      <td>...</td>\n",
              "      <td>...</td>\n",
              "      <td>...</td>\n",
              "      <td>...</td>\n",
              "      <td>...</td>\n",
              "      <td>...</td>\n",
              "      <td>...</td>\n",
              "      <td>...</td>\n",
              "      <td>...</td>\n",
              "      <td>...</td>\n",
              "    </tr>\n",
              "    <tr>\n",
              "      <th>16049</th>\n",
              "      <td>WRITE</td>\n",
              "      <td>write</td>\n",
              "      <td>539.939</td>\n",
              "      <td>32</td>\n",
              "      <td>17</td>\n",
              "      <td>16182</td>\n",
              "      <td>16301</td>\n",
              "      <td>ASL 1 Unit 1 Vocabulary</td>\n",
              "      <td>53</td>\n",
              "      <td>360</td>\n",
              "      <td>29.970</td>\n",
              "      <td>543.910</td>\n",
              "      <td>https://www.youtube.com/watch?v=fNg_sJ9f8EI</td>\n",
              "      <td>write</td>\n",
              "      <td>[0.032177031040191005, 0.31613153219223, 1.0, ...</td>\n",
              "      <td>640</td>\n",
              "      <td>NaN</td>\n",
              "    </tr>\n",
              "    <tr>\n",
              "      <th>16050</th>\n",
              "      <td>hot</td>\n",
              "      <td>hot</td>\n",
              "      <td>0.000</td>\n",
              "      <td>2</td>\n",
              "      <td>42</td>\n",
              "      <td>0</td>\n",
              "      <td>127</td>\n",
              "      <td>Hot</td>\n",
              "      <td>135</td>\n",
              "      <td>360</td>\n",
              "      <td>29.657</td>\n",
              "      <td>4.282</td>\n",
              "      <td>https://www.youtube.com/watch?v=MkXUHhsMAns</td>\n",
              "      <td>hot</td>\n",
              "      <td>[0.000367134809494, 0.20649650692939703, 1.0, ...</td>\n",
              "      <td>640</td>\n",
              "      <td>NaN</td>\n",
              "    </tr>\n",
              "    <tr>\n",
              "      <th>16051</th>\n",
              "      <td>hi</td>\n",
              "      <td>hi</td>\n",
              "      <td>0.000</td>\n",
              "      <td>0</td>\n",
              "      <td>0</td>\n",
              "      <td>0</td>\n",
              "      <td>47</td>\n",
              "      <td>Hi</td>\n",
              "      <td>379</td>\n",
              "      <td>360</td>\n",
              "      <td>29.970</td>\n",
              "      <td>1.568</td>\n",
              "      <td>www.youtube.com/watch?v=rhfJGeMDMzQ</td>\n",
              "      <td>hi</td>\n",
              "      <td>[0.013705313205718002, 0.17314371466636602, 1....</td>\n",
              "      <td>640</td>\n",
              "      <td>NaN</td>\n",
              "    </tr>\n",
              "    <tr>\n",
              "      <th>16052</th>\n",
              "      <td>Learn</td>\n",
              "      <td>learn</td>\n",
              "      <td>0.000</td>\n",
              "      <td>135</td>\n",
              "      <td>-1</td>\n",
              "      <td>0</td>\n",
              "      <td>104</td>\n",
              "      <td>ASL Learn</td>\n",
              "      <td>22</td>\n",
              "      <td>360</td>\n",
              "      <td>30.000</td>\n",
              "      <td>3.467</td>\n",
              "      <td>https://www.youtube.com/watch?v=n-b2NMAwk28</td>\n",
              "      <td>learn</td>\n",
              "      <td>[0.18269836902618403, 0.19255371391773202, 1.0...</td>\n",
              "      <td>480</td>\n",
              "      <td>NaN</td>\n",
              "    </tr>\n",
              "    <tr>\n",
              "      <th>16053</th>\n",
              "      <td>accountant</td>\n",
              "      <td>accountant</td>\n",
              "      <td>0.000</td>\n",
              "      <td>2</td>\n",
              "      <td>81</td>\n",
              "      <td>0</td>\n",
              "      <td>156</td>\n",
              "      <td>Accountant</td>\n",
              "      <td>777</td>\n",
              "      <td>360</td>\n",
              "      <td>29.658</td>\n",
              "      <td>5.260</td>\n",
              "      <td>https://www.youtube.com/watch?v=YwF_2ko6RxQ</td>\n",
              "      <td>accountant</td>\n",
              "      <td>[0.0, 0.20838260650634702, 1.0, 0.855440020561...</td>\n",
              "      <td>640</td>\n",
              "      <td>NaN</td>\n",
              "    </tr>\n",
              "  </tbody>\n",
              "</table>\n",
              "<p>16054 rows × 17 columns</p>\n",
              "</div>\n",
              "      <button class=\"colab-df-convert\" onclick=\"convertToInteractive('df-b84dd26b-fde3-40a8-a8e4-d23533b7ee61')\"\n",
              "              title=\"Convert this dataframe to an interactive table.\"\n",
              "              style=\"display:none;\">\n",
              "        \n",
              "  <svg xmlns=\"http://www.w3.org/2000/svg\" height=\"24px\"viewBox=\"0 0 24 24\"\n",
              "       width=\"24px\">\n",
              "    <path d=\"M0 0h24v24H0V0z\" fill=\"none\"/>\n",
              "    <path d=\"M18.56 5.44l.94 2.06.94-2.06 2.06-.94-2.06-.94-.94-2.06-.94 2.06-2.06.94zm-11 1L8.5 8.5l.94-2.06 2.06-.94-2.06-.94L8.5 2.5l-.94 2.06-2.06.94zm10 10l.94 2.06.94-2.06 2.06-.94-2.06-.94-.94-2.06-.94 2.06-2.06.94z\"/><path d=\"M17.41 7.96l-1.37-1.37c-.4-.4-.92-.59-1.43-.59-.52 0-1.04.2-1.43.59L10.3 9.45l-7.72 7.72c-.78.78-.78 2.05 0 2.83L4 21.41c.39.39.9.59 1.41.59.51 0 1.02-.2 1.41-.59l7.78-7.78 2.81-2.81c.8-.78.8-2.07 0-2.86zM5.41 20L4 18.59l7.72-7.72 1.47 1.35L5.41 20z\"/>\n",
              "  </svg>\n",
              "      </button>\n",
              "      \n",
              "  <style>\n",
              "    .colab-df-container {\n",
              "      display:flex;\n",
              "      flex-wrap:wrap;\n",
              "      gap: 12px;\n",
              "    }\n",
              "\n",
              "    .colab-df-convert {\n",
              "      background-color: #E8F0FE;\n",
              "      border: none;\n",
              "      border-radius: 50%;\n",
              "      cursor: pointer;\n",
              "      display: none;\n",
              "      fill: #1967D2;\n",
              "      height: 32px;\n",
              "      padding: 0 0 0 0;\n",
              "      width: 32px;\n",
              "    }\n",
              "\n",
              "    .colab-df-convert:hover {\n",
              "      background-color: #E2EBFA;\n",
              "      box-shadow: 0px 1px 2px rgba(60, 64, 67, 0.3), 0px 1px 3px 1px rgba(60, 64, 67, 0.15);\n",
              "      fill: #174EA6;\n",
              "    }\n",
              "\n",
              "    [theme=dark] .colab-df-convert {\n",
              "      background-color: #3B4455;\n",
              "      fill: #D2E3FC;\n",
              "    }\n",
              "\n",
              "    [theme=dark] .colab-df-convert:hover {\n",
              "      background-color: #434B5C;\n",
              "      box-shadow: 0px 1px 3px 1px rgba(0, 0, 0, 0.15);\n",
              "      filter: drop-shadow(0px 1px 2px rgba(0, 0, 0, 0.3));\n",
              "      fill: #FFFFFF;\n",
              "    }\n",
              "  </style>\n",
              "\n",
              "      <script>\n",
              "        const buttonEl =\n",
              "          document.querySelector('#df-b84dd26b-fde3-40a8-a8e4-d23533b7ee61 button.colab-df-convert');\n",
              "        buttonEl.style.display =\n",
              "          google.colab.kernel.accessAllowed ? 'block' : 'none';\n",
              "\n",
              "        async function convertToInteractive(key) {\n",
              "          const element = document.querySelector('#df-b84dd26b-fde3-40a8-a8e4-d23533b7ee61');\n",
              "          const dataTable =\n",
              "            await google.colab.kernel.invokeFunction('convertToInteractive',\n",
              "                                                     [key], {});\n",
              "          if (!dataTable) return;\n",
              "\n",
              "          const docLinkHtml = 'Like what you see? Visit the ' +\n",
              "            '<a target=\"_blank\" href=https://colab.research.google.com/notebooks/data_table.ipynb>data table notebook</a>'\n",
              "            + ' to learn more about interactive tables.';\n",
              "          element.innerHTML = '';\n",
              "          dataTable['output_type'] = 'display_data';\n",
              "          await google.colab.output.renderOutput(dataTable, element);\n",
              "          const docLink = document.createElement('div');\n",
              "          docLink.innerHTML = docLinkHtml;\n",
              "          element.appendChild(docLink);\n",
              "        }\n",
              "      </script>\n",
              "    </div>\n",
              "  </div>\n",
              "  "
            ]
          },
          "metadata": {},
          "execution_count": 7
        }
      ],
      "source": [
        "df"
      ]
    },
    {
      "cell_type": "code",
      "execution_count": null,
      "metadata": {
        "id": "t0-FTsL0CG9m"
      },
      "outputs": [],
      "source": [
        "url_one_list = df['url'].tolist()\n",
        "label_one_list = df['text'].tolist()\n"
      ]
    },
    {
      "cell_type": "code",
      "execution_count": null,
      "metadata": {
        "id": "ISuogzNJKEq5"
      },
      "outputs": [],
      "source": [
        "# Calculate number of frames\n",
        "cap = cv2. VideoCapture(\"video.mp4\")\n",
        "number_of_frames = int(cap. get(cv2. CAP_PROP_FRAME_COUNT))"
      ]
    },
    {
      "cell_type": "code",
      "execution_count": null,
      "metadata": {
        "id": "cJWNjvamS6zr",
        "colab": {
          "base_uri": "https://localhost:8080/"
        },
        "outputId": "0e3cf559-bf07-4387-88e1-29d42d3be6fa"
      },
      "outputs": [
        {
          "output_type": "stream",
          "name": "stdout",
          "text": [
            "Imageio: 'ffmpeg-linux64-v3.3.1' was not found on your computer; downloading it now.\n",
            "Try 1. Download from https://github.com/imageio/imageio-binaries/raw/master/ffmpeg/ffmpeg-linux64-v3.3.1 (43.8 MB)\n",
            "Downloading: 8192/45929032 bytes (0.0%)\b\b\b\b\b\b\b\b\b\b\b\b\b\b\b\b\b\b\b\b\b\b\b\b\b\b3579904/45929032 bytes (7.8%)\b\b\b\b\b\b\b\b\b\b\b\b\b\b\b\b\b\b\b\b\b\b\b\b\b\b\b\b\b3588096/45929032 bytes (7.8%)\b\b\b\b\b\b\b\b\b\b\b\b\b\b\b\b\b\b\b\b\b\b\b\b\b\b\b\b\b5857280/45929032 bytes (12.8%)\b\b\b\b\b\b\b\b\b\b\b\b\b\b\b\b\b\b\b\b\b\b\b\b\b\b\b\b\b\b5865472/45929032 bytes (12.8%)\b\b\b\b\b\b\b\b\b\b\b\b\b\b\b\b\b\b\b\b\b\b\b\b\b\b\b\b\b\b8323072/45929032 bytes (18.1%)\b\b\b\b\b\b\b\b\b\b\b\b\b\b\b\b\b\b\b\b\b\b\b\b\b\b\b\b\b\b10772480/45929032 bytes (23.5%)\b\b\b\b\b\b\b\b\b\b\b\b\b\b\b\b\b\b\b\b\b\b\b\b\b\b\b\b\b\b\b14106624/45929032 bytes (30.7%)\b\b\b\b\b\b\b\b\b\b\b\b\b\b\b\b\b\b\b\b\b\b\b\b\b\b\b\b\b\b\b16261120/45929032 bytes (35.4%)\b\b\b\b\b\b\b\b\b\b\b\b\b\b\b\b\b\b\b\b\b\b\b\b\b\b\b\b\b\b\b18964480/45929032 bytes (41.3%)\b\b\b\b\b\b\b\b\b\b\b\b\b\b\b\b\b\b\b\b\b\b\b\b\b\b\b\b\b\b\b21528576/45929032 bytes (46.9%)\b\b\b\b\b\b\b\b\b\b\b\b\b\b\b\b\b\b\b\b\b\b\b\b\b\b\b\b\b\b\b23429120/45929032 bytes (51.0%)\b\b\b\b\b\b\b\b\b\b\b\b\b\b\b\b\b\b\b\b\b\b\b\b\b\b\b\b\b\b\b25993216/45929032 bytes (56.6%)\b\b\b\b\b\b\b\b\b\b\b\b\b\b\b\b\b\b\b\b\b\b\b\b\b\b\b\b\b\b\b26001408/45929032 bytes (56.6%)\b\b\b\b\b\b\b\b\b\b\b\b\b\b\b\b\b\b\b\b\b\b\b\b\b\b\b\b\b\b\b28327936/45929032 bytes (61.7%)\b\b\b\b\b\b\b\b\b\b\b\b\b\b\b\b\b\b\b\b\b\b\b\b\b\b\b\b\b\b\b30834688/45929032 bytes (67.1%)\b\b\b\b\b\b\b\b\b\b\b\b\b\b\b\b\b\b\b\b\b\b\b\b\b\b\b\b\b\b\b33218560/45929032 bytes (72.3%)\b\b\b\b\b\b\b\b\b\b\b\b\b\b\b\b\b\b\b\b\b\b\b\b\b\b\b\b\b\b\b35840000/45929032 bytes (78.0%)\b\b\b\b\b\b\b\b\b\b\b\b\b\b\b\b\b\b\b\b\b\b\b\b\b\b\b\b\b\b\b38436864/45929032 bytes (83.7%)\b\b\b\b\b\b\b\b\b\b\b\b\b\b\b\b\b\b\b\b\b\b\b\b\b\b\b\b\b\b\b40411136/45929032 bytes (88.0%)\b\b\b\b\b\b\b\b\b\b\b\b\b\b\b\b\b\b\b\b\b\b\b\b\b\b\b\b\b\b\b42115072/45929032 bytes (91.7%)\b\b\b\b\b\b\b\b\b\b\b\b\b\b\b\b\b\b\b\b\b\b\b\b\b\b\b\b\b\b\b44498944/45929032 bytes (96.9%)\b\b\b\b\b\b\b\b\b\b\b\b\b\b\b\b\b\b\b\b\b\b\b\b\b\b\b\b\b\b\b45929032/45929032 bytes (100.0%)\n",
            "  Done\n",
            "File saved as /root/.imageio/ffmpeg/ffmpeg-linux64-v3.3.1.\n"
          ]
        }
      ],
      "source": [
        "from moviepy.editor import *\n",
        "# Import everything needed to edit video clips\n",
        "def trim_video(t1,t2):\n",
        "  # loading video \n",
        "  clip = VideoFileClip(\"video.mp4\")\n",
        "  # getting only first seconds\n",
        "  clip = clip.subclip(t1, t2)\n",
        "  # showing clip\n",
        "  clip.write_videofile(\"clip.mp4\")"
      ]
    },
    {
      "cell_type": "code",
      "execution_count": null,
      "metadata": {
        "id": "hXjHFgNLBQr_"
      },
      "outputs": [],
      "source": [
        "from google.colab import drive \n",
        "#drive.mount('/content/drive')"
      ]
    },
    {
      "cell_type": "code",
      "execution_count": null,
      "metadata": {
        "id": "Ok1BpNAPIjM-"
      },
      "outputs": [],
      "source": [
        "def calc_landmark_list(image, landmarks):\n",
        "    image_width, image_height = image.shape[1], image.shape[0]\n",
        "\n",
        "    landmark_point = []\n",
        "\n",
        "    # Keypoint\n",
        "    for _, landmark in enumerate(landmarks.landmark):\n",
        "        landmark_x = min(int(landmark.x * image_width), image_width - 1)\n",
        "        landmark_y = min(int(landmark.y * image_height), image_height - 1)\n",
        "        landmark_z = landmark.z\n",
        "\n",
        "        landmark_point.append([landmark_x, landmark_y, landmark_z])\n",
        "\n",
        "    return landmark_point"
      ]
    },
    {
      "cell_type": "code",
      "execution_count": null,
      "metadata": {
        "id": "rRHS5_HbjS-j"
      },
      "outputs": [],
      "source": [
        "import cv2\n",
        "import copy\n",
        "import itertools\n",
        "\n",
        "# Important : Preprocessing :\n",
        "def pre_process_landmark(landmark_list):\n",
        "    temp_landmark_list = copy.deepcopy(landmark_list)\n",
        "\n",
        "    # Convert to relative coordinates\n",
        "    base_x, base_y = 0, 0\n",
        "    for index, landmark_point in enumerate(temp_landmark_list):\n",
        "        if index == 0:\n",
        "            base_x, base_y = landmark_point[0], landmark_point[1]\n",
        "\n",
        "        temp_landmark_list[index][0] = temp_landmark_list[index][0] - base_x\n",
        "        temp_landmark_list[index][1] = temp_landmark_list[index][1] - base_y\n",
        "\n",
        "    # Convert to a one-dimensional list\n",
        "    temp_landmark_list = list(\n",
        "        itertools.chain.from_iterable(temp_landmark_list))\n",
        "\n",
        "    # Normalization\n",
        "    max_value = max(list(map(abs, temp_landmark_list)))\n",
        "\n",
        "    def normalize_(n):\n",
        "        return n / max_value\n",
        "\n",
        "    temp_landmark_list = list(map(normalize_, temp_landmark_list))\n",
        "\n",
        "    return temp_landmark_list"
      ]
    },
    {
      "cell_type": "code",
      "execution_count": null,
      "metadata": {
        "id": "pvLwDjcQZNih"
      },
      "outputs": [],
      "source": [
        "# Important : Preprocessing :\n",
        "def pre_process_landmark(landmark_list):\n",
        "    temp_landmark_list = copy.deepcopy(landmark_list)\n",
        "\n",
        "    # Convert to relative coordinates\n",
        "    base_x, base_y = 0, 0\n",
        "    for index, landmark_point in enumerate(temp_landmark_list):\n",
        "        if index == 0:\n",
        "            base_x, base_y = landmark_point[0], landmark_point[1]\n",
        "\n",
        "        temp_landmark_list[index][0] = temp_landmark_list[index][0] - base_x\n",
        "        temp_landmark_list[index][1] = temp_landmark_list[index][1] - base_y\n",
        "\n",
        "    # Convert to a one-dimensional list\n",
        "    temp_landmark_list = list(\n",
        "        itertools.chain.from_iterable(temp_landmark_list))\n",
        "\n",
        "    # Normalization\n",
        "    max_value = max(list(map(abs, temp_landmark_list)))\n",
        "\n",
        "    def normalize_(n):\n",
        "        return n / max_value\n",
        "\n",
        "    temp_landmark_list = list(map(normalize_, temp_landmark_list))\n",
        "\n",
        "    return temp_landmark_list"
      ]
    },
    {
      "cell_type": "code",
      "execution_count": null,
      "metadata": {
        "id": "gD6CyQBnN0lV"
      },
      "outputs": [],
      "source": [
        "import cv2\n",
        "import pandas as pd\n",
        "import numpy as np\n",
        "import mediapipe as mp\n",
        "import tqdm\n",
        "\n",
        "def get_keypoints(image_input):\n",
        "  mp_drawing = mp.solutions.drawing_utils\n",
        "  mp_drawing_styles = mp.solutions.drawing_styles\n",
        "  mp_hands = mp.solutions.hands\n",
        "\n",
        "  zero = np.zeros(63)\n",
        "  col = range(1,127)\n",
        "  df = pd.DataFrame(columns=col)\n",
        "  try:\n",
        "    with mp_hands.Hands(\n",
        "        static_image_mode=True,\n",
        "        max_num_hands=2,\n",
        "        min_detection_confidence=0.64) as hands:\n",
        "\n",
        "        hands_list=[]\n",
        "        data = []\n",
        "        temp_data = []\n",
        "\n",
        "\n",
        "        # Read an image, flip it around y-axis for correct handedness output (see\n",
        "        # above).\n",
        "        image = image_input\n",
        "        image_width, image_height = image.shape[1], image.shape[0]\n",
        "\n",
        "        # Convert the BGR image to RGB before processing.\n",
        "        results = hands.process(cv2.cvtColor(image, cv2.COLOR_BGR2RGB))\n",
        "\n",
        "        try:\n",
        "          for idx, hand_handedness in enumerate(results.multi_handedness):\n",
        "            hands_list.append(hand_handedness.classification[0].label)\n",
        "        except:\n",
        "            pass\n",
        "        hand_max_count = max(hands_list.count(\"Right\"), hands_list.count(\"Left\"))\n",
        "        # Print handedness and draw hand landmarks on the image.\n",
        "        #print('Handedness:', results.multi_handedness)\n",
        "        annotated_image = image.copy()\n",
        "        for hand_landmarks in results.multi_hand_landmarks:\n",
        "          if results.multi_hand_landmarks:\n",
        "              for i in range(21):\n",
        "                data.append(min(int(hand_landmarks.landmark[mp_hands.HandLandmark(i).value].x * image_width), image_width - 1))\n",
        "                data.append(min(int(hand_landmarks.landmark[mp_hands.HandLandmark(i).value].y * image_width), image_width - 1))\n",
        "                data.append(hand_landmarks.landmark[mp_hands.HandLandmark(i).value].z)\n",
        "                temp_data.append(data[i*3:(i*3)+3])\n",
        "\n",
        "        preproc_data=np.array(pre_process_landmark(temp_data))\n",
        "          \n",
        "        if \"Right\" in hands_list and \"Left\" in hands_list:\n",
        "          df = df.append(pd.DataFrame(preproc_data.reshape(1,-1), columns=col))\n",
        "\n",
        "        elif (\"Right\" in hands_list and \"Left\" not in hands_list):\n",
        "          if hand_max_count==1:\n",
        "            preproc_data = np.concatenate((preproc_data, zero), axis=None)\n",
        "\n",
        "            df =df.append(pd.DataFrame(preproc_data.reshape(1,-1), columns=col))\n",
        "\n",
        "          else:\n",
        "            preproc_data = np.concatenate((preproc_data[:63], zero), axis=None)\n",
        "\n",
        "            df =df.append(pd.DataFrame(preproc_data.reshape(1,-1), columns=col))       \n",
        "\n",
        "        elif (\"Right\" not in hands_list and \"Left\" in hands_list):\n",
        "          if hand_max_count==1:\n",
        "\n",
        "            preproc_data = np.concatenate((zero, preproc_data), axis=None)\n",
        "\n",
        "            df =df.append(pd.DataFrame(preproc_data.reshape(1,-1), columns=col))\n",
        "\n",
        "          else:\n",
        "\n",
        "            preproc_data = np.concatenate((zero, preproc_data[:63]), axis=None)\n",
        "\n",
        "            df =df.append(pd.DataFrame(preproc_data.reshape(1,-1), columns=col))\n",
        "\n",
        "  except:\n",
        "    pass\n",
        "    final=df.to_numpy()\n",
        "    if len(final)==0 : final=0\n",
        "  return final\n",
        "            \n",
        "\n"
      ]
    },
    {
      "cell_type": "code",
      "execution_count": null,
      "metadata": {
        "id": "nU2KT42hqysc"
      },
      "outputs": [],
      "source": [
        "def save_file(file_name,data):\n",
        "  np.save(\"/content/output_files/\"+file_name+'.npy', data)\n"
      ]
    },
    {
      "cell_type": "code",
      "execution_count": null,
      "metadata": {
        "id": "ACnOuskTtT0_"
      },
      "outputs": [],
      "source": [
        "global_data=[]"
      ]
    },
    {
      "cell_type": "code",
      "execution_count": null,
      "metadata": {
        "id": "6r47sOYd8JcJ"
      },
      "outputs": [],
      "source": [
        "!mkdir output_files"
      ]
    },
    {
      "cell_type": "code",
      "execution_count": null,
      "metadata": {
        "colab": {
          "base_uri": "https://localhost:8080/"
        },
        "id": "BAQGs_Ey9hFy",
        "outputId": "fb49dbd3-3780-45f8-fda9-5c896c14afb6"
      },
      "outputs": [
        {
          "output_type": "stream",
          "name": "stdout",
          "text": [
            "Looking in indexes: https://pypi.org/simple, https://us-python.pkg.dev/colab-wheels/public/simple/\n",
            "Requirement already satisfied: psutil in /usr/local/lib/python3.7/dist-packages (5.4.8)\n",
            "RAM memory % used: 9.7\n"
          ]
        }
      ],
      "source": [
        "!pip install psutil\n",
        "import psutil # Can be found at https://pypi.org/project/psutil/\n",
        "\n",
        "print('RAM memory % used:', psutil.virtual_memory()[2])"
      ]
    },
    {
      "cell_type": "code",
      "execution_count": null,
      "metadata": {
        "colab": {
          "base_uri": "https://localhost:8080/"
        },
        "id": "iKDZyCKdnUkp",
        "outputId": "2a75db1d-e720-44ca-efc2-4d3facab91b1"
      },
      "outputs": [
        {
          "output_type": "stream",
          "name": "stdout",
          "text": [
            "Looking in indexes: https://pypi.org/simple, https://us-python.pkg.dev/colab-wheels/public/simple/\n",
            "Collecting pytube\n",
            "  Downloading pytube-12.1.0-py3-none-any.whl (56 kB)\n",
            "\u001b[K     |████████████████████████████████| 56 kB 5.1 MB/s \n",
            "\u001b[?25hInstalling collected packages: pytube\n",
            "Successfully installed pytube-12.1.0\n"
          ]
        }
      ],
      "source": [
        "!pip install pytube"
      ]
    },
    {
      "cell_type": "code",
      "execution_count": null,
      "metadata": {
        "colab": {
          "base_uri": "https://localhost:8080/"
        },
        "id": "MjaqgszZx70z",
        "outputId": "f0145842-b3a3-4dda-a9fc-1bcfcbe9616c"
      },
      "outputs": [
        {
          "output_type": "stream",
          "name": "stderr",
          "text": [
            "\r  0%|          | 0/1 [00:00<?, ?it/s]"
          ]
        },
        {
          "output_type": "stream",
          "name": "stdout",
          "text": [
            "[youtube] C37R_Ix8-qs: Downloading webpage\n",
            "[youtube] C37R_Ix8-qs: Downloading android player API JSON\n",
            "[youtube] C37R_Ix8-qs: Downloading MPD manifest\n",
            "[youtube] C37R_Ix8-qs: Downloading MPD manifest\n",
            "[info] C37R_Ix8-qs: Downloading 1 format(s): 18\n",
            "[download] Destination: video.mp4\n",
            "[download] 100% of 113.13KiB in 00:00               \n",
            "[MoviePy] >>>> Building video clip.mp4\n",
            "[MoviePy] Writing audio in clipTEMP_MPY_wvf_snd.mp3\n"
          ]
        },
        {
          "output_type": "stream",
          "name": "stderr",
          "text": [
            "\n",
            "100%|██████████| 62/62 [00:00<00:00, 1422.47it/s]"
          ]
        },
        {
          "output_type": "stream",
          "name": "stdout",
          "text": [
            "[MoviePy] Done.\n",
            "[MoviePy] Writing video clip.mp4\n"
          ]
        },
        {
          "output_type": "stream",
          "name": "stderr",
          "text": [
            "\n",
            "\n",
            "  0%|          | 0/84 [00:00<?, ?it/s]\u001b[A\n",
            " 48%|████▊     | 40/84 [00:00<00:00, 397.44it/s]\u001b[A\n",
            "100%|██████████| 84/84 [00:00<00:00, 166.60it/s]\n"
          ]
        },
        {
          "output_type": "stream",
          "name": "stdout",
          "text": [
            "[MoviePy] Done.\n",
            "[MoviePy] >>>> Video ready: clip.mp4 \n",
            "\n"
          ]
        },
        {
          "output_type": "stream",
          "name": "stderr",
          "text": [
            "100%|██████████| 1/1 [00:16<00:00, 16.07s/it]\n"
          ]
        }
      ],
      "source": [
        "FRAMES_FIX = 30\n",
        "\n",
        "from math import floor\n",
        "import cv2\n",
        "#from pytube import YouTube\n",
        "from yt_dlp import YoutubeDL\n",
        "import pandas as pd\n",
        "import numpy as np\n",
        "import mediapipe as mp\n",
        "import tqdm\n",
        "from moviepy.video.io.ffmpeg_tools import ffmpeg_extract_subclip\n",
        "import gc\n",
        "\n",
        "columns = [\"mediapipe_keypoint\",\"box\",\"label\"]\n",
        "RAM_LEVEL = psutil.virtual_memory()[2]\n",
        "global_data = []\n",
        "\n",
        "ydl_opts = {\"format\": \"mp4[height=360]\",\n",
        "            'outtmpl': 'video.mp4',\n",
        "            'ignoreerrors': True}\n",
        "\n",
        "\n",
        "for i in tqdm.tqdm(range(0,1)):\n",
        "  try:\n",
        "    if RAM_LEVEL>60 or i == 34 or i==33 or i==51 or i==326:\n",
        "      continue \n",
        "    #Always comment this 1st line then restart the code\n",
        "    #Append to global dataframe\n",
        "    #global_data.append([np.array(mediapipe_keypoints)[:30],df[\"box\"][i],label])\n",
        "    \n",
        "    #Save an output every 7 videos (Solution for the memory problem)\n",
        "\n",
        "\n",
        "    video_url = url_one_list[i]\n",
        "    ## Choose a video stream with resolution of 360p\n",
        "    #streams = YouTube(video_url).streams.filter(adaptive=True, subtype=\"mp4\", resolution=\"360p\", only_video=True)\n",
        "    ## Check if there is a valid stream\n",
        "    #if len(streams) == 0:\n",
        "    #  raise \"No suitable stream found for this YouTube video!\"\n",
        "    ## Download the video as video.mp4\n",
        "    ##print(\"Downloading...\")\n",
        "    #streams[0].download(filename=\"video.mp4\")\n",
        "    ##print(\"Download completed.\")\n",
        "\n",
        "    with YoutubeDL(ydl_opts) as ydl:\n",
        "      ydl.download([video_url])\n",
        "    \n",
        "    #print(\"Download completed.\")\n",
        "    trim_video(df[\"start_time\"][i], df[\"end_time\"][i])\n",
        "    \n",
        "    !rm video.mp4\n",
        "    # Calculate number of frames\n",
        "    cap = cv2. VideoCapture(\"clip.mp4\")\n",
        "\n",
        "    if RAM_LEVEL>60:\n",
        "      continue \n",
        "    \n",
        "    number_of_frames = int(cap. get(cv2. CAP_PROP_FRAME_COUNT))\n",
        "    N = floor(number_of_frames/FRAMES_FIX)\n",
        "    \n",
        "    # The frame images will be stored in mediapipe_keypoints\n",
        "    mediapipe_keypoints = []\n",
        "    label=label_one_list[i]\n",
        "    # Open the video file\n",
        "    capture = cv2.VideoCapture('/content/clip.mp4')\n",
        "    fps = capture.get(cv2.CAP_PROP_FPS)\n",
        "    current_frame = 0\n",
        "    while capture.isOpened():\n",
        "      # Read the current frame\n",
        "      ret, frame = capture.read()\n",
        "      if RAM_LEVEL>60:\n",
        "        continue \n",
        "      # Convert it to a PIL image (required for CLIP) and store it\n",
        "      if ret == True:\n",
        "        mediapipe_keypoints.append(get_keypoints(frame[:, :, ::-1]))\n",
        "      else:\n",
        "        break\n",
        "      # Skip N frames\n",
        "      if RAM_LEVEL>60:\n",
        "        continue \n",
        "      current_frame += N\n",
        "      \n",
        "      capture.set(cv2.CAP_PROP_POS_FRAMES, current_frame)\n",
        "    \n",
        "  except Exception as error:\n",
        "          print('Caught this error: ' + repr(error))   \n",
        "\n",
        "\n"
      ]
    },
    {
      "cell_type": "code",
      "execution_count": null,
      "metadata": {
        "colab": {
          "base_uri": "https://localhost:8080/"
        },
        "id": "fFA0bTaL6DIs",
        "outputId": "7ec19083-5809-4f7f-936c-5a11ec79970a"
      },
      "outputs": [
        {
          "output_type": "stream",
          "name": "stderr",
          "text": [
            "\r  0%|          | 0/16054 [00:00<?, ?it/s]"
          ]
        },
        {
          "output_type": "stream",
          "name": "stdout",
          "text": [
            "\n",
            "######################################## File Created ########################################\n",
            "[youtube] C37R_Ix8-qs: Downloading webpage\n",
            "[youtube] C37R_Ix8-qs: Downloading android player API JSON\n",
            "[youtube] C37R_Ix8-qs: Downloading MPD manifest\n",
            "[youtube] C37R_Ix8-qs: Downloading MPD manifest\n",
            "[info] C37R_Ix8-qs: Downloading 1 format(s): 18\n",
            "[download] Destination: video.mp4\n",
            "[download] 100% of 113.13KiB in 00:00               \n",
            "[MoviePy] >>>> Building video clip.mp4\n",
            "[MoviePy] Writing audio in clipTEMP_MPY_wvf_snd.mp3\n"
          ]
        },
        {
          "output_type": "stream",
          "name": "stderr",
          "text": [
            "\n",
            "100%|██████████| 62/62 [00:00<00:00, 1530.23it/s]"
          ]
        },
        {
          "output_type": "stream",
          "name": "stdout",
          "text": [
            "[MoviePy] Done.\n",
            "[MoviePy] Writing video clip.mp4\n"
          ]
        },
        {
          "output_type": "stream",
          "name": "stderr",
          "text": [
            "\n",
            "\n",
            "  0%|          | 0/84 [00:00<?, ?it/s]\u001b[A\n",
            " 49%|████▉     | 41/84 [00:00<00:00, 399.39it/s]\u001b[A\n",
            "100%|██████████| 84/84 [00:01<00:00, 64.75it/s] \n"
          ]
        },
        {
          "output_type": "stream",
          "name": "stdout",
          "text": [
            "[MoviePy] Done.\n",
            "[MoviePy] >>>> Video ready: clip.mp4 \n",
            "\n"
          ]
        },
        {
          "output_type": "stream",
          "name": "stderr",
          "text": [
            "\r  0%|          | 1/16054 [00:04<21:06:32,  4.73s/it]"
          ]
        },
        {
          "output_type": "stream",
          "name": "stdout",
          "text": [
            "Caught this error: UnboundLocalError(\"local variable 'final' referenced before assignment\")\n",
            "[youtube] PIsUJl8BN_I: Downloading webpage\n",
            "[youtube] PIsUJl8BN_I: Downloading android player API JSON\n",
            "[youtube] PIsUJl8BN_I: Downloading MPD manifest\n",
            "[youtube] PIsUJl8BN_I: Downloading MPD manifest\n",
            "[info] PIsUJl8BN_I: Downloading 1 format(s): 18\n",
            "[download] Destination: video.mp4\n",
            "[download] 100% of 87.50KiB in 00:00               \n",
            "[MoviePy] >>>> Building video clip.mp4\n",
            "[MoviePy] Writing audio in clipTEMP_MPY_wvf_snd.mp3\n"
          ]
        },
        {
          "output_type": "stream",
          "name": "stderr",
          "text": [
            "\n",
            "100%|██████████| 66/66 [00:00<00:00, 1635.61it/s]"
          ]
        },
        {
          "output_type": "stream",
          "name": "stdout",
          "text": [
            "[MoviePy] Done.\n",
            "[MoviePy] Writing video clip.mp4\n"
          ]
        },
        {
          "output_type": "stream",
          "name": "stderr",
          "text": [
            "\n",
            "\n",
            "  0%|          | 0/75 [00:00<?, ?it/s]\u001b[A\n",
            " 99%|█████████▊| 74/75 [00:00<00:00, 276.23it/s]\n"
          ]
        },
        {
          "output_type": "stream",
          "name": "stdout",
          "text": [
            "[MoviePy] Done.\n",
            "[MoviePy] >>>> Video ready: clip.mp4 \n",
            "\n"
          ]
        },
        {
          "output_type": "stream",
          "name": "stderr",
          "text": [
            "\r  0%|          | 2/16054 [00:09<20:31:48,  4.60s/it]WARNING: [generic] The url doesn't specify the protocol, trying with http\n"
          ]
        },
        {
          "output_type": "stream",
          "name": "stdout",
          "text": [
            "Caught this error: UnboundLocalError(\"local variable 'final' referenced before assignment\")\n",
            "[youtube] 9FdHlMOnVjg: Downloading webpage\n",
            "[youtube] 9FdHlMOnVjg: Downloading android player API JSON\n"
          ]
        },
        {
          "output_type": "stream",
          "name": "stderr",
          "text": [
            "ERROR: [youtube] 9FdHlMOnVjg: Private video. Sign in if you've been granted access to this video\n",
            "  0%|          | 3/16054 [00:10<12:42:58,  2.85s/it]"
          ]
        },
        {
          "output_type": "stream",
          "name": "stdout",
          "text": [
            "Caught this error: OSError('MoviePy error: the file video.mp4 could not be found!\\nPlease check that you entered the correct path.')\n",
            "[youtube] J7tP98oDxqE: Downloading webpage\n",
            "[youtube] J7tP98oDxqE: Downloading android player API JSON\n",
            "[youtube] J7tP98oDxqE: Downloading MPD manifest\n",
            "[youtube] J7tP98oDxqE: Downloading MPD manifest\n",
            "[info] J7tP98oDxqE: Downloading 1 format(s): 18\n",
            "[download] Destination: video.mp4\n",
            "[download] 100% of 83.51KiB in 00:00               \n",
            "[MoviePy] >>>> Building video clip.mp4\n",
            "[MoviePy] Writing audio in clipTEMP_MPY_wvf_snd.mp3\n"
          ]
        },
        {
          "output_type": "stream",
          "name": "stderr",
          "text": [
            "\n",
            "100%|██████████| 59/59 [00:00<00:00, 1214.96it/s]"
          ]
        },
        {
          "output_type": "stream",
          "name": "stdout",
          "text": [
            "[MoviePy] Done.\n",
            "[MoviePy] Writing video clip.mp4\n"
          ]
        },
        {
          "output_type": "stream",
          "name": "stderr",
          "text": [
            "\n",
            "\n",
            "  0%|          | 0/67 [00:00<?, ?it/s]\u001b[A\n",
            " 99%|█████████▊| 66/67 [00:00<00:00, 287.01it/s]\n"
          ]
        },
        {
          "output_type": "stream",
          "name": "stdout",
          "text": [
            "[MoviePy] Done.\n",
            "[MoviePy] >>>> Video ready: clip.mp4 \n",
            "\n"
          ]
        },
        {
          "output_type": "stream",
          "name": "stderr",
          "text": [
            "\r  0%|          | 4/16054 [00:13<13:29:08,  3.02s/it]WARNING: [generic] The url doesn't specify the protocol, trying with http\n"
          ]
        },
        {
          "output_type": "stream",
          "name": "stdout",
          "text": [
            "Caught this error: UnboundLocalError(\"local variable 'final' referenced before assignment\")\n",
            "[youtube] N2mG9ZKjrGA: Downloading webpage\n",
            "[youtube] N2mG9ZKjrGA: Downloading android player API JSON\n",
            "[youtube] N2mG9ZKjrGA: Downloading MPD manifest\n",
            "[youtube] N2mG9ZKjrGA: Downloading MPD manifest\n",
            "[info] N2mG9ZKjrGA: Downloading 1 format(s): 18\n",
            "[download] Destination: video.mp4\n",
            "[download] 100% of 133.72KiB in 00:00               \n",
            "[MoviePy] >>>> Building video clip.mp4\n",
            "[MoviePy] Writing audio in clipTEMP_MPY_wvf_snd.mp3\n"
          ]
        },
        {
          "output_type": "stream",
          "name": "stderr",
          "text": [
            "\n",
            "100%|██████████| 56/56 [00:00<00:00, 1591.13it/s]"
          ]
        },
        {
          "output_type": "stream",
          "name": "stdout",
          "text": [
            "[MoviePy] Done.\n",
            "[MoviePy] Writing video clip.mp4\n"
          ]
        },
        {
          "output_type": "stream",
          "name": "stderr",
          "text": [
            "\n",
            "\n",
            "  0%|          | 0/75 [00:00<?, ?it/s]\u001b[A\n",
            "100%|██████████| 75/75 [00:01<00:00, 71.12it/s] \n"
          ]
        },
        {
          "output_type": "stream",
          "name": "stdout",
          "text": [
            "[MoviePy] Done.\n",
            "[MoviePy] >>>> Video ready: clip.mp4 \n",
            "\n"
          ]
        },
        {
          "output_type": "stream",
          "name": "stderr",
          "text": [
            "\r  0%|          | 5/16054 [00:20<19:47:39,  4.44s/it]"
          ]
        },
        {
          "output_type": "stream",
          "name": "stdout",
          "text": [
            "Caught this error: UnboundLocalError(\"local variable 'final' referenced before assignment\")\n",
            "[youtube] 1AyT77LqJzQ: Downloading webpage\n",
            "[youtube] 1AyT77LqJzQ: Downloading android player API JSON\n"
          ]
        },
        {
          "output_type": "stream",
          "name": "stderr",
          "text": [
            "ERROR: [youtube] 1AyT77LqJzQ: Video unavailable\n",
            "  0%|          | 6/16054 [00:21<14:19:44,  3.21s/it]"
          ]
        },
        {
          "output_type": "stream",
          "name": "stdout",
          "text": [
            "Caught this error: OSError('MoviePy error: the file video.mp4 could not be found!\\nPlease check that you entered the correct path.')\n",
            "[youtube] 1AyT77LqJzQ: Downloading webpage\n"
          ]
        }
      ],
      "source": [
        "FRAMES_FIX = 30\n",
        "\n",
        "from math import floor\n",
        "import cv2\n",
        "from pytube import YouTube\n",
        "import pandas as pd\n",
        "import numpy as np\n",
        "import mediapipe as mp\n",
        "import tqdm\n",
        "from moviepy.video.io.ffmpeg_tools import ffmpeg_extract_subclip\n",
        "import gc\n",
        "\n",
        "columns = [\"mediapipe_keypoint\",\"box\",\"label\"]\n",
        "RAM_LEVEL = psutil.virtual_memory()[2]\n",
        "global_data = np.empty(0)\n",
        "\n",
        "\n",
        "\n",
        "\n",
        "for i in tqdm.tqdm(range(len(df))):\n",
        "  try:\n",
        "    if RAM_LEVEL>60:\n",
        "      continue \n",
        "    #Always comment this 1st line then restart the code\n",
        "    #Append to global dataframe\n",
        "    global_data=np.append(global_data,np.array([(mediapipe_keypoints)[:30],df[\"box\"][i],label]))\n",
        "    \n",
        "    #Save an output every 50 videos (Solution for the memory problem)\n",
        "    if (i%50 == 0):\n",
        "        save_file(\"output_\"+str(i//10),global_data)\n",
        "        print('\\n'+'######################################## File Created ########################################')\n",
        "        del global_data\n",
        "        gc.collect()\n",
        "        global_data=np.empty(0)\n",
        "\n",
        "    video_url = url_one_list[i]\n",
        "    ## Choose a video stream with resolution of 360p\n",
        "    #streams = YouTube(video_url).streams.filter(adaptive=True, subtype=\"mp4\", resolution=\"360p\", only_video=True)\n",
        "    ## Check if there is a valid stream\n",
        "    #if len(streams) == 0:\n",
        "    #  raise \"No suitable stream found for this YouTube video!\"\n",
        "    ## Download the video as video.mp4\n",
        "    ##print(\"Downloading...\")\n",
        "    #streams[0].download(filename=\"video.mp4\")\n",
        "    ##print(\"Download completed.\")\n",
        "\n",
        "    with YoutubeDL(ydl_opts) as ydl:\n",
        "      ydl.download([video_url])\n",
        "    \n",
        "    #print(\"Download completed.\")\n",
        "    trim_video(df[\"start_time\"][i], df[\"end_time\"][i])\n",
        "    \n",
        "    !rm video.mp4\n",
        "    # Calculate number of frames\n",
        "    cap = cv2. VideoCapture(\"clip.mp4\")\n",
        "\n",
        "    if RAM_LEVEL>60:\n",
        "      continue \n",
        "    \n",
        "    number_of_frames = int(cap. get(cv2. CAP_PROP_FRAME_COUNT))\n",
        "    N = floor(number_of_frames/FRAMES_FIX)\n",
        "    \n",
        "    # The frame images will be stored in mediapipe_keypoints\n",
        "    mediapipe_keypoints = []\n",
        "    label=label_one_list[i]\n",
        "    # Open the video file\n",
        "    capture = cv2.VideoCapture('/content/clip.mp4')\n",
        "    fps = capture.get(cv2.CAP_PROP_FPS)\n",
        "    current_frame = 0\n",
        "    while capture.isOpened():\n",
        "      # Read the current frame\n",
        "      ret, frame = capture.read()\n",
        "      if RAM_LEVEL>60:\n",
        "        continue \n",
        "      # Convert it to a PIL image (required for CLIP) and store it\n",
        "      if ret == True:\n",
        "        if len(mediapipe_keypoints) > 180:\n",
        "          break\n",
        "        mediapipe_keypoints.append(get_keypoints(frame[:, :, ::-1]))\n",
        "      else:\n",
        "        break\n",
        "      # Skip N frames\n",
        "      if RAM_LEVEL>60:\n",
        "        continue \n",
        "      current_frame += N\n",
        "      \n",
        "      capture.set(cv2.CAP_PROP_POS_FRAMES, current_frame)\n",
        "    \n",
        "  except Exception as error:\n",
        "          print('Caught this error: ' + repr(error))\n",
        "\n"
      ]
    },
    {
      "cell_type": "code",
      "source": [
        "import pandas as pd \n",
        "pd.DataFrame(np.array([np.array(mediapipe_keypoints)[:30],df[\"box\"][i],label])).to_csv(\"file.csv\")"
      ],
      "metadata": {
        "id": "9lam11PN24AX"
      },
      "execution_count": null,
      "outputs": []
    },
    {
      "cell_type": "code",
      "source": [
        "global_data"
      ],
      "metadata": {
        "colab": {
          "base_uri": "https://localhost:8080/"
        },
        "id": "ZI7VM6LUDIRu",
        "outputId": "7b683faf-7b17-4689-9140-ebd92b3403ec"
      },
      "execution_count": null,
      "outputs": [
        {
          "output_type": "execute_result",
          "data": {
            "text/plain": [
              "array([array([list([]), list([]), list([]), list([]), list([]), list([]),\n",
              "              list([]), list([]), list([]), list([]), list([]), list([]),\n",
              "              list([[0.0, 0.0, -1.3192068256497996e-09, -0.06578947368421052, -0.35526315789473684, 6.285747268090123e-05, -0.15789473684210525, -0.6710526315789473, 5.472698371465269e-05, -0.2631578947368421, -0.8421052631578947, 2.2872871915368658e-05, -0.3684210526315789, -0.9210526315789473, -2.431806397477263e-05, -0.11842105263157894, -0.9342105263157895, 5.2967133294594915e-05, -0.34210526315789475, -1.0, -1.641015344495444e-05, -0.4868421052631579, -1.0, -9.677155359991287e-05, -0.5789473684210527, -1.0, -0.00014449849626735638, -0.14473684210526316, -0.868421052631579, -1.1662934220543033e-05, -0.3684210526315789, -0.9342105263157895, -3.062922041863203e-05, -0.5, -0.9342105263157895, -6.942830881790112e-05, -0.6052631578947368, -0.9210526315789473, -0.00010573627476237322, -0.18421052631578946, -0.7763157894736842, -7.463236167830856e-05, -0.39473684210526316, -0.8289473684210527, -8.815569239423464e-05, -0.5131578947368421, -0.8157894736842105, -9.28424384542986e-05, -0.5921052631578947, -0.8026315789473685, -0.00010259814045735096, -0.2236842105263158, -0.6447368421052632, -0.00013453129826015547, -0.40789473684210525, -0.6973684210526315, -0.00014411985236955317, -0.4868421052631579, -0.6842105263157895, -0.00012430530286541112, -0.5526315789473685, -0.6842105263157895, -0.00010562433223975332, 0.0, 0.0, 0.0, 0.0, 0.0, 0.0, 0.0, 0.0, 0.0, 0.0, 0.0, 0.0, 0.0, 0.0, 0.0, 0.0, 0.0, 0.0, 0.0, 0.0, 0.0, 0.0, 0.0, 0.0, 0.0, 0.0, 0.0, 0.0, 0.0, 0.0, 0.0, 0.0, 0.0, 0.0, 0.0, 0.0, 0.0, 0.0, 0.0, 0.0, 0.0, 0.0, 0.0, 0.0, 0.0, 0.0, 0.0, 0.0, 0.0, 0.0, 0.0, 0.0, 0.0, 0.0, 0.0, 0.0, 0.0, 0.0, 0.0, 0.0, 0.0, 0.0, 0.0]]),\n",
              "              list([[0.0, 0.0, -1.8822811398422347e-09, -0.10666666666666667, -0.28, 2.6943621536095936e-05, -0.21333333333333335, -0.5733333333333334, 1.6927005102237066e-05, -0.32, -0.7333333333333333, -1.3213283382356167e-05, -0.4266666666666667, -0.8133333333333334, -5.613216509421666e-05, -0.10666666666666667, -0.9333333333333333, 4.155062139034271e-05, -0.3333333333333333, -1.0, -3.907182874778906e-05, -0.4666666666666667, -0.96, -0.0001307638610402743, -0.5466666666666666, -0.9066666666666666, -0.0001815538356701533, -0.10666666666666667, -0.8666666666666667, -1.0052010572204987e-05, -0.3333333333333333, -0.92, -4.683801593879859e-05, -0.4666666666666667, -0.8933333333333333, -0.0001023916465540727, -0.5733333333333334, -0.8533333333333334, -0.00014103995015223822, -0.14666666666666667, -0.7466666666666667, -6.515576814611752e-05, -0.3466666666666667, -0.8, -0.00010653158028920491, -0.48, -0.7866666666666666, -0.00013264565418163936, -0.56, -0.76, -0.00014349260677893957, -0.18666666666666668, -0.6, -0.00011903025209903717, -0.36, -0.6666666666666666, -0.0001461552952726682, -0.4533333333333333, -0.68, -0.00013591864456733067, -0.52, -0.68, -0.00011651617785294851, 0.0, 0.0, 0.0, 0.0, 0.0, 0.0, 0.0, 0.0, 0.0, 0.0, 0.0, 0.0, 0.0, 0.0, 0.0, 0.0, 0.0, 0.0, 0.0, 0.0, 0.0, 0.0, 0.0, 0.0, 0.0, 0.0, 0.0, 0.0, 0.0, 0.0, 0.0, 0.0, 0.0, 0.0, 0.0, 0.0, 0.0, 0.0, 0.0, 0.0, 0.0, 0.0, 0.0, 0.0, 0.0, 0.0, 0.0, 0.0, 0.0, 0.0, 0.0, 0.0, 0.0, 0.0, 0.0, 0.0, 0.0, 0.0, 0.0, 0.0, 0.0, 0.0, 0.0]]),\n",
              "              list([[0.0, 0.0, -1.9311991129886247e-09, -0.09859154929577464, -0.30985915492957744, 3.348263374096911e-05, -0.2112676056338028, -0.5915492957746479, 1.5115373584271317e-05, -0.30985915492957744, -0.7464788732394366, -2.5473325185372795e-05, -0.4084507042253521, -0.8309859154929577, -7.710327118845053e-05, -0.07042253521126761, -0.9436619718309859, 4.458145408982962e-05, -0.30985915492957744, -1.0, -4.1265207880609474e-05, -0.4507042253521127, -0.971830985915493, -0.0001396097137894429, -0.5352112676056338, -0.9154929577464789, -0.00019560865795528384, -0.08450704225352113, -0.8732394366197183, -9.40260647887915e-06, -0.3380281690140845, -0.9436619718309859, -5.746889256045852e-05, -0.4647887323943662, -0.9014084507042254, -0.00012550209189804507, -0.5633802816901409, -0.8450704225352113, -0.00017538431926932132, -0.14084507042253522, -0.7464788732394366, -6.573499691948085e-05, -0.352112676056338, -0.8028169014084507, -0.00010771169261613362, -0.4788732394366197, -0.7746478873239436, -0.00014632121777870285, -0.5633802816901409, -0.7464788732394366, -0.00017034931396934348, -0.19718309859154928, -0.5915492957746479, -0.00011982339840959496, -0.352112676056338, -0.647887323943662, -0.0001359542202151997, -0.43661971830985913, -0.647887323943662, -0.0001325901125518369, -0.49295774647887325, -0.647887323943662, -0.00012451910059636746, 0.0, 0.0, 0.0, 0.0, 0.0, 0.0, 0.0, 0.0, 0.0, 0.0, 0.0, 0.0, 0.0, 0.0, 0.0, 0.0, 0.0, 0.0, 0.0, 0.0, 0.0, 0.0, 0.0, 0.0, 0.0, 0.0, 0.0, 0.0, 0.0, 0.0, 0.0, 0.0, 0.0, 0.0, 0.0, 0.0, 0.0, 0.0, 0.0, 0.0, 0.0, 0.0, 0.0, 0.0, 0.0, 0.0, 0.0, 0.0, 0.0, 0.0, 0.0, 0.0, 0.0, 0.0, 0.0, 0.0, 0.0, 0.0, 0.0, 0.0, 0.0, 0.0, 0.0]]),\n",
              "              list([]), list([]), list([]),\n",
              "              list([[0.0, 0.0, -1.8354623500095437e-09, -0.06944444444444445, -0.3333333333333333, 8.224428165704012e-05, -0.16666666666666666, -0.6388888888888888, 8.247992567097147e-05, -0.2777777777777778, -0.8055555555555556, 5.538646493934923e-05, -0.375, -0.875, 6.893500944392548e-06, -0.09722222222222222, -0.9444444444444444, 5.7872915123071936e-05, -0.3333333333333333, -1.0, 8.73553249726279e-06, -0.4583333333333333, -0.9722222222222222, -6.267446507182386e-05, -0.5555555555555556, -0.9305555555555556, -0.00010741761394052042, -0.1111111111111111, -0.8472222222222222, -1.7558856699098316e-05, -0.3472222222222222, -0.9027777777777778, -2.2124136901564067e-05, -0.4861111111111111, -0.9027777777777778, -7.4133335147053e-05, -0.5833333333333334, -0.8611111111111112, -0.00012911266336838403, -0.1527777777777778, -0.7222222222222222, -8.749943097225494e-05, -0.3611111111111111, -0.7916666666666666, -9.933436134209235e-05, -0.5, -0.8055555555555556, -0.000138927742631899, -0.5972222222222222, -0.7916666666666666, -0.00017830296160860194, -0.19444444444444445, -0.5694444444444444, -0.0001498807557962007, -0.3611111111111111, -0.6388888888888888, -0.0001557281551261743, -0.4444444444444444, -0.6527777777777778, -0.00015103119787656597, -0.5138888888888888, -0.6666666666666666, -0.00015112729225721624, 0.0, 0.0, 0.0, 0.0, 0.0, 0.0, 0.0, 0.0, 0.0, 0.0, 0.0, 0.0, 0.0, 0.0, 0.0, 0.0, 0.0, 0.0, 0.0, 0.0, 0.0, 0.0, 0.0, 0.0, 0.0, 0.0, 0.0, 0.0, 0.0, 0.0, 0.0, 0.0, 0.0, 0.0, 0.0, 0.0, 0.0, 0.0, 0.0, 0.0, 0.0, 0.0, 0.0, 0.0, 0.0, 0.0, 0.0, 0.0, 0.0, 0.0, 0.0, 0.0, 0.0, 0.0, 0.0, 0.0, 0.0, 0.0, 0.0, 0.0, 0.0, 0.0, 0.0]]),\n",
              "              list([[0.0, 0.0, -1.7549497657556559e-09, -0.06944444444444445, -0.3333333333333333, 8.127823497893082e-05, -0.16666666666666666, -0.625, 8.237885776907206e-05, -0.2638888888888889, -0.7916666666666666, 5.646522105154064e-05, -0.375, -0.8611111111111112, 9.245585210414396e-06, -0.1111111111111111, -0.9444444444444444, 5.9740611403766605e-05, -0.3333333333333333, -1.0, 1.29553777191581e-05, -0.4722222222222222, -0.9722222222222222, -5.6588155631389884e-05, -0.5555555555555556, -0.9305555555555556, -0.00010002364352759387, -0.125, -0.8611111111111112, -1.3141951866499665e-05, -0.3611111111111111, -0.9027777777777778, -1.3027881019903967e-05, -0.5, -0.9027777777777778, -6.117228056407637e-05, -0.5972222222222222, -0.8611111111111112, -0.00011377812673648198, -0.1527777777777778, -0.7361111111111112, -8.068841675089466e-05, -0.375, -0.7916666666666666, -8.765745830411713e-05, -0.5, -0.8055555555555556, -0.0001248971869548162, -0.5972222222222222, -0.7916666666666666, -0.00016318830764955946, -0.20833333333333334, -0.5833333333333334, -0.0001411371243496736, -0.375, -0.6388888888888888, -0.00014128027639041343, -0.4583333333333333, -0.6527777777777778, -0.00013452472113486793, -0.5277777777777778, -0.6527777777777778, -0.00013361424983789524, 0.0, 0.0, 0.0, 0.0, 0.0, 0.0, 0.0, 0.0, 0.0, 0.0, 0.0, 0.0, 0.0, 0.0, 0.0, 0.0, 0.0, 0.0, 0.0, 0.0, 0.0, 0.0, 0.0, 0.0, 0.0, 0.0, 0.0, 0.0, 0.0, 0.0, 0.0, 0.0, 0.0, 0.0, 0.0, 0.0, 0.0, 0.0, 0.0, 0.0, 0.0, 0.0, 0.0, 0.0, 0.0, 0.0, 0.0, 0.0, 0.0, 0.0, 0.0, 0.0, 0.0, 0.0, 0.0, 0.0, 0.0, 0.0, 0.0, 0.0, 0.0, 0.0, 0.0]]),\n",
              "              list([]), list([]), list([]), list([]), list([]), list([]),\n",
              "              list([]), list([]), list([]), list([])], dtype=object)                                                                                                                                                                                                                                                                                                                                                                                                                                                                                                                                                                                                                                                                                                                                                                                                                                                                                                                                                                                                                                                                                                                                                                                                                                                                                                                                                                                                                                                                                                                                                                                                                                                                                     ,\n",
              "       list([0.007081180810928, 0.18906018137931802, 0.8475743532180781, 0.698963165283203]),\n",
              "       'breakfast',\n",
              "       array([list([]), list([]), list([]), list([]), list([]), list([]),\n",
              "              list([]), list([]), list([]), list([]), list([]), list([]),\n",
              "              list([[0.0, 0.0, -1.3192068256497996e-09, -0.06578947368421052, -0.35526315789473684, 6.285747268090123e-05, -0.15789473684210525, -0.6710526315789473, 5.472698371465269e-05, -0.2631578947368421, -0.8421052631578947, 2.2872871915368658e-05, -0.3684210526315789, -0.9210526315789473, -2.431806397477263e-05, -0.11842105263157894, -0.9342105263157895, 5.2967133294594915e-05, -0.34210526315789475, -1.0, -1.641015344495444e-05, -0.4868421052631579, -1.0, -9.677155359991287e-05, -0.5789473684210527, -1.0, -0.00014449849626735638, -0.14473684210526316, -0.868421052631579, -1.1662934220543033e-05, -0.3684210526315789, -0.9342105263157895, -3.062922041863203e-05, -0.5, -0.9342105263157895, -6.942830881790112e-05, -0.6052631578947368, -0.9210526315789473, -0.00010573627476237322, -0.18421052631578946, -0.7763157894736842, -7.463236167830856e-05, -0.39473684210526316, -0.8289473684210527, -8.815569239423464e-05, -0.5131578947368421, -0.8157894736842105, -9.28424384542986e-05, -0.5921052631578947, -0.8026315789473685, -0.00010259814045735096, -0.2236842105263158, -0.6447368421052632, -0.00013453129826015547, -0.40789473684210525, -0.6973684210526315, -0.00014411985236955317, -0.4868421052631579, -0.6842105263157895, -0.00012430530286541112, -0.5526315789473685, -0.6842105263157895, -0.00010562433223975332, 0.0, 0.0, 0.0, 0.0, 0.0, 0.0, 0.0, 0.0, 0.0, 0.0, 0.0, 0.0, 0.0, 0.0, 0.0, 0.0, 0.0, 0.0, 0.0, 0.0, 0.0, 0.0, 0.0, 0.0, 0.0, 0.0, 0.0, 0.0, 0.0, 0.0, 0.0, 0.0, 0.0, 0.0, 0.0, 0.0, 0.0, 0.0, 0.0, 0.0, 0.0, 0.0, 0.0, 0.0, 0.0, 0.0, 0.0, 0.0, 0.0, 0.0, 0.0, 0.0, 0.0, 0.0, 0.0, 0.0, 0.0, 0.0, 0.0, 0.0, 0.0, 0.0, 0.0]]),\n",
              "              list([[0.0, 0.0, -1.8822811398422347e-09, -0.10666666666666667, -0.28, 2.6943621536095936e-05, -0.21333333333333335, -0.5733333333333334, 1.6927005102237066e-05, -0.32, -0.7333333333333333, -1.3213283382356167e-05, -0.4266666666666667, -0.8133333333333334, -5.613216509421666e-05, -0.10666666666666667, -0.9333333333333333, 4.155062139034271e-05, -0.3333333333333333, -1.0, -3.907182874778906e-05, -0.4666666666666667, -0.96, -0.0001307638610402743, -0.5466666666666666, -0.9066666666666666, -0.0001815538356701533, -0.10666666666666667, -0.8666666666666667, -1.0052010572204987e-05, -0.3333333333333333, -0.92, -4.683801593879859e-05, -0.4666666666666667, -0.8933333333333333, -0.0001023916465540727, -0.5733333333333334, -0.8533333333333334, -0.00014103995015223822, -0.14666666666666667, -0.7466666666666667, -6.515576814611752e-05, -0.3466666666666667, -0.8, -0.00010653158028920491, -0.48, -0.7866666666666666, -0.00013264565418163936, -0.56, -0.76, -0.00014349260677893957, -0.18666666666666668, -0.6, -0.00011903025209903717, -0.36, -0.6666666666666666, -0.0001461552952726682, -0.4533333333333333, -0.68, -0.00013591864456733067, -0.52, -0.68, -0.00011651617785294851, 0.0, 0.0, 0.0, 0.0, 0.0, 0.0, 0.0, 0.0, 0.0, 0.0, 0.0, 0.0, 0.0, 0.0, 0.0, 0.0, 0.0, 0.0, 0.0, 0.0, 0.0, 0.0, 0.0, 0.0, 0.0, 0.0, 0.0, 0.0, 0.0, 0.0, 0.0, 0.0, 0.0, 0.0, 0.0, 0.0, 0.0, 0.0, 0.0, 0.0, 0.0, 0.0, 0.0, 0.0, 0.0, 0.0, 0.0, 0.0, 0.0, 0.0, 0.0, 0.0, 0.0, 0.0, 0.0, 0.0, 0.0, 0.0, 0.0, 0.0, 0.0, 0.0, 0.0]]),\n",
              "              list([[0.0, 0.0, -1.9311991129886247e-09, -0.09859154929577464, -0.30985915492957744, 3.348263374096911e-05, -0.2112676056338028, -0.5915492957746479, 1.5115373584271317e-05, -0.30985915492957744, -0.7464788732394366, -2.5473325185372795e-05, -0.4084507042253521, -0.8309859154929577, -7.710327118845053e-05, -0.07042253521126761, -0.9436619718309859, 4.458145408982962e-05, -0.30985915492957744, -1.0, -4.1265207880609474e-05, -0.4507042253521127, -0.971830985915493, -0.0001396097137894429, -0.5352112676056338, -0.9154929577464789, -0.00019560865795528384, -0.08450704225352113, -0.8732394366197183, -9.40260647887915e-06, -0.3380281690140845, -0.9436619718309859, -5.746889256045852e-05, -0.4647887323943662, -0.9014084507042254, -0.00012550209189804507, -0.5633802816901409, -0.8450704225352113, -0.00017538431926932132, -0.14084507042253522, -0.7464788732394366, -6.573499691948085e-05, -0.352112676056338, -0.8028169014084507, -0.00010771169261613362, -0.4788732394366197, -0.7746478873239436, -0.00014632121777870285, -0.5633802816901409, -0.7464788732394366, -0.00017034931396934348, -0.19718309859154928, -0.5915492957746479, -0.00011982339840959496, -0.352112676056338, -0.647887323943662, -0.0001359542202151997, -0.43661971830985913, -0.647887323943662, -0.0001325901125518369, -0.49295774647887325, -0.647887323943662, -0.00012451910059636746, 0.0, 0.0, 0.0, 0.0, 0.0, 0.0, 0.0, 0.0, 0.0, 0.0, 0.0, 0.0, 0.0, 0.0, 0.0, 0.0, 0.0, 0.0, 0.0, 0.0, 0.0, 0.0, 0.0, 0.0, 0.0, 0.0, 0.0, 0.0, 0.0, 0.0, 0.0, 0.0, 0.0, 0.0, 0.0, 0.0, 0.0, 0.0, 0.0, 0.0, 0.0, 0.0, 0.0, 0.0, 0.0, 0.0, 0.0, 0.0, 0.0, 0.0, 0.0, 0.0, 0.0, 0.0, 0.0, 0.0, 0.0, 0.0, 0.0, 0.0, 0.0, 0.0, 0.0]]),\n",
              "              list([]), list([]), list([]),\n",
              "              list([[0.0, 0.0, -1.8354623500095437e-09, -0.06944444444444445, -0.3333333333333333, 8.224428165704012e-05, -0.16666666666666666, -0.6388888888888888, 8.247992567097147e-05, -0.2777777777777778, -0.8055555555555556, 5.538646493934923e-05, -0.375, -0.875, 6.893500944392548e-06, -0.09722222222222222, -0.9444444444444444, 5.7872915123071936e-05, -0.3333333333333333, -1.0, 8.73553249726279e-06, -0.4583333333333333, -0.9722222222222222, -6.267446507182386e-05, -0.5555555555555556, -0.9305555555555556, -0.00010741761394052042, -0.1111111111111111, -0.8472222222222222, -1.7558856699098316e-05, -0.3472222222222222, -0.9027777777777778, -2.2124136901564067e-05, -0.4861111111111111, -0.9027777777777778, -7.4133335147053e-05, -0.5833333333333334, -0.8611111111111112, -0.00012911266336838403, -0.1527777777777778, -0.7222222222222222, -8.749943097225494e-05, -0.3611111111111111, -0.7916666666666666, -9.933436134209235e-05, -0.5, -0.8055555555555556, -0.000138927742631899, -0.5972222222222222, -0.7916666666666666, -0.00017830296160860194, -0.19444444444444445, -0.5694444444444444, -0.0001498807557962007, -0.3611111111111111, -0.6388888888888888, -0.0001557281551261743, -0.4444444444444444, -0.6527777777777778, -0.00015103119787656597, -0.5138888888888888, -0.6666666666666666, -0.00015112729225721624, 0.0, 0.0, 0.0, 0.0, 0.0, 0.0, 0.0, 0.0, 0.0, 0.0, 0.0, 0.0, 0.0, 0.0, 0.0, 0.0, 0.0, 0.0, 0.0, 0.0, 0.0, 0.0, 0.0, 0.0, 0.0, 0.0, 0.0, 0.0, 0.0, 0.0, 0.0, 0.0, 0.0, 0.0, 0.0, 0.0, 0.0, 0.0, 0.0, 0.0, 0.0, 0.0, 0.0, 0.0, 0.0, 0.0, 0.0, 0.0, 0.0, 0.0, 0.0, 0.0, 0.0, 0.0, 0.0, 0.0, 0.0, 0.0, 0.0, 0.0, 0.0, 0.0, 0.0]]),\n",
              "              list([[0.0, 0.0, -1.7549497657556559e-09, -0.06944444444444445, -0.3333333333333333, 8.127823497893082e-05, -0.16666666666666666, -0.625, 8.237885776907206e-05, -0.2638888888888889, -0.7916666666666666, 5.646522105154064e-05, -0.375, -0.8611111111111112, 9.245585210414396e-06, -0.1111111111111111, -0.9444444444444444, 5.9740611403766605e-05, -0.3333333333333333, -1.0, 1.29553777191581e-05, -0.4722222222222222, -0.9722222222222222, -5.6588155631389884e-05, -0.5555555555555556, -0.9305555555555556, -0.00010002364352759387, -0.125, -0.8611111111111112, -1.3141951866499665e-05, -0.3611111111111111, -0.9027777777777778, -1.3027881019903967e-05, -0.5, -0.9027777777777778, -6.117228056407637e-05, -0.5972222222222222, -0.8611111111111112, -0.00011377812673648198, -0.1527777777777778, -0.7361111111111112, -8.068841675089466e-05, -0.375, -0.7916666666666666, -8.765745830411713e-05, -0.5, -0.8055555555555556, -0.0001248971869548162, -0.5972222222222222, -0.7916666666666666, -0.00016318830764955946, -0.20833333333333334, -0.5833333333333334, -0.0001411371243496736, -0.375, -0.6388888888888888, -0.00014128027639041343, -0.4583333333333333, -0.6527777777777778, -0.00013452472113486793, -0.5277777777777778, -0.6527777777777778, -0.00013361424983789524, 0.0, 0.0, 0.0, 0.0, 0.0, 0.0, 0.0, 0.0, 0.0, 0.0, 0.0, 0.0, 0.0, 0.0, 0.0, 0.0, 0.0, 0.0, 0.0, 0.0, 0.0, 0.0, 0.0, 0.0, 0.0, 0.0, 0.0, 0.0, 0.0, 0.0, 0.0, 0.0, 0.0, 0.0, 0.0, 0.0, 0.0, 0.0, 0.0, 0.0, 0.0, 0.0, 0.0, 0.0, 0.0, 0.0, 0.0, 0.0, 0.0, 0.0, 0.0, 0.0, 0.0, 0.0, 0.0, 0.0, 0.0, 0.0, 0.0, 0.0, 0.0, 0.0, 0.0]]),\n",
              "              list([]), list([]), list([]), list([]), list([]), list([]),\n",
              "              list([]), list([]), list([]), list([])], dtype=object)                                                                                                                                                                                                                                                                                                                                                                                                                                                                                                                                                                                                                                                                                                                                                                                                                                                                                                                                                                                                                                                                                                                                                                                                                                                                                                                                                                                                                                                                                                                                                                                                                                                                                     ,\n",
              "       list([0.0, 0.192237809300422, 0.8311377763748161, 0.7067743539810181]),\n",
              "       'breakfast',\n",
              "       array([list([]), list([]), list([]), list([]), list([]), list([]),\n",
              "              list([]), list([]), list([]), list([]), list([]), list([]),\n",
              "              list([[0.0, 0.0, -1.3192068256497996e-09, -0.06578947368421052, -0.35526315789473684, 6.285747268090123e-05, -0.15789473684210525, -0.6710526315789473, 5.472698371465269e-05, -0.2631578947368421, -0.8421052631578947, 2.2872871915368658e-05, -0.3684210526315789, -0.9210526315789473, -2.431806397477263e-05, -0.11842105263157894, -0.9342105263157895, 5.2967133294594915e-05, -0.34210526315789475, -1.0, -1.641015344495444e-05, -0.4868421052631579, -1.0, -9.677155359991287e-05, -0.5789473684210527, -1.0, -0.00014449849626735638, -0.14473684210526316, -0.868421052631579, -1.1662934220543033e-05, -0.3684210526315789, -0.9342105263157895, -3.062922041863203e-05, -0.5, -0.9342105263157895, -6.942830881790112e-05, -0.6052631578947368, -0.9210526315789473, -0.00010573627476237322, -0.18421052631578946, -0.7763157894736842, -7.463236167830856e-05, -0.39473684210526316, -0.8289473684210527, -8.815569239423464e-05, -0.5131578947368421, -0.8157894736842105, -9.28424384542986e-05, -0.5921052631578947, -0.8026315789473685, -0.00010259814045735096, -0.2236842105263158, -0.6447368421052632, -0.00013453129826015547, -0.40789473684210525, -0.6973684210526315, -0.00014411985236955317, -0.4868421052631579, -0.6842105263157895, -0.00012430530286541112, -0.5526315789473685, -0.6842105263157895, -0.00010562433223975332, 0.0, 0.0, 0.0, 0.0, 0.0, 0.0, 0.0, 0.0, 0.0, 0.0, 0.0, 0.0, 0.0, 0.0, 0.0, 0.0, 0.0, 0.0, 0.0, 0.0, 0.0, 0.0, 0.0, 0.0, 0.0, 0.0, 0.0, 0.0, 0.0, 0.0, 0.0, 0.0, 0.0, 0.0, 0.0, 0.0, 0.0, 0.0, 0.0, 0.0, 0.0, 0.0, 0.0, 0.0, 0.0, 0.0, 0.0, 0.0, 0.0, 0.0, 0.0, 0.0, 0.0, 0.0, 0.0, 0.0, 0.0, 0.0, 0.0, 0.0, 0.0, 0.0, 0.0]]),\n",
              "              list([[0.0, 0.0, -1.8822811398422347e-09, -0.10666666666666667, -0.28, 2.6943621536095936e-05, -0.21333333333333335, -0.5733333333333334, 1.6927005102237066e-05, -0.32, -0.7333333333333333, -1.3213283382356167e-05, -0.4266666666666667, -0.8133333333333334, -5.613216509421666e-05, -0.10666666666666667, -0.9333333333333333, 4.155062139034271e-05, -0.3333333333333333, -1.0, -3.907182874778906e-05, -0.4666666666666667, -0.96, -0.0001307638610402743, -0.5466666666666666, -0.9066666666666666, -0.0001815538356701533, -0.10666666666666667, -0.8666666666666667, -1.0052010572204987e-05, -0.3333333333333333, -0.92, -4.683801593879859e-05, -0.4666666666666667, -0.8933333333333333, -0.0001023916465540727, -0.5733333333333334, -0.8533333333333334, -0.00014103995015223822, -0.14666666666666667, -0.7466666666666667, -6.515576814611752e-05, -0.3466666666666667, -0.8, -0.00010653158028920491, -0.48, -0.7866666666666666, -0.00013264565418163936, -0.56, -0.76, -0.00014349260677893957, -0.18666666666666668, -0.6, -0.00011903025209903717, -0.36, -0.6666666666666666, -0.0001461552952726682, -0.4533333333333333, -0.68, -0.00013591864456733067, -0.52, -0.68, -0.00011651617785294851, 0.0, 0.0, 0.0, 0.0, 0.0, 0.0, 0.0, 0.0, 0.0, 0.0, 0.0, 0.0, 0.0, 0.0, 0.0, 0.0, 0.0, 0.0, 0.0, 0.0, 0.0, 0.0, 0.0, 0.0, 0.0, 0.0, 0.0, 0.0, 0.0, 0.0, 0.0, 0.0, 0.0, 0.0, 0.0, 0.0, 0.0, 0.0, 0.0, 0.0, 0.0, 0.0, 0.0, 0.0, 0.0, 0.0, 0.0, 0.0, 0.0, 0.0, 0.0, 0.0, 0.0, 0.0, 0.0, 0.0, 0.0, 0.0, 0.0, 0.0, 0.0, 0.0, 0.0]]),\n",
              "              list([[0.0, 0.0, -1.9311991129886247e-09, -0.09859154929577464, -0.30985915492957744, 3.348263374096911e-05, -0.2112676056338028, -0.5915492957746479, 1.5115373584271317e-05, -0.30985915492957744, -0.7464788732394366, -2.5473325185372795e-05, -0.4084507042253521, -0.8309859154929577, -7.710327118845053e-05, -0.07042253521126761, -0.9436619718309859, 4.458145408982962e-05, -0.30985915492957744, -1.0, -4.1265207880609474e-05, -0.4507042253521127, -0.971830985915493, -0.0001396097137894429, -0.5352112676056338, -0.9154929577464789, -0.00019560865795528384, -0.08450704225352113, -0.8732394366197183, -9.40260647887915e-06, -0.3380281690140845, -0.9436619718309859, -5.746889256045852e-05, -0.4647887323943662, -0.9014084507042254, -0.00012550209189804507, -0.5633802816901409, -0.8450704225352113, -0.00017538431926932132, -0.14084507042253522, -0.7464788732394366, -6.573499691948085e-05, -0.352112676056338, -0.8028169014084507, -0.00010771169261613362, -0.4788732394366197, -0.7746478873239436, -0.00014632121777870285, -0.5633802816901409, -0.7464788732394366, -0.00017034931396934348, -0.19718309859154928, -0.5915492957746479, -0.00011982339840959496, -0.352112676056338, -0.647887323943662, -0.0001359542202151997, -0.43661971830985913, -0.647887323943662, -0.0001325901125518369, -0.49295774647887325, -0.647887323943662, -0.00012451910059636746, 0.0, 0.0, 0.0, 0.0, 0.0, 0.0, 0.0, 0.0, 0.0, 0.0, 0.0, 0.0, 0.0, 0.0, 0.0, 0.0, 0.0, 0.0, 0.0, 0.0, 0.0, 0.0, 0.0, 0.0, 0.0, 0.0, 0.0, 0.0, 0.0, 0.0, 0.0, 0.0, 0.0, 0.0, 0.0, 0.0, 0.0, 0.0, 0.0, 0.0, 0.0, 0.0, 0.0, 0.0, 0.0, 0.0, 0.0, 0.0, 0.0, 0.0, 0.0, 0.0, 0.0, 0.0, 0.0, 0.0, 0.0, 0.0, 0.0, 0.0, 0.0, 0.0, 0.0]]),\n",
              "              list([]), list([]), list([]),\n",
              "              list([[0.0, 0.0, -1.8354623500095437e-09, -0.06944444444444445, -0.3333333333333333, 8.224428165704012e-05, -0.16666666666666666, -0.6388888888888888, 8.247992567097147e-05, -0.2777777777777778, -0.8055555555555556, 5.538646493934923e-05, -0.375, -0.875, 6.893500944392548e-06, -0.09722222222222222, -0.9444444444444444, 5.7872915123071936e-05, -0.3333333333333333, -1.0, 8.73553249726279e-06, -0.4583333333333333, -0.9722222222222222, -6.267446507182386e-05, -0.5555555555555556, -0.9305555555555556, -0.00010741761394052042, -0.1111111111111111, -0.8472222222222222, -1.7558856699098316e-05, -0.3472222222222222, -0.9027777777777778, -2.2124136901564067e-05, -0.4861111111111111, -0.9027777777777778, -7.4133335147053e-05, -0.5833333333333334, -0.8611111111111112, -0.00012911266336838403, -0.1527777777777778, -0.7222222222222222, -8.749943097225494e-05, -0.3611111111111111, -0.7916666666666666, -9.933436134209235e-05, -0.5, -0.8055555555555556, -0.000138927742631899, -0.5972222222222222, -0.7916666666666666, -0.00017830296160860194, -0.19444444444444445, -0.5694444444444444, -0.0001498807557962007, -0.3611111111111111, -0.6388888888888888, -0.0001557281551261743, -0.4444444444444444, -0.6527777777777778, -0.00015103119787656597, -0.5138888888888888, -0.6666666666666666, -0.00015112729225721624, 0.0, 0.0, 0.0, 0.0, 0.0, 0.0, 0.0, 0.0, 0.0, 0.0, 0.0, 0.0, 0.0, 0.0, 0.0, 0.0, 0.0, 0.0, 0.0, 0.0, 0.0, 0.0, 0.0, 0.0, 0.0, 0.0, 0.0, 0.0, 0.0, 0.0, 0.0, 0.0, 0.0, 0.0, 0.0, 0.0, 0.0, 0.0, 0.0, 0.0, 0.0, 0.0, 0.0, 0.0, 0.0, 0.0, 0.0, 0.0, 0.0, 0.0, 0.0, 0.0, 0.0, 0.0, 0.0, 0.0, 0.0, 0.0, 0.0, 0.0, 0.0, 0.0, 0.0]]),\n",
              "              list([[0.0, 0.0, -1.7549497657556559e-09, -0.06944444444444445, -0.3333333333333333, 8.127823497893082e-05, -0.16666666666666666, -0.625, 8.237885776907206e-05, -0.2638888888888889, -0.7916666666666666, 5.646522105154064e-05, -0.375, -0.8611111111111112, 9.245585210414396e-06, -0.1111111111111111, -0.9444444444444444, 5.9740611403766605e-05, -0.3333333333333333, -1.0, 1.29553777191581e-05, -0.4722222222222222, -0.9722222222222222, -5.6588155631389884e-05, -0.5555555555555556, -0.9305555555555556, -0.00010002364352759387, -0.125, -0.8611111111111112, -1.3141951866499665e-05, -0.3611111111111111, -0.9027777777777778, -1.3027881019903967e-05, -0.5, -0.9027777777777778, -6.117228056407637e-05, -0.5972222222222222, -0.8611111111111112, -0.00011377812673648198, -0.1527777777777778, -0.7361111111111112, -8.068841675089466e-05, -0.375, -0.7916666666666666, -8.765745830411713e-05, -0.5, -0.8055555555555556, -0.0001248971869548162, -0.5972222222222222, -0.7916666666666666, -0.00016318830764955946, -0.20833333333333334, -0.5833333333333334, -0.0001411371243496736, -0.375, -0.6388888888888888, -0.00014128027639041343, -0.4583333333333333, -0.6527777777777778, -0.00013452472113486793, -0.5277777777777778, -0.6527777777777778, -0.00013361424983789524, 0.0, 0.0, 0.0, 0.0, 0.0, 0.0, 0.0, 0.0, 0.0, 0.0, 0.0, 0.0, 0.0, 0.0, 0.0, 0.0, 0.0, 0.0, 0.0, 0.0, 0.0, 0.0, 0.0, 0.0, 0.0, 0.0, 0.0, 0.0, 0.0, 0.0, 0.0, 0.0, 0.0, 0.0, 0.0, 0.0, 0.0, 0.0, 0.0, 0.0, 0.0, 0.0, 0.0, 0.0, 0.0, 0.0, 0.0, 0.0, 0.0, 0.0, 0.0, 0.0, 0.0, 0.0, 0.0, 0.0, 0.0, 0.0, 0.0, 0.0, 0.0, 0.0, 0.0]]),\n",
              "              list([]), list([]), list([]), list([]), list([]), list([]),\n",
              "              list([]), list([]), list([]), list([])], dtype=object)                                                                                                                                                                                                                                                                                                                                                                                                                                                                                                                                                                                                                                                                                                                                                                                                                                                                                                                                                                                                                                                                                                                                                                                                                                                                                                                                                                                                                                                                                                                                                                                                                                                                                     ,\n",
              "       list([0.098858207464218, 0.12402242422103801, 0.9723662137985231, 0.77524584531784]),\n",
              "       'breakfast', array([], shape=(30, 0), dtype=float64),\n",
              "       list([0.0, 0.066367357969284, 1.0, 0.9946049451828001]), 'think',\n",
              "       array([], shape=(30, 0), dtype=float64),\n",
              "       list([0.0, 0.066367357969284, 1.0, 0.9946049451828001]), 'think',\n",
              "       array([], shape=(30, 0), dtype=float64),\n",
              "       list([0.045998364686965006, 0.037116646766662, 1.0, 0.9313695430755611]),\n",
              "       'think',\n",
              "       array([list([[0.0, 0.0, 2.0962944210995156e-09, 0.145985401459854, -0.1386861313868613, -2.279776712729983e-05, 0.21897810218978103, -0.32116788321167883, -7.204357262727988e-05, 0.2846715328467153, -0.44525547445255476, -0.00013844357517948987, 0.35766423357664234, -0.5620437956204379, -0.00021018554205006927, 0.072992700729927, -0.5036496350364964, -7.920735345704712e-05, 0.10948905109489052, -0.7153284671532847, -0.00020763257613582331, 0.15328467153284672, -0.8686131386861314, -0.0003040085689429819, 0.19708029197080293, -0.9854014598540146, -0.0003717416068063165, 0.0364963503649635, -0.4744525547445255, -0.00015823476451591853, 0.072992700729927, -0.7153284671532847, -0.0002828263507707276, 0.1386861313868613, -0.8686131386861314, -0.00037805447830771007, 0.1897810218978102, -1.0, -0.00044394798413680415, 0.014598540145985401, -0.41605839416058393, -0.0002453751372594903, 0.051094890510948905, -0.6423357664233577, -0.00037121171825123527, 0.10948905109489052, -0.781021897810219, -0.00044212427778835716, 0.16058394160583941, -0.8905109489051095, -0.00048607854294950944, 0.021897810218978103, -0.3357664233576642, -0.0003349801430301945, 0.051094890510948905, -0.48175182481751827, -0.00044432663134414785, 0.0948905109489051, -0.583941605839416, -0.0004912221627513858, 0.13138686131386862, -0.6715328467153284, -0.0005202034529108201, 0.0, 0.0, 2.0962944210995156e-09, 0.145985401459854, -0.1386861313868613, -2.279776712729983e-05, 0.21897810218978103, -0.32116788321167883, -7.204357262727988e-05, 0.2846715328467153, -0.44525547445255476, -0.00013844357517948987, 0.35766423357664234, -0.5620437956204379, -0.00021018554205006927, 0.072992700729927, -0.5036496350364964, -7.920735345704712e-05, 0.10948905109489052, -0.7153284671532847, -0.00020763257613582331, 0.15328467153284672, -0.8686131386861314, -0.0003040085689429819, 0.19708029197080293, -0.9854014598540146, -0.0003717416068063165, 0.0364963503649635, -0.4744525547445255, -0.00015823476451591853, 0.072992700729927, -0.7153284671532847, -0.0002828263507707276, 0.1386861313868613, -0.8686131386861314, -0.00037805447830771007, 0.1897810218978102, -1.0, -0.00044394798413680415, 0.014598540145985401, -0.41605839416058393, -0.0002453751372594903, 0.051094890510948905, -0.6423357664233577, -0.00037121171825123527, 0.10948905109489052, -0.781021897810219, -0.00044212427778835716, 0.16058394160583941, -0.8905109489051095, -0.00048607854294950944, 0.021897810218978103, -0.3357664233576642, -0.0003349801430301945, 0.051094890510948905, -0.48175182481751827, -0.00044432663134414785, 0.0948905109489051, -0.583941605839416, -0.0004912221627513858, 0.13138686131386862, -0.6715328467153284, -0.0005202034529108201]]),\n",
              "              list([[0.0, 0.0, 2.1118491870095363e-09, 0.145985401459854, -0.1386861313868613, -2.353140628849068e-05, 0.21897810218978103, -0.32116788321167883, -7.261842298899253e-05, 0.291970802919708, -0.44525547445255476, -0.00013885947528981816, 0.35766423357664234, -0.5620437956204379, -0.00021029531575032394, 0.072992700729927, -0.5036496350364964, -7.736058837740961e-05, 0.10948905109489052, -0.7153284671532847, -0.0002053012106105359, 0.16058394160583941, -0.8613138686131386, -0.00030133865066688426, 0.19708029197080293, -0.9854014598540146, -0.00036877119084344293, 0.0364963503649635, -0.4744525547445255, -0.0001559043643030807, 0.072992700729927, -0.7153284671532847, -0.00027988799405794076, 0.1386861313868613, -0.8686131386861314, -0.0003749889178867758, 0.1897810218978102, -1.0, -0.0004408475365081843, 0.014598540145985401, -0.41605839416058393, -0.00024285020619413278, 0.051094890510948905, -0.6423357664233577, -0.00036805563599523835, 0.10948905109489052, -0.781021897810219, -0.00043884020325911307, 0.16058394160583941, -0.8905109489051095, -0.00048278772482906817, 0.014598540145985401, -0.3357664233576642, -0.0003324253008748493, 0.051094890510948905, -0.48175182481751827, -0.00044098490998692756, 0.0948905109489051, -0.583941605839416, -0.0004877380102220243, 0.13138686131386862, -0.6715328467153284, -0.000516771508829437, 0.0, 0.0, 2.1118491870095363e-09, 0.145985401459854, -0.1386861313868613, -2.353140628849068e-05, 0.21897810218978103, -0.32116788321167883, -7.261842298899253e-05, 0.291970802919708, -0.44525547445255476, -0.00013885947528981816, 0.35766423357664234, -0.5620437956204379, -0.00021029531575032394, 0.072992700729927, -0.5036496350364964, -7.736058837740961e-05, 0.10948905109489052, -0.7153284671532847, -0.0002053012106105359, 0.16058394160583941, -0.8613138686131386, -0.00030133865066688426, 0.19708029197080293, -0.9854014598540146, -0.00036877119084344293, 0.0364963503649635, -0.4744525547445255, -0.0001559043643030807, 0.072992700729927, -0.7153284671532847, -0.00027988799405794076, 0.1386861313868613, -0.8686131386861314, -0.0003749889178867758, 0.1897810218978102, -1.0, -0.0004408475365081843, 0.014598540145985401, -0.41605839416058393, -0.00024285020619413278, 0.051094890510948905, -0.6423357664233577, -0.00036805563599523835, 0.10948905109489052, -0.781021897810219, -0.00043884020325911307, 0.16058394160583941, -0.8905109489051095, -0.00048278772482906817, 0.014598540145985401, -0.3357664233576642, -0.0003324253008748493, 0.051094890510948905, -0.48175182481751827, -0.00044098490998692756, 0.0948905109489051, -0.583941605839416, -0.0004877380102220243, 0.13138686131386862, -0.6715328467153284, -0.000516771508829437]]),\n",
              "              list([[0.0, 0.0, 2.315923973897829e-09, 0.15037593984962405, -0.13533834586466165, -2.0027894148589076e-05, 0.22556390977443608, -0.3157894736842105, -6.584839937382174e-05, 0.3007518796992481, -0.43609022556390975, -0.000132346315715546, 0.37593984962406013, -0.5488721804511278, -0.00020035091591508766, 0.045112781954887216, -0.5338345864661654, -3.4107052882138946e-05, 0.09022556390977443, -0.7443609022556391, -0.0001611838859498949, 0.16541353383458646, -0.8796992481203008, -0.0002590941083162351, 0.23308270676691728, -0.9699248120300752, -0.0003197695359699708, 0.007518796992481203, -0.518796992481203, -0.00011046658641189561, 0.06766917293233082, -0.7669172932330827, -0.0002253148984864242, 0.16541353383458646, -0.9097744360902256, -0.0003128366866954287, 0.24812030075187969, -1.0, -0.0003678135405805774, -0.007518796992481203, -0.46616541353383456, -0.00019945191653599417, 0.06015037593984962, -0.706766917293233, -0.0003161642392327015, 0.14285714285714285, -0.8345864661654135, -0.0003816425744304083, 0.21804511278195488, -0.924812030075188, -0.0004154530290822337, 0.007518796992481203, -0.39097744360902253, -0.00029148242639419727, 0.06015037593984962, -0.5639097744360902, -0.0003841571453818701, 0.11278195488721804, -0.6691729323308271, -0.00041829419315309453, 0.16541353383458646, -0.7443609022556391, -0.00043430862794245097, 0.0, 0.0, 2.315923973897829e-09, 0.15037593984962405, -0.13533834586466165, -2.0027894148589076e-05, 0.22556390977443608, -0.3157894736842105, -6.584839937382174e-05, 0.3007518796992481, -0.43609022556390975, -0.000132346315715546, 0.37593984962406013, -0.5488721804511278, -0.00020035091591508766, 0.045112781954887216, -0.5338345864661654, -3.4107052882138946e-05, 0.09022556390977443, -0.7443609022556391, -0.0001611838859498949, 0.16541353383458646, -0.8796992481203008, -0.0002590941083162351, 0.23308270676691728, -0.9699248120300752, -0.0003197695359699708, 0.007518796992481203, -0.518796992481203, -0.00011046658641189561, 0.06766917293233082, -0.7669172932330827, -0.0002253148984864242, 0.16541353383458646, -0.9097744360902256, -0.0003128366866954287, 0.24812030075187969, -1.0, -0.0003678135405805774, -0.007518796992481203, -0.46616541353383456, -0.00019945191653599417, 0.06015037593984962, -0.706766917293233, -0.0003161642392327015, 0.14285714285714285, -0.8345864661654135, -0.0003816425744304083, 0.21804511278195488, -0.924812030075188, -0.0004154530290822337, 0.007518796992481203, -0.39097744360902253, -0.00029148242639419727, 0.06015037593984962, -0.5639097744360902, -0.0003841571453818701, 0.11278195488721804, -0.6691729323308271, -0.00041829419315309453, 0.16541353383458646, -0.7443609022556391, -0.00043430862794245097]]),\n",
              "              list([[0.0, 0.0, 1.8740896242282665e-09, 0.14285714285714285, -0.15079365079365079, -1.4179024017519421e-05, 0.23015873015873015, -0.36507936507936506, -5.577441068395736e-05, 0.29365079365079366, -0.5158730158730159, -0.0001230774935157526, 0.38095238095238093, -0.6190476190476191, -0.00019040499769506, 0.06349206349206349, -0.5793650793650794, -1.3432918219930596e-05, 0.09523809523809523, -0.8095238095238095, -0.0001432360667321417, 0.18253968253968253, -0.9285714285714286, -0.0002489947373904879, 0.2698412698412698, -1.0, -0.00031376340323024325, 0.015873015873015872, -0.5634920634920635, -9.287980991223502e-05, 0.05555555555555555, -0.8333333333333334, -0.00021108903641265536, 0.16666666666666666, -0.9444444444444444, -0.00029873002379659624, 0.2698412698412698, -0.9920634920634921, -0.0003507723292661092, -0.015873015873015872, -0.5158730158730159, -0.00018578914127179554, 0.03968253968253968, -0.7698412698412699, -0.00030183011577242897, 0.15079365079365079, -0.8888888888888888, -0.0003638804727603519, 0.24603174603174602, -0.9365079365079365, -0.00039297262472765785, -0.015873015873015872, -0.4444444444444444, -0.0002833371538491476, 0.047619047619047616, -0.6428571428571429, -0.0003718552253549061, 0.12698412698412698, -0.7380952380952381, -0.00040457297175649614, 0.20634920634920634, -0.7936507936507936, -0.0004184395961818241, 0.0, 0.0, 1.8740896242282665e-09, 0.14285714285714285, -0.15079365079365079, -1.4179024017519421e-05, 0.23015873015873015, -0.36507936507936506, -5.577441068395736e-05, 0.29365079365079366, -0.5158730158730159, -0.0001230774935157526, 0.38095238095238093, -0.6190476190476191, -0.00019040499769506, 0.06349206349206349, -0.5793650793650794, -1.3432918219930596e-05, 0.09523809523809523, -0.8095238095238095, -0.0001432360667321417, 0.18253968253968253, -0.9285714285714286, -0.0002489947373904879, 0.2698412698412698, -1.0, -0.00031376340323024325, 0.015873015873015872, -0.5634920634920635, -9.287980991223502e-05, 0.05555555555555555, -0.8333333333333334, -0.00021108903641265536, 0.16666666666666666, -0.9444444444444444, -0.00029873002379659624, 0.2698412698412698, -0.9920634920634921, -0.0003507723292661092, -0.015873015873015872, -0.5158730158730159, -0.00018578914127179554, 0.03968253968253968, -0.7698412698412699, -0.00030183011577242897, 0.15079365079365079, -0.8888888888888888, -0.0003638804727603519, 0.24603174603174602, -0.9365079365079365, -0.00039297262472765785, -0.015873015873015872, -0.4444444444444444, -0.0002833371538491476, 0.047619047619047616, -0.6428571428571429, -0.0003718552253549061, 0.12698412698412698, -0.7380952380952381, -0.00040457297175649614, 0.20634920634920634, -0.7936507936507936, -0.0004184395961818241]]),\n",
              "              list([[0.0, 0.0, 2.0768879949173424e-09, 0.1452991452991453, -0.1452991452991453, -1.3552183229635413e-05, 0.23931623931623933, -0.38461538461538464, -4.56875492619653e-05, 0.3076923076923077, -0.5555555555555556, -0.00010579094513613953, 0.38461538461538464, -0.6752136752136753, -0.0001637935160826414, 0.08547008547008547, -0.6153846153846154, 1.628818507823679e-05, 0.1282051282051282, -0.8547008547008547, -0.00012632072545014895, 0.24786324786324787, -0.9572649572649573, -0.00024269438452190824, 0.3504273504273504, -1.0, -0.00030926022774133925, 0.03418803418803419, -0.6068376068376068, -5.813407449003978e-05, 0.10256410256410256, -0.8803418803418803, -0.00017790195460502917, 0.23076923076923078, -0.9743589743589743, -0.0002654948964332923, 0.3504273504273504, -0.9914529914529915, -0.0003175189097722371, 0.0, -0.5641025641025641, -0.00014962485203376183, 0.06837606837606838, -0.8290598290598291, -0.00026567431532929087, 0.20512820512820512, -0.905982905982906, -0.00031451260050137836, 0.3162393162393162, -0.9145299145299145, -0.0003332330757736141, -0.02564102564102564, -0.5042735042735043, -0.0002476659754657338, 0.05982905982905983, -0.7008547008547008, -0.00033627342209856736, 0.1623931623931624, -0.7777777777777778, -0.00035830370636067836, 0.2564102564102564, -0.7948717948717948, -0.00036134901973936293, 0.0, 0.0, 2.0768879949173424e-09, 0.1452991452991453, -0.1452991452991453, -1.3552183229635413e-05, 0.23931623931623933, -0.38461538461538464, -4.56875492619653e-05, 0.3076923076923077, -0.5555555555555556, -0.00010579094513613953, 0.38461538461538464, -0.6752136752136753, -0.0001637935160826414, 0.08547008547008547, -0.6153846153846154, 1.628818507823679e-05, 0.1282051282051282, -0.8547008547008547, -0.00012632072545014895, 0.24786324786324787, -0.9572649572649573, -0.00024269438452190824, 0.3504273504273504, -1.0, -0.00030926022774133925, 0.03418803418803419, -0.6068376068376068, -5.813407449003978e-05, 0.10256410256410256, -0.8803418803418803, -0.00017790195460502917, 0.23076923076923078, -0.9743589743589743, -0.0002654948964332923, 0.3504273504273504, -0.9914529914529915, -0.0003175189097722371, 0.0, -0.5641025641025641, -0.00014962485203376183, 0.06837606837606838, -0.8290598290598291, -0.00026567431532929087, 0.20512820512820512, -0.905982905982906, -0.00031451260050137836, 0.3162393162393162, -0.9145299145299145, -0.0003332330757736141, -0.02564102564102564, -0.5042735042735043, -0.0002476659754657338, 0.05982905982905983, -0.7008547008547008, -0.00033627342209856736, 0.1623931623931624, -0.7777777777777778, -0.00035830370636067836, 0.2564102564102564, -0.7948717948717948, -0.00036134901973936293]]),\n",
              "              list([[0.0, 0.0, 3.2944930723912415e-09, 0.14432989690721648, -0.12371134020618557, -3.0435249689467174e-05, 0.2268041237113402, -0.4020618556701031, -3.598485209201415e-05, 0.30927835051546393, -0.5979381443298969, -7.164104812845741e-05, 0.3917525773195876, -0.7422680412371134, -9.897188043471465e-05, 0.05154639175257732, -0.6391752577319587, 8.938438499096742e-05, 0.09278350515463918, -0.8969072164948454, -4.148312853937297e-05, 0.23711340206185566, -0.979381443298969, -0.0001595533289706584, 0.36082474226804123, -0.979381443298969, -0.0002234961031023989, 0.010309278350515464, -0.6288659793814433, 2.947920626125385e-05, 0.07216494845360824, -0.9278350515463918, -9.430059683077114e-05, 0.2268041237113402, -1.0, -0.0002009885328024933, 0.36082474226804123, -0.9896907216494846, -0.00025652287547121345, -0.030927835051546393, -0.6082474226804123, -5.537644508726818e-05, 0.041237113402061855, -0.9072164948453608, -0.00018538603770364192, 0.20618556701030927, -0.9587628865979382, -0.00026420534578795285, 0.3402061855670103, -0.9381443298969072, -0.000290722595815806, -0.061855670103092786, -0.5670103092783505, -0.00014834129011508115, 0.030927835051546393, -0.7938144329896907, -0.00025718545867610225, 0.16494845360824742, -0.8556701030927835, -0.0003006673542801867, 0.27835051546391754, -0.845360824742268, -0.0003089985051720413, 0.0, 0.0, 3.2944930723912415e-09, 0.14432989690721648, -0.12371134020618557, -3.0435249689467174e-05, 0.2268041237113402, -0.4020618556701031, -3.598485209201415e-05, 0.30927835051546393, -0.5979381443298969, -7.164104812845741e-05, 0.3917525773195876, -0.7422680412371134, -9.897188043471465e-05, 0.05154639175257732, -0.6391752577319587, 8.938438499096742e-05, 0.09278350515463918, -0.8969072164948454, -4.148312853937297e-05, 0.23711340206185566, -0.979381443298969, -0.0001595533289706584, 0.36082474226804123, -0.979381443298969, -0.0002234961031023989, 0.010309278350515464, -0.6288659793814433, 2.947920626125385e-05, 0.07216494845360824, -0.9278350515463918, -9.430059683077114e-05, 0.2268041237113402, -1.0, -0.0002009885328024933, 0.36082474226804123, -0.9896907216494846, -0.00025652287547121345, -0.030927835051546393, -0.6082474226804123, -5.537644508726818e-05, 0.041237113402061855, -0.9072164948453608, -0.00018538603770364192, 0.20618556701030927, -0.9587628865979382, -0.00026420534578795285, 0.3402061855670103, -0.9381443298969072, -0.000290722595815806, -0.061855670103092786, -0.5670103092783505, -0.00014834129011508115, 0.030927835051546393, -0.7938144329896907, -0.00025718545867610225, 0.16494845360824742, -0.8556701030927835, -0.0003006673542801867, 0.27835051546391754, -0.845360824742268, -0.0003089985051720413]]),\n",
              "              list([[0.0, 0.0, 0.0, 0.0, 0.0, 0.0, 0.0, 0.0, 0.0, 0.0, 0.0, 0.0, 0.0, 0.0, 0.0, 0.0, 0.0, 0.0, 0.0, 0.0, 0.0, 0.0, 0.0, 0.0, 0.0, 0.0, 0.0, 0.0, 0.0, 0.0, 0.0, 0.0, 0.0, 0.0, 0.0, 0.0, 0.0, 0.0, 0.0, 0.0, 0.0, 0.0, 0.0, 0.0, 0.0, 0.0, 0.0, 0.0, 0.0, 0.0, 0.0, 0.0, 0.0, 0.0, 0.0, 0.0, 0.0, 0.0, 0.0, 0.0, 0.0, 0.0, 0.0, 0.0, 0.0, 3.5826780921799876e-09, 0.13953488372093023, -0.10465116279069768, -5.424955621535002e-05, 0.2558139534883721, -0.3953488372093023, -4.872595241596533e-05, 0.3488372093023256, -0.6046511627906976, -7.511842129535453e-05, 0.43023255813953487, -0.7674418604651163, -9.173342178380767e-05, 0.06976744186046512, -0.627906976744186, 0.00017407243031748506, 0.11627906976744186, -0.8837209302325582, 6.573895793841329e-05, 0.2441860465116279, -0.9767441860465116, -5.170770076125167e-05, 0.36046511627906974, -0.9883720930232558, -0.00011675272050291992, 0.023255813953488372, -0.6395348837209303, 0.0001261174505533174, 0.09302325581395349, -0.9069767441860465, 2.192287451349372e-05, 0.2441860465116279, -0.9883720930232558, -9.747857747729434e-05, 0.38372093023255816, -1.0, -0.00016209694318646608, -0.023255813953488372, -0.6395348837209303, 4.367479989521725e-05, 0.06976744186046512, -0.9186046511627907, -7.351994687734648e-05, 0.22093023255813954, -0.9883720930232558, -0.00016210867135330688, 0.36046511627906974, -0.9767441860465116, -0.00019449223006187485, -0.06976744186046512, -0.627906976744186, -5.2474736950771755e-05, 0.03488372093023256, -0.872093023255814, -0.00014358518515215365, 0.1744186046511628, -0.9302325581395349, -0.00018193156913269397, 0.29069767441860467, -0.9186046511627907, -0.00018779792671286784]]),\n",
              "              list([[0.0, 0.0, -2.9389350790396993e-09, -0.14634146341463414, -0.13414634146341464, 1.002057163022095e-05, -0.23170731707317074, -0.43902439024390244, -1.8167962524585606e-05, -0.3170731707317073, -0.6219512195121951, -8.067943541923674e-05, -0.4146341463414634, -0.7560975609756098, -0.0001412470620579836, 0.024390243902439025, -0.6585365853658537, 2.796772765222846e-05, -0.0975609756097561, -0.9146341463414634, -0.0001662397620881476, -0.2926829268292683, -0.9634146341463414, -0.0003122692337123359, -0.45121951219512196, -0.926829268292683, -0.0003840153718866953, 0.07317073170731707, -0.6585365853658537, -8.104932380885613e-05, -0.08536585365853659, -0.975609756097561, -0.0002580769587217308, -0.3048780487804878, -1.0, -0.00036341249488475847, -0.4634146341463415, -0.9390243902439024, -0.00040692672496888695, 0.08536585365853659, -0.6341463414634146, -0.00021160294006510478, -0.06097560975609756, -0.9512195121951219, -0.0003719199448823929, -0.2804878048780488, -0.975609756097561, -0.00042580549673336307, -0.4268292682926829, -0.9146341463414634, -0.00042733777223563776, 0.07317073170731707, -0.573170731707317, -0.0003446316255665407, -0.06097560975609756, -0.8414634146341463, -0.00045919804493101634, -0.1951219512195122, -0.9024390243902439, -0.0004821138501894183, -0.3048780487804878, -0.8780487804878049, -0.00047459853131596633, 0.0, 0.0, -2.9389350790396993e-09, -0.14634146341463414, -0.13414634146341464, 1.002057163022095e-05, -0.23170731707317074, -0.43902439024390244, -1.8167962524585606e-05, -0.3170731707317073, -0.6219512195121951, -8.067943541923674e-05, -0.4146341463414634, -0.7560975609756098, -0.0001412470620579836, 0.024390243902439025, -0.6585365853658537, 2.796772765222846e-05, -0.0975609756097561, -0.9146341463414634, -0.0001662397620881476, -0.2926829268292683, -0.9634146341463414, -0.0003122692337123359, -0.45121951219512196, -0.926829268292683, -0.0003840153718866953, 0.07317073170731707, -0.6585365853658537, -8.104932380885613e-05, -0.08536585365853659, -0.975609756097561, -0.0002580769587217308, -0.3048780487804878, -1.0, -0.00036341249488475847, -0.4634146341463415, -0.9390243902439024, -0.00040692672496888695, 0.08536585365853659, -0.6341463414634146, -0.00021160294006510478, -0.06097560975609756, -0.9512195121951219, -0.0003719199448823929, -0.2804878048780488, -0.975609756097561, -0.00042580549673336307, -0.4268292682926829, -0.9146341463414634, -0.00042733777223563776, 0.07317073170731707, -0.573170731707317, -0.0003446316255665407, -0.06097560975609756, -0.8414634146341463, -0.00045919804493101634, -0.1951219512195122, -0.9024390243902439, -0.0004821138501894183, -0.3048780487804878, -0.8780487804878049, -0.00047459853131596633]]),\n",
              "              list([[0.0, 0.0, -3.624933611576267e-09, -0.15584415584415584, -0.14285714285714285, 3.211442743996521e-05, -0.24675324675324675, -0.45454545454545453, 3.350829379028314e-05, -0.3246753246753247, -0.6233766233766234, -7.842569884106323e-06, -0.4155844155844156, -0.7662337662337663, -4.364865795745478e-05, 0.0, -0.7142857142857143, 0.00012975555010043182, -0.12987012987012986, -0.935064935064935, -5.181417377157645e-05, -0.3246753246753247, -0.961038961038961, -0.00020513531159270894, -0.4805194805194805, -0.9090909090909091, -0.0002802920273759148, 0.05194805194805195, -0.7272727272727273, 1.931723128617197e-05, -0.12987012987012986, -0.987012987012987, -0.0001390984935032857, -0.35064935064935066, -1.0, -0.00025768362759769737, -0.5064935064935064, -0.935064935064935, -0.00031090295547014707, 0.07792207792207792, -0.7142857142857143, -0.00011632687037254309, -0.11688311688311688, -0.987012987012987, -0.0002680854605776923, -0.3246753246753247, -0.987012987012987, -0.00033358029730908283, -0.4675324675324675, -0.9090909090909091, -0.000340637472736371, 0.07792207792207792, -0.6623376623376623, -0.0002542420157364437, -0.09090909090909091, -0.8831168831168831, -0.0003637119692254376, -0.24675324675324675, -0.9090909090909091, -0.0003883315177706929, -0.36363636363636365, -0.8701298701298701, -0.00037915501501653104, 0.0, 0.0, -3.624933611576267e-09, -0.15584415584415584, -0.14285714285714285, 3.211442743996521e-05, -0.24675324675324675, -0.45454545454545453, 3.350829379028314e-05, -0.3246753246753247, -0.6233766233766234, -7.842569884106323e-06, -0.4155844155844156, -0.7662337662337663, -4.364865795745478e-05, 0.0, -0.7142857142857143, 0.00012975555010043182, -0.12987012987012986, -0.935064935064935, -5.181417377157645e-05, -0.3246753246753247, -0.961038961038961, -0.00020513531159270894, -0.4805194805194805, -0.9090909090909091, -0.0002802920273759148, 0.05194805194805195, -0.7272727272727273, 1.931723128617197e-05, -0.12987012987012986, -0.987012987012987, -0.0001390984935032857, -0.35064935064935066, -1.0, -0.00025768362759769737, -0.5064935064935064, -0.935064935064935, -0.00031090295547014707, 0.07792207792207792, -0.7142857142857143, -0.00011632687037254309, -0.11688311688311688, -0.987012987012987, -0.0002680854605776923, -0.3246753246753247, -0.987012987012987, -0.00033358029730908283, -0.4675324675324675, -0.9090909090909091, -0.000340637472736371, 0.07792207792207792, -0.6623376623376623, -0.0002542420157364437, -0.09090909090909091, -0.8831168831168831, -0.0003637119692254376, -0.24675324675324675, -0.9090909090909091, -0.0003883315177706929, -0.36363636363636365, -0.8701298701298701, -0.00037915501501653104]]),\n",
              "              list([[0.0, 0.0, -3.696385419971193e-09, -0.17567567567567569, -0.16216216216216217, 4.0451168535730323e-05, -0.28378378378378377, -0.4594594594594595, 2.7150299551116455e-05, -0.36486486486486486, -0.6216216216216216, -2.762247695008645e-05, -0.4594594594594595, -0.7567567567567568, -7.777153891888825e-05, 0.04054054054054054, -0.7297297297297297, 8.807287274582966e-05, -0.14864864864864866, -0.9594594594594594, -0.0001018854311189136, -0.36486486486486486, -0.972972972972973, -0.00025797839200979953, -0.527027027027027, -0.9054054054054054, -0.0003333048945343172, 0.0945945945945946, -0.7432432432432432, -2.8902438242693205e-05, -0.14864864864864866, -1.0, -0.00018442592055008218, -0.3918918918918919, -1.0, -0.0002987020321794458, -0.5405405405405406, -0.918918918918919, -0.0003549774252885097, 0.0945945945945946, -0.7297297297297297, -0.0001664939084769906, -0.14864864864864866, -1.0, -0.0003162242623197066, -0.36486486486486486, -0.972972972972973, -0.0003763245972427162, -0.5135135135135135, -0.8783783783783784, -0.00038502234462145214, 0.06756756756756757, -0.6756756756756757, -0.00030418868000442917, -0.13513513513513514, -0.8918918918918919, -0.0004159736170156582, -0.2972972972972973, -0.8918918918918919, -0.00043327930207188065, -0.4189189189189189, -0.8108108108108109, -0.0004197171058606457, 0.0, 0.0, -3.696385419971193e-09, -0.17567567567567569, -0.16216216216216217, 4.0451168535730323e-05, -0.28378378378378377, -0.4594594594594595, 2.7150299551116455e-05, -0.36486486486486486, -0.6216216216216216, -2.762247695008645e-05, -0.4594594594594595, -0.7567567567567568, -7.777153891888825e-05, 0.04054054054054054, -0.7297297297297297, 8.807287274582966e-05, -0.14864864864864866, -0.9594594594594594, -0.0001018854311189136, -0.36486486486486486, -0.972972972972973, -0.00025797839200979953, -0.527027027027027, -0.9054054054054054, -0.0003333048945343172, 0.0945945945945946, -0.7432432432432432, -2.8902438242693205e-05, -0.14864864864864866, -1.0, -0.00018442592055008218, -0.3918918918918919, -1.0, -0.0002987020321794458, -0.5405405405405406, -0.918918918918919, -0.0003549774252885097, 0.0945945945945946, -0.7297297297297297, -0.0001664939084769906, -0.14864864864864866, -1.0, -0.0003162242623197066, -0.36486486486486486, -0.972972972972973, -0.0003763245972427162, -0.5135135135135135, -0.8783783783783784, -0.00038502234462145214, 0.06756756756756757, -0.6756756756756757, -0.00030418868000442917, -0.13513513513513514, -0.8918918918918919, -0.0004159736170156582, -0.2972972972972973, -0.8918918918918919, -0.00043327930207188065, -0.4189189189189189, -0.8108108108108109, -0.0004197171058606457]]),\n",
              "              list([[0.0, 0.0, -3.4731803916905823e-09, -0.1780821917808219, -0.1643835616438356, 3.828881436014829e-05, -0.273972602739726, -0.4657534246575342, 3.443211189483943e-05, -0.3561643835616438, -0.6438356164383562, -1.4072131008318026e-05, -0.4383561643835616, -0.7671232876712328, -5.8020981768630955e-05, 0.0, -0.7123287671232876, 0.00012115093126688918, -0.1506849315068493, -0.9452054794520548, -6.516280341638278e-05, -0.3698630136986301, -0.9726027397260274, -0.00021997341656521574, -0.5205479452054794, -0.9041095890410958, -0.00029451629682762984, 0.0547945205479452, -0.7397260273972602, 5.624829935012002e-06, -0.1506849315068493, -1.0, -0.00015458936662706612, -0.3698630136986301, -1.0, -0.00027374277682337044, -0.5342465753424658, -0.9041095890410958, -0.0003284006698490822, 0.0821917808219178, -0.726027397260274, -0.00013378419441311326, -0.136986301369863, -1.0, -0.0002916225882833951, -0.3561643835616438, -0.9726027397260274, -0.0003586184896834909, -0.4931506849315068, -0.8767123287671232, -0.00036726208174065367, 0.0821917808219178, -0.6712328767123288, -0.0002742087442989219, -0.136986301369863, -0.8904109589041096, -0.0003906288885906951, -0.3013698630136986, -0.8767123287671232, -0.0004127198600605743, -0.410958904109589, -0.7945205479452054, -0.00040137265132714623, 0.0, 0.0, -3.4731803916905823e-09, -0.1780821917808219, -0.1643835616438356, 3.828881436014829e-05, -0.273972602739726, -0.4657534246575342, 3.443211189483943e-05, -0.3561643835616438, -0.6438356164383562, -1.4072131008318026e-05, -0.4383561643835616, -0.7671232876712328, -5.8020981768630955e-05, 0.0, -0.7123287671232876, 0.00012115093126688918, -0.1506849315068493, -0.9452054794520548, -6.516280341638278e-05, -0.3698630136986301, -0.9726027397260274, -0.00021997341656521574, -0.5205479452054794, -0.9041095890410958, -0.00029451629682762984, 0.0547945205479452, -0.7397260273972602, 5.624829935012002e-06, -0.1506849315068493, -1.0, -0.00015458936662706612, -0.3698630136986301, -1.0, -0.00027374277682337044, -0.5342465753424658, -0.9041095890410958, -0.0003284006698490822, 0.0821917808219178, -0.726027397260274, -0.00013378419441311326, -0.136986301369863, -1.0, -0.0002916225882833951, -0.3561643835616438, -0.9726027397260274, -0.0003586184896834909, -0.4931506849315068, -0.8767123287671232, -0.00036726208174065367, 0.0821917808219178, -0.6712328767123288, -0.0002742087442989219, -0.136986301369863, -0.8904109589041096, -0.0003906288885906951, -0.3013698630136986, -0.8767123287671232, -0.0004127198600605743, -0.410958904109589, -0.7945205479452054, -0.00040137265132714623]]),\n",
              "              list([[0.0, 0.0, 2.3043747810825645e-09, 0.1891891891891892, -0.13513513513513514, -7.374382049248025e-06, 0.2972972972972973, -0.40540540540540543, 3.328533037691503e-05, 0.36486486486486486, -0.6216216216216216, 2.697220927960164e-05, 0.44594594594594594, -0.7702702702702703, 2.906477783580084e-05, 0.16216216216216217, -0.6351351351351351, 0.00029559184268519685, 0.2702702702702703, -0.8378378378378378, 0.00021904306737957773, 0.4189189189189189, -0.8648648648648649, 0.00011126092962316565, 0.5405405405405406, -0.8513513513513513, 4.72476051465885e-05, 0.12162162162162163, -0.6756756756756757, 0.0002305792845986985, 0.24324324324324326, -0.9054054054054054, 0.000133973709936883, 0.3918918918918919, -0.9324324324324325, 5.32453044355419e-06, 0.527027027027027, -0.8918918918918919, -6.450202341216641e-05, 0.05405405405405406, -0.7162162162162162, 0.00012761584759966746, 0.1891891891891892, -0.9594594594594594, 9.561884154037043e-06, 0.36486486486486486, -0.9864864864864865, -0.00010480251591149215, 0.4864864864864865, -0.918918918918919, -0.00015231927957486463, -0.02702702702702703, -0.7432432432432432, 1.525565528789082e-05, 0.10810810810810811, -0.9864864864864865, -8.299423859932938e-05, 0.24324324324324326, -1.0, -0.00013969252137718973, 0.36486486486486486, -0.9459459459459459, -0.0001596489644332512, 0.0, 0.0, 2.3043747810825645e-09, 0.1891891891891892, -0.13513513513513514, -7.374382049248025e-06, 0.2972972972972973, -0.40540540540540543, 3.328533037691503e-05, 0.36486486486486486, -0.6216216216216216, 2.697220927960164e-05, 0.44594594594594594, -0.7702702702702703, 2.906477783580084e-05, 0.16216216216216217, -0.6351351351351351, 0.00029559184268519685, 0.2702702702702703, -0.8378378378378378, 0.00021904306737957773, 0.4189189189189189, -0.8648648648648649, 0.00011126092962316565, 0.5405405405405406, -0.8513513513513513, 4.72476051465885e-05, 0.12162162162162163, -0.6756756756756757, 0.0002305792845986985, 0.24324324324324326, -0.9054054054054054, 0.000133973709936883, 0.3918918918918919, -0.9324324324324325, 5.32453044355419e-06, 0.527027027027027, -0.8918918918918919, -6.450202341216641e-05, 0.05405405405405406, -0.7162162162162162, 0.00012761584759966746, 0.1891891891891892, -0.9594594594594594, 9.561884154037043e-06, 0.36486486486486486, -0.9864864864864865, -0.00010480251591149215, 0.4864864864864865, -0.918918918918919, -0.00015231927957486463, -0.02702702702702703, -0.7432432432432432, 1.525565528789082e-05, 0.10810810810810811, -0.9864864864864865, -8.299423859932938e-05, 0.24324324324324326, -1.0, -0.00013969252137718973, 0.36486486486486486, -0.9459459459459459, -0.0001596489644332512]]),\n",
              "              list([[0.0, 0.0, 1.997806293729809e-09, 0.2, -0.14666666666666667, 4.484501744930943e-06, 0.30666666666666664, -0.41333333333333333, 5.0069680437445644e-05, 0.37333333333333335, -0.6266666666666667, 4.1500056783358254e-05, 0.4666666666666667, -0.7733333333333333, 4.169757788379987e-05, 0.16, -0.6266666666666667, 0.0003364694615205129, 0.28, -0.8133333333333334, 0.0002596681316693624, 0.4266666666666667, -0.84, 0.0001493441934386889, 0.5466666666666666, -0.8133333333333334, 8.43140296638012e-05, 0.12, -0.6666666666666666, 0.0002642998347679774, 0.25333333333333335, -0.8933333333333333, 0.00016030851751565932, 0.41333333333333333, -0.9066666666666666, 2.6360169673959414e-05, 0.5466666666666666, -0.8666666666666667, -4.3794484809041024e-05, 0.05333333333333334, -0.7066666666666667, 0.0001517833520968755, 0.2, -0.96, 2.2871270775794983e-05, 0.37333333333333335, -0.9733333333333334, -9.709283709526062e-05, 0.52, -0.8933333333333333, -0.00014313649386167528, -0.02666666666666667, -0.7466666666666667, 3.0773285155495006e-05, 0.12, -0.9866666666666667, -6.70924037694931e-05, 0.26666666666666666, -1.0, -0.00012264805535475414, 0.38666666666666666, -0.9466666666666667, -0.0001414464289943377, 0.0, 0.0, 1.997806293729809e-09, 0.2, -0.14666666666666667, 4.484501744930943e-06, 0.30666666666666664, -0.41333333333333333, 5.0069680437445644e-05, 0.37333333333333335, -0.6266666666666667, 4.1500056783358254e-05, 0.4666666666666667, -0.7733333333333333, 4.169757788379987e-05, 0.16, -0.6266666666666667, 0.0003364694615205129, 0.28, -0.8133333333333334, 0.0002596681316693624, 0.4266666666666667, -0.84, 0.0001493441934386889, 0.5466666666666666, -0.8133333333333334, 8.43140296638012e-05, 0.12, -0.6666666666666666, 0.0002642998347679774, 0.25333333333333335, -0.8933333333333333, 0.00016030851751565932, 0.41333333333333333, -0.9066666666666666, 2.6360169673959414e-05, 0.5466666666666666, -0.8666666666666667, -4.3794484809041024e-05, 0.05333333333333334, -0.7066666666666667, 0.0001517833520968755, 0.2, -0.96, 2.2871270775794983e-05, 0.37333333333333335, -0.9733333333333334, -9.709283709526062e-05, 0.52, -0.8933333333333333, -0.00014313649386167528, -0.02666666666666667, -0.7466666666666667, 3.0773285155495006e-05, 0.12, -0.9866666666666667, -6.70924037694931e-05, 0.26666666666666666, -1.0, -0.00012264805535475414, 0.38666666666666666, -0.9466666666666667, -0.0001414464289943377]]),\n",
              "              list([[0.0, 0.0, 2.0431608357137372e-09, 0.22972972972972974, -0.14864864864864866, 7.054833789683275e-06, 0.32432432432432434, -0.4189189189189189, 5.328299074962332e-05, 0.3918918918918919, -0.6486486486486487, 4.252722814075045e-05, 0.5135135135135135, -0.7837837837837838, 3.902811078807792e-05, 0.1891891891891892, -0.6216216216216216, 0.0003518062970928244, 0.3108108108108108, -0.8108108108108109, 0.00027016341384198214, 0.44594594594594594, -0.8378378378378378, 0.00015650016280847626, 0.5675675675675675, -0.8243243243243243, 8.882562050948272e-05, 0.13513513513513514, -0.6621621621621622, 0.00027622093723432436, 0.2702702702702703, -0.8918918918918919, 0.00016971385559520205, 0.43243243243243246, -0.9054054054054054, 3.474504951186277e-05, 0.581081081081081, -0.8648648648648649, -3.707625059964689e-05, 0.08108108108108109, -0.7027027027027027, 0.00015765744437639778, 0.21621621621621623, -0.9594594594594594, 1.6405349408553258e-05, 0.40540540540540543, -0.9594594594594594, -0.0001076337050747227, 0.5540540540540541, -0.8918918918918919, -0.00015444736424330118, 0.0, -0.7567567567567568, 3.164709306548576e-05, 0.14864864864864866, -0.9864864864864865, -7.620745187474263e-05, 0.2972972972972973, -1.0, -0.00013325820249077437, 0.43243243243243246, -0.9324324324324325, -0.0001523764426442417, 0.0, 0.0, 2.0431608357137372e-09, 0.22972972972972974, -0.14864864864864866, 7.054833789683275e-06, 0.32432432432432434, -0.4189189189189189, 5.328299074962332e-05, 0.3918918918918919, -0.6486486486486487, 4.252722814075045e-05, 0.5135135135135135, -0.7837837837837838, 3.902811078807792e-05, 0.1891891891891892, -0.6216216216216216, 0.0003518062970928244, 0.3108108108108108, -0.8108108108108109, 0.00027016341384198214, 0.44594594594594594, -0.8378378378378378, 0.00015650016280847626, 0.5675675675675675, -0.8243243243243243, 8.882562050948272e-05, 0.13513513513513514, -0.6621621621621622, 0.00027622093723432436, 0.2702702702702703, -0.8918918918918919, 0.00016971385559520205, 0.43243243243243246, -0.9054054054054054, 3.474504951186277e-05, 0.581081081081081, -0.8648648648648649, -3.707625059964689e-05, 0.08108108108108109, -0.7027027027027027, 0.00015765744437639778, 0.21621621621621623, -0.9594594594594594, 1.6405349408553258e-05, 0.40540540540540543, -0.9594594594594594, -0.0001076337050747227, 0.5540540540540541, -0.8918918918918919, -0.00015444736424330118, 0.0, -0.7567567567567568, 3.164709306548576e-05, 0.14864864864864866, -0.9864864864864865, -7.620745187474263e-05, 0.2972972972972973, -1.0, -0.00013325820249077437, 0.43243243243243246, -0.9324324324324325, -0.0001523764426442417]]),\n",
              "              list([[0.0, 0.0, 1.8283843358665464e-09, 0.2328767123287671, -0.1506849315068493, 1.8305703359719824e-05, 0.3424657534246575, -0.4246575342465753, 7.677994260232743e-05, 0.410958904109589, -0.6575342465753424, 7.427365787021101e-05, 0.5205479452054794, -0.8082191780821918, 7.735658437013626e-05, 0.2054794520547945, -0.6164383561643836, 0.0003810462427057632, 0.3287671232876712, -0.821917808219178, 0.0003100476954897789, 0.4794520547945205, -0.8493150684931506, 0.0001998956072820376, 0.589041095890411, -0.8356164383561644, 0.00013056745727176535, 0.1643835616438356, -0.6712328767123288, 0.0003002727889034846, 0.3013698630136986, -0.9041095890410958, 0.00020112408554717287, 0.4657534246575342, -0.9178082191780822, 6.473701038997467e-05, 0.6027397260273972, -0.8904109589041096, -1.166562457275513e-05, 0.0958904109589041, -0.726027397260274, 0.00017551362055213485, 0.2465753424657534, -0.9726027397260274, 3.1133734123551684e-05, 0.4246575342465753, -0.9726027397260274, -0.0001014150449470298, 0.5753424657534246, -0.8904109589041096, -0.0001547838471931954, 0.0273972602739726, -0.7808219178082192, 4.4318219034435e-05, 0.1780821917808219, -1.0, -7.186785391340518e-05, 0.3287671232876712, -1.0, -0.0001378428088883831, 0.4520547945205479, -0.9315068493150684, -0.00016365306171244138, 0.0, 0.0, 1.8283843358665464e-09, 0.2328767123287671, -0.1506849315068493, 1.8305703359719824e-05, 0.3424657534246575, -0.4246575342465753, 7.677994260232743e-05, 0.410958904109589, -0.6575342465753424, 7.427365787021101e-05, 0.5205479452054794, -0.8082191780821918, 7.735658437013626e-05, 0.2054794520547945, -0.6164383561643836, 0.0003810462427057632, 0.3287671232876712, -0.821917808219178, 0.0003100476954897789, 0.4794520547945205, -0.8493150684931506, 0.0001998956072820376, 0.589041095890411, -0.8356164383561644, 0.00013056745727176535, 0.1643835616438356, -0.6712328767123288, 0.0003002727889034846, 0.3013698630136986, -0.9041095890410958, 0.00020112408554717287, 0.4657534246575342, -0.9178082191780822, 6.473701038997467e-05, 0.6027397260273972, -0.8904109589041096, -1.166562457275513e-05, 0.0958904109589041, -0.726027397260274, 0.00017551362055213485, 0.2465753424657534, -0.9726027397260274, 3.1133734123551684e-05, 0.4246575342465753, -0.9726027397260274, -0.0001014150449470298, 0.5753424657534246, -0.8904109589041096, -0.0001547838471931954, 0.0273972602739726, -0.7808219178082192, 4.4318219034435e-05, 0.1780821917808219, -1.0, -7.186785391340518e-05, 0.3287671232876712, -1.0, -0.0001378428088883831, 0.4520547945205479, -0.9315068493150684, -0.00016365306171244138]]),\n",
              "              list([[0.0, 0.0, 1.6833798890605079e-09, 0.2328767123287671, -0.136986301369863, 9.614998978651958e-06, 0.3424657534246575, -0.4246575342465753, 6.013181800507519e-05, 0.410958904109589, -0.6575342465753424, 5.3152869366211434e-05, 0.5205479452054794, -0.821917808219178, 5.1429948118859775e-05, 0.2191780821917808, -0.6027397260273972, 0.0003503757745844044, 0.3424657534246575, -0.7945205479452054, 0.0002746723132998976, 0.4794520547945205, -0.8356164383561644, 0.0001648973724613451, 0.6027397260273972, -0.8356164383561644, 9.57609537019305e-05, 0.1780821917808219, -0.6712328767123288, 0.0002732721144614154, 0.3150684931506849, -0.8904109589041096, 0.00017330881004055886, 0.4657534246575342, -0.9041095890410958, 4.3071213191094466e-05, 0.6027397260273972, -0.8767123287671232, -3.1033502126189124e-05, 0.1095890410958904, -0.726027397260274, 0.0001532212154914255, 0.2465753424657534, -0.9726027397260274, 8.183317769267787e-06, 0.4246575342465753, -0.958904109589041, -0.00011576704476794152, 0.5616438356164384, -0.8904109589041096, -0.00016559475445992327, 0.0273972602739726, -0.7808219178082192, 2.620632645406135e-05, 0.1780821917808219, -1.0, -9.2588001479433e-05, 0.3287671232876712, -1.0, -0.00015395356673900395, 0.4520547945205479, -0.9315068493150684, -0.0001766354432457114, 0.0, 0.0, 1.6833798890605079e-09, 0.2328767123287671, -0.136986301369863, 9.614998978651958e-06, 0.3424657534246575, -0.4246575342465753, 6.013181800507519e-05, 0.410958904109589, -0.6575342465753424, 5.3152869366211434e-05, 0.5205479452054794, -0.821917808219178, 5.1429948118859775e-05, 0.2191780821917808, -0.6027397260273972, 0.0003503757745844044, 0.3424657534246575, -0.7945205479452054, 0.0002746723132998976, 0.4794520547945205, -0.8356164383561644, 0.0001648973724613451, 0.6027397260273972, -0.8356164383561644, 9.57609537019305e-05, 0.1780821917808219, -0.6712328767123288, 0.0002732721144614154, 0.3150684931506849, -0.8904109589041096, 0.00017330881004055886, 0.4657534246575342, -0.9041095890410958, 4.3071213191094466e-05, 0.6027397260273972, -0.8767123287671232, -3.1033502126189124e-05, 0.1095890410958904, -0.726027397260274, 0.0001532212154914255, 0.2465753424657534, -0.9726027397260274, 8.183317769267787e-06, 0.4246575342465753, -0.958904109589041, -0.00011576704476794152, 0.5616438356164384, -0.8904109589041096, -0.00016559475445992327, 0.0273972602739726, -0.7808219178082192, 2.620632645406135e-05, 0.1780821917808219, -1.0, -9.2588001479433e-05, 0.3287671232876712, -1.0, -0.00015395356673900395, 0.4520547945205479, -0.9315068493150684, -0.0001766354432457114]]),\n",
              "              list([[0.0, 0.0, -3.8555264244391045e-09, -0.19736842105263158, -0.21052631578947367, 5.4251451633478465e-05, -0.27631578947368424, -0.5131578947368421, 7.704445038382944e-05, -0.34210526315789475, -0.7105263157894737, 3.988166511254875e-05, -0.42105263157894735, -0.8421052631578947, 5.3344142782550895e-06, -0.11842105263157894, -0.7368421052631579, 0.0002534003242066032, -0.2236842105263158, -0.9342105263157895, 8.566755384794975e-05, -0.40789473684210525, -0.9473684210526315, -7.726670561456366e-05, -0.5526315789473685, -0.881578947368421, -0.00016594314212469677, -0.05263157894736842, -0.7631578947368421, 0.0001279739172835099, -0.2236842105263158, -1.0, -3.825146766183408e-05, -0.40789473684210525, -0.9736842105263158, -0.00019020992821376575, -0.5657894736842105, -0.881578947368421, -0.00026375248930171917, 0.013157894736842105, -0.7631578947368421, -2.893724319476046e-05, -0.17105263157894737, -1.0, -0.00018920583993588624, -0.3684210526315789, -0.9605263157894737, -0.00028021800282754396, -0.5, -0.8552631578947368, -0.00030266569535198967, 0.05263157894736842, -0.7236842105263158, -0.0001898216524798619, -0.14473684210526316, -0.9078947368421053, -0.0002948339097201824, -0.2894736842105263, -0.8947368421052632, -0.00033062446470323364, -0.40789473684210525, -0.8421052631578947, -0.0003336613115511443, 0.0, 0.0, -3.8555264244391045e-09, -0.19736842105263158, -0.21052631578947367, 5.4251451633478465e-05, -0.27631578947368424, -0.5131578947368421, 7.704445038382944e-05, -0.34210526315789475, -0.7105263157894737, 3.988166511254875e-05, -0.42105263157894735, -0.8421052631578947, 5.3344142782550895e-06, -0.11842105263157894, -0.7368421052631579, 0.0002534003242066032, -0.2236842105263158, -0.9342105263157895, 8.566755384794975e-05, -0.40789473684210525, -0.9473684210526315, -7.726670561456366e-05, -0.5526315789473685, -0.881578947368421, -0.00016594314212469677, -0.05263157894736842, -0.7631578947368421, 0.0001279739172835099, -0.2236842105263158, -1.0, -3.825146766183408e-05, -0.40789473684210525, -0.9736842105263158, -0.00019020992821376575, -0.5657894736842105, -0.881578947368421, -0.00026375248930171917, 0.013157894736842105, -0.7631578947368421, -2.893724319476046e-05, -0.17105263157894737, -1.0, -0.00018920583993588624, -0.3684210526315789, -0.9605263157894737, -0.00028021800282754396, -0.5, -0.8552631578947368, -0.00030266569535198967, 0.05263157894736842, -0.7236842105263158, -0.0001898216524798619, -0.14473684210526316, -0.9078947368421053, -0.0002948339097201824, -0.2894736842105263, -0.8947368421052632, -0.00033062446470323364, -0.40789473684210525, -0.8421052631578947, -0.0003336613115511443]]),\n",
              "              list([[0.0, 0.0, -3.632539187197221e-09, -0.19480519480519481, -0.19480519480519481, 5.211222118565014e-05, -0.2727272727272727, -0.5064935064935064, 8.260499831143911e-05, -0.35064935064935066, -0.7012987012987013, 5.4371990747266005e-05, -0.4155844155844156, -0.8311688311688312, 2.941523085940968e-05, -0.14285714285714285, -0.7142857142857143, 0.00026025920622534565, -0.24675324675324675, -0.922077922077922, 0.00010629245019578315, -0.4155844155844156, -0.935064935064935, -4.648435377068334e-05, -0.5454545454545454, -0.8831168831168831, -0.000131243694718782, -0.07792207792207792, -0.7402597402597403, 0.00014009889118470154, -0.23376623376623376, -0.987012987012987, -1.9532759891605222e-05, -0.4155844155844156, -0.974025974025974, -0.00016593330769569843, -0.5584415584415584, -0.8961038961038961, -0.0002344124164287146, -0.025974025974025976, -0.7402597402597403, -1.1421830012378367e-05, -0.18181818181818182, -1.0, -0.00016101467870659642, -0.36363636363636365, -0.961038961038961, -0.0002499995148414141, -0.5064935064935064, -0.8701298701298701, -0.0002731933415710152, 0.025974025974025976, -0.7142857142857143, -0.0001681575962862411, -0.14285714285714285, -0.8961038961038961, -0.00026590720593155204, -0.2857142857142857, -0.8961038961038961, -0.00030353941120110547, -0.4025974025974026, -0.8441558441558441, -0.00030998227658209863, 0.0, 0.0, -3.632539187197221e-09, -0.19480519480519481, -0.19480519480519481, 5.211222118565014e-05, -0.2727272727272727, -0.5064935064935064, 8.260499831143911e-05, -0.35064935064935066, -0.7012987012987013, 5.4371990747266005e-05, -0.4155844155844156, -0.8311688311688312, 2.941523085940968e-05, -0.14285714285714285, -0.7142857142857143, 0.00026025920622534565, -0.24675324675324675, -0.922077922077922, 0.00010629245019578315, -0.4155844155844156, -0.935064935064935, -4.648435377068334e-05, -0.5454545454545454, -0.8831168831168831, -0.000131243694718782, -0.07792207792207792, -0.7402597402597403, 0.00014009889118470154, -0.23376623376623376, -0.987012987012987, -1.9532759891605222e-05, -0.4155844155844156, -0.974025974025974, -0.00016593330769569843, -0.5584415584415584, -0.8961038961038961, -0.0002344124164287146, -0.025974025974025976, -0.7402597402597403, -1.1421830012378367e-05, -0.18181818181818182, -1.0, -0.00016101467870659642, -0.36363636363636365, -0.961038961038961, -0.0002499995148414141, -0.5064935064935064, -0.8701298701298701, -0.0002731933415710152, 0.025974025974025976, -0.7142857142857143, -0.0001681575962862411, -0.14285714285714285, -0.8961038961038961, -0.00026590720593155204, -0.2857142857142857, -0.8961038961038961, -0.00030353941120110547, -0.4025974025974026, -0.8441558441558441, -0.00030998227658209863]]),\n",
              "              list([[0.0, 0.0, 2.04053831142023e-09, 0.2236842105263158, -0.13157894736842105, -5.401516988824465e-06, 0.32894736842105265, -0.42105263157894735, 4.7135160696741784e-05, 0.42105263157894735, -0.631578947368421, 4.9591772135739264e-05, 0.5263157894736842, -0.7763157894736842, 5.7603122274342334e-05, 0.19736842105263158, -0.6052631578947368, 0.0003040500573421779, 0.3157894736842105, -0.8026315789473685, 0.0002192054434042228, 0.4605263157894737, -0.8289473684210527, 0.00010731598166258711, 0.5921052631578947, -0.8026315789473685, 3.9154746398133667e-05, 0.15789473684210525, -0.6578947368421053, 0.00023652532284981325, 0.2894736842105263, -0.868421052631579, 0.00012303553031463372, 0.4473684210526316, -0.881578947368421, -1.2379604557185972e-05, 0.5921052631578947, -0.8552631578947368, -8.417227869167139e-05, 0.09210526315789473, -0.7105263157894737, 0.00012866522822725144, 0.2236842105263158, -0.9473684210526315, -1.1775867805179013e-05, 0.39473684210526316, -0.9473684210526315, -0.0001343899945679464, 0.5394736842105263, -0.868421052631579, -0.00018222039369376083, 0.013157894736842105, -0.7631578947368421, 1.0950999383471513e-05, 0.14473684210526316, -0.9868421052631579, -0.00010657868053960173, 0.27631578947368424, -1.0, -0.00017297829158212009, 0.40789473684210525, -0.9342105263157895, -0.00019783978840630305, 0.0, 0.0, 2.04053831142023e-09, 0.2236842105263158, -0.13157894736842105, -5.401516988824465e-06, 0.32894736842105265, -0.42105263157894735, 4.7135160696741784e-05, 0.42105263157894735, -0.631578947368421, 4.9591772135739264e-05, 0.5263157894736842, -0.7763157894736842, 5.7603122274342334e-05, 0.19736842105263158, -0.6052631578947368, 0.0003040500573421779, 0.3157894736842105, -0.8026315789473685, 0.0002192054434042228, 0.4605263157894737, -0.8289473684210527, 0.00010731598166258711, 0.5921052631578947, -0.8026315789473685, 3.9154746398133667e-05, 0.15789473684210525, -0.6578947368421053, 0.00023652532284981325, 0.2894736842105263, -0.868421052631579, 0.00012303553031463372, 0.4473684210526316, -0.881578947368421, -1.2379604557185972e-05, 0.5921052631578947, -0.8552631578947368, -8.417227869167139e-05, 0.09210526315789473, -0.7105263157894737, 0.00012866522822725144, 0.2236842105263158, -0.9473684210526315, -1.1775867805179013e-05, 0.39473684210526316, -0.9473684210526315, -0.0001343899945679464, 0.5394736842105263, -0.868421052631579, -0.00018222039369376083, 0.013157894736842105, -0.7631578947368421, 1.0950999383471513e-05, 0.14473684210526316, -0.9868421052631579, -0.00010657868053960173, 0.27631578947368424, -1.0, -0.00017297829158212009, 0.40789473684210525, -0.9342105263157895, -0.00019783978840630305]]),\n",
              "              list([[0.0, 0.0, -3.792709111610149e-09, -0.17721518987341772, -0.17721518987341772, 5.8686610493997605e-06, -0.25316455696202533, -0.5063291139240507, 1.572360449670991e-05, -0.31645569620253167, -0.7215189873417721, -2.4136549298050283e-05, -0.4050632911392405, -0.8481012658227848, -6.01509597765494e-05, -0.08860759493670886, -0.6835443037974683, 0.00019468757312131834, -0.189873417721519, -0.9113924050632911, 5.716563326224119e-06, -0.3670886075949367, -0.9620253164556962, -0.00016694557204653945, -0.5316455696202531, -0.9240506329113924, -0.00026222337273102775, -0.0379746835443038, -0.7215189873417721, 9.058803154886524e-05, -0.17721518987341772, -0.9873417721518988, -0.00010439471777858614, -0.3670886075949367, -1.0, -0.00026713276305530644, -0.5316455696202531, -0.9367088607594937, -0.00034132156568237497, 0.02531645569620253, -0.7215189873417721, -4.761637471427646e-05, -0.13924050632911392, -1.0, -0.00022708971194828614, -0.3291139240506329, -0.9873417721518988, -0.00033016627819477755, -0.4810126582278481, -0.9113924050632911, -0.00035622225532048866, 0.0759493670886076, -0.6962025316455697, -0.00019368569402000572, -0.08860759493670886, -0.8987341772151899, -0.000312937140653405, -0.24050632911392406, -0.9367088607594937, -0.0003654214353123798, -0.3670886075949367, -0.8987341772151899, -0.0003799921302478525, 0.0, 0.0, -3.792709111610149e-09, -0.17721518987341772, -0.17721518987341772, 5.8686610493997605e-06, -0.25316455696202533, -0.5063291139240507, 1.572360449670991e-05, -0.31645569620253167, -0.7215189873417721, -2.4136549298050283e-05, -0.4050632911392405, -0.8481012658227848, -6.01509597765494e-05, -0.08860759493670886, -0.6835443037974683, 0.00019468757312131834, -0.189873417721519, -0.9113924050632911, 5.716563326224119e-06, -0.3670886075949367, -0.9620253164556962, -0.00016694557204653945, -0.5316455696202531, -0.9240506329113924, -0.00026222337273102775, -0.0379746835443038, -0.7215189873417721, 9.058803154886524e-05, -0.17721518987341772, -0.9873417721518988, -0.00010439471777858614, -0.3670886075949367, -1.0, -0.00026713276305530644, -0.5316455696202531, -0.9367088607594937, -0.00034132156568237497, 0.02531645569620253, -0.7215189873417721, -4.761637471427646e-05, -0.13924050632911392, -1.0, -0.00022708971194828614, -0.3291139240506329, -0.9873417721518988, -0.00033016627819477755, -0.4810126582278481, -0.9113924050632911, -0.00035622225532048866, 0.0759493670886076, -0.6962025316455697, -0.00019368569402000572, -0.08860759493670886, -0.8987341772151899, -0.000312937140653405, -0.24050632911392406, -0.9367088607594937, -0.0003654214353123798, -0.3670886075949367, -0.8987341772151899, -0.0003799921302478525]]),\n",
              "              list([[0.0, 0.0, 4.476754940986976e-09, 0.18840579710144928, -0.11594202898550725, -0.00012221491045278052, 0.3333333333333333, -0.391304347826087, -0.00013007590736168018, 0.43478260869565216, -0.6231884057971014, -0.00016130727000426555, 0.5362318840579711, -0.782608695652174, -0.00018224687032077623, 0.2028985507246377, -0.6521739130434783, 0.0001495860759978709, 0.3333333333333333, -0.8695652173913043, -8.211219750776671e-06, 0.5072463768115942, -0.9130434782608695, -0.00016171914403853208, 0.6521739130434783, -0.8985507246376812, -0.0002457858535690584, 0.13043478260869565, -0.6811594202898551, 0.00013010935398979464, 0.30434782608695654, -0.927536231884058, -2.9245928010862805e-05, 0.4782608695652174, -0.9420289855072463, -0.00017979292981866476, 0.6376811594202898, -0.9130434782608695, -0.0002592536148385725, 0.057971014492753624, -0.7246376811594203, 6.37360052138135e-05, 0.2318840579710145, -0.9710144927536232, -0.00011131305085576099, 0.4057971014492754, -0.9855072463768116, -0.0002295427780220474, 0.5652173913043478, -0.9420289855072463, -0.0002702749131814293, -0.043478260869565216, -0.7536231884057971, -2.2066841441868007e-05, 0.11594202898550725, -0.9710144927536232, -0.00017106858338566795, 0.2898550724637681, -1.0, -0.0002419944528652274, 0.42028985507246375, -0.9565217391304348, -0.0002619410338609115, 0.0, 0.0, 4.476754940986976e-09, 0.18840579710144928, -0.11594202898550725, -0.00012221491045278052, 0.3333333333333333, -0.391304347826087, -0.00013007590736168018, 0.43478260869565216, -0.6231884057971014, -0.00016130727000426555, 0.5362318840579711, -0.782608695652174, -0.00018224687032077623, 0.2028985507246377, -0.6521739130434783, 0.0001495860759978709, 0.3333333333333333, -0.8695652173913043, -8.211219750776671e-06, 0.5072463768115942, -0.9130434782608695, -0.00016171914403853208, 0.6521739130434783, -0.8985507246376812, -0.0002457858535690584, 0.13043478260869565, -0.6811594202898551, 0.00013010935398979464, 0.30434782608695654, -0.927536231884058, -2.9245928010862805e-05, 0.4782608695652174, -0.9420289855072463, -0.00017979292981866476, 0.6376811594202898, -0.9130434782608695, -0.0002592536148385725, 0.057971014492753624, -0.7246376811594203, 6.37360052138135e-05, 0.2318840579710145, -0.9710144927536232, -0.00011131305085576099, 0.4057971014492754, -0.9855072463768116, -0.0002295427780220474, 0.5652173913043478, -0.9420289855072463, -0.0002702749131814293, -0.043478260869565216, -0.7536231884057971, -2.2066841441868007e-05, 0.11594202898550725, -0.9710144927536232, -0.00017106858338566795, 0.2898550724637681, -1.0, -0.0002419944528652274, 0.42028985507246375, -0.9565217391304348, -0.0002619410338609115]]),\n",
              "              list([[0.0, 0.0, 4.36796239812663e-09, 0.18571428571428572, -0.07142857142857142, -0.00014611224510840007, 0.32857142857142857, -0.37142857142857144, -0.00015981366325701986, 0.42857142857142855, -0.6, -0.00018714764820677895, 0.5142857142857142, -0.7857142857142857, -0.00020311414929372924, 0.18571428571428572, -0.6285714285714286, 9.576823961521898e-05, 0.32857142857142857, -0.8714285714285714, -8.056967386177608e-05, 0.5, -0.9285714285714286, -0.00024027832384620394, 0.6571428571428571, -0.9, -0.00032491739839315417, 0.12857142857142856, -0.6857142857142857, 8.510403734232699e-05, 0.3, -0.9285714285714286, -8.880630401628359e-05, 0.4857142857142857, -0.9714285714285714, -0.00024014293615307126, 0.6571428571428571, -0.9285714285714286, -0.00031885337084531785, 0.05714285714285714, -0.7142857142857143, 2.7263771543013197e-05, 0.22857142857142856, -0.9714285714285714, -0.00015842849388718604, 0.42857142857142855, -1.0, -0.00028343868574925833, 0.5857142857142857, -0.9428571428571428, -0.0003294796283755984, -0.02857142857142857, -0.7571428571428571, -5.095049273222685e-05, 0.14285714285714285, -0.9714285714285714, -0.00021269265562295914, 0.3, -1.0, -0.00029412899166345594, 0.45714285714285713, -0.9428571428571428, -0.00032260330127818244, 0.0, 0.0, 4.36796239812663e-09, 0.18571428571428572, -0.07142857142857142, -0.00014611224510840007, 0.32857142857142857, -0.37142857142857144, -0.00015981366325701986, 0.42857142857142855, -0.6, -0.00018714764820677895, 0.5142857142857142, -0.7857142857142857, -0.00020311414929372924, 0.18571428571428572, -0.6285714285714286, 9.576823961521898e-05, 0.32857142857142857, -0.8714285714285714, -8.056967386177608e-05, 0.5, -0.9285714285714286, -0.00024027832384620394, 0.6571428571428571, -0.9, -0.00032491739839315417, 0.12857142857142856, -0.6857142857142857, 8.510403734232699e-05, 0.3, -0.9285714285714286, -8.880630401628359e-05, 0.4857142857142857, -0.9714285714285714, -0.00024014293615307126, 0.6571428571428571, -0.9285714285714286, -0.00031885337084531785, 0.05714285714285714, -0.7142857142857143, 2.7263771543013197e-05, 0.22857142857142856, -0.9714285714285714, -0.00015842849388718604, 0.42857142857142855, -1.0, -0.00028343868574925833, 0.5857142857142857, -0.9428571428571428, -0.0003294796283755984, -0.02857142857142857, -0.7571428571428571, -5.095049273222685e-05, 0.14285714285714285, -0.9714285714285714, -0.00021269265562295914, 0.3, -1.0, -0.00029412899166345594, 0.45714285714285713, -0.9428571428571428, -0.00032260330127818244]]),\n",
              "              list([[0.0, 0.0, -4.639786912162969e-09, -0.16304347826086957, -0.2391304347826087, 5.887811193647592e-05, -0.22826086956521738, -0.5434782608695652, 6.240035872906446e-05, -0.29347826086956524, -0.7282608695652174, 1.4500355894636849e-05, -0.3695652173913043, -0.8478260869565217, -3.373646430428261e-05, 0.043478260869565216, -0.782608695652174, 0.0001482337753733863, -0.11956521739130435, -0.9565217391304348, -4.4070325953804925e-05, -0.30434782608695654, -0.9782608695652174, -0.0002225821473352287, -0.4673913043478261, -0.9347826086956522, -0.0003231652283474155, 0.09782608695652174, -0.7717391304347826, 1.5846685172342088e-05, -0.11956521739130435, -1.0, -0.0001527602561628041, -0.31521739130434784, -1.0, -0.00030075353772743887, -0.4782608695652174, -0.9456521739130435, -0.00038380349945762884, 0.11956521739130435, -0.7282608695652174, -0.00013889120284305966, -0.09782608695652174, -0.9565217391304348, -0.00029651235546106875, -0.29347826086956524, -0.9565217391304348, -0.0003801358701742214, -0.43478260869565216, -0.9130434782608695, -0.00040965810742067254, 0.09782608695652174, -0.6413043478260869, -0.0002946699159624784, -0.10869565217391304, -0.8152173913043478, -0.0004135411151725313, -0.25, -0.8478260869565217, -0.0004548133634354757, -0.358695652173913, -0.8260869565217391, -0.00046433403116205466, 0.0, 0.0, -4.639786912162969e-09, -0.16304347826086957, -0.2391304347826087, 5.887811193647592e-05, -0.22826086956521738, -0.5434782608695652, 6.240035872906446e-05, -0.29347826086956524, -0.7282608695652174, 1.4500355894636849e-05, -0.3695652173913043, -0.8478260869565217, -3.373646430428261e-05, 0.043478260869565216, -0.782608695652174, 0.0001482337753733863, -0.11956521739130435, -0.9565217391304348, -4.4070325953804925e-05, -0.30434782608695654, -0.9782608695652174, -0.0002225821473352287, -0.4673913043478261, -0.9347826086956522, -0.0003231652283474155, 0.09782608695652174, -0.7717391304347826, 1.5846685172342088e-05, -0.11956521739130435, -1.0, -0.0001527602561628041, -0.31521739130434784, -1.0, -0.00030075353772743887, -0.4782608695652174, -0.9456521739130435, -0.00038380349945762884, 0.11956521739130435, -0.7282608695652174, -0.00013889120284305966, -0.09782608695652174, -0.9565217391304348, -0.00029651235546106875, -0.29347826086956524, -0.9565217391304348, -0.0003801358701742214, -0.43478260869565216, -0.9130434782608695, -0.00040965810742067254, 0.09782608695652174, -0.6413043478260869, -0.0002946699159624784, -0.10869565217391304, -0.8152173913043478, -0.0004135411151725313, -0.25, -0.8478260869565217, -0.0004548133634354757, -0.358695652173913, -0.8260869565217391, -0.00046433403116205466]]),\n",
              "              list([[0.0, 0.0, -4.497873652981462e-09, -0.16129032258064516, -0.25806451612903225, 6.82417703892595e-05, -0.22580645161290322, -0.5591397849462365, 8.416171836596663e-05, -0.27956989247311825, -0.7311827956989247, 4.473219435381633e-05, -0.3333333333333333, -0.8602150537634409, 5.345461734881003e-06, 0.053763440860215055, -0.7849462365591398, 0.00018645879081500473, -0.0967741935483871, -0.956989247311828, 1.17267644713803e-05, -0.27956989247311825, -0.978494623655914, -0.00015813862324081442, -0.44086021505376344, -0.946236559139785, -0.0002568380166125554, 0.10752688172043011, -0.7741935483870968, 5.1742940339990844e-05, -0.0967741935483871, -0.989247311827957, -0.00010283115089580577, -0.2903225806451613, -1.0, -0.00024941837995923975, -0.45161290322580644, -0.946236559139785, -0.000333490851585583, 0.12903225806451613, -0.7311827956989247, -0.00010660849511623383, -0.08602150537634409, -0.956989247311828, -0.0002567469472846677, -0.26881720430107525, -0.956989247311828, -0.0003425687631612183, -0.41935483870967744, -0.9139784946236559, -0.00037467543796826434, 0.10752688172043011, -0.6344086021505376, -0.00026614403211942285, -0.0967741935483871, -0.8172043010752689, -0.00038262020035456586, -0.23655913978494625, -0.8494623655913979, -0.0004258366922537486, -0.34408602150537637, -0.8279569892473119, -0.0004371754344432585, 0.0, 0.0, -4.497873652981462e-09, -0.16129032258064516, -0.25806451612903225, 6.82417703892595e-05, -0.22580645161290322, -0.5591397849462365, 8.416171836596663e-05, -0.27956989247311825, -0.7311827956989247, 4.473219435381633e-05, -0.3333333333333333, -0.8602150537634409, 5.345461734881003e-06, 0.053763440860215055, -0.7849462365591398, 0.00018645879081500473, -0.0967741935483871, -0.956989247311828, 1.17267644713803e-05, -0.27956989247311825, -0.978494623655914, -0.00015813862324081442, -0.44086021505376344, -0.946236559139785, -0.0002568380166125554, 0.10752688172043011, -0.7741935483870968, 5.1742940339990844e-05, -0.0967741935483871, -0.989247311827957, -0.00010283115089580577, -0.2903225806451613, -1.0, -0.00024941837995923975, -0.45161290322580644, -0.946236559139785, -0.000333490851585583, 0.12903225806451613, -0.7311827956989247, -0.00010660849511623383, -0.08602150537634409, -0.956989247311828, -0.0002567469472846677, -0.26881720430107525, -0.956989247311828, -0.0003425687631612183, -0.41935483870967744, -0.9139784946236559, -0.00037467543796826434, 0.10752688172043011, -0.6344086021505376, -0.00026614403211942285, -0.0967741935483871, -0.8172043010752689, -0.00038262020035456586, -0.23655913978494625, -0.8494623655913979, -0.0004258366922537486, -0.34408602150537637, -0.8279569892473119, -0.0004371754344432585]]),\n",
              "              list([[0.0, 0.0, 3.9987248278016015e-09, 0.15555555555555556, -0.06666666666666667, -8.47070063981745e-05, 0.3, -0.3333333333333333, -0.00010257160498036278, 0.3888888888888889, -0.5222222222222223, -0.00013971797501047452, 0.5, -0.6555555555555556, -0.00016890358593728806, 0.14444444444444443, -0.6, 6.642953699661625e-05, 0.2222222222222222, -0.8333333333333334, -6.76054714454545e-05, 0.36666666666666664, -0.9333333333333333, -0.000184483350151115, 0.5, -0.9555555555555556, -0.000246492980255021, 0.08888888888888889, -0.6111111111111112, 3.0240582095252142e-05, 0.2, -0.8777777777777778, -7.603463923765554e-05, 0.36666666666666664, -0.9777777777777777, -0.0001738701636592547, 0.5111111111111111, -1.0, -0.00023075083477629556, 0.044444444444444446, -0.6111111111111112, -3.841126389387581e-05, 0.17777777777777778, -0.8777777777777778, -0.0001625849554936091, 0.34444444444444444, -0.9555555555555556, -0.0002399270526236958, 0.5, -0.9666666666666667, -0.0002692286546031634, 0.0, -0.5888888888888889, -0.00011985205734769504, 0.13333333333333333, -0.8111111111111111, -0.00022427837053934734, 0.2777777777777778, -0.8777777777777778, -0.00026164394285943776, 0.4, -0.8666666666666667, -0.0002678133754266633, 0.0, 0.0, 3.9987248278016015e-09, 0.15555555555555556, -0.06666666666666667, -8.47070063981745e-05, 0.3, -0.3333333333333333, -0.00010257160498036278, 0.3888888888888889, -0.5222222222222223, -0.00013971797501047452, 0.5, -0.6555555555555556, -0.00016890358593728806, 0.14444444444444443, -0.6, 6.642953699661625e-05, 0.2222222222222222, -0.8333333333333334, -6.76054714454545e-05, 0.36666666666666664, -0.9333333333333333, -0.000184483350151115, 0.5, -0.9555555555555556, -0.000246492980255021, 0.08888888888888889, -0.6111111111111112, 3.0240582095252142e-05, 0.2, -0.8777777777777778, -7.603463923765554e-05, 0.36666666666666664, -0.9777777777777777, -0.0001738701636592547, 0.5111111111111111, -1.0, -0.00023075083477629556, 0.044444444444444446, -0.6111111111111112, -3.841126389387581e-05, 0.17777777777777778, -0.8777777777777778, -0.0001625849554936091, 0.34444444444444444, -0.9555555555555556, -0.0002399270526236958, 0.5, -0.9666666666666667, -0.0002692286546031634, 0.0, -0.5888888888888889, -0.00011985205734769504, 0.13333333333333333, -0.8111111111111111, -0.00022427837053934734, 0.2777777777777778, -0.8777777777777778, -0.00026164394285943776, 0.4, -0.8666666666666667, -0.0002678133754266633]]),\n",
              "              list([[0.0, 0.0, 4.71718600117235e-10, -0.12612612612612611, -0.10810810810810811, -1.244674025623648e-05, -0.18018018018018017, -0.36936936936936937, 1.1677238125320491e-05, -0.23423423423423423, -0.5225225225225225, 1.4287589520618721e-05, -0.2882882882882883, -0.6576576576576577, 2.1666724671114673e-05, -0.009009009009009009, -0.5225225225225225, 0.00011593923140485008, -0.05405405405405406, -0.7117117117117117, 7.506778782552426e-05, -0.11711711711711711, -0.8558558558558559, 2.1041467416662352e-05, -0.1891891891891892, -0.963963963963964, -2.342986723257078e-05, 0.036036036036036036, -0.5225225225225225, 5.965543961202776e-05, -0.02702702702702703, -0.7387387387387387, 1.3516474355784086e-05, -0.10810810810810811, -0.8828828828828829, -5.395266202253264e-05, -0.1891891891891892, -1.0, -0.00010045151318515743, 0.05405405405405406, -0.5135135135135135, -1.3289421477967554e-05, -0.018018018018018018, -0.7387387387387387, -6.982632115617528e-05, -0.10810810810810811, -0.8738738738738738, -0.00011681060533265809, -0.1981981981981982, -0.972972972972973, -0.00014087990731806368, 0.04504504504504504, -0.4864864864864865, -9.429415369087512e-05, -0.036036036036036036, -0.6846846846846847, -0.00014435139123920922, -0.10810810810810811, -0.8018018018018018, -0.0001678812812577497, -0.17117117117117117, -0.8828828828828829, -0.00017898029706499597, 0.0, 0.0, 0.0, 0.0, 0.0, 0.0, 0.0, 0.0, 0.0, 0.0, 0.0, 0.0, 0.0, 0.0, 0.0, 0.0, 0.0, 0.0, 0.0, 0.0, 0.0, 0.0, 0.0, 0.0, 0.0, 0.0, 0.0, 0.0, 0.0, 0.0, 0.0, 0.0, 0.0, 0.0, 0.0, 0.0, 0.0, 0.0, 0.0, 0.0, 0.0, 0.0, 0.0, 0.0, 0.0, 0.0, 0.0, 0.0, 0.0, 0.0, 0.0, 0.0, 0.0, 0.0, 0.0, 0.0, 0.0, 0.0, 0.0, 0.0, 0.0, 0.0, 0.0]]),\n",
              "              list([[0.0, 0.0, 1.4890868650051985e-09, -0.1079136690647482, -0.10071942446043165, -2.9026068371834513e-05, -0.16546762589928057, -0.302158273381295, -4.735681154637886e-05, -0.2014388489208633, -0.4316546762589928, -7.639456165137051e-05, -0.2302158273381295, -0.5467625899280576, -0.00010737660173460734, -0.10071942446043165, -0.45323741007194246, -3.0751366891878116e-05, -0.14388489208633093, -0.6690647482014388, -0.00012595769312741945, -0.17985611510791366, -0.8129496402877698, -0.00020054355263710022, -0.2158273381294964, -0.9424460431654677, -0.0002509125059457134, -0.07194244604316546, -0.45323741007194246, -8.509800561683641e-05, -0.1223021582733813, -0.6834532374100719, -0.00017904266447043248, -0.16546762589928057, -0.8561151079136691, -0.00025542013400750194, -0.19424460431654678, -1.0, -0.00030460629424602866, -0.050359712230215826, -0.43884892086330934, -0.00014845326060442616, -0.10071942446043165, -0.6618705035971223, -0.0002348080223841633, -0.1366906474820144, -0.8201438848920863, -0.00028979727368560625, -0.17266187050359713, -0.9568345323741008, -0.0003218641169637227, -0.03597122302158273, -0.4028776978417266, -0.00021707334910794129, -0.06474820143884892, -0.5755395683453237, -0.0002880716870585791, -0.09352517985611511, -0.697841726618705, -0.0003187812918381725, -0.11510791366906475, -0.7913669064748201, -0.000336136159708174, 0.0, 0.0, 1.4890868650051985e-09, -0.1079136690647482, -0.10071942446043165, -2.9026068371834513e-05, -0.16546762589928057, -0.302158273381295, -4.735681154637886e-05, -0.2014388489208633, -0.4316546762589928, -7.639456165137051e-05, -0.2302158273381295, -0.5467625899280576, -0.00010737660173460734, -0.10071942446043165, -0.45323741007194246, -3.0751366891878116e-05, -0.14388489208633093, -0.6690647482014388, -0.00012595769312741945, -0.17985611510791366, -0.8129496402877698, -0.00020054355263710022, -0.2158273381294964, -0.9424460431654677, -0.0002509125059457134, -0.07194244604316546, -0.45323741007194246, -8.509800561683641e-05, -0.1223021582733813, -0.6834532374100719, -0.00017904266447043248, -0.16546762589928057, -0.8561151079136691, -0.00025542013400750194, -0.19424460431654678, -1.0, -0.00030460629424602866, -0.050359712230215826, -0.43884892086330934, -0.00014845326060442616, -0.10071942446043165, -0.6618705035971223, -0.0002348080223841633, -0.1366906474820144, -0.8201438848920863, -0.00028979727368560625, -0.17266187050359713, -0.9568345323741008, -0.0003218641169637227, -0.03597122302158273, -0.4028776978417266, -0.00021707334910794129, -0.06474820143884892, -0.5755395683453237, -0.0002880716870585791, -0.09352517985611511, -0.697841726618705, -0.0003187812918381725, -0.11510791366906475, -0.7913669064748201, -0.000336136159708174]]),\n",
              "              list([[0.0, 0.0, 1.1914908034563827e-09, 0.1346153846153846, -0.08653846153846154, -6.55002435311102e-05, 0.23076923076923078, -0.28846153846153844, -8.429532261708609e-05, 0.2980769230769231, -0.4423076923076923, -0.00010876319048782953, 0.33653846153846156, -0.5673076923076923, -0.000140391352873009, 0.19230769230769232, -0.4807692307692308, -5.01802871720149e-05, 0.22115384615384615, -0.6826923076923077, -0.00016311966240979158, 0.2403846153846154, -0.8365384615384616, -0.00026066389937813464, 0.2692307692307692, -0.9711538461538461, -0.00033037006281889404, 0.14423076923076922, -0.4807692307692308, -9.242252697451756e-05, 0.18269230769230768, -0.6923076923076923, -0.00020351200006329096, 0.21153846153846154, -0.8557692307692307, -0.00030002031976786943, 0.25, -1.0, -0.00036698655010415957, 0.08653846153846154, -0.4423076923076923, -0.00014851155440108135, 0.125, -0.6538461538461539, -0.00026791997683735995, 0.15384615384615385, -0.7980769230769231, -0.000329157982308131, 0.18269230769230768, -0.9134615384615384, -0.00036169495433568954, 0.028846153846153848, -0.38461538461538464, -0.000212291434693795, 0.057692307692307696, -0.5480769230769231, -0.00032492343766184954, 0.08653846153846154, -0.6634615384615384, -0.00036966120107815816, 0.11538461538461539, -0.7692307692307693, -0.0003912682430102275, 0.0, 0.0, 1.1914908034563827e-09, 0.1346153846153846, -0.08653846153846154, -6.55002435311102e-05, 0.23076923076923078, -0.28846153846153844, -8.429532261708609e-05, 0.2980769230769231, -0.4423076923076923, -0.00010876319048782953, 0.33653846153846156, -0.5673076923076923, -0.000140391352873009, 0.19230769230769232, -0.4807692307692308, -5.01802871720149e-05, 0.22115384615384615, -0.6826923076923077, -0.00016311966240979158, 0.2403846153846154, -0.8365384615384616, -0.00026066389937813464, 0.2692307692307692, -0.9711538461538461, -0.00033037006281889404, 0.14423076923076922, -0.4807692307692308, -9.242252697451756e-05, 0.18269230769230768, -0.6923076923076923, -0.00020351200006329096, 0.21153846153846154, -0.8557692307692307, -0.00030002031976786943, 0.25, -1.0, -0.00036698655010415957, 0.08653846153846154, -0.4423076923076923, -0.00014851155440108135, 0.125, -0.6538461538461539, -0.00026791997683735995, 0.15384615384615385, -0.7980769230769231, -0.000329157982308131, 0.18269230769230768, -0.9134615384615384, -0.00036169495433568954, 0.028846153846153848, -0.38461538461538464, -0.000212291434693795, 0.057692307692307696, -0.5480769230769231, -0.00032492343766184954, 0.08653846153846154, -0.6634615384615384, -0.00036966120107815816, 0.11538461538461539, -0.7692307692307693, -0.0003912682430102275]]),\n",
              "              list([[0.0, 0.0, 2.639391450496559e-09, -0.08823529411764706, -0.08088235294117647, -8.797276463797864e-05, -0.13970588235294118, -0.27205882352941174, -0.00013406300807700436, -0.16176470588235295, -0.41911764705882354, -0.00017821236842257136, -0.16176470588235295, -0.5441176470588235, -0.0002268112319357255, -0.10294117647058823, -0.41911764705882354, -0.0001090499503976282, -0.11764705882352941, -0.6470588235294118, -0.00023256247753606122, -0.125, -0.8235294117647058, -0.00032719265779151637, -0.125, -0.9705882352941176, -0.0003880462883149876, -0.08823529411764706, -0.41911764705882354, -0.00013374548186274136, -0.10294117647058823, -0.6470588235294118, -0.00024509928463136446, -0.11029411764705882, -0.8382352941176471, -0.00033657576012260774, -0.11029411764705882, -1.0, -0.00039749389843029133, -0.0661764705882353, -0.40441176470588236, -0.00016983508077614447, -0.08823529411764706, -0.6176470588235294, -0.00026788789888515193, -0.09558823529411764, -0.7794117647058824, -0.0003281502491411041, -0.09558823529411764, -0.9191176470588235, -0.0003658405998173882, -0.058823529411764705, -0.36764705882352944, -0.00021554980262675707, -0.08088235294117647, -0.5220588235294118, -0.00029474683105945587, -0.08823529411764706, -0.6470588235294118, -0.0003290393608896171, -0.08823529411764706, -0.75, -0.00035223540137795844, 0.0, 0.0, 0.0, 0.0, 0.0, 0.0, 0.0, 0.0, 0.0, 0.0, 0.0, 0.0, 0.0, 0.0, 0.0, 0.0, 0.0, 0.0, 0.0, 0.0, 0.0, 0.0, 0.0, 0.0, 0.0, 0.0, 0.0, 0.0, 0.0, 0.0, 0.0, 0.0, 0.0, 0.0, 0.0, 0.0, 0.0, 0.0, 0.0, 0.0, 0.0, 0.0, 0.0, 0.0, 0.0, 0.0, 0.0, 0.0, 0.0, 0.0, 0.0, 0.0, 0.0, 0.0, 0.0, 0.0, 0.0, 0.0, 0.0, 0.0, 0.0, 0.0, 0.0]]),\n",
              "              list([[0.0, 0.0, 1.520511652522252e-09, -0.13513513513513514, -0.15315315315315314, -1.243139545827567e-05, -0.1981981981981982, -0.3963963963963964, -8.311848416253253e-06, -0.22522522522522523, -0.5765765765765766, -2.2658102868779286e-05, -0.24324324324324326, -0.7207207207207207, -3.884079958404507e-05, -0.14414414414414414, -0.5045045045045045, 6.291014771606471e-05, -0.15315315315315314, -0.7027027027027027, -1.5510658330812647e-05, -0.16216216216216217, -0.8468468468468469, -9.249272412276482e-05, -0.16216216216216217, -0.972972972972973, -0.000147098524344934, -0.10810810810810811, -0.4954954954954955, 3.2290870319582054e-06, -0.12612612612612611, -0.7117117117117117, -5.823544117513004e-05, -0.15315315315315314, -0.8648648648648649, -0.00013221466393621118, -0.15315315315315314, -1.0, -0.00018617723909047272, -0.08108108108108109, -0.46846846846846846, -7.305258197021914e-05, -0.12612612612612611, -0.6576576576576577, -0.00014546397771384264, -0.15315315315315314, -0.8108108108108109, -0.00019251256509944124, -0.17117117117117117, -0.9369369369369369, -0.00022249729246706575, -0.08108108108108109, -0.4144144144144144, -0.000155073162671682, -0.14414414414414414, -0.5405405405405406, -0.00021406417494421607, -0.1891891891891892, -0.6306306306306306, -0.00023227807570685137, -0.2072072072072072, -0.7117117117117117, -0.00024474663911639035, 0.0, 0.0, 0.0, 0.0, 0.0, 0.0, 0.0, 0.0, 0.0, 0.0, 0.0, 0.0, 0.0, 0.0, 0.0, 0.0, 0.0, 0.0, 0.0, 0.0, 0.0, 0.0, 0.0, 0.0, 0.0, 0.0, 0.0, 0.0, 0.0, 0.0, 0.0, 0.0, 0.0, 0.0, 0.0, 0.0, 0.0, 0.0, 0.0, 0.0, 0.0, 0.0, 0.0, 0.0, 0.0, 0.0, 0.0, 0.0, 0.0, 0.0, 0.0, 0.0, 0.0, 0.0, 0.0, 0.0, 0.0, 0.0, 0.0, 0.0, 0.0, 0.0, 0.0]])],\n",
              "             dtype=object)                                                                                                                                                                                                                                                                                                                                                                                                                                                                                                                                                                                                                                                                                                                                                                                                                                                                                                                                                                                                                                                                                                                                                                                                                                                                                                                                                                                                                                                                                                                                                                                                                                                                                                                                                                                                                                                                                                                                                                                                                                                                                                                                                                                                                                                                                                                                                                                                                                                                                                                                                                                                                                                                                                                                                                                                                                         ,\n",
              "       list([0.045998364686965006, 0.037116646766662, 1.0, 0.9313695430755611]),\n",
              "       'teacher',\n",
              "       array([list([[0.0, 0.0, 1.3957407210672618e-09, -0.10869565217391304, -0.11594202898550725, -5.839118545038113e-05, -0.17391304347826086, -0.2898550724637681, -0.00011512548055337822, -0.2391304347826087, -0.4057971014492754, -0.00018182761319305587, -0.30434782608695654, -0.5144927536231884, -0.00025198155123254526, -0.043478260869565216, -0.4927536231884058, -7.226708871514901e-05, -0.06521739130434782, -0.6956521739130435, -0.00020084898594928825, -0.11594202898550725, -0.8478260869565217, -0.0003128206168395885, -0.16666666666666666, -0.9637681159420289, -0.00039487102649350095, -0.021739130434782608, -0.4782608695652174, -0.00013002958418666452, -0.050724637681159424, -0.7028985507246377, -0.00026207425348136735, -0.10869565217391304, -0.8623188405797102, -0.000373746227958928, -0.17391304347826086, -1.0, -0.00044996561347574425, -0.007246376811594203, -0.43478260869565216, -0.00019891376512638036, -0.036231884057971016, -0.6594202898550725, -0.0003165113267259321, -0.09420289855072464, -0.8043478260869565, -0.0003960229240465855, -0.15942028985507245, -0.927536231884058, -0.0004472787883402645, 0.0, -0.36231884057971014, -0.00027504474248575127, -0.021739130434782608, -0.5072463768115942, -0.0003764628554167955, -0.057971014492753624, -0.6159420289855072, -0.0004292592892180318, -0.10144927536231885, -0.7101449275362319, -0.00046298679882201594, 0.0, 0.0, 1.3957407210672618e-09, -0.10869565217391304, -0.11594202898550725, -5.839118545038113e-05, -0.17391304347826086, -0.2898550724637681, -0.00011512548055337822, -0.2391304347826087, -0.4057971014492754, -0.00018182761319305587, -0.30434782608695654, -0.5144927536231884, -0.00025198155123254526, -0.043478260869565216, -0.4927536231884058, -7.226708871514901e-05, -0.06521739130434782, -0.6956521739130435, -0.00020084898594928825, -0.11594202898550725, -0.8478260869565217, -0.0003128206168395885, -0.16666666666666666, -0.9637681159420289, -0.00039487102649350095, -0.021739130434782608, -0.4782608695652174, -0.00013002958418666452, -0.050724637681159424, -0.7028985507246377, -0.00026207425348136735, -0.10869565217391304, -0.8623188405797102, -0.000373746227958928, -0.17391304347826086, -1.0, -0.00044996561347574425, -0.007246376811594203, -0.43478260869565216, -0.00019891376512638036, -0.036231884057971016, -0.6594202898550725, -0.0003165113267259321, -0.09420289855072464, -0.8043478260869565, -0.0003960229240465855, -0.15942028985507245, -0.927536231884058, -0.0004472787883402645, 0.0, -0.36231884057971014, -0.00027504474248575127, -0.021739130434782608, -0.5072463768115942, -0.0003764628554167955, -0.057971014492753624, -0.6159420289855072, -0.0004292592892180318, -0.10144927536231885, -0.7101449275362319, -0.00046298679882201594]]),\n",
              "              list([[0.0, 0.0, 1.3927159715342934e-09, -0.10869565217391304, -0.11594202898550725, -5.79442315991374e-05, -0.17391304347826086, -0.2898550724637681, -0.00011428726324136706, -0.2391304347826087, -0.4057971014492754, -0.000180677173362262, -0.30434782608695654, -0.5144927536231884, -0.0002505937186272248, -0.043478260869565216, -0.4927536231884058, -7.109535669071087e-05, -0.06521739130434782, -0.6956521739130435, -0.0001990410458782445, -0.11594202898550725, -0.8478260869565217, -0.00031051752359970755, -0.16666666666666666, -0.9637681159420289, -0.00039226915417374045, -0.021739130434782608, -0.4782608695652174, -0.00012876410577176273, -0.050724637681159424, -0.7028985507246377, -0.0002599448721477951, -0.11594202898550725, -0.8623188405797102, -0.00037130211358485013, -0.17391304347826086, -1.0, -0.00044744950381742007, -0.007246376811594203, -0.43478260869565216, -0.0001975508352768594, -0.036231884057971016, -0.6594202898550725, -0.00031483886034592337, -0.09420289855072464, -0.8043478260869565, -0.0003945399345695109, -0.15942028985507245, -0.927536231884058, -0.0004459561753100243, 0.0, -0.36231884057971014, -0.0002734994488781777, -0.021739130434782608, -0.5072463768115942, -0.0003748297205437785, -0.057971014492753624, -0.6159420289855072, -0.0004277727904095166, -0.10144927536231885, -0.7101449275362319, -0.00046160315041956693, 0.0, 0.0, 1.3927159715342934e-09, -0.10869565217391304, -0.11594202898550725, -5.79442315991374e-05, -0.17391304347826086, -0.2898550724637681, -0.00011428726324136706, -0.2391304347826087, -0.4057971014492754, -0.000180677173362262, -0.30434782608695654, -0.5144927536231884, -0.0002505937186272248, -0.043478260869565216, -0.4927536231884058, -7.109535669071087e-05, -0.06521739130434782, -0.6956521739130435, -0.0001990410458782445, -0.11594202898550725, -0.8478260869565217, -0.00031051752359970755, -0.16666666666666666, -0.9637681159420289, -0.00039226915417374045, -0.021739130434782608, -0.4782608695652174, -0.00012876410577176273, -0.050724637681159424, -0.7028985507246377, -0.0002599448721477951, -0.11594202898550725, -0.8623188405797102, -0.00037130211358485013, -0.17391304347826086, -1.0, -0.00044744950381742007, -0.007246376811594203, -0.43478260869565216, -0.0001975508352768594, -0.036231884057971016, -0.6594202898550725, -0.00031483886034592337, -0.09420289855072464, -0.8043478260869565, -0.0003945399345695109, -0.15942028985507245, -0.927536231884058, -0.0004459561753100243, 0.0, -0.36231884057971014, -0.0002734994488781777, -0.021739130434782608, -0.5072463768115942, -0.0003748297205437785, -0.057971014492753624, -0.6159420289855072, -0.0004277727904095166, -0.10144927536231885, -0.7101449275362319, -0.00046160315041956693]]),\n",
              "              list([[0.0, 0.0, 2.0456456979473e-09, 0.15037593984962405, -0.12030075187969924, -3.106747158712014e-05, 0.23308270676691728, -0.3007518796992481, -8.23171445189562e-05, 0.3007518796992481, -0.43609022556390975, -0.00015339507420260206, 0.38345864661654133, -0.5413533834586466, -0.00022570819670992686, 0.08270676691729323, -0.5338345864661654, -4.66376900168738e-05, 0.11278195488721804, -0.7518796992481203, -0.00018298085358806122, 0.19548872180451127, -0.8796992481203008, -0.00029120983597927523, 0.2706766917293233, -0.9699248120300752, -0.00035668332549862393, 0.03759398496240601, -0.5263157894736842, -0.00011905457796458911, 0.09022556390977443, -0.7894736842105263, -0.00023728676308366588, 0.18796992481203006, -0.9172932330827067, -0.00032329340850500234, 0.2857142857142857, -1.0, -0.00037446741322825724, 0.015037593984962405, -0.48120300751879697, -0.0002047703986553321, 0.06766917293233082, -0.7293233082706767, -0.0003201428772811603, 0.16541353383458646, -0.849624060150376, -0.00037900999860655994, 0.2556390977443609, -0.9097744360902256, -0.00040587861286966423, 0.007518796992481203, -0.41353383458646614, -0.0002958941784568299, 0.06766917293233082, -0.5939849624060151, -0.00038196087667816565, 0.13533834586466165, -0.6992481203007519, -0.00040721459160173747, 0.21052631578947367, -0.7593984962406015, -0.00041522054855984853, 0.0, 0.0, 2.0456456979473e-09, 0.15037593984962405, -0.12030075187969924, -3.106747158712014e-05, 0.23308270676691728, -0.3007518796992481, -8.23171445189562e-05, 0.3007518796992481, -0.43609022556390975, -0.00015339507420260206, 0.38345864661654133, -0.5413533834586466, -0.00022570819670992686, 0.08270676691729323, -0.5338345864661654, -4.66376900168738e-05, 0.11278195488721804, -0.7518796992481203, -0.00018298085358806122, 0.19548872180451127, -0.8796992481203008, -0.00029120983597927523, 0.2706766917293233, -0.9699248120300752, -0.00035668332549862393, 0.03759398496240601, -0.5263157894736842, -0.00011905457796458911, 0.09022556390977443, -0.7894736842105263, -0.00023728676308366588, 0.18796992481203006, -0.9172932330827067, -0.00032329340850500234, 0.2857142857142857, -1.0, -0.00037446741322825724, 0.015037593984962405, -0.48120300751879697, -0.0002047703986553321, 0.06766917293233082, -0.7293233082706767, -0.0003201428772811603, 0.16541353383458646, -0.849624060150376, -0.00037900999860655994, 0.2556390977443609, -0.9097744360902256, -0.00040587861286966423, 0.007518796992481203, -0.41353383458646614, -0.0002958941784568299, 0.06766917293233082, -0.5939849624060151, -0.00038196087667816565, 0.13533834586466165, -0.6992481203007519, -0.00040721459160173747, 0.21052631578947367, -0.7593984962406015, -0.00041522054855984853]]),\n",
              "              list([[0.0, 0.0, -7.409611290005302e-10, -0.12396694214876033, -0.1322314049586777, -3.735039167660327e-05, -0.21487603305785125, -0.34710743801652894, -7.96249321053836e-05, -0.2892561983471074, -0.49586776859504134, -0.00014327908288841405, -0.38016528925619836, -0.5950413223140496, -0.0002005470932022599, -0.08264462809917356, -0.5702479338842975, 1.604840436503907e-05, -0.11570247933884298, -0.8181818181818182, -0.00013498435458861107, -0.2231404958677686, -0.9338842975206612, -0.00026042710158450543, -0.32231404958677684, -0.9834710743801653, -0.00033411008021063055, -0.049586776859504134, -0.5702479338842975, -5.2392305729310374e-05, -0.0743801652892562, -0.8512396694214877, -0.00019887868653644216, -0.2066115702479339, -0.9586776859504132, -0.0002928341715789038, -0.3140495867768595, -1.0, -0.0003390150868203029, -0.024793388429752067, -0.5454545454545454, -0.00014384389539395483, -0.05785123966942149, -0.8181818181818182, -0.00026999010650579594, -0.18181818181818182, -0.9090909090909091, -0.0003299597989429127, -0.2892561983471074, -0.9338842975206612, -0.00035055714451577054, -0.01652892561983471, -0.4793388429752066, -0.00024398887329850314, -0.05785123966942149, -0.6776859504132231, -0.00033670476029727084, -0.1487603305785124, -0.7603305785123967, -0.0003766061599589576, -0.23140495867768596, -0.7851239669421488, -0.0003929646793475821, 0.0, 0.0, -7.409611290005302e-10, -0.12396694214876033, -0.1322314049586777, -3.735039167660327e-05, -0.21487603305785125, -0.34710743801652894, -7.96249321053836e-05, -0.2892561983471074, -0.49586776859504134, -0.00014327908288841405, -0.38016528925619836, -0.5950413223140496, -0.0002005470932022599, -0.08264462809917356, -0.5702479338842975, 1.604840436503907e-05, -0.11570247933884298, -0.8181818181818182, -0.00013498435458861107, -0.2231404958677686, -0.9338842975206612, -0.00026042710158450543, -0.32231404958677684, -0.9834710743801653, -0.00033411008021063055, -0.049586776859504134, -0.5702479338842975, -5.2392305729310374e-05, -0.0743801652892562, -0.8512396694214877, -0.00019887868653644216, -0.2066115702479339, -0.9586776859504132, -0.0002928341715789038, -0.3140495867768595, -1.0, -0.0003390150868203029, -0.024793388429752067, -0.5454545454545454, -0.00014384389539395483, -0.05785123966942149, -0.8181818181818182, -0.00026999010650579594, -0.18181818181818182, -0.9090909090909091, -0.0003299597989429127, -0.2892561983471074, -0.9338842975206612, -0.00035055714451577054, -0.01652892561983471, -0.4793388429752066, -0.00024398887329850314, -0.05785123966942149, -0.6776859504132231, -0.00033670476029727084, -0.1487603305785124, -0.7603305785123967, -0.0003766061599589576, -0.23140495867768596, -0.7851239669421488, -0.0003929646793475821]]),\n",
              "              list([[0.0, 0.0, 2.9206448053693227e-09, 0.14285714285714285, -0.14285714285714285, -2.4281785174805138e-05, 0.22321428571428573, -0.375, -6.011160855580654e-05, 0.30357142857142855, -0.5446428571428571, -0.00012331228104553053, 0.38392857142857145, -0.6696428571428571, -0.00018383805373949663, 0.0625, -0.6071428571428571, 2.4244434566103985e-05, 0.09821428571428571, -0.8571428571428571, -0.00011495676257514528, 0.21428571428571427, -0.9553571428571429, -0.0002312512868749244, 0.32142857142857145, -1.0, -0.000298327932666455, 0.017857142857142856, -0.5982142857142857, -4.4911742276911226e-05, 0.0625, -0.8839285714285714, -0.00017130050608622177, 0.19642857142857142, -0.9821428571428571, -0.00026730599347501993, 0.3125, -1.0, -0.00032009387255779335, -0.017857142857142856, -0.5625, -0.00013278230991480605, 0.03571428571428571, -0.8303571428571429, -0.00025777806461389573, 0.16964285714285715, -0.9107142857142857, -0.0003183966036885977, 0.2857142857142857, -0.9285714285714286, -0.0003400735690125397, -0.044642857142857144, -0.49107142857142855, -0.00022730849949376925, 0.03571428571428571, -0.7053571428571429, -0.00032890032577727524, 0.14285714285714285, -0.7857142857142857, -0.00036175352787332874, 0.24107142857142858, -0.8125, -0.0003686150136802878, 0.0, 0.0, 2.9206448053693227e-09, 0.14285714285714285, -0.14285714285714285, -2.4281785174805138e-05, 0.22321428571428573, -0.375, -6.011160855580654e-05, 0.30357142857142855, -0.5446428571428571, -0.00012331228104553053, 0.38392857142857145, -0.6696428571428571, -0.00018383805373949663, 0.0625, -0.6071428571428571, 2.4244434566103985e-05, 0.09821428571428571, -0.8571428571428571, -0.00011495676257514528, 0.21428571428571427, -0.9553571428571429, -0.0002312512868749244, 0.32142857142857145, -1.0, -0.000298327932666455, 0.017857142857142856, -0.5982142857142857, -4.4911742276911226e-05, 0.0625, -0.8839285714285714, -0.00017130050608622177, 0.19642857142857142, -0.9821428571428571, -0.00026730599347501993, 0.3125, -1.0, -0.00032009387255779335, -0.017857142857142856, -0.5625, -0.00013278230991480605, 0.03571428571428571, -0.8303571428571429, -0.00025777806461389573, 0.16964285714285715, -0.9107142857142857, -0.0003183966036885977, 0.2857142857142857, -0.9285714285714286, -0.0003400735690125397, -0.044642857142857144, -0.49107142857142855, -0.00022730849949376925, 0.03571428571428571, -0.7053571428571429, -0.00032890032577727524, 0.14285714285714285, -0.7857142857142857, -0.00036175352787332874, 0.24107142857142858, -0.8125, -0.0003686150136802878]]),\n",
              "              list([[0.0, 0.0, -2.5500880589799174e-09, -0.14942528735632185, -0.12643678160919541, 1.4394401618140353e-06, -0.22988505747126436, -0.42528735632183906, -2.2881851670728333e-05, -0.3218390804597701, -0.6091954022988506, -7.915919132787606e-05, -0.42528735632183906, -0.7241379310344828, -0.00012937862554500843, -0.011494252873563218, -0.6206896551724138, 3.183819888823334e-05, -0.10344827586206896, -0.896551724137931, -0.00014607010987298242, -0.28735632183908044, -0.9540229885057471, -0.00027774524842870646, -0.42528735632183906, -0.9195402298850575, -0.0003411111304129677, 0.034482758620689655, -0.632183908045977, -6.672903766919826e-05, -0.08045977011494253, -0.9540229885057471, -0.000226078769085051, -0.28735632183908044, -1.0, -0.00030686389440777657, -0.41379310344827586, -0.9310344827586207, -0.0003303896164757082, 0.04597701149425287, -0.5977011494252874, -0.00018824604821616206, -0.05747126436781609, -0.9310344827586207, -0.00032192134651644474, -0.25287356321839083, -0.9770114942528736, -0.00036384837552048694, -0.3793103448275862, -0.9195402298850575, -0.00036120782980973693, 0.04597701149425287, -0.5517241379310345, -0.00031567088745791335, -0.05747126436781609, -0.8160919540229885, -0.0004157270251334399, -0.20689655172413793, -0.8735632183908046, -0.0004382213556218421, -0.3103448275862069, -0.8390804597701149, -0.0004321658320125492, 0.0, 0.0, -2.5500880589799174e-09, -0.14942528735632185, -0.12643678160919541, 1.4394401618140353e-06, -0.22988505747126436, -0.42528735632183906, -2.2881851670728333e-05, -0.3218390804597701, -0.6091954022988506, -7.915919132787606e-05, -0.42528735632183906, -0.7241379310344828, -0.00012937862554500843, -0.011494252873563218, -0.6206896551724138, 3.183819888823334e-05, -0.10344827586206896, -0.896551724137931, -0.00014607010987298242, -0.28735632183908044, -0.9540229885057471, -0.00027774524842870646, -0.42528735632183906, -0.9195402298850575, -0.0003411111304129677, 0.034482758620689655, -0.632183908045977, -6.672903766919826e-05, -0.08045977011494253, -0.9540229885057471, -0.000226078769085051, -0.28735632183908044, -1.0, -0.00030686389440777657, -0.41379310344827586, -0.9310344827586207, -0.0003303896164757082, 0.04597701149425287, -0.5977011494252874, -0.00018824604821616206, -0.05747126436781609, -0.9310344827586207, -0.00032192134651644474, -0.25287356321839083, -0.9770114942528736, -0.00036384837552048694, -0.3793103448275862, -0.9195402298850575, -0.00036120782980973693, 0.04597701149425287, -0.5517241379310345, -0.00031567088745791335, -0.05747126436781609, -0.8160919540229885, -0.0004157270251334399, -0.20689655172413793, -0.8735632183908046, -0.0004382213556218421, -0.3103448275862069, -0.8390804597701149, -0.0004321658320125492]]),\n",
              "              list([[0.0, 0.0, 4.1332292104267795e-09, 0.1276595744680851, -0.14893617021276595, -5.6868854989396764e-05, 0.20212765957446807, -0.43617021276595747, -5.272747651535146e-05, 0.26595744680851063, -0.6382978723404256, -7.573165435423242e-05, 0.35106382978723405, -0.7872340425531915, -9.264383821728382e-05, 0.02127659574468085, -0.5638297872340425, 0.00019615791500248808, 0.05319148936170213, -0.7659574468085106, 0.00012691057425864198, 0.13829787234042554, -0.8829787234042553, 3.0483116712817487e-05, 0.22340425531914893, -0.9680851063829787, -2.595428823235821e-05, -0.02127659574468085, -0.5638297872340425, 0.00016393833496469132, 0.0, -0.7872340425531915, 0.00011528458723679501, 0.09574468085106383, -0.9148936170212766, 2.6383863246821344e-05, 0.20212765957446807, -1.0, -2.9469542997948666e-05, -0.06382978723404255, -0.5638297872340425, 9.745647734467019e-05, -0.010638297872340425, -0.7978723404255319, 3.017330829529686e-05, 0.09574468085106383, -0.925531914893617, -3.536590226390894e-05, 0.20212765957446807, -0.9893617021276596, -6.09370305183086e-05, -0.0851063829787234, -0.5531914893617021, 1.5716418931062553e-05, -0.010638297872340425, -0.776595744680851, -3.0618619193580555e-05, 0.07446808510638298, -0.8936170212765957, -5.083544021274181e-05, 0.1702127659574468, -0.9468085106382979, -5.210444152830763e-05, 0.0, 0.0, 4.1332292104267795e-09, 0.1276595744680851, -0.14893617021276595, -5.6868854989396764e-05, 0.20212765957446807, -0.43617021276595747, -5.272747651535146e-05, 0.26595744680851063, -0.6382978723404256, -7.573165435423242e-05, 0.35106382978723405, -0.7872340425531915, -9.264383821728382e-05, 0.02127659574468085, -0.5638297872340425, 0.00019615791500248808, 0.05319148936170213, -0.7659574468085106, 0.00012691057425864198, 0.13829787234042554, -0.8829787234042553, 3.0483116712817487e-05, 0.22340425531914893, -0.9680851063829787, -2.595428823235821e-05, -0.02127659574468085, -0.5638297872340425, 0.00016393833496469132, 0.0, -0.7872340425531915, 0.00011528458723679501, 0.09574468085106383, -0.9148936170212766, 2.6383863246821344e-05, 0.20212765957446807, -1.0, -2.9469542997948666e-05, -0.06382978723404255, -0.5638297872340425, 9.745647734467019e-05, -0.010638297872340425, -0.7978723404255319, 3.017330829529686e-05, 0.09574468085106383, -0.925531914893617, -3.536590226390894e-05, 0.20212765957446807, -0.9893617021276596, -6.09370305183086e-05, -0.0851063829787234, -0.5531914893617021, 1.5716418931062553e-05, -0.010638297872340425, -0.776595744680851, -3.0618619193580555e-05, 0.07446808510638298, -0.8936170212765957, -5.083544021274181e-05, 0.1702127659574468, -0.9468085106382979, -5.210444152830763e-05]]),\n",
              "              list([[0.0, 0.0, -2.7586025206251236e-09, -0.12345679012345678, -0.14814814814814814, -1.0155492755411952e-05, -0.18518518518518517, -0.4567901234567901, -1.953056593782004e-05, -0.24691358024691357, -0.654320987654321, -5.855484877103641e-05, -0.32098765432098764, -0.7901234567901234, -8.60259672741831e-05, 0.06172839506172839, -0.6419753086419753, 7.048718355320118e-05, -0.037037037037037035, -0.9012345679012346, -0.00010374375837452618, -0.2222222222222222, -0.9753086419753086, -0.0002367450269284072, -0.35802469135802467, -0.9382716049382716, -0.0002963851769397288, 0.09876543209876543, -0.654320987654321, -1.2106726371487717e-05, -0.024691358024691357, -0.9629629629629629, -0.00016504245591752323, -0.2222222222222222, -1.0, -0.00025627653999829, -0.37037037037037035, -0.9506172839506173, -0.0002858993125918471, 0.1111111111111111, -0.6419753086419753, -0.00012126707552391805, -0.012345679012345678, -0.9629629629629629, -0.0002598096329120942, -0.20987654320987653, -0.9876543209876543, -0.00030963359699573043, -0.345679012345679, -0.9259259259259259, -0.00030466061039471334, 0.08641975308641975, -0.6172839506172839, -0.0002372170580022129, -0.024691358024691357, -0.8765432098765432, -0.0003362211318295679, -0.1728395061728395, -0.9259259259259259, -0.0003610471562470919, -0.2716049382716049, -0.8888888888888888, -0.0003523990097973082, 0.0, 0.0, -2.7586025206251236e-09, -0.12345679012345678, -0.14814814814814814, -1.0155492755411952e-05, -0.18518518518518517, -0.4567901234567901, -1.953056593782004e-05, -0.24691358024691357, -0.654320987654321, -5.855484877103641e-05, -0.32098765432098764, -0.7901234567901234, -8.60259672741831e-05, 0.06172839506172839, -0.6419753086419753, 7.048718355320118e-05, -0.037037037037037035, -0.9012345679012346, -0.00010374375837452618, -0.2222222222222222, -0.9753086419753086, -0.0002367450269284072, -0.35802469135802467, -0.9382716049382716, -0.0002963851769397288, 0.09876543209876543, -0.654320987654321, -1.2106726371487717e-05, -0.024691358024691357, -0.9629629629629629, -0.00016504245591752323, -0.2222222222222222, -1.0, -0.00025627653999829, -0.37037037037037035, -0.9506172839506173, -0.0002858993125918471, 0.1111111111111111, -0.6419753086419753, -0.00012126707552391805, -0.012345679012345678, -0.9629629629629629, -0.0002598096329120942, -0.20987654320987653, -0.9876543209876543, -0.00030963359699573043, -0.345679012345679, -0.9259259259259259, -0.00030466061039471334, 0.08641975308641975, -0.6172839506172839, -0.0002372170580022129, -0.024691358024691357, -0.8765432098765432, -0.0003362211318295679, -0.1728395061728395, -0.9259259259259259, -0.0003610471562470919, -0.2716049382716049, -0.8888888888888888, -0.0003523990097973082]]),\n",
              "              list([[0.0, 0.0, -2.7676863467718247e-09, -0.125, -0.175, 6.9502784754149616e-06, -0.1875, -0.4875, 1.018965631374158e-05, -0.25, -0.675, -1.8629476835485546e-05, -0.35, -0.8125, -4.042356740683317e-05, 0.075, -0.65, 0.00011796414619311691, -0.05, -0.8875, -2.474274078849703e-05, -0.225, -0.9625, -0.00014924060087651014, -0.3625, -0.95, -0.0002120541175827384, 0.1125, -0.675, 3.5671648220159113e-05, -0.025, -0.95, -9.117590379901231e-05, -0.225, -1.0, -0.00019354120595380664, -0.375, -0.95, -0.00024084234610199928, 0.1125, -0.6625, -6.978439050726592e-05, -0.025, -0.95, -0.00019430075772106648, -0.2125, -0.9875, -0.0002559564309194684, -0.35, -0.9375, -0.0002658332232385874, 0.0875, -0.6375, -0.00017991666682064532, -0.025, -0.9, -0.00027024883311241863, -0.175, -0.9375, -0.0002972031477838755, -0.275, -0.9, -0.00029493700712919236, 0.0, 0.0, -2.7676863467718247e-09, -0.125, -0.175, 6.9502784754149616e-06, -0.1875, -0.4875, 1.018965631374158e-05, -0.25, -0.675, -1.8629476835485546e-05, -0.35, -0.8125, -4.042356740683317e-05, 0.075, -0.65, 0.00011796414619311691, -0.05, -0.8875, -2.474274078849703e-05, -0.225, -0.9625, -0.00014924060087651014, -0.3625, -0.95, -0.0002120541175827384, 0.1125, -0.675, 3.5671648220159113e-05, -0.025, -0.95, -9.117590379901231e-05, -0.225, -1.0, -0.00019354120595380664, -0.375, -0.95, -0.00024084234610199928, 0.1125, -0.6625, -6.978439050726592e-05, -0.025, -0.95, -0.00019430075772106648, -0.2125, -0.9875, -0.0002559564309194684, -0.35, -0.9375, -0.0002658332232385874, 0.0875, -0.6375, -0.00017991666682064532, -0.025, -0.9, -0.00027024883311241863, -0.175, -0.9375, -0.0002972031477838755, -0.275, -0.9, -0.00029493700712919236]]),\n",
              "              list([[0.0, 0.0, -2.7838875532300957e-09, -0.11842105263157894, -0.19736842105263158, 1.7391484059197338e-05, -0.15789473684210525, -0.4868421052631579, 2.4644589039350028e-05, -0.2236842105263158, -0.6710526315789473, -2.1480712013343644e-06, -0.3026315789473684, -0.8026315789473685, -2.2440992516318436e-05, 0.09210526315789473, -0.631578947368421, 0.00012159037501796295, -0.013157894736842105, -0.868421052631579, -1.8199441623628925e-05, -0.19736842105263158, -0.9473684210526315, -0.00013703752407117893, -0.32894736842105265, -0.9473684210526315, -0.00019335129151218817, 0.13157894736842105, -0.6578947368421053, 4.126237533790501e-05, 0.0, -0.9342105263157895, -7.362865940912773e-05, -0.18421052631578946, -1.0, -0.00016442078508828816, -0.32894736842105265, -0.9605263157894737, -0.00020614364429524072, 0.14473684210526316, -0.6578947368421053, -6.13904435579714e-05, 0.0, -0.9473684210526315, -0.00017859248787556825, -0.18421052631578946, -0.9868421052631579, -0.0002332518710509727, -0.3157894736842105, -0.9342105263157895, -0.00023913305056722542, 0.11842105263157894, -0.6447368421052632, -0.0001676149886885756, 0.0, -0.8947368421052632, -0.00024929674538342575, -0.13157894736842105, -0.9342105263157895, -0.0002676162770704219, -0.23684210526315788, -0.881578947368421, -0.00025990877398534824, 0.0, 0.0, -2.7838875532300957e-09, -0.11842105263157894, -0.19736842105263158, 1.7391484059197338e-05, -0.15789473684210525, -0.4868421052631579, 2.4644589039350028e-05, -0.2236842105263158, -0.6710526315789473, -2.1480712013343644e-06, -0.3026315789473684, -0.8026315789473685, -2.2440992516318436e-05, 0.09210526315789473, -0.631578947368421, 0.00012159037501796295, -0.013157894736842105, -0.868421052631579, -1.8199441623628925e-05, -0.19736842105263158, -0.9473684210526315, -0.00013703752407117893, -0.32894736842105265, -0.9473684210526315, -0.00019335129151218817, 0.13157894736842105, -0.6578947368421053, 4.126237533790501e-05, 0.0, -0.9342105263157895, -7.362865940912773e-05, -0.18421052631578946, -1.0, -0.00016442078508828816, -0.32894736842105265, -0.9605263157894737, -0.00020614364429524072, 0.14473684210526316, -0.6578947368421053, -6.13904435579714e-05, 0.0, -0.9473684210526315, -0.00017859248787556825, -0.18421052631578946, -0.9868421052631579, -0.0002332518710509727, -0.3157894736842105, -0.9342105263157895, -0.00023913305056722542, 0.11842105263157894, -0.6447368421052632, -0.0001676149886885756, 0.0, -0.8947368421052632, -0.00024929674538342575, -0.13157894736842105, -0.9342105263157895, -0.0002676162770704219, -0.23684210526315788, -0.881578947368421, -0.00025990877398534824]]),\n",
              "              list([[0.0, 0.0, -2.7519600583521726e-09, -0.13333333333333333, -0.18666666666666668, 1.775572852542003e-05, -0.17333333333333334, -0.48, 2.4533248506486416e-05, -0.22666666666666666, -0.68, -5.657011255001028e-06, -0.32, -0.8133333333333334, -3.0027407531936964e-05, 0.06666666666666667, -0.6133333333333333, 0.00014240207771460217, -0.04, -0.8666666666666667, 2.751514354410271e-06, -0.2, -0.9466666666666667, -0.00011966966092586518, -0.3333333333333333, -0.9333333333333333, -0.0001764598861336708, 0.12, -0.64, 6.236925100286801e-05, -0.013333333333333334, -0.9333333333333333, -6.149348492423693e-05, -0.2, -1.0, -0.00016157593578100204, -0.3333333333333333, -0.9733333333333334, -0.0002049784983197848, 0.14666666666666667, -0.6533333333333333, -4.190078005194664e-05, 0.0, -0.96, -0.00017202929904063544, -0.18666666666666668, -1.0, -0.00023122305671374003, -0.30666666666666664, -0.9333333333333333, -0.00023332476615905762, 0.13333333333333333, -0.6533333333333333, -0.00014939522991577785, 0.013333333333333334, -0.92, -0.00023798448344071707, -0.12, -0.96, -0.0002546888589859009, -0.22666666666666666, -0.8933333333333333, -0.00024299790461858114, 0.0, 0.0, -2.7519600583521726e-09, -0.13333333333333333, -0.18666666666666668, 1.775572852542003e-05, -0.17333333333333334, -0.48, 2.4533248506486416e-05, -0.22666666666666666, -0.68, -5.657011255001028e-06, -0.32, -0.8133333333333334, -3.0027407531936964e-05, 0.06666666666666667, -0.6133333333333333, 0.00014240207771460217, -0.04, -0.8666666666666667, 2.751514354410271e-06, -0.2, -0.9466666666666667, -0.00011966966092586518, -0.3333333333333333, -0.9333333333333333, -0.0001764598861336708, 0.12, -0.64, 6.236925100286801e-05, -0.013333333333333334, -0.9333333333333333, -6.149348492423693e-05, -0.2, -1.0, -0.00016157593578100204, -0.3333333333333333, -0.9733333333333334, -0.0002049784983197848, 0.14666666666666667, -0.6533333333333333, -4.190078005194664e-05, 0.0, -0.96, -0.00017202929904063544, -0.18666666666666668, -1.0, -0.00023122305671374003, -0.30666666666666664, -0.9333333333333333, -0.00023332476615905762, 0.13333333333333333, -0.6533333333333333, -0.00014939522991577785, 0.013333333333333334, -0.92, -0.00023798448344071707, -0.12, -0.96, -0.0002546888589859009, -0.22666666666666666, -0.8933333333333333, -0.00024299790461858114]]),\n",
              "              list([[0.0, 0.0, -2.735919603461904e-09, -0.13333333333333333, -0.22666666666666666, 4.521952631572882e-05, -0.17333333333333334, -0.5066666666666667, 7.381642858187358e-05, -0.21333333333333335, -0.72, 6.136757011214892e-05, -0.29333333333333333, -0.8666666666666667, 5.358035365740458e-05, 0.10666666666666667, -0.6133333333333333, 0.0002024172122279803, -0.013333333333333334, -0.8533333333333334, 0.0001004921334485213, -0.17333333333333334, -0.9466666666666667, -7.241133134812117e-06, -0.30666666666666664, -0.96, -5.984547237555186e-05, 0.16, -0.64, 0.00012393079698085784, 0.013333333333333334, -0.92, 3.558142421146234e-05, -0.17333333333333334, -0.9866666666666667, -6.892707198858262e-05, -0.32, -0.9733333333333334, -0.00012582309544086455, 0.17333333333333334, -0.6533333333333333, 2.5103818625211716e-05, 0.02666666666666667, -0.9466666666666667, -7.024105017383893e-05, -0.14666666666666667, -1.0, -0.00013554343332846958, -0.28, -0.9466666666666667, -0.00015237968415021897, 0.14666666666666667, -0.6666666666666666, -7.485164329409599e-05, 0.04, -0.9333333333333333, -0.00013631174961725872, -0.09333333333333334, -0.9733333333333334, -0.00015236025055249532, -0.21333333333333335, -0.9333333333333333, -0.000146544153491656, 0.0, 0.0, -2.735919603461904e-09, -0.13333333333333333, -0.22666666666666666, 4.521952631572882e-05, -0.17333333333333334, -0.5066666666666667, 7.381642858187358e-05, -0.21333333333333335, -0.72, 6.136757011214892e-05, -0.29333333333333333, -0.8666666666666667, 5.358035365740458e-05, 0.10666666666666667, -0.6133333333333333, 0.0002024172122279803, -0.013333333333333334, -0.8533333333333334, 0.0001004921334485213, -0.17333333333333334, -0.9466666666666667, -7.241133134812117e-06, -0.30666666666666664, -0.96, -5.984547237555186e-05, 0.16, -0.64, 0.00012393079698085784, 0.013333333333333334, -0.92, 3.558142421146234e-05, -0.17333333333333334, -0.9866666666666667, -6.892707198858262e-05, -0.32, -0.9733333333333334, -0.00012582309544086455, 0.17333333333333334, -0.6533333333333333, 2.5103818625211716e-05, 0.02666666666666667, -0.9466666666666667, -7.024105017383893e-05, -0.14666666666666667, -1.0, -0.00013554343332846958, -0.28, -0.9466666666666667, -0.00015237968415021897, 0.14666666666666667, -0.6666666666666666, -7.485164329409599e-05, 0.04, -0.9333333333333333, -0.00013631174961725872, -0.09333333333333334, -0.9733333333333334, -0.00015236025055249532, -0.21333333333333335, -0.9333333333333333, -0.000146544153491656]]),\n",
              "              list([[0.0, 0.0, -2.867833128867029e-09, -0.13157894736842105, -0.25, 6.830226629972458e-05, -0.15789473684210525, -0.5131578947368421, 0.00011229644970674264, -0.21052631578947367, -0.7105263157894737, 0.00010719221379411848, -0.27631578947368424, -0.8552631578947368, 0.0001058602141902635, 0.09210526315789473, -0.618421052631579, 0.0002785528470811091, -0.013157894736842105, -0.8552631578947368, 0.0001951010873247134, -0.17105263157894737, -0.9342105263157895, 8.684507644686259e-05, -0.3026315789473684, -0.9473684210526315, 2.8698490687498922e-05, 0.14473684210526316, -0.6447368421052632, 0.00019060004208433, 0.0, -0.9078947368421053, 0.00011929176061561233, -0.17105263157894737, -0.9868421052631579, 4.876871810809366e-06, -0.3157894736842105, -0.9736842105263158, -6.423346502216239e-05, 0.17105263157894737, -0.6578947368421053, 8.091008854343702e-05, 0.02631578947368421, -0.9473684210526315, -5.1374430002301535e-06, -0.14473684210526316, -1.0, -8.281719209136147e-05, -0.27631578947368424, -0.9473684210526315, -0.000111431863747145, 0.15789473684210525, -0.6710526315789473, -2.8776868834699454e-05, 0.06578947368421052, -0.9342105263157895, -8.059034467135604e-05, -0.06578947368421052, -0.9868421052631579, -9.608815277093335e-05, -0.17105263157894737, -0.9342105263157895, -9.341104152171236e-05, 0.0, 0.0, -2.867833128867029e-09, -0.13157894736842105, -0.25, 6.830226629972458e-05, -0.15789473684210525, -0.5131578947368421, 0.00011229644970674264, -0.21052631578947367, -0.7105263157894737, 0.00010719221379411848, -0.27631578947368424, -0.8552631578947368, 0.0001058602141902635, 0.09210526315789473, -0.618421052631579, 0.0002785528470811091, -0.013157894736842105, -0.8552631578947368, 0.0001951010873247134, -0.17105263157894737, -0.9342105263157895, 8.684507644686259e-05, -0.3026315789473684, -0.9473684210526315, 2.8698490687498922e-05, 0.14473684210526316, -0.6447368421052632, 0.00019060004208433, 0.0, -0.9078947368421053, 0.00011929176061561233, -0.17105263157894737, -0.9868421052631579, 4.876871810809366e-06, -0.3157894736842105, -0.9736842105263158, -6.423346502216239e-05, 0.17105263157894737, -0.6578947368421053, 8.091008854343702e-05, 0.02631578947368421, -0.9473684210526315, -5.1374430002301535e-06, -0.14473684210526316, -1.0, -8.281719209136147e-05, -0.27631578947368424, -0.9473684210526315, -0.000111431863747145, 0.15789473684210525, -0.6710526315789473, -2.8776868834699454e-05, 0.06578947368421052, -0.9342105263157895, -8.059034467135604e-05, -0.06578947368421052, -0.9868421052631579, -9.608815277093335e-05, -0.17105263157894737, -0.9342105263157895, -9.341104152171236e-05]]),\n",
              "              list([[0.0, 0.0, -3.2383000141061003e-09, -0.13157894736842105, -0.21052631578947367, 4.219732516886372e-05, -0.15789473684210525, -0.4868421052631579, 6.853116333092514e-05, -0.19736842105263158, -0.6973684210526315, 5.185409252972979e-05, -0.27631578947368424, -0.8421052631578947, 3.993759042044219e-05, 0.10526315789473684, -0.5921052631578947, 0.00021930717814125513, 0.0, -0.8421052631578947, 0.00010730255101072161, -0.15789473684210525, -0.9342105263157895, -1.2394871813931355e-05, -0.3026315789473684, -0.9342105263157895, -7.190998937738569e-05, 0.15789473684210525, -0.618421052631579, 0.00013844781604252363, 0.02631578947368421, -0.9078947368421053, 4.2399991989920015e-05, -0.15789473684210525, -0.9868421052631579, -7.73325231612513e-05, -0.3026315789473684, -0.9736842105263158, -0.00014392491184959285, 0.18421052631578946, -0.6447368421052632, 3.519590551915922e-05, 0.05263157894736842, -0.9473684210526315, -7.22960103303194e-05, -0.13157894736842105, -1.0, -0.00015217683425075129, -0.2631578947368421, -0.9605263157894737, -0.00017673266120254993, 0.17105263157894737, -0.6710526315789473, -6.877300084421509e-05, 0.06578947368421052, -0.9342105263157895, -0.00013977121316680781, -0.06578947368421052, -0.9868421052631579, -0.0001612182608560512, -0.18421052631578946, -0.9342105263157895, -0.00015795800687843248, 0.0, 0.0, -3.2383000141061003e-09, -0.13157894736842105, -0.21052631578947367, 4.219732516886372e-05, -0.15789473684210525, -0.4868421052631579, 6.853116333092514e-05, -0.19736842105263158, -0.6973684210526315, 5.185409252972979e-05, -0.27631578947368424, -0.8421052631578947, 3.993759042044219e-05, 0.10526315789473684, -0.5921052631578947, 0.00021930717814125513, 0.0, -0.8421052631578947, 0.00010730255101072161, -0.15789473684210525, -0.9342105263157895, -1.2394871813931355e-05, -0.3026315789473684, -0.9342105263157895, -7.190998937738569e-05, 0.15789473684210525, -0.618421052631579, 0.00013844781604252363, 0.02631578947368421, -0.9078947368421053, 4.2399991989920015e-05, -0.15789473684210525, -0.9868421052631579, -7.73325231612513e-05, -0.3026315789473684, -0.9736842105263158, -0.00014392491184959285, 0.18421052631578946, -0.6447368421052632, 3.519590551915922e-05, 0.05263157894736842, -0.9473684210526315, -7.22960103303194e-05, -0.13157894736842105, -1.0, -0.00015217683425075129, -0.2631578947368421, -0.9605263157894737, -0.00017673266120254993, 0.17105263157894737, -0.6710526315789473, -6.877300084421509e-05, 0.06578947368421052, -0.9342105263157895, -0.00013977121316680781, -0.06578947368421052, -0.9868421052631579, -0.0001612182608560512, -0.18421052631578946, -0.9342105263157895, -0.00015795800687843248]]),\n",
              "              list([[0.0, 0.0, -2.820707815468874e-09, -0.1282051282051282, -0.21794871794871795, 4.07127812743569e-06, -0.14102564102564102, -0.5128205128205128, 1.6112807385910015e-05, -0.1794871794871795, -0.7307692307692307, -3.037519957452344e-06, -0.2564102564102564, -0.8717948717948718, -1.6115474490783152e-05, 0.14102564102564102, -0.6025641025641025, 0.00015770632009475658, 0.02564102564102564, -0.8333333333333334, 4.441944810633476e-05, -0.14102564102564102, -0.9358974358974359, -7.505665342204082e-05, -0.28205128205128205, -0.9487179487179487, -0.00013783218291325448, 0.1794871794871795, -0.6153846153846154, 9.491672524465964e-05, 0.05128205128205128, -0.8974358974358975, -2.2788248875608238e-06, -0.14102564102564102, -0.9871794871794872, -0.00011860673578503805, -0.28205128205128205, -0.9871794871794872, -0.00018838350064097307, 0.19230769230769232, -0.6282051282051282, 1.01201279530636e-05, 0.07692307692307693, -0.9230769230769231, -9.58914498392588e-05, -0.10256410256410256, -1.0, -0.0001722356447806725, -0.23076923076923078, -0.9743589743589743, -0.00019877211740001655, 0.1794871794871795, -0.6410256410256411, -7.918330196004648e-05, 0.08974358974358974, -0.9102564102564102, -0.00015763734252407, -0.038461538461538464, -0.9871794871794872, -0.00018768622659337826, -0.14102564102564102, -0.9743589743589743, -0.00019205614733390318, 0.0, 0.0, 0.0, 0.0, 0.0, 0.0, 0.0, 0.0, 0.0, 0.0, 0.0, 0.0, 0.0, 0.0, 0.0, 0.0, 0.0, 0.0, 0.0, 0.0, 0.0, 0.0, 0.0, 0.0, 0.0, 0.0, 0.0, 0.0, 0.0, 0.0, 0.0, 0.0, 0.0, 0.0, 0.0, 0.0, 0.0, 0.0, 0.0, 0.0, 0.0, 0.0, 0.0, 0.0, 0.0, 0.0, 0.0, 0.0, 0.0, 0.0, 0.0, 0.0, 0.0, 0.0, 0.0, 0.0, 0.0, 0.0, 0.0, 0.0, 0.0, 0.0, 0.0]]),\n",
              "              list([[0.0, 0.0, -2.7400304247748863e-09, -0.11842105263157894, -0.19736842105263158, -2.3004295623027965e-05, -0.14473684210526316, -0.5, -2.1791756520734023e-05, -0.18421052631578946, -0.7105263157894737, -5.42852917293969e-05, -0.2631578947368421, -0.868421052631579, -7.827886331238245e-05, 0.09210526315789473, -0.6052631578947368, 0.00014196062999728478, 0.0, -0.8552631578947368, -7.4637830134873325e-06, -0.17105263157894737, -0.9473684210526315, -0.0001437716235063578, -0.3026315789473684, -0.9605263157894737, -0.00021233017507352327, 0.13157894736842105, -0.631578947368421, 7.350719533860683e-05, 0.039473684210526314, -0.9210526315789473, -7.217099252892168e-05, -0.15789473684210525, -1.0, -0.00019855902677303865, -0.3026315789473684, -0.9736842105263158, -0.00025469307346563593, 0.15789473684210525, -0.6447368421052632, -2.4253994189692956e-05, 0.06578947368421052, -0.9342105263157895, -0.00017005081386550476, -0.11842105263157894, -0.9868421052631579, -0.00025244373338002905, -0.25, -0.9605263157894737, -0.000265171089650769, 0.17105263157894737, -0.6447368421052632, -0.00012949979128806213, 0.07894736842105263, -0.9078947368421053, -0.00022604169422074368, -0.05263157894736842, -0.9736842105263158, -0.0002568247482964867, -0.15789473684210525, -0.9342105263157895, -0.0002529051056817958, 0.0, 0.0, -2.7400304247748863e-09, -0.11842105263157894, -0.19736842105263158, -2.3004295623027965e-05, -0.14473684210526316, -0.5, -2.1791756520734023e-05, -0.18421052631578946, -0.7105263157894737, -5.42852917293969e-05, -0.2631578947368421, -0.868421052631579, -7.827886331238245e-05, 0.09210526315789473, -0.6052631578947368, 0.00014196062999728478, 0.0, -0.8552631578947368, -7.4637830134873325e-06, -0.17105263157894737, -0.9473684210526315, -0.0001437716235063578, -0.3026315789473684, -0.9605263157894737, -0.00021233017507352327, 0.13157894736842105, -0.631578947368421, 7.350719533860683e-05, 0.039473684210526314, -0.9210526315789473, -7.217099252892168e-05, -0.15789473684210525, -1.0, -0.00019855902677303865, -0.3026315789473684, -0.9736842105263158, -0.00025469307346563593, 0.15789473684210525, -0.6447368421052632, -2.4253994189692956e-05, 0.06578947368421052, -0.9342105263157895, -0.00017005081386550476, -0.11842105263157894, -0.9868421052631579, -0.00025244373338002905, -0.25, -0.9605263157894737, -0.000265171089650769, 0.17105263157894737, -0.6447368421052632, -0.00012949979128806213, 0.07894736842105263, -0.9078947368421053, -0.00022604169422074368, -0.05263157894736842, -0.9736842105263158, -0.0002568247482964867, -0.15789473684210525, -0.9342105263157895, -0.0002529051056817958]]),\n",
              "              list([[0.0, 0.0, -3.2644437180529277e-09, -0.13414634146341464, -0.2073170731707317, 2.8372026707341032e-05, -0.14634146341463414, -0.524390243902439, 4.3353909149584246e-05, -0.17073170731707318, -0.7317073170731707, 2.044757896261971e-05, -0.23170731707317074, -0.8902439024390244, 1.8163461013833378e-06, 0.15853658536585366, -0.6341463414634146, 0.00013406028425911579, 0.024390243902439025, -0.8780487804878049, -5.330016237411012e-06, -0.14634146341463414, -0.9634146341463414, -0.00013212413277204443, -0.3048780487804878, -0.9634146341463414, -0.00019520552965199075, 0.2073170731707317, -0.6463414634146342, 3.976098023264146e-05, 0.04878048780487805, -0.9390243902439024, -8.576493369551694e-05, -0.15853658536585366, -1.0, -0.00019928281445328783, -0.3170731707317073, -0.975609756097561, -0.0002552760855817213, 0.21951219512195122, -0.6463414634146342, -7.51627688636867e-05, 0.06097560975609756, -0.9512195121951219, -0.00020565088020592202, -0.13414634146341464, -1.0, -0.00027667508437866117, -0.2682926829268293, -0.975609756097561, -0.0002908744145093895, 0.18292682926829268, -0.6341463414634146, -0.00019166932055136052, 0.06097560975609756, -0.9146341463414634, -0.0002877824235616661, -0.07317073170731707, -0.9878048780487805, -0.0003142164020640094, -0.18292682926829268, -0.9634146341463414, -0.00030959395282879106, 0.0, 0.0, 0.0, 0.0, 0.0, 0.0, 0.0, 0.0, 0.0, 0.0, 0.0, 0.0, 0.0, 0.0, 0.0, 0.0, 0.0, 0.0, 0.0, 0.0, 0.0, 0.0, 0.0, 0.0, 0.0, 0.0, 0.0, 0.0, 0.0, 0.0, 0.0, 0.0, 0.0, 0.0, 0.0, 0.0, 0.0, 0.0, 0.0, 0.0, 0.0, 0.0, 0.0, 0.0, 0.0, 0.0, 0.0, 0.0, 0.0, 0.0, 0.0, 0.0, 0.0, 0.0, 0.0, 0.0, 0.0, 0.0, 0.0, 0.0, 0.0, 0.0, 0.0]]),\n",
              "              list([[0.0, 0.0, -3.5310880627738973e-09, -0.13953488372093023, -0.20930232558139536, 2.813876909745294e-05, -0.1511627906976744, -0.5116279069767442, 4.1023679185918596e-05, -0.1744186046511628, -0.7093023255813954, 1.7900741388371516e-05, -0.23255813953488372, -0.8604651162790697, -5.787027222077297e-07, 0.16279069767441862, -0.627906976744186, 0.00011771596794904665, 0.046511627906976744, -0.872093023255814, -1.7775934687707314e-05, -0.12790697674418605, -0.9418604651162791, -0.00013828861288899598, -0.27906976744186046, -0.9418604651162791, -0.00020066696370756902, 0.22093023255813954, -0.627906976744186, 2.209936826338255e-05, 0.05813953488372093, -0.9302325581395349, -0.0001083202010323835, -0.13953488372093023, -1.0, -0.0002152737403331801, -0.3023255813953488, -0.9767441860465116, -0.0002651542078617007, 0.23255813953488372, -0.6162790697674418, -9.282999996875608e-05, 0.06976744186046512, -0.9302325581395349, -0.00022897163276062456, -0.12790697674418605, -1.0, -0.00029337605418160905, -0.26744186046511625, -0.9767441860465116, -0.00030258880538302797, 0.18604651162790697, -0.5930232558139535, -0.0002087637955366179, 0.06976744186046512, -0.8837209302325582, -0.0003125610393147136, -0.06976744186046512, -0.9534883720930233, -0.0003368898706380711, -0.18604651162790697, -0.9302325581395349, -0.0003307516318421031, 0.0, 0.0, -3.5310880627738973e-09, -0.13953488372093023, -0.20930232558139536, 2.813876909745294e-05, -0.1511627906976744, -0.5116279069767442, 4.1023679185918596e-05, -0.1744186046511628, -0.7093023255813954, 1.7900741388371516e-05, -0.23255813953488372, -0.8604651162790697, -5.787027222077297e-07, 0.16279069767441862, -0.627906976744186, 0.00011771596794904665, 0.046511627906976744, -0.872093023255814, -1.7775934687707314e-05, -0.12790697674418605, -0.9418604651162791, -0.00013828861288899598, -0.27906976744186046, -0.9418604651162791, -0.00020066696370756902, 0.22093023255813954, -0.627906976744186, 2.209936826338255e-05, 0.05813953488372093, -0.9302325581395349, -0.0001083202010323835, -0.13953488372093023, -1.0, -0.0002152737403331801, -0.3023255813953488, -0.9767441860465116, -0.0002651542078617007, 0.23255813953488372, -0.6162790697674418, -9.282999996875608e-05, 0.06976744186046512, -0.9302325581395349, -0.00022897163276062456, -0.12790697674418605, -1.0, -0.00029337605418160905, -0.26744186046511625, -0.9767441860465116, -0.00030258880538302797, 0.18604651162790697, -0.5930232558139535, -0.0002087637955366179, 0.06976744186046512, -0.8837209302325582, -0.0003125610393147136, -0.06976744186046512, -0.9534883720930233, -0.0003368898706380711, -0.18604651162790697, -0.9302325581395349, -0.0003307516318421031]]),\n",
              "              list([[0.0, 0.0, -3.2323804677058015e-09, -0.13253012048192772, -0.21686746987951808, 2.9991540766085487e-05, -0.14457831325301204, -0.5180722891566265, 4.171118903231908e-05, -0.14457831325301204, -0.7228915662650602, 1.9645967790071504e-05, -0.1927710843373494, -0.8795180722891566, -1.6974519828828164e-06, 0.1927710843373494, -0.6265060240963856, 0.00011697933302227273, 0.04819277108433735, -0.8674698795180723, -1.6587444143482e-05, -0.13253012048192772, -0.963855421686747, -0.00014071607490979046, -0.27710843373493976, -0.9759036144578314, -0.0002030294209000576, 0.25301204819277107, -0.6385542168674698, 2.5434750524989095e-05, 0.07228915662650602, -0.9156626506024096, -8.421130927212267e-05, -0.12048192771084337, -1.0, -0.00018829515719988259, -0.2891566265060241, -1.0, -0.00024368398519883673, 0.25301204819277107, -0.6265060240963856, -8.361079696431218e-05, 0.07228915662650602, -0.927710843373494, -0.00021171067134443536, -0.12048192771084337, -1.0, -0.0002730201525860522, -0.27710843373493976, -1.0, -0.00028441785778625904, 0.1927710843373494, -0.6144578313253012, -0.00019210368305085654, 0.060240963855421686, -0.9036144578313253, -0.0002928315156913665, -0.07228915662650602, -0.9759036144578314, -0.0003106362489332636, -0.1927710843373494, -0.9759036144578314, -0.0002996343894895301, 0.0, 0.0, 0.0, 0.0, 0.0, 0.0, 0.0, 0.0, 0.0, 0.0, 0.0, 0.0, 0.0, 0.0, 0.0, 0.0, 0.0, 0.0, 0.0, 0.0, 0.0, 0.0, 0.0, 0.0, 0.0, 0.0, 0.0, 0.0, 0.0, 0.0, 0.0, 0.0, 0.0, 0.0, 0.0, 0.0, 0.0, 0.0, 0.0, 0.0, 0.0, 0.0, 0.0, 0.0, 0.0, 0.0, 0.0, 0.0, 0.0, 0.0, 0.0, 0.0, 0.0, 0.0, 0.0, 0.0, 0.0, 0.0, 0.0, 0.0, 0.0, 0.0, 0.0]]),\n",
              "              list([[0.0, 0.0, -2.956658269848798e-09, -0.1411764705882353, -0.21176470588235294, 2.4971401538042462e-05, -0.15294117647058825, -0.5176470588235295, 4.371935227776275e-05, -0.15294117647058825, -0.7176470588235294, 2.914656446698834e-05, -0.18823529411764706, -0.8705882352941177, 1.855622840059154e-05, 0.16470588235294117, -0.6235294117647059, 0.00014017600127879312, 0.047058823529411764, -0.8470588235294118, 2.1054457380052874e-05, -0.11764705882352941, -0.9529411764705882, -9.80046742102679e-05, -0.27058823529411763, -0.9764705882352941, -0.00016086365589324165, 0.21176470588235294, -0.6352941176470588, 5.4328105248072565e-05, 0.07058823529411765, -0.8941176470588236, -4.183336928048555e-05, -0.11764705882352941, -0.9882352941176471, -0.00014105137875851463, -0.27058823529411763, -1.0, -0.00019532006014795866, 0.2235294117647059, -0.6352941176470588, -5.144015064134317e-05, 0.07058823529411765, -0.9176470588235294, -0.0001601560808279935, -0.10588235294117647, -1.0, -0.00021618722992784836, -0.24705882352941178, -1.0, -0.0002285269253394183, 0.18823529411764706, -0.6235294117647059, -0.0001600213348865509, 0.07058823529411765, -0.8941176470588236, -0.0002428422517636243, -0.07058823529411765, -0.9764705882352941, -0.0002573772388346055, -0.17647058823529413, -0.9764705882352941, -0.00024807326057377986, 0.0, 0.0, 0.0, 0.0, 0.0, 0.0, 0.0, 0.0, 0.0, 0.0, 0.0, 0.0, 0.0, 0.0, 0.0, 0.0, 0.0, 0.0, 0.0, 0.0, 0.0, 0.0, 0.0, 0.0, 0.0, 0.0, 0.0, 0.0, 0.0, 0.0, 0.0, 0.0, 0.0, 0.0, 0.0, 0.0, 0.0, 0.0, 0.0, 0.0, 0.0, 0.0, 0.0, 0.0, 0.0, 0.0, 0.0, 0.0, 0.0, 0.0, 0.0, 0.0, 0.0, 0.0, 0.0, 0.0, 0.0, 0.0, 0.0, 0.0, 0.0, 0.0, 0.0]]),\n",
              "              list([[0.0, 0.0, -2.4533746987987704e-09, -0.12643678160919541, -0.1839080459770115, -1.3865368579910404e-05, -0.13793103448275862, -0.4827586206896552, -2.2293602373322536e-05, -0.14942528735632185, -0.6896551724137931, -5.288423178182251e-05, -0.20689655172413793, -0.8505747126436781, -7.723340893100048e-05, 0.19540229885057472, -0.5632183908045977, 6.711715832352638e-05, 0.08045977011494253, -0.8045977011494253, -6.063073209818752e-05, -0.08045977011494253, -0.9310344827586207, -0.00017606572986676776, -0.21839080459770116, -0.9655172413793104, -0.00023566047264926736, 0.2413793103448276, -0.5747126436781609, 1.6540887728119375e-06, 0.11494252873563218, -0.8620689655172413, -9.473664793132365e-05, -0.06896551724137931, -0.9655172413793104, -0.00018178084972261013, -0.21839080459770116, -1.0, -0.00023157808972501206, 0.2413793103448276, -0.5747126436781609, -8.396923156647847e-05, 0.11494252873563218, -0.8735632183908046, -0.00019238034969773786, -0.05747126436781609, -0.9770114942528736, -0.000242995697705225, -0.20689655172413793, -1.0, -0.00025477341708095595, 0.19540229885057472, -0.5632183908045977, -0.00017370282533182496, 0.09195402298850575, -0.8390804597701149, -0.00026462160735979845, -0.04597701149425287, -0.9310344827586207, -0.0002847897509733836, -0.16091954022988506, -0.9425287356321839, -0.0002799197260675759, 0.0, 0.0, -2.4533746987987704e-09, -0.12643678160919541, -0.1839080459770115, -1.3865368579910404e-05, -0.13793103448275862, -0.4827586206896552, -2.2293602373322536e-05, -0.14942528735632185, -0.6896551724137931, -5.288423178182251e-05, -0.20689655172413793, -0.8505747126436781, -7.723340893100048e-05, 0.19540229885057472, -0.5632183908045977, 6.711715832352638e-05, 0.08045977011494253, -0.8045977011494253, -6.063073209818752e-05, -0.08045977011494253, -0.9310344827586207, -0.00017606572986676776, -0.21839080459770116, -0.9655172413793104, -0.00023566047264926736, 0.2413793103448276, -0.5747126436781609, 1.6540887728119375e-06, 0.11494252873563218, -0.8620689655172413, -9.473664793132365e-05, -0.06896551724137931, -0.9655172413793104, -0.00018178084972261013, -0.21839080459770116, -1.0, -0.00023157808972501206, 0.2413793103448276, -0.5747126436781609, -8.396923156647847e-05, 0.11494252873563218, -0.8735632183908046, -0.00019238034969773786, -0.05747126436781609, -0.9770114942528736, -0.000242995697705225, -0.20689655172413793, -1.0, -0.00025477341708095595, 0.19540229885057472, -0.5632183908045977, -0.00017370282533182496, 0.09195402298850575, -0.8390804597701149, -0.00026462160735979845, -0.04597701149425287, -0.9310344827586207, -0.0002847897509733836, -0.16091954022988506, -0.9425287356321839, -0.0002799197260675759]]),\n",
              "              list([[0.0, 0.0, 0.0, 0.0, 0.0, 0.0, 0.0, 0.0, 0.0, 0.0, 0.0, 0.0, 0.0, 0.0, 0.0, 0.0, 0.0, 0.0, 0.0, 0.0, 0.0, 0.0, 0.0, 0.0, 0.0, 0.0, 0.0, 0.0, 0.0, 0.0, 0.0, 0.0, 0.0, 0.0, 0.0, 0.0, 0.0, 0.0, 0.0, 0.0, 0.0, 0.0, 0.0, 0.0, 0.0, 0.0, 0.0, 0.0, 0.0, 0.0, 0.0, 0.0, 0.0, 0.0, 0.0, 0.0, 0.0, 0.0, 0.0, 0.0, 0.0, 0.0, 0.0, 0.0, 0.0, 3.766419433865688e-09, 0.11214953271028037, -0.06542056074766354, -0.00017034480017479335, 0.18691588785046728, -0.2803738317757009, -0.0002334411734732512, 0.22429906542056074, -0.4392523364485981, -0.00027885378521179486, 0.2897196261682243, -0.5794392523364486, -0.0003225662371265554, 0.06542056074766354, -0.4953271028037383, -0.00011833735402220878, 0.102803738317757, -0.6822429906542056, -0.0002598626034282078, 0.1588785046728972, -0.8317757009345794, -0.00037376373727744986, 0.22429906542056074, -0.9439252336448598, -0.00044037060481365596, -0.009345794392523364, -0.5046728971962616, -0.00010323544494181036, 0.028037383177570093, -0.7102803738317757, -0.00021709630561766224, 0.08411214953271028, -0.8691588785046729, -0.00030940482131788663, 0.1588785046728972, -1.0, -0.0003664267954425277, -0.07476635514018691, -0.48598130841121495, -0.00011290221640439791, -0.04672897196261682, -0.6915887850467289, -0.00023019473964922896, 0.009345794392523364, -0.8411214953271028, -0.0002878585081791209, 0.08411214953271028, -0.9626168224299065, -0.00031145031903391686, -0.14018691588785046, -0.4392523364485981, -0.00013944202877372224, -0.12149532710280374, -0.6261682242990654, -0.00024085735606255932, -0.07476635514018691, -0.7570093457943925, -0.00027602832659939737, -0.018691588785046728, -0.8598130841121495, -0.0002862648150631201]]),\n",
              "              list([[0.0, 0.0, 2.215165476093442e-09, 0.10317460317460317, -0.07936507936507936, -8.58108720017804e-05, 0.16666666666666666, -0.25396825396825395, -0.00011531546682355896, 0.21428571428571427, -0.373015873015873, -0.00014555850435817052, 0.25396825396825395, -0.47619047619047616, -0.00017582777414530042, 0.07936507936507936, -0.5079365079365079, -3.125694107323412e-05, 0.10317460317460317, -0.6984126984126984, -0.00012169999351340627, 0.12698412698412698, -0.8412698412698413, -0.00020473785994071808, 0.15079365079365079, -0.9523809523809523, -0.0002612889049545167, 0.031746031746031744, -0.5079365079365079, -5.535787296673608e-05, 0.05555555555555555, -0.7222222222222222, -0.00013677738902587738, 0.0873015873015873, -0.873015873015873, -0.00021637089195705595, 0.1111111111111111, -1.0, -0.00026962335502344465, -0.015873015873015872, -0.48412698412698413, -9.606740186138759e-05, 0.007936507936507936, -0.6904761904761905, -0.00017850915531790446, 0.03968253968253968, -0.8253968253968254, -0.00022812937164590474, 0.07142857142857142, -0.9365079365079365, -0.0002538196092087125, -0.06349206349206349, -0.42857142857142855, -0.00014809400789321414, -0.047619047619047616, -0.6031746031746031, -0.00022300931492022106, -0.023809523809523808, -0.7222222222222222, -0.00024708185995381976, 0.007936507936507936, -0.8095238095238095, -0.0002540160443574663, 0.0, 0.0, 2.215165476093442e-09, 0.10317460317460317, -0.07936507936507936, -8.58108720017804e-05, 0.16666666666666666, -0.25396825396825395, -0.00011531546682355896, 0.21428571428571427, -0.373015873015873, -0.00014555850435817052, 0.25396825396825395, -0.47619047619047616, -0.00017582777414530042, 0.07936507936507936, -0.5079365079365079, -3.125694107323412e-05, 0.10317460317460317, -0.6984126984126984, -0.00012169999351340627, 0.12698412698412698, -0.8412698412698413, -0.00020473785994071808, 0.15079365079365079, -0.9523809523809523, -0.0002612889049545167, 0.031746031746031744, -0.5079365079365079, -5.535787296673608e-05, 0.05555555555555555, -0.7222222222222222, -0.00013677738902587738, 0.0873015873015873, -0.873015873015873, -0.00021637089195705595, 0.1111111111111111, -1.0, -0.00026962335502344465, -0.015873015873015872, -0.48412698412698413, -9.606740186138759e-05, 0.007936507936507936, -0.6904761904761905, -0.00017850915531790446, 0.03968253968253968, -0.8253968253968254, -0.00022812937164590474, 0.07142857142857142, -0.9365079365079365, -0.0002538196092087125, -0.06349206349206349, -0.42857142857142855, -0.00014809400789321414, -0.047619047619047616, -0.6031746031746031, -0.00022300931492022106, -0.023809523809523808, -0.7222222222222222, -0.00024708185995381976, 0.007936507936507936, -0.8095238095238095, -0.0002540160443574663]]),\n",
              "              list([[0.0, 0.0, 0.0, 0.0, 0.0, 0.0, 0.0, 0.0, 0.0, 0.0, 0.0, 0.0, 0.0, 0.0, 0.0, 0.0, 0.0, 0.0, 0.0, 0.0, 0.0, 0.0, 0.0, 0.0, 0.0, 0.0, 0.0, 0.0, 0.0, 0.0, 0.0, 0.0, 0.0, 0.0, 0.0, 0.0, 0.0, 0.0, 0.0, 0.0, 0.0, 0.0, 0.0, 0.0, 0.0, 0.0, 0.0, 0.0, 0.0, 0.0, 0.0, 0.0, 0.0, 0.0, 0.0, 0.0, 0.0, 0.0, 0.0, 0.0, 0.0, 0.0, 0.0, 0.0, 0.0, 1.4035903647076655e-09, 0.09420289855072464, -0.07971014492753623, -6.328851146542507e-05, 0.13768115942028986, -0.2463768115942029, -9.06269187512605e-05, 0.16666666666666666, -0.36231884057971014, -0.00012152274881584057, 0.17391304347826086, -0.4782608695652174, -0.00015656301832717398, 0.08695652173913043, -0.45652173913043476, -5.575494867736015e-05, 0.10144927536231885, -0.6521739130434783, -0.00016006341447000918, 0.10869565217391304, -0.7971014492753623, -0.00024862857400507164, 0.11594202898550725, -0.9202898550724637, -0.0003096493959858798, 0.057971014492753624, -0.45652173913043476, -9.574110795190369e-05, 0.057971014492753624, -0.6739130434782609, -0.00019789130791373876, 0.06521739130434782, -0.8478260869565217, -0.00029091709765835083, 0.06521739130434782, -1.0, -0.0003529735503421314, 0.021739130434782608, -0.43478260869565216, -0.00014705588852149853, 0.028985507246376812, -0.644927536231884, -0.00025194184179755223, 0.028985507246376812, -0.8043478260869565, -0.00032190562806267667, 0.028985507246376812, -0.9420289855072463, -0.00036234189958676046, -0.014492753623188406, -0.38405797101449274, -0.00020450912415981293, -0.007246376811594203, -0.5362318840579711, -0.00030461993014466935, -0.007246376811594203, -0.6594202898550725, -0.00034723887085050774, 0.0, -0.7681159420289855, -0.0003678604582513588]]),\n",
              "              list([[0.0, 0.0, 1.8159630101358512e-09, 0.08759124087591241, -0.0948905109489051, -0.00013817554462130052, 0.12408759124087591, -0.26277372262773724, -0.00019593774782915185, 0.15328467153284672, -0.39416058394160586, -0.00024354177778654725, 0.1678832116788321, -0.5255474452554745, -0.0002905910793882217, 0.08759124087591241, -0.45985401459854014, -9.333568006536386e-05, 0.0948905109489051, -0.6642335766423357, -0.00021168763620139908, 0.0948905109489051, -0.8248175182481752, -0.0003114955866858907, 0.0948905109489051, -0.9635036496350365, -0.00037903550767550505, 0.058394160583941604, -0.45985401459854014, -9.500707098602379e-05, 0.058394160583941604, -0.6788321167883211, -0.00021611899137496948, 0.06569343065693431, -0.8540145985401459, -0.00032463174884336707, 0.072992700729927, -1.0, -0.0003926888053869679, 0.0364963503649635, -0.43795620437956206, -0.00011475972940016837, 0.043795620437956206, -0.6496350364963503, -0.00023498402459778056, 0.0364963503649635, -0.8102189781021898, -0.0003143796955581999, 0.0364963503649635, -0.948905109489051, -0.000356045762335297, 0.0, -0.39416058394160586, -0.00014717738232473387, 0.0072992700729927005, -0.5547445255474452, -0.0002509159491445026, 0.014598540145985401, -0.6715328467153284, -0.00029898418562255636, 0.021897810218978103, -0.7737226277372263, -0.00032100649754496387, 0.0, 0.0, 1.8159630101358512e-09, 0.08759124087591241, -0.0948905109489051, -0.00013817554462130052, 0.12408759124087591, -0.26277372262773724, -0.00019593774782915185, 0.15328467153284672, -0.39416058394160586, -0.00024354177778654725, 0.1678832116788321, -0.5255474452554745, -0.0002905910793882217, 0.08759124087591241, -0.45985401459854014, -9.333568006536386e-05, 0.0948905109489051, -0.6642335766423357, -0.00021168763620139908, 0.0948905109489051, -0.8248175182481752, -0.0003114955866858907, 0.0948905109489051, -0.9635036496350365, -0.00037903550767550505, 0.058394160583941604, -0.45985401459854014, -9.500707098602379e-05, 0.058394160583941604, -0.6788321167883211, -0.00021611899137496948, 0.06569343065693431, -0.8540145985401459, -0.00032463174884336707, 0.072992700729927, -1.0, -0.0003926888053869679, 0.0364963503649635, -0.43795620437956206, -0.00011475972940016837, 0.043795620437956206, -0.6496350364963503, -0.00023498402459778056, 0.0364963503649635, -0.8102189781021898, -0.0003143796955581999, 0.0364963503649635, -0.948905109489051, -0.000356045762335297, 0.0, -0.39416058394160586, -0.00014717738232473387, 0.0072992700729927005, -0.5547445255474452, -0.0002509159491445026, 0.014598540145985401, -0.6715328467153284, -0.00029898418562255636, 0.021897810218978103, -0.7737226277372263, -0.00032100649754496387]]),\n",
              "              list([[0.0, 0.0, 0.0, 0.0, 0.0, 0.0, 0.0, 0.0, 0.0, 0.0, 0.0, 0.0, 0.0, 0.0, 0.0, 0.0, 0.0, 0.0, 0.0, 0.0, 0.0, 0.0, 0.0, 0.0, 0.0, 0.0, 0.0, 0.0, 0.0, 0.0, 0.0, 0.0, 0.0, 0.0, 0.0, 0.0, 0.0, 0.0, 0.0, 0.0, 0.0, 0.0, 0.0, 0.0, 0.0, 0.0, 0.0, 0.0, 0.0, 0.0, 0.0, 0.0, 0.0, 0.0, 0.0, 0.0, 0.0, 0.0, 0.0, 0.0, 0.0, 0.0, 0.0, 0.0, 0.0, 1.2936160922569663e-09, 0.08391608391608392, -0.0979020979020979, -6.793970177015224e-05, 0.11888111888111888, -0.27972027972027974, -9.949381586971817e-05, 0.14685314685314685, -0.4195804195804196, -0.00013361596404672503, 0.14685314685314685, -0.5454545454545454, -0.0001731381549701824, 0.07692307692307693, -0.45454545454545453, -6.818116831404347e-05, 0.07692307692307693, -0.6643356643356644, -0.0001819072799249129, 0.07692307692307693, -0.8251748251748252, -0.00027550168179131887, 0.06993006993006994, -0.958041958041958, -0.0003395845683721396, 0.055944055944055944, -0.45454545454545453, -0.0001054544040894175, 0.04895104895104895, -0.6783216783216783, -0.0002182620232338672, 0.04895104895104895, -0.8531468531468531, -0.0003173097290775993, 0.04895104895104895, -1.0, -0.00038253492512903015, 0.027972027972027972, -0.42657342657342656, -0.00015376462646714457, 0.027972027972027972, -0.6433566433566433, -0.00026385540833006373, 0.027972027972027972, -0.7972027972027972, -0.00033678109204018865, 0.02097902097902098, -0.9300699300699301, -0.000379545392690005, -0.006993006993006993, -0.3776223776223776, -0.0002084307867538679, 0.0, -0.5244755244755245, -0.0003090677457255917, 0.006993006993006993, -0.6433566433566433, -0.00035583196611671183, 0.013986013986013986, -0.7412587412587412, -0.0003807067454278052]]),\n",
              "              list([[0.0, 0.0, 0.0, 0.0, 0.0, 0.0, 0.0, 0.0, 0.0, 0.0, 0.0, 0.0, 0.0, 0.0, 0.0, 0.0, 0.0, 0.0, 0.0, 0.0, 0.0, 0.0, 0.0, 0.0, 0.0, 0.0, 0.0, 0.0, 0.0, 0.0, 0.0, 0.0, 0.0, 0.0, 0.0, 0.0, 0.0, 0.0, 0.0, 0.0, 0.0, 0.0, 0.0, 0.0, 0.0, 0.0, 0.0, 0.0, 0.0, 0.0, 0.0, 0.0, 0.0, 0.0, 0.0, 0.0, 0.0, 0.0, 0.0, 0.0, 0.0, 0.0, 0.0, 0.0, 0.0, 9.49372661861943e-10, 0.08450704225352113, -0.11971830985915492, -1.8331400958270256e-05, 0.11267605633802817, -0.29577464788732394, -4.324392402465914e-05, 0.1267605633802817, -0.4295774647887324, -7.662038699212209e-05, 0.1267605633802817, -0.5492957746478874, -0.00012090441469155566, 0.09154929577464789, -0.44366197183098594, -9.813992647637784e-05, 0.08450704225352113, -0.6690140845070423, -0.00021136663591777774, 0.07746478873239436, -0.8380281690140845, -0.0002923178368471038, 0.07042253521126761, -0.9647887323943662, -0.00034599724999615845, 0.06338028169014084, -0.4295774647887324, -0.00016089541916276367, 0.056338028169014086, -0.676056338028169, -0.0002736641015385238, 0.04929577464788732, -0.852112676056338, -0.00035726677783778015, 0.035211267605633804, -1.0, -0.0004117107150000586, 0.035211267605633804, -0.39436619718309857, -0.00022548709956692978, 0.028169014084507043, -0.6197183098591549, -0.00033228002278737616, 0.007042253521126761, -0.7816901408450704, -0.0003969248016955147, -0.014084507042253521, -0.9084507042253521, -0.00043632045493159497, 0.0, -0.323943661971831, -0.0002899805057636449, -0.007042253521126761, -0.4788732394366197, -0.00039440744989354846, -0.007042253521126761, -0.5915492957746479, -0.0004395572337466226, -0.007042253521126761, -0.6830985915492958, -0.00046377267006417395]]),\n",
              "              list([]), list([]), list([])], dtype=object)                                                                                                                                                                                                                                                                                                                                                                                                                                                                                                                                                                                                                                                                                                                                                                                                                                                                                                                                                                                                                                                                                                                                                                                                                                                                                                                                                                                                                                                                                                                                                                                                                                                                                                                                                                                                                                                                                                                                                                                                                                                                                                                                                                                                                                                                                                                                                                                                                                                                                                                                                                                                                                                                                                                                                                                                       ,\n",
              "       list([0.033616244792938, 0.27784588932991, 1.0, 0.711226046085357]),\n",
              "       'teacher',\n",
              "       array([list([]), list([]), list([]), list([]), list([]), list([]),\n",
              "              list([]), list([]), list([]), list([]), list([]), list([]),\n",
              "              list([]), list([]), list([]), list([]), list([]), list([]),\n",
              "              list([]),\n",
              "              list([[0.0, 0.0, 0.0, 0.0, 0.0, 0.0, 0.0, 0.0, 0.0, 0.0, 0.0, 0.0, 0.0, 0.0, 0.0, 0.0, 0.0, 0.0, 0.0, 0.0, 0.0, 0.0, 0.0, 0.0, 0.0, 0.0, 0.0, 0.0, 0.0, 0.0, 0.0, 0.0, 0.0, 0.0, 0.0, 0.0, 0.0, 0.0, 0.0, 0.0, 0.0, 0.0, 0.0, 0.0, 0.0, 0.0, 0.0, 0.0, 0.0, 0.0, 0.0, 0.0, 0.0, 0.0, 0.0, 0.0, 0.0, 0.0, 0.0, 0.0, 0.0, 0.0, 0.0, 0.0, 0.0, -5.659833585687427e-10, -0.07633587786259542, -0.19083969465648856, -1.2993668597049386e-05, -0.07633587786259542, -0.4198473282442748, -3.534474388788675e-05, -0.015267175572519083, -0.5801526717557252, -5.42151379107519e-05, 0.04580152671755725, -0.6412213740458015, -7.221806538469009e-05, -0.04580152671755725, -0.48854961832061067, -8.520429939714097e-05, -0.007633587786259542, -0.7404580152671756, -0.00013589278887246402, 0.015267175572519083, -0.8854961832061069, -0.0001567735386486272, 0.030534351145038167, -1.0, -0.000167856746502505, 0.04580152671755725, -0.4351145038167939, -0.0001032915222280808, 0.09923664122137404, -0.6870229007633588, -0.00016003478858762115, 0.0916030534351145, -0.6259541984732825, -0.0001581764374752991, 0.06870229007633588, -0.5343511450381679, -0.00013969241435291202, 0.12213740458015267, -0.35877862595419846, -0.00011724325337710271, 0.16030534351145037, -0.549618320610687, -0.00016257636078441417, 0.1450381679389313, -0.4961832061068702, -0.00013307543144426272, 0.12213740458015267, -0.42748091603053434, -9.863740473075677e-05, 0.19083969465648856, -0.2748091603053435, -0.00013045733439103336, 0.21374045801526717, -0.44274809160305345, -0.00014794015019904566, 0.19083969465648856, -0.40458015267175573, -0.00011145356217868455, 0.17557251908396945, -0.33587786259541985, -7.595533490863465e-05]]),\n",
              "              list([[0.0, 0.0, 0.0, 0.0, 0.0, 0.0, 0.0, 0.0, 0.0, 0.0, 0.0, 0.0, 0.0, 0.0, 0.0, 0.0, 0.0, 0.0, 0.0, 0.0, 0.0, 0.0, 0.0, 0.0, 0.0, 0.0, 0.0, 0.0, 0.0, 0.0, 0.0, 0.0, 0.0, 0.0, 0.0, 0.0, 0.0, 0.0, 0.0, 0.0, 0.0, 0.0, 0.0, 0.0, 0.0, 0.0, 0.0, 0.0, 0.0, 0.0, 0.0, 0.0, 0.0, 0.0, 0.0, 0.0, 0.0, 0.0, 0.0, 0.0, 0.0, 0.0, 0.0, 0.0, 0.0, -2.9346538697070543e-10, -0.08888888888888889, -0.2074074074074074, -2.372802787080959e-05, -0.08148148148148149, -0.4148148148148148, -4.1201293330501626e-05, -0.007407407407407408, -0.5333333333333333, -5.4364065053286376e-05, 0.05925925925925926, -0.5333333333333333, -6.658441766544624e-05, -0.014814814814814815, -0.5185185185185185, -6.108589608360219e-05, 0.022222222222222223, -0.7555555555555555, -9.736876796793055e-05, 0.05185185185185185, -0.8962962962962963, -0.00011734068393707276, 0.07407407407407407, -1.0, -0.0001319245331817203, 0.08148148148148149, -0.4666666666666667, -6.620701126478336e-05, 0.1111111111111111, -0.674074074074074, -0.00010798111971881655, 0.08148148148148149, -0.6222222222222222, -0.00010382900773375123, 0.05185185185185185, -0.5407407407407407, -8.634998704548236e-05, 0.14814814814814814, -0.3925925925925926, -7.083578104222262e-05, 0.15555555555555556, -0.5333333333333333, -0.00010491965545548334, 0.1259259259259259, -0.5037037037037037, -8.787568658590317e-05, 0.1111111111111111, -0.43703703703703706, -6.353109385128374e-05, 0.2, -0.31851851851851853, -7.688080960953677e-05, 0.1925925925925926, -0.43703703703703706, -9.159017354249954e-05, 0.17037037037037037, -0.4148148148148148, -7.029129537167373e-05, 0.15555555555555556, -0.35555555555555557, -4.552415123692265e-05]]),\n",
              "              list([[0.0, 0.0, 0.0, 0.0, 0.0, 0.0, 0.0, 0.0, 0.0, 0.0, 0.0, 0.0, 0.0, 0.0, 0.0, 0.0, 0.0, 0.0, 0.0, 0.0, 0.0, 0.0, 0.0, 0.0, 0.0, 0.0, 0.0, 0.0, 0.0, 0.0, 0.0, 0.0, 0.0, 0.0, 0.0, 0.0, 0.0, 0.0, 0.0, 0.0, 0.0, 0.0, 0.0, 0.0, 0.0, 0.0, 0.0, 0.0, 0.0, 0.0, 0.0, 0.0, 0.0, 0.0, 0.0, 0.0, 0.0, 0.0, 0.0, 0.0, 0.0, 0.0, 0.0, 0.0, 0.0, -3.4961997412379045e-10, -0.08888888888888889, -0.21481481481481482, -2.8769308011288995e-05, -0.08888888888888889, -0.4222222222222222, -4.826293292420882e-05, -0.007407407407407408, -0.5333333333333333, -6.260297916553638e-05, 0.05925925925925926, -0.5333333333333333, -7.594302986507062e-05, -0.007407407407407408, -0.5185185185185185, -6.59303601693224e-05, 0.022222222222222223, -0.7555555555555555, -0.00010332850808346713, 0.05185185185185185, -0.8962962962962963, -0.00012346881407278556, 0.07407407407407407, -1.0, -0.00013817049286983632, 0.08148148148148149, -0.4666666666666667, -7.046423162575121e-05, 0.1111111111111111, -0.674074074074074, -0.00011314843539838437, 0.08148148148148149, -0.6296296296296297, -0.00010859646179057934, 0.05925925925925926, -0.5407407407407407, -9.091778623837012e-05, 0.14814814814814814, -0.3851851851851852, -7.511280063125823e-05, 0.15555555555555556, -0.5333333333333333, -0.00011270351845909047, 0.1259259259259259, -0.5037037037037037, -9.693675846965225e-05, 0.1111111111111111, -0.43703703703703706, -7.303036335441802e-05, 0.2, -0.3111111111111111, -8.132499815137298e-05, 0.2, -0.43703703703703706, -9.912644961365947e-05, 0.17037037037037037, -0.4148148148148148, -7.843142030415711e-05, 0.15555555555555556, -0.35555555555555557, -5.410748568397981e-05]]),\n",
              "              list([[0.0, 0.0, 0.0, 0.0, 0.0, 0.0, 0.0, 0.0, 0.0, 0.0, 0.0, 0.0, 0.0, 0.0, 0.0, 0.0, 0.0, 0.0, 0.0, 0.0, 0.0, 0.0, 0.0, 0.0, 0.0, 0.0, 0.0, 0.0, 0.0, 0.0, 0.0, 0.0, 0.0, 0.0, 0.0, 0.0, 0.0, 0.0, 0.0, 0.0, 0.0, 0.0, 0.0, 0.0, 0.0, 0.0, 0.0, 0.0, 0.0, 0.0, 0.0, 0.0, 0.0, 0.0, 0.0, 0.0, 0.0, 0.0, 0.0, 0.0, 0.0, 0.0, 0.0, 0.0, 0.0, -2.996011743641785e-10, -0.08029197080291971, -0.19708029197080293, -3.285308361706072e-05, -0.08029197080291971, -0.41605839416058393, -5.7312585141536966e-05, 0.0, -0.5255474452554745, -7.704945865773806e-05, 0.072992700729927, -0.5328467153284672, -9.662236501700687e-05, 0.0, -0.5036496350364964, -7.912776956375498e-05, 0.051094890510948905, -0.7372262773722628, -0.0001282699297379403, 0.08759124087591241, -0.8905109489051095, -0.0001581161398522175, 0.11678832116788321, -1.0, -0.00017909394291630627, 0.0948905109489051, -0.43795620437956206, -8.529895087228204e-05, 0.12408759124087591, -0.6496350364963503, -0.000135994604686751, 0.0948905109489051, -0.6131386861313869, -0.0001369784076283448, 0.06569343065693431, -0.5255474452554745, -0.00012360438432571663, 0.16058394160583941, -0.35766423357664234, -9.155887974439747e-05, 0.1678832116788321, -0.5182481751824818, -0.0001344844481370745, 0.1386861313868613, -0.48905109489051096, -0.00011337519942844001, 0.11678832116788321, -0.41605839416058393, -8.577942494710866e-05, 0.2116788321167883, -0.27007299270072993, -0.00010015398780577374, 0.20437956204379562, -0.41605839416058393, -0.0001237521723021556, 0.18248175182481752, -0.39416058394160586, -9.810435075829499e-05, 0.16058394160583941, -0.3284671532846715, -6.882590071780838e-05]]),\n",
              "              list([[0.0, 0.0, 0.0, 0.0, 0.0, 0.0, 0.0, 0.0, 0.0, 0.0, 0.0, 0.0, 0.0, 0.0, 0.0, 0.0, 0.0, 0.0, 0.0, 0.0, 0.0, 0.0, 0.0, 0.0, 0.0, 0.0, 0.0, 0.0, 0.0, 0.0, 0.0, 0.0, 0.0, 0.0, 0.0, 0.0, 0.0, 0.0, 0.0, 0.0, 0.0, 0.0, 0.0, 0.0, 0.0, 0.0, 0.0, 0.0, 0.0, 0.0, 0.0, 0.0, 0.0, 0.0, 0.0, 0.0, 0.0, 0.0, 0.0, 0.0, 0.0, 0.0, 0.0, 0.0, 0.0, -2.2886118468510646e-09, -0.056179775280898875, -0.47191011235955055, -3.333431616258085e-05, 0.011235955056179775, -0.8314606741573034, -5.703689949063772e-05, 0.1348314606741573, -0.9662921348314607, -7.91164491786046e-05, 0.23595505617977527, -0.9662921348314607, -9.537865983301334e-05, 0.25842696629213485, -0.8539325842696629, -4.6748730741190106e-05, 0.25842696629213485, -1.0, -9.068473127115978e-05, 0.1797752808988764, -0.9213483146067416, -0.00013631110320265374, 0.1348314606741573, -0.8202247191011236, -0.00016519521478186832, 0.34831460674157305, -0.651685393258427, -5.7550021604205786e-05, 0.3146067415730337, -0.7752808988764045, -6.481917219215564e-05, 0.23595505617977527, -0.7303370786516854, -8.88843277699492e-05, 0.20224719101123595, -0.6292134831460674, -0.00011380484557888481, 0.39325842696629215, -0.4157303370786517, -6.838876942402861e-05, 0.3595505617977528, -0.5730337078651685, -8.513174658076147e-05, 0.2808988764044944, -0.550561797752809, -7.706145975696907e-05, 0.23595505617977527, -0.449438202247191, -7.380690593063161e-05, 0.4044943820224719, -0.20224719101123595, -8.090291946624103e-05, 0.38202247191011235, -0.33707865168539325, -9.156609728430095e-05, 0.3258426966292135, -0.34831460674157305, -5.3893031782648535e-05, 0.2808988764044944, -0.2808988764044944, -1.739885846383116e-05]]),\n",
              "              list([]), list([]), list([]), list([]), list([]), list([])],\n",
              "             dtype=object)                                                                                                                                                                                                                                                                                                                                                                                                                                                                                                                                                                                                                                                                                                                                                                                                                                                                                                                                                                                                                                                                                                                                                                                                                                                                                                                                                                                                                                                                                                                                                                                                                                                                                                                                        ,\n",
              "       list([0.063923180103302, 0.20402888953685702, 1.0, 0.8688298463821411]),\n",
              "       'deaf',\n",
              "       array([list([]), list([]), list([]),\n",
              "              list([[0.0, 0.0, 0.0, 0.0, 0.0, 0.0, 0.0, 0.0, 0.0, 0.0, 0.0, 0.0, 0.0, 0.0, 0.0, 0.0, 0.0, 0.0, 0.0, 0.0, 0.0, 0.0, 0.0, 0.0, 0.0, 0.0, 0.0, 0.0, 0.0, 0.0, 0.0, 0.0, 0.0, 0.0, 0.0, 0.0, 0.0, 0.0, 0.0, 0.0, 0.0, 0.0, 0.0, 0.0, 0.0, 0.0, 0.0, 0.0, 0.0, 0.0, 0.0, 0.0, 0.0, 0.0, 0.0, 0.0, 0.0, 0.0, 0.0, 0.0, 0.0, 0.0, 0.0, 0.0, 0.0, 8.21396575963548e-10, 0.09701492537313433, -0.04477611940298507, -4.311554731606548e-05, 0.19402985074626866, -0.22388059701492538, -8.401403259207953e-05, 0.21641791044776118, -0.3880597014925373, -0.00013005987866156137, 0.20149253731343283, -0.5298507462686567, -0.00017797461808172625, 0.08208955223880597, -0.6268656716417911, -6.115836883658794e-05, 0.15671641791044777, -0.753731343283582, -0.0001430714558531989, 0.208955223880597, -0.8805970149253731, -0.000206544008384, 0.23880597014925373, -1.0, -0.0002510632429994754, 0.014925373134328358, -0.6343283582089553, -8.583464312242038e-05, 0.15671641791044777, -0.5746268656716418, -0.00019128188324063573, 0.17164179104477612, -0.3880597014925373, -0.00021383627804357614, 0.1417910447761194, -0.27611940298507465, -0.0002113498413740699, -0.04477611940298507, -0.5671641791044776, -0.00011695129101845755, 0.11194029850746269, -0.5, -0.00022071144029275696, 0.12686567164179105, -0.3208955223880597, -0.00018686616320663424, 0.09701492537313433, -0.22388059701492538, -0.0001442838154399573, -0.08208955223880597, -0.4552238805970149, -0.00015322397004312544, 0.06716417910447761, -0.39552238805970147, -0.0002219148480625295, 0.07462686567164178, -0.26865671641791045, -0.0001909618696837283, 0.03731343283582089, -0.1865671641791045, -0.00015526367768422882]]),\n",
              "              list([[0.0, 0.0, 0.0, 0.0, 0.0, 0.0, 0.0, 0.0, 0.0, 0.0, 0.0, 0.0, 0.0, 0.0, 0.0, 0.0, 0.0, 0.0, 0.0, 0.0, 0.0, 0.0, 0.0, 0.0, 0.0, 0.0, 0.0, 0.0, 0.0, 0.0, 0.0, 0.0, 0.0, 0.0, 0.0, 0.0, 0.0, 0.0, 0.0, 0.0, 0.0, 0.0, 0.0, 0.0, 0.0, 0.0, 0.0, 0.0, 0.0, 0.0, 0.0, 0.0, 0.0, 0.0, 0.0, 0.0, 0.0, 0.0, 0.0, 0.0, 0.0, 0.0, 0.0, 0.0, 0.0, 1.2635025574822707e-09, 0.11764705882352941, -0.04411764705882353, -3.9761249140343245e-05, 0.21323529411764705, -0.20588235294117646, -8.729648748960565e-05, 0.25, -0.3602941176470588, -0.00014008502201998935, 0.22794117647058823, -0.47794117647058826, -0.00019250514314455146, 0.10294117647058823, -0.6323529411764706, -6.009015829904991e-05, 0.16176470588235295, -0.7573529411764706, -0.00013811847962000792, 0.22794117647058823, -0.8897058823529411, -0.00020356443436706767, 0.2647058823529412, -1.0, -0.0002502461018807748, 0.04411764705882353, -0.6397058823529411, -8.792697232874001e-05, 0.19117647058823528, -0.5588235294117647, -0.00018907835542717402, 0.20588235294117646, -0.375, -0.0002143185120075941, 0.16911764705882354, -0.2867647058823529, -0.00021349751007030993, -0.007352941176470588, -0.5661764705882353, -0.00012017489301369471, 0.14705882352941177, -0.47794117647058826, -0.00021719633985091657, 0.15441176470588236, -0.3014705882352941, -0.00018302866202943465, 0.11764705882352941, -0.22058823529411764, -0.00014050114516387968, -0.04411764705882353, -0.4632352941176471, -0.0001574754304088214, 0.10294117647058823, -0.38235294117647056, -0.0002176908858339576, 0.11029411764705882, -0.25, -0.00018184352666139603, 0.07352941176470588, -0.18382352941176472, -0.00014299129628959824]]),\n",
              "              list([[0.0, 0.0, 0.0, 0.0, 0.0, 0.0, 0.0, 0.0, 0.0, 0.0, 0.0, 0.0, 0.0, 0.0, 0.0, 0.0, 0.0, 0.0, 0.0, 0.0, 0.0, 0.0, 0.0, 0.0, 0.0, 0.0, 0.0, 0.0, 0.0, 0.0, 0.0, 0.0, 0.0, 0.0, 0.0, 0.0, 0.0, 0.0, 0.0, 0.0, 0.0, 0.0, 0.0, 0.0, 0.0, 0.0, 0.0, 0.0, 0.0, 0.0, 0.0, 0.0, 0.0, 0.0, 0.0, 0.0, 0.0, 0.0, 0.0, 0.0, 0.0, 0.0, 0.0, 0.0, 0.0, 2.251203978082072e-09, 0.15873015873015872, -0.06349206349206349, -6.0610750335313024e-05, 0.23809523809523808, -0.18253968253968253, -0.0001627055425492544, 0.2857142857142857, -0.2698412698412698, -0.0002734771678372035, 0.29365079365079366, -0.30158730158730157, -0.0003819430158251808, 0.14285714285714285, -0.6190476190476191, -0.00013620583784012568, 0.2222222222222222, -0.746031746031746, -0.0002590000392898681, 0.29365079365079366, -0.8888888888888888, -0.00035349646257975745, 0.3412698412698413, -1.0, -0.00042202412372543697, 0.07936507936507936, -0.6031746031746031, -0.00018309784077462696, 0.2698412698412698, -0.4523809523809524, -0.00033589103628718663, 0.29365079365079366, -0.25396825396825395, -0.00037542866572501165, 0.2777777777777778, -0.15873015873015872, -0.00038042422088365704, 0.03968253968253968, -0.5, -0.00023558298273692056, 0.2222222222222222, -0.3333333333333333, -0.0003633109763974235, 0.23809523809523808, -0.15079365079365079, -0.0003131119209149527, 0.1984126984126984, -0.07142857142857142, -0.0002567188607321845, 0.007936507936507936, -0.36507936507936506, -0.0002978057674472294, 0.16666666666666666, -0.23015873015873015, -0.0003693819282546876, 0.19047619047619047, -0.0873015873015873, -0.000317331048704329, 0.16666666666666666, -0.023809523809523808, -0.0002658888401966246]]),\n",
              "              list([[0.0, 0.0, 0.0, 0.0, 0.0, 0.0, 0.0, 0.0, 0.0, 0.0, 0.0, 0.0, 0.0, 0.0, 0.0, 0.0, 0.0, 0.0, 0.0, 0.0, 0.0, 0.0, 0.0, 0.0, 0.0, 0.0, 0.0, 0.0, 0.0, 0.0, 0.0, 0.0, 0.0, 0.0, 0.0, 0.0, 0.0, 0.0, 0.0, 0.0, 0.0, 0.0, 0.0, 0.0, 0.0, 0.0, 0.0, 0.0, 0.0, 0.0, 0.0, 0.0, 0.0, 0.0, 0.0, 0.0, 0.0, 0.0, 0.0, 0.0, 0.0, 0.0, 0.0, 0.0, 0.0, 1.9448933748524563e-09, 0.16521739130434782, -0.0782608695652174, -7.581027305644491e-05, 0.2608695652173913, -0.19130434782608696, -0.0002022613973721214, 0.33043478260869563, -0.24347826086956523, -0.0003324959265149158, 0.3391304347826087, -0.25217391304347825, -0.0004605990065180737, 0.1826086956521739, -0.6347826086956522, -0.0002081650592710661, 0.28695652173913044, -0.7565217391304347, -0.000356987248296323, 0.3826086956521739, -0.8869565217391304, -0.00045543915551641716, 0.4434782608695652, -1.0, -0.0005208683078703673, 0.11304347826086956, -0.6086956521739131, -0.0002507848260195359, 0.3130434782608696, -0.3826086956521739, -0.00040887532674747966, 0.2782608695652174, -0.20869565217391303, -0.00041616789024809134, 0.22608695652173913, -0.21739130434782608, -0.0004022698039593904, 0.06086956521739131, -0.4956521739130435, -0.0003005648436753646, 0.25217391304347825, -0.24347826086956523, -0.0004356513528720192, 0.22608695652173913, -0.11304347826086956, -0.0003702128063077512, 0.17391304347826086, -0.1391304347826087, -0.0003076980295388595, 0.017391304347826087, -0.3565217391304348, -0.0003601981569891391, 0.19130434782608696, -0.16521739130434782, -0.0004258282482624054, 0.19130434782608696, -0.06956521739130435, -0.0003629740813504095, 0.14782608695652175, -0.06956521739130435, -0.0003095196964948074]]),\n",
              "              list([[0.0, 0.0, 0.0, 0.0, 0.0, 0.0, 0.0, 0.0, 0.0, 0.0, 0.0, 0.0, 0.0, 0.0, 0.0, 0.0, 0.0, 0.0, 0.0, 0.0, 0.0, 0.0, 0.0, 0.0, 0.0, 0.0, 0.0, 0.0, 0.0, 0.0, 0.0, 0.0, 0.0, 0.0, 0.0, 0.0, 0.0, 0.0, 0.0, 0.0, 0.0, 0.0, 0.0, 0.0, 0.0, 0.0, 0.0, 0.0, 0.0, 0.0, 0.0, 0.0, 0.0, 0.0, 0.0, 0.0, 0.0, 0.0, 0.0, 0.0, 0.0, 0.0, 0.0, 0.0, 0.0, 4.574841178899597e-09, 0.1619047619047619, -0.09523809523809523, -7.07640800447691e-05, 0.3142857142857143, -0.21904761904761905, -0.0002001090950909115, 0.41904761904761906, -0.22857142857142856, -0.000344340538694745, 0.4380952380952381, -0.1523809523809524, -0.00048021837359382995, 0.2571428571428571, -0.6476190476190476, -0.0002042643903266816, 0.41904761904761906, -0.7523809523809524, -0.00037761862788881573, 0.5333333333333333, -0.8761904761904762, -0.0005043432826087589, 0.6190476190476191, -1.0, -0.0005943136201018379, 0.2, -0.6190476190476191, -0.00027186253241130286, 0.4, -0.7142857142857143, -0.0005052507988044194, 0.5238095238095238, -0.8285714285714286, -0.0006405639506521679, 0.6285714285714286, -0.9714285714285714, -0.000720842821257455, 0.13333333333333333, -0.5142857142857142, -0.00033132164251236686, 0.38095238095238093, -0.29523809523809524, -0.0004919665909948804, 0.3238095238095238, -0.1619047619047619, -0.0004318299747648693, 0.24761904761904763, -0.1523809523809524, -0.00036142688421976, 0.09523809523809523, -0.34285714285714286, -0.0004041091317222232, 0.3047619047619048, -0.14285714285714285, -0.0004720176259676615, 0.26666666666666666, -0.0380952380952381, -0.00039360299706459045, 0.20952380952380953, -0.047619047619047616, -0.00032191613600367593]]),\n",
              "              list([]),\n",
              "              list([[0.0, 0.0, 0.0, 0.0, 0.0, 0.0, 0.0, 0.0, 0.0, 0.0, 0.0, 0.0, 0.0, 0.0, 0.0, 0.0, 0.0, 0.0, 0.0, 0.0, 0.0, 0.0, 0.0, 0.0, 0.0, 0.0, 0.0, 0.0, 0.0, 0.0, 0.0, 0.0, 0.0, 0.0, 0.0, 0.0, 0.0, 0.0, 0.0, 0.0, 0.0, 0.0, 0.0, 0.0, 0.0, 0.0, 0.0, 0.0, 0.0, 0.0, 0.0, 0.0, 0.0, 0.0, 0.0, 0.0, 0.0, 0.0, 0.0, 0.0, 0.0, 0.0, 0.0, 0.0, 0.0, 2.8374577294507002e-09, 0.20224719101123595, 0.011235955056179775, -3.4531769395042e-05, 0.3595505617977528, -0.16853932584269662, -8.14029664387194e-05, 0.4606741573033708, -0.30337078651685395, -0.0001482914589094312, 0.5056179775280899, -0.42696629213483145, -0.00019921441928724224, 0.2696629213483146, -0.7078651685393258, -1.8756181326056463e-05, 0.449438202247191, -0.7865168539325843, -0.00012404830561260158, 0.5730337078651685, -0.8876404494382022, -0.0002006619247827637, 0.6629213483146067, -0.9887640449438202, -0.0002480849539965726, 0.23595505617977527, -0.7303370786516854, -7.386644255746617e-05, 0.4606741573033708, -0.8539325842696629, -0.00020561990945526724, 0.6067415730337079, -0.9213483146067416, -0.0002707123881980274, 0.7191011235955056, -1.0, -0.000299689851784974, 0.21348314606741572, -0.651685393258427, -0.00013619554595331127, 0.48314606741573035, -0.5393258426966292, -0.00027757657043049844, 0.449438202247191, -0.3707865168539326, -0.0002574405392234245, 0.38202247191011235, -0.30337078651685395, -0.00020603714196869497, 0.20224719101123595, -0.4943820224719101, -0.00020515504345465242, 0.42696629213483145, -0.3258426966292135, -0.00028786370844653485, 0.39325842696629215, -0.20224719101123595, -0.0002506003202347273, 0.3146067415730337, -0.1797752808988764, -0.00020174230082651204]]),\n",
              "              list([[0.0, 0.0, 0.0, 0.0, 0.0, 0.0, 0.0, 0.0, 0.0, 0.0, 0.0, 0.0, 0.0, 0.0, 0.0, 0.0, 0.0, 0.0, 0.0, 0.0, 0.0, 0.0, 0.0, 0.0, 0.0, 0.0, 0.0, 0.0, 0.0, 0.0, 0.0, 0.0, 0.0, 0.0, 0.0, 0.0, 0.0, 0.0, 0.0, 0.0, 0.0, 0.0, 0.0, 0.0, 0.0, 0.0, 0.0, 0.0, 0.0, 0.0, 0.0, 0.0, 0.0, 0.0, 0.0, 0.0, 0.0, 0.0, 0.0, 0.0, 0.0, 0.0, 0.0, 0.0, 0.0, -1.7487121660629732e-10, 0.24324324324324326, -0.06756756756756757, -9.1546106567556e-06, 0.3783783783783784, -0.32432432432432434, -5.0946736607599904e-05, 0.4594594594594595, -0.5, -0.00012389225633563223, 0.5135135135135135, -0.6756756756756757, -0.00016649974812124228, 0.21621621621621623, -1.0, 6.755223069843408e-05, 0.47297297297297297, -0.8648648648648649, -0.00011671225011751458, 0.4594594594594595, -0.6216216216216216, -0.0002532806247472763, 0.3783783783783784, -0.5, -0.0003135852968773326, 0.17567567567567569, -0.9864864864864865, -2.3749872107637693e-06, 0.4864864864864865, -0.8513513513513513, -0.0001525157131254673, 0.4594594594594595, -0.6081081081081081, -0.00020467097292075286, 0.3783783783783784, -0.4864864864864865, -0.00021229211140323328, 0.16216216216216217, -0.918918918918919, -9.876199544885674e-05, 0.47297297297297297, -0.7432432432432432, -0.00022777323485226244, 0.44594594594594594, -0.5, -0.00019393302500247955, 0.35135135135135137, -0.3918918918918919, -0.00014050892629736178, 0.17567567567567569, -0.7837837837837838, -0.00020405720617320085, 0.43243243243243246, -0.6081081081081081, -0.000258583650999778, 0.3918918918918919, -0.4189189189189189, -0.00020420484597215782, 0.3108108108108108, -0.33783783783783783, -0.00015100036319848654]]),\n",
              "              list([[0.0, 0.0, 0.0, 0.0, 0.0, 0.0, 0.0, 0.0, 0.0, 0.0, 0.0, 0.0, 0.0, 0.0, 0.0, 0.0, 0.0, 0.0, 0.0, 0.0, 0.0, 0.0, 0.0, 0.0, 0.0, 0.0, 0.0, 0.0, 0.0, 0.0, 0.0, 0.0, 0.0, 0.0, 0.0, 0.0, 0.0, 0.0, 0.0, 0.0, 0.0, 0.0, 0.0, 0.0, 0.0, 0.0, 0.0, 0.0, 0.0, 0.0, 0.0, 0.0, 0.0, 0.0, 0.0, 0.0, 0.0, 0.0, 0.0, 0.0, 0.0, 0.0, 0.0, 0.0, 0.0, 1.3329052073092169e-09, 0.14285714285714285, -0.01680672268907563, -1.4036983846365905e-05, 0.25210084033613445, -0.17647058823529413, -3.3472226384808036e-05, 0.3025210084033613, -0.3277310924369748, -7.012925509895598e-05, 0.31092436974789917, -0.47058823529411764, -0.00010239642050837268, 0.18487394957983194, -0.6134453781512605, 1.2101136938426174e-05, 0.2773109243697479, -0.7815126050420168, -5.187060950057847e-05, 0.36134453781512604, -0.907563025210084, -0.00010268884797056183, 0.42857142857142855, -1.0, -0.00013760896790929202, 0.12605042016806722, -0.6302521008403361, -2.9152470539097023e-05, 0.2857142857142857, -0.6302521008403361, -0.00012236061122487574, 0.33613445378151263, -0.46218487394957986, -0.00015251192913836792, 0.3277310924369748, -0.3445378151260504, -0.00015394671374008436, 0.08403361344537816, -0.5966386554621849, -7.749287051563504e-05, 0.25210084033613445, -0.5462184873949579, -0.000172099145520635, 0.25210084033613445, -0.3697478991596639, -0.0001500874851681605, 0.21008403361344538, -0.2773109243697479, -0.00011338913390616409, 0.05042016806722689, -0.5126050420168067, -0.00012961739063763818, 0.20168067226890757, -0.46218487394957986, -0.00018944127970382948, 0.20168067226890757, -0.33613445378151263, -0.0001598487318563862, 0.15966386554621848, -0.2605042016806723, -0.00012391324335036158]]),\n",
              "              list([[0.0, 0.0, 0.0, 0.0, 0.0, 0.0, 0.0, 0.0, 0.0, 0.0, 0.0, 0.0, 0.0, 0.0, 0.0, 0.0, 0.0, 0.0, 0.0, 0.0, 0.0, 0.0, 0.0, 0.0, 0.0, 0.0, 0.0, 0.0, 0.0, 0.0, 0.0, 0.0, 0.0, 0.0, 0.0, 0.0, 0.0, 0.0, 0.0, 0.0, 0.0, 0.0, 0.0, 0.0, 0.0, 0.0, 0.0, 0.0, 0.0, 0.0, 0.0, 0.0, 0.0, 0.0, 0.0, 0.0, 0.0, 0.0, 0.0, 0.0, 0.0, 0.0, 0.0, 0.0, 0.0, 9.975132621144036e-10, 0.0962962962962963, 0.0, -5.516309153150629e-05, 0.18518518518518517, -0.16296296296296298, -9.503112071090275e-05, 0.2074074074074074, -0.32592592592592595, -0.00014293905761506823, 0.21481481481481482, -0.48148148148148145, -0.00019033095902866787, 0.1259259259259259, -0.5259259259259259, -6.299927416774962e-05, 0.2074074074074074, -0.725925925925926, -0.00014883982086623157, 0.2814814814814815, -0.8814814814814815, -0.0002027348787696273, 0.34074074074074073, -1.0, -0.00023457165117617007, 0.06666666666666667, -0.5481481481481482, -8.438519995521616e-05, 0.18518518518518517, -0.562962962962963, -0.00019476401309172312, 0.2074074074074074, -0.43703703703703706, -0.00021996436019738514, 0.1925925925925926, -0.37037037037037035, -0.00021382455748540383, 0.007407407407407408, -0.5185185185185185, -0.00011402159515354369, 0.15555555555555556, -0.45925925925925926, -0.00024078102023513228, 0.13333333333333333, -0.2814814814814815, -0.00021955634432810323, 0.0962962962962963, -0.1925925925925926, -0.0001726523455646303, -0.037037037037037035, -0.4444444444444444, -0.00014743941525618235, 0.0962962962962963, -0.3925925925925926, -0.0002343143853876326, 0.0962962962962963, -0.2518518518518518, -0.00020628451473183102, 0.05925925925925926, -0.17037037037037037, -0.00016258545219898223]]),\n",
              "              list([[0.0, 0.0, 0.0, 0.0, 0.0, 0.0, 0.0, 0.0, 0.0, 0.0, 0.0, 0.0, 0.0, 0.0, 0.0, 0.0, 0.0, 0.0, 0.0, 0.0, 0.0, 0.0, 0.0, 0.0, 0.0, 0.0, 0.0, 0.0, 0.0, 0.0, 0.0, 0.0, 0.0, 0.0, 0.0, 0.0, 0.0, 0.0, 0.0, 0.0, 0.0, 0.0, 0.0, 0.0, 0.0, 0.0, 0.0, 0.0, 0.0, 0.0, 0.0, 0.0, 0.0, 0.0, 0.0, 0.0, 0.0, 0.0, 0.0, 0.0, 0.0, 0.0, 0.0, 0.0, 0.0, 2.8773327714232794e-09, 0.09090909090909091, -0.013986013986013986, -7.382260596418714e-05, 0.17482517482517482, -0.16783216783216784, -0.00012109905377134576, 0.1958041958041958, -0.34265734265734266, -0.00017185808791147245, 0.1888111888111888, -0.4965034965034965, -0.00021792444159517756, 0.1258741258741259, -0.5104895104895105, -6.821885105821636e-05, 0.2097902097902098, -0.6853146853146853, -0.00017229517127250458, 0.2727272727272727, -0.8391608391608392, -0.00023803495235376424, 0.32867132867132864, -0.965034965034965, -0.0002698488272987046, 0.06293706293706294, -0.5454545454545454, -9.103874851773669e-05, 0.17482517482517482, -0.7412587412587412, -0.0002011282929590532, 0.26573426573426573, -0.8741258741258742, -0.0002550781815202086, 0.34265734265734266, -1.0, -0.00026914216838516556, 0.006993006993006993, -0.5244755244755245, -0.0001236759907715804, 0.13986013986013987, -0.48951048951048953, -0.00026452880014072764, 0.11888111888111888, -0.3146853146853147, -0.0002591953306764989, 0.08391608391608392, -0.2097902097902098, -0.00020715908206009364, -0.04895104895104895, -0.44755244755244755, -0.00016188797365118574, 0.08391608391608392, -0.40559440559440557, -0.0002593709663911299, 0.08391608391608392, -0.25874125874125875, -0.00023070066333650708, 0.055944055944055944, -0.16783216783216784, -0.0001770549330052796]]),\n",
              "              list([[0.0, 0.0, 0.0, 0.0, 0.0, 0.0, 0.0, 0.0, 0.0, 0.0, 0.0, 0.0, 0.0, 0.0, 0.0, 0.0, 0.0, 0.0, 0.0, 0.0, 0.0, 0.0, 0.0, 0.0, 0.0, 0.0, 0.0, 0.0, 0.0, 0.0, 0.0, 0.0, 0.0, 0.0, 0.0, 0.0, 0.0, 0.0, 0.0, 0.0, 0.0, 0.0, 0.0, 0.0, 0.0, 0.0, 0.0, 0.0, 0.0, 0.0, 0.0, 0.0, 0.0, 0.0, 0.0, 0.0, 0.0, 0.0, 0.0, 0.0, 0.0, 0.0, 0.0, 0.0, 0.0, 9.778225523599523e-10, 0.09923664122137404, -0.015267175572519083, -5.134908866336327e-05, 0.19083969465648856, -0.183206106870229, -9.351923976463216e-05, 0.21374045801526717, -0.366412213740458, -0.00014347829038405236, 0.1984732824427481, -0.5343511450381679, -0.00019286295669224425, 0.10687022900763359, -0.5572519083969466, -5.178183729525741e-05, 0.17557251908396945, -0.7480916030534351, -0.00013360385392003387, 0.24427480916030533, -0.8854961832061069, -0.00018833934521402112, 0.3053435114503817, -1.0, -0.00022295307908349365, 0.03816793893129771, -0.5877862595419847, -7.654513936233884e-05, 0.16793893129770993, -0.5801526717557252, -0.00020325075806552217, 0.16030534351145037, -0.3969465648854962, -0.00023538996074490875, 0.12213740458015267, -0.2900763358778626, -0.00022557446064839837, -0.015267175572519083, -0.5572519083969466, -0.0001078408908184248, 0.1297709923664122, -0.48091603053435117, -0.00024204408280722057, 0.11450381679389313, -0.2824427480916031, -0.00021772659632540841, 0.061068702290076333, -0.1984732824427481, -0.0001649218860245843, -0.061068702290076333, -0.4961832061068702, -0.000141967301264064, 0.08396946564885496, -0.42748091603053434, -0.00022949382150901182, 0.07633587786259542, -0.26717557251908397, -0.00019676507031189577, 0.030534351145038167, -0.19083969465648856, -0.00014867172896407033]]),\n",
              "              list([[0.0, 0.0, 0.0, 0.0, 0.0, 0.0, 0.0, 0.0, 0.0, 0.0, 0.0, 0.0, 0.0, 0.0, 0.0, 0.0, 0.0, 0.0, 0.0, 0.0, 0.0, 0.0, 0.0, 0.0, 0.0, 0.0, 0.0, 0.0, 0.0, 0.0, 0.0, 0.0, 0.0, 0.0, 0.0, 0.0, 0.0, 0.0, 0.0, 0.0, 0.0, 0.0, 0.0, 0.0, 0.0, 0.0, 0.0, 0.0, 0.0, 0.0, 0.0, 0.0, 0.0, 0.0, 0.0, 0.0, 0.0, 0.0, 0.0, 0.0, 0.0, 0.0, 0.0, 0.0, 0.0, 1.0248222569072225e-09, 0.08955223880597014, -0.007462686567164179, -4.8272627920134747e-05, 0.1865671641791045, -0.1791044776119403, -9.129183895107525e-05, 0.208955223880597, -0.3656716417910448, -0.00014194302650085135, 0.20149253731343283, -0.5298507462686567, -0.00019218940843841923, 0.1044776119402985, -0.5597014925373134, -5.031449358854721e-05, 0.1791044776119403, -0.746268656716418, -0.00013049657164669747, 0.2462686567164179, -0.8880597014925373, -0.00018319671056163844, 0.30597014925373134, -1.0, -0.00021582941955594875, 0.03731343283582089, -0.5895522388059702, -7.592638565310791e-05, 0.16417910447761194, -0.5970149253731343, -0.0001969736681055667, 0.15671641791044777, -0.417910447761194, -0.00022566021044752492, 0.11194029850746269, -0.31343283582089554, -0.00021400190055815142, -0.014925373134328358, -0.5597014925373134, -0.00010776914544959566, 0.13432835820895522, -0.4925373134328358, -0.0002343877315966051, 0.11194029850746269, -0.30597014925373134, -0.0002096053490887827, 0.06716417910447761, -0.21641791044776118, -0.00015912876367124158, -0.05970149253731343, -0.4925373134328358, -0.00014243662746539756, 0.08208955223880597, -0.4253731343283582, -0.00022431039042882065, 0.07462686567164178, -0.26865671641791045, -0.00019219951398337064, 0.03731343283582089, -0.19402985074626866, -0.00014611802049982014]]),\n",
              "              list([[0.0, 0.0, 0.0, 0.0, 0.0, 0.0, 0.0, 0.0, 0.0, 0.0, 0.0, 0.0, 0.0, 0.0, 0.0, 0.0, 0.0, 0.0, 0.0, 0.0, 0.0, 0.0, 0.0, 0.0, 0.0, 0.0, 0.0, 0.0, 0.0, 0.0, 0.0, 0.0, 0.0, 0.0, 0.0, 0.0, 0.0, 0.0, 0.0, 0.0, 0.0, 0.0, 0.0, 0.0, 0.0, 0.0, 0.0, 0.0, 0.0, 0.0, 0.0, 0.0, 0.0, 0.0, 0.0, 0.0, 0.0, 0.0, 0.0, 0.0, 0.0, 0.0, 0.0, 0.0, 0.0, 7.749502713815598e-10, 0.0958904109589041, 0.0, -5.404716867902507e-05, 0.1917808219178082, -0.1506849315068493, -0.00010036121518032192, 0.2191780821917808, -0.3082191780821918, -0.00015195489746250518, 0.2328767123287671, -0.4589041095890411, -0.00020301965869044605, 0.1095890410958904, -0.5273972602739726, -7.778689367313908e-05, 0.18493150684931506, -0.7191780821917808, -0.0001716345344504265, 0.2602739726027397, -0.8698630136986302, -0.0002357738781465243, 0.3150684931506849, -1.0, -0.00027733102236708547, 0.04794520547945205, -0.5547945205479452, -0.00010008498235312227, 0.17123287671232876, -0.5342465753424658, -0.00022970683464448746, 0.1643835616438356, -0.3561643835616438, -0.00026278108460445925, 0.11643835616438356, -0.2602739726027397, -0.0002584731435939057, -0.00684931506849315, -0.5273972602739726, -0.00012850952781226537, 0.136986301369863, -0.4452054794520548, -0.0002535499683389925, 0.1232876712328767, -0.273972602739726, -0.00022592385337777334, 0.0821917808219178, -0.19863013698630136, -0.00017847231755109682, -0.0547945205479452, -0.4452054794520548, -0.00016138740904527167, 0.08904109589041095, -0.3904109589041096, -0.00024154032134029963, 0.08904109589041095, -0.2465753424657534, -0.00020785853011559134, 0.0547945205479452, -0.17123287671232876, -0.00016264237259348778]]),\n",
              "              list([[0.0, 0.0, 0.0, 0.0, 0.0, 0.0, 0.0, 0.0, 0.0, 0.0, 0.0, 0.0, 0.0, 0.0, 0.0, 0.0, 0.0, 0.0, 0.0, 0.0, 0.0, 0.0, 0.0, 0.0, 0.0, 0.0, 0.0, 0.0, 0.0, 0.0, 0.0, 0.0, 0.0, 0.0, 0.0, 0.0, 0.0, 0.0, 0.0, 0.0, 0.0, 0.0, 0.0, 0.0, 0.0, 0.0, 0.0, 0.0, 0.0, 0.0, 0.0, 0.0, 0.0, 0.0, 0.0, 0.0, 0.0, 0.0, 0.0, 0.0, 0.0, 0.0, 0.0, 0.0, 0.0, 6.892494476397183e-10, 0.08333333333333333, 0.020833333333333332, -7.180764805525541e-05, 0.18055555555555555, -0.10416666666666667, -0.0001254693553265598, 0.20833333333333334, -0.2569444444444444, -0.00018100521992892027, 0.22916666666666666, -0.3958333333333333, -0.00023565058492951922, 0.125, -0.4930555555555556, -0.00011193228419870138, 0.2013888888888889, -0.7152777777777778, -0.00020949799929642014, 0.2708333333333333, -0.8680555555555556, -0.0002699991325951285, 0.3194444444444444, -1.0, -0.0003083008858892653, 0.05555555555555555, -0.5277777777777778, -0.00012577898127751218, 0.1736111111111111, -0.5069444444444444, -0.00025802987834645645, 0.1597222222222222, -0.3125, -0.00027916976250708103, 0.11805555555555555, -0.19444444444444445, -0.0002656822196311421, -0.006944444444444444, -0.5, -0.00014680896937433217, 0.13194444444444445, -0.4375, -0.00027790738062726124, 0.11805555555555555, -0.25, -0.00024116460958288776, 0.08333333333333333, -0.1527777777777778, -0.00018575647845864296, -0.05555555555555555, -0.4305555555555556, -0.0001734909601509571, 0.0763888888888889, -0.375, -0.0002622822454820077, 0.0763888888888889, -0.2222222222222222, -0.00022708772060771784, 0.041666666666666664, -0.13194444444444445, -0.00017961030567271842]]),\n",
              "              list([[0.0, 0.0, 0.0, 0.0, 0.0, 0.0, 0.0, 0.0, 0.0, 0.0, 0.0, 0.0, 0.0, 0.0, 0.0, 0.0, 0.0, 0.0, 0.0, 0.0, 0.0, 0.0, 0.0, 0.0, 0.0, 0.0, 0.0, 0.0, 0.0, 0.0, 0.0, 0.0, 0.0, 0.0, 0.0, 0.0, 0.0, 0.0, 0.0, 0.0, 0.0, 0.0, 0.0, 0.0, 0.0, 0.0, 0.0, 0.0, 0.0, 0.0, 0.0, 0.0, 0.0, 0.0, 0.0, 0.0, 0.0, 0.0, 0.0, 0.0, 0.0, 0.0, 0.0, 0.0, 0.0, 3.695439851561297e-10, 0.20512820512820512, 0.08974358974358974, -0.00010973865834948343, 0.41025641025641024, -0.10256410256410256, -0.00017053992129289187, 0.5128205128205128, -0.41025641025641024, -0.00024064716238241928, 0.5, -0.7051282051282052, -0.0003042329246034989, 0.34615384615384615, -0.8076923076923077, -5.2286222433814634e-05, 0.47435897435897434, -1.0, -0.00020098925018921876, 0.5128205128205128, -0.9487179487179487, -0.00031063037040906074, 0.5128205128205128, -0.8974358974358975, -0.00037199440292823006, 0.24358974358974358, -0.8974358974358975, -7.366131131465618e-05, 0.4230769230769231, -0.8974358974358975, -0.0002469317987561226, 0.3974358974358974, -0.5769230769230769, -0.0003191789803214562, 0.32051282051282054, -0.358974358974359, -0.00033401547429653315, 0.14102564102564102, -0.8846153846153846, -0.00011574915156532556, 0.3333333333333333, -0.7692307692307693, -0.00031636285189634713, 0.2948717948717949, -0.44871794871794873, -0.00030901918235497596, 0.21794871794871795, -0.2564102564102564, -0.00025701508499108826, 0.038461538461538464, -0.8205128205128205, -0.00016546021335017987, 0.24358974358974358, -0.7051282051282052, -0.00031243696904335264, 0.21794871794871795, -0.44871794871794873, -0.000290460215929227, 0.15384615384615385, -0.2692307692307692, -0.00024264835967467382]]),\n",
              "              list([[0.0, 0.0, 0.0, 0.0, 0.0, 0.0, 0.0, 0.0, 0.0, 0.0, 0.0, 0.0, 0.0, 0.0, 0.0, 0.0, 0.0, 0.0, 0.0, 0.0, 0.0, 0.0, 0.0, 0.0, 0.0, 0.0, 0.0, 0.0, 0.0, 0.0, 0.0, 0.0, 0.0, 0.0, 0.0, 0.0, 0.0, 0.0, 0.0, 0.0, 0.0, 0.0, 0.0, 0.0, 0.0, 0.0, 0.0, 0.0, 0.0, 0.0, 0.0, 0.0, 0.0, 0.0, 0.0, 0.0, 0.0, 0.0, 0.0, 0.0, 0.0, 0.0, 0.0, 0.0, 0.0, 1.4486692818883014e-09, 0.12380952380952381, 0.0380952380952381, -7.908296372209277e-05, 0.29523809523809524, -0.0761904761904762, -0.00014045525874410356, 0.37142857142857144, -0.26666666666666666, -0.00020354239358788445, 0.3619047619047619, -0.4666666666666667, -0.0002687180858282816, 0.22857142857142856, -0.6285714285714286, -8.950174032222657e-05, 0.3047619047619048, -0.780952380952381, -0.0002020854148126784, 0.3904761904761905, -0.9047619047619048, -0.00028256532691773917, 0.45714285714285713, -1.0, -0.0003321143133299691, 0.1523809523809524, -0.7047619047619048, -0.00010759582122166951, 0.3047619047619048, -0.638095238095238, -0.00025087131985596247, 0.29523809523809524, -0.4, -0.00028937854582355136, 0.23809523809523808, -0.23809523809523808, -0.0002849743302379336, 0.08571428571428572, -0.6857142857142857, -0.00013657200726724806, 0.23809523809523808, -0.5142857142857142, -0.0002882983535528183, 0.20952380952380953, -0.29523809523809524, -0.0002674416594562076, 0.1523809523809524, -0.18095238095238095, -0.00021671216402735028, 0.009523809523809525, -0.6285714285714286, -0.00017115950939201175, 0.1619047619047619, -0.47619047619047616, -0.0002731082340081533, 0.1523809523809524, -0.2857142857142857, -0.0002492700126909074, 0.10476190476190476, -0.17142857142857143, -0.0002092328809556507]]),\n",
              "              list([[0.0, 0.0, 0.0, 0.0, 0.0, 0.0, 0.0, 0.0, 0.0, 0.0, 0.0, 0.0, 0.0, 0.0, 0.0, 0.0, 0.0, 0.0, 0.0, 0.0, 0.0, 0.0, 0.0, 0.0, 0.0, 0.0, 0.0, 0.0, 0.0, 0.0, 0.0, 0.0, 0.0, 0.0, 0.0, 0.0, 0.0, 0.0, 0.0, 0.0, 0.0, 0.0, 0.0, 0.0, 0.0, 0.0, 0.0, 0.0, 0.0, 0.0, 0.0, 0.0, 0.0, 0.0, 0.0, 0.0, 0.0, 0.0, 0.0, 0.0, 0.0, 0.0, 0.0, 0.0, 0.0, 3.082491395193328e-12, 0.20987654320987653, 0.024691358024691357, -7.761749841364813e-05, 0.41975308641975306, -0.1111111111111111, -0.00016202334958462068, 0.5308641975308642, -0.3333333333333333, -0.0002535377387647276, 0.5185185185185185, -0.5679012345679012, -0.00032640342819102014, 0.37037037037037035, -0.9259259259259259, -9.745032882984773e-05, 0.5308641975308642, -0.7901234567901234, -0.0002961154843186155, 0.49382716049382713, -0.48148148148148145, -0.00043658148727299253, 0.4074074074074074, -0.32098765432098764, -0.0005030499104364418, 0.2716049382716049, -1.0, -0.0001411526291458695, 0.49382716049382713, -0.8024691358024691, -0.00029829884936780104, 0.4444444444444444, -0.4567901234567901, -0.0003462583976395336, 0.35802469135802467, -0.2716049382716049, -0.0003546284120759846, 0.18518518518518517, -0.9753086419753086, -0.0002050947305964835, 0.3950617283950617, -0.6790123456790124, -0.0003648784563497261, 0.345679012345679, -0.35802469135802467, -0.00032859904990520004, 0.24691358024691357, -0.2345679012345679, -0.00027044818817097463, 0.08641975308641975, -0.8641975308641975, -0.00027719537877006294, 0.2962962962962963, -0.5925925925925926, -0.00037732823855347105, 0.2716049382716049, -0.345679012345679, -0.0003272882306281431, 0.20987654320987653, -0.24691358024691357, -0.00026696260420628536]]),\n",
              "              list([[0.0, 0.0, 0.0, 0.0, 0.0, 0.0, 0.0, 0.0, 0.0, 0.0, 0.0, 0.0, 0.0, 0.0, 0.0, 0.0, 0.0, 0.0, 0.0, 0.0, 0.0, 0.0, 0.0, 0.0, 0.0, 0.0, 0.0, 0.0, 0.0, 0.0, 0.0, 0.0, 0.0, 0.0, 0.0, 0.0, 0.0, 0.0, 0.0, 0.0, 0.0, 0.0, 0.0, 0.0, 0.0, 0.0, 0.0, 0.0, 0.0, 0.0, 0.0, 0.0, 0.0, 0.0, 0.0, 0.0, 0.0, 0.0, 0.0, 0.0, 0.0, 0.0, 0.0, 0.0, 0.0, 8.468844012671456e-10, 0.2465753424657534, -0.0684931506849315, -6.775142089144825e-05, 0.4246575342465753, -0.2054794520547945, -0.00019158294092710705, 0.5342465753424658, -0.3561643835616438, -0.00033169413266116623, 0.5753424657534246, -0.3972602739726027, -0.0004526661479309814, 0.3561643835616438, -0.9863013698630136, -0.00016304386192805148, 0.547945205479452, -0.7945205479452054, -0.0003990784848797811, 0.5342465753424658, -0.4794520547945205, -0.0005453084021398466, 0.4931506849315068, -0.3013698630136986, -0.00061416942371081, 0.2602739726027397, -1.0, -0.00023671408018020735, 0.5205479452054794, -0.7123287671232876, -0.00044913615470063196, 0.4931506849315068, -0.3561643835616438, -0.0004922986949143345, 0.4246575342465753, -0.1780821917808219, -0.0004904958075040007, 0.1643835616438356, -0.9178082191780822, -0.0003295186141582384, 0.4246575342465753, -0.4931506849315068, -0.0005376669131729701, 0.3698630136986301, -0.1643835616438356, -0.0004836070313029093, 0.273972602739726, -0.0273972602739726, -0.0004002504203825781, 0.0821917808219178, -0.7397260273972602, -0.0004306262588664277, 0.3150684931506849, -0.4246575342465753, -0.0005434713237089654, 0.3013698630136986, -0.1917808219178082, -0.0004764684054949512, 0.2465753424657534, -0.0684931506849315, -0.0003995263362175798]]),\n",
              "              list([[0.0, 0.0, 0.0, 0.0, 0.0, 0.0, 0.0, 0.0, 0.0, 0.0, 0.0, 0.0, 0.0, 0.0, 0.0, 0.0, 0.0, 0.0, 0.0, 0.0, 0.0, 0.0, 0.0, 0.0, 0.0, 0.0, 0.0, 0.0, 0.0, 0.0, 0.0, 0.0, 0.0, 0.0, 0.0, 0.0, 0.0, 0.0, 0.0, 0.0, 0.0, 0.0, 0.0, 0.0, 0.0, 0.0, 0.0, 0.0, 0.0, 0.0, 0.0, 0.0, 0.0, 0.0, 0.0, 0.0, 0.0, 0.0, 0.0, 0.0, 0.0, 0.0, 0.0, 0.0, 0.0, 3.835693007658847e-09, 0.18, 0.01, -5.561286117881537e-05, 0.33, -0.08, -0.00016151880845427513, 0.42, -0.19, -0.0002867348864674568, 0.45, -0.23, -0.00040823958814144133, 0.3, -0.65, -0.00015060964040458202, 0.44, -0.76, -0.00031471610069274905, 0.57, -0.89, -0.0004304510354995728, 0.67, -1.0, -0.000504683256149292, 0.24, -0.68, -0.00021902486681938172, 0.43, -0.68, -0.0003975969552993774, 0.54, -0.72, -0.0004718917608261108, 0.63, -0.81, -0.0005045528337359428, 0.16, -0.6, -0.0002901992574334145, 0.38, -0.27, -0.0004465794190764427, 0.31, -0.07, -0.0003868043795228004, 0.24, -0.01, -0.00030566491186618806, 0.1, -0.45, -0.0003728407993912697, 0.29, -0.22, -0.0004564569890499115, 0.27, -0.06, -0.0003887863457202911, 0.22, 0.01, -0.00031334783881902694]]),\n",
              "              list([[0.0, 0.0, 0.0, 0.0, 0.0, 0.0, 0.0, 0.0, 0.0, 0.0, 0.0, 0.0, 0.0, 0.0, 0.0, 0.0, 0.0, 0.0, 0.0, 0.0, 0.0, 0.0, 0.0, 0.0, 0.0, 0.0, 0.0, 0.0, 0.0, 0.0, 0.0, 0.0, 0.0, 0.0, 0.0, 0.0, 0.0, 0.0, 0.0, 0.0, 0.0, 0.0, 0.0, 0.0, 0.0, 0.0, 0.0, 0.0, 0.0, 0.0, 0.0, 0.0, 0.0, 0.0, 0.0, 0.0, 0.0, 0.0, 0.0, 0.0, 0.0, 0.0, 0.0, 0.0, 0.0, 4.400687022284564e-09, 0.1686746987951807, 0.03614457831325301, -2.4053428030337196e-05, 0.3253012048192771, -0.10843373493975904, -9.618925087782274e-05, 0.42168674698795183, -0.24096385542168675, -0.000193460406847747, 0.4819277108433735, -0.3132530120481928, -0.0002770551805754742, 0.3132530120481928, -0.7108433734939759, -9.719659406018544e-05, 0.5180722891566265, -0.7951807228915663, -0.00024033555514123067, 0.6626506024096386, -0.891566265060241, -0.0003435340407023947, 0.7710843373493976, -1.0, -0.0004117432308484273, 0.26506024096385544, -0.6987951807228916, -0.00017423300543822437, 0.5180722891566265, -0.7831325301204819, -0.00035394093089074975, 0.6746987951807228, -0.8554216867469879, -0.00045149450201586067, 0.8072289156626506, -0.9518072289156626, -0.0005016665322234832, 0.2289156626506024, -0.5783132530120482, -0.00024710297135703535, 0.5180722891566265, -0.3855421686746988, -0.00039923164140747254, 0.46987951807228917, -0.20481927710843373, -0.0003500751343118139, 0.37349397590361444, -0.14457831325301204, -0.00028003815067819803, 0.20481927710843373, -0.37349397590361444, -0.0003284300980438669, 0.43373493975903615, -0.12048192771084337, -0.00042965734399944905, 0.3855421686746988, 0.024096385542168676, -0.00037876561463597307, 0.30120481927710846, 0.04819277108433735, -0.0003132729016872774]]),\n",
              "              list([[0.0, 0.0, 0.0, 0.0, 0.0, 0.0, 0.0, 0.0, 0.0, 0.0, 0.0, 0.0, 0.0, 0.0, 0.0, 0.0, 0.0, 0.0, 0.0, 0.0, 0.0, 0.0, 0.0, 0.0, 0.0, 0.0, 0.0, 0.0, 0.0, 0.0, 0.0, 0.0, 0.0, 0.0, 0.0, 0.0, 0.0, 0.0, 0.0, 0.0, 0.0, 0.0, 0.0, 0.0, 0.0, 0.0, 0.0, 0.0, 0.0, 0.0, 0.0, 0.0, 0.0, 0.0, 0.0, 0.0, 0.0, 0.0, 0.0, 0.0, 0.0, 0.0, 0.0, 0.0, 0.0, 3.062719161298237e-09, 0.1839080459770115, 0.034482758620689655, -4.7111514441925904e-05, 0.3333333333333333, -0.11494252873563218, -0.0001002028905626001, 0.4367816091954023, -0.25287356321839083, -0.00016986646143526867, 0.5057471264367817, -0.3563218390804598, -0.00022560143950341762, 0.27586206896551724, -0.7011494252873564, -4.952811454048102e-05, 0.4482758620689655, -0.8045977011494253, -0.00016182015553630632, 0.5747126436781609, -0.9195402298850575, -0.000238380020206002, 0.6781609195402298, -1.0, -0.0002820176425678977, 0.2413793103448276, -0.7126436781609196, -9.742381329509034e-05, 0.4482758620689655, -0.8390804597701149, -0.00022570328551462326, 0.5977011494252874, -0.9080459770114943, -0.0002839159348915363, 0.7126436781609196, -0.9655172413793104, -0.00030511193748178155, 0.21839080459770116, -0.632183908045977, -0.0001527258227097577, 0.47126436781609193, -0.4942528735632184, -0.00029804298504330646, 0.4482758620689655, -0.3218390804597701, -0.0002865730945406289, 0.3793103448275862, -0.22988505747126436, -0.00023660603268393156, 0.20689655172413793, -0.47126436781609193, -0.00021440756303825597, 0.41379310344827586, -0.3103448275862069, -0.0003109074187004703, 0.39080459770114945, -0.1724137931034483, -0.000284649859899762, 0.3103448275862069, -0.11494252873563218, -0.00023684218183331107]]),\n",
              "              list([[0.0, 0.0, 0.0, 0.0, 0.0, 0.0, 0.0, 0.0, 0.0, 0.0, 0.0, 0.0, 0.0, 0.0, 0.0, 0.0, 0.0, 0.0, 0.0, 0.0, 0.0, 0.0, 0.0, 0.0, 0.0, 0.0, 0.0, 0.0, 0.0, 0.0, 0.0, 0.0, 0.0, 0.0, 0.0, 0.0, 0.0, 0.0, 0.0, 0.0, 0.0, 0.0, 0.0, 0.0, 0.0, 0.0, 0.0, 0.0, 0.0, 0.0, 0.0, 0.0, 0.0, 0.0, 0.0, 0.0, 0.0, 0.0, 0.0, 0.0, 0.0, 0.0, 0.0, 0.0, 0.0, -3.318651750711951e-11, 0.25757575757575757, 0.015151515151515152, 1.1274888300139343e-05, 0.42424242424242425, -0.19696969696969696, -2.4904814464124765e-05, 0.5454545454545454, -0.36363636363636365, -0.00010006837405715928, 0.6363636363636364, -0.5606060606060606, -0.0001464434476061301, 0.30303030303030304, -0.9848484848484849, 7.242849096655846e-05, 0.5757575757575758, -1.0, -0.00011461340314285322, 0.6060606060606061, -0.7272727272727273, -0.0002559096072659348, 0.5303030303030303, -0.5151515151515151, -0.00031265574084086853, 0.2727272727272727, -1.0, -1.0840303730219603e-05, 0.5909090909090909, -0.9545454545454546, -0.00014388976110653445, 0.6060606060606061, -0.6515151515151515, -0.00019675388819340503, 0.5303030303030303, -0.4696969696969697, -0.00020965617714506206, 0.25757575757575757, -0.9242424242424242, -0.00011810050769285722, 0.5757575757575758, -0.803030303030303, -0.00024884222357562095, 0.5757575757575758, -0.5151515151515151, -0.00022396927868778056, 0.4696969696969697, -0.3484848484848485, -0.0001765288920565085, 0.24242424242424243, -0.7727272727272727, -0.0002317814241078767, 0.5303030303030303, -0.6060606060606061, -0.0003046707786393888, 0.5303030303030303, -0.3787878787878788, -0.00025645333031813305, 0.4393939393939394, -0.24242424242424243, -0.00020197883361216748]]),\n",
              "              list([[0.0, 0.0, 0.0, 0.0, 0.0, 0.0, 0.0, 0.0, 0.0, 0.0, 0.0, 0.0, 0.0, 0.0, 0.0, 0.0, 0.0, 0.0, 0.0, 0.0, 0.0, 0.0, 0.0, 0.0, 0.0, 0.0, 0.0, 0.0, 0.0, 0.0, 0.0, 0.0, 0.0, 0.0, 0.0, 0.0, 0.0, 0.0, 0.0, 0.0, 0.0, 0.0, 0.0, 0.0, 0.0, 0.0, 0.0, 0.0, 0.0, 0.0, 0.0, 0.0, 0.0, 0.0, 0.0, 0.0, 0.0, 0.0, 0.0, 0.0, 0.0, 0.0, 0.0, 0.0, 0.0, -1.405682544722927e-09, 0.23076923076923078, -0.08974358974358974, 3.2400846696243834e-06, 0.38461538461538464, -0.32051282051282054, -2.1653140907008678e-05, 0.48717948717948717, -0.5384615384615384, -7.725013300585441e-05, 0.5128205128205128, -0.7435897435897436, -0.00011069846984285575, 0.2692307692307692, -0.9871794871794872, 8.626979513046068e-05, 0.48717948717948717, -1.0, -5.8602667055450955e-05, 0.5128205128205128, -0.717948717948718, -0.00017772072878403542, 0.44871794871794873, -0.5256410256410257, -0.0002335820299310562, 0.23076923076923078, -1.0, 2.1324616868813067e-05, 0.47435897435897434, -0.9487179487179487, -8.464617153199819e-05, 0.48717948717948717, -0.6666666666666666, -0.00013525300444318698, 0.4230769230769231, -0.5, -0.00015074190182181506, 0.19230769230769232, -0.9487179487179487, -6.48248869066055e-05, 0.4358974358974359, -0.8846153846153846, -0.00016830360087064595, 0.44871794871794873, -0.6153846153846154, -0.00015166782750151097, 0.38461538461538464, -0.46153846153846156, -0.00011432715333425082, 0.15384615384615385, -0.8333333333333334, -0.00015666046872352943, 0.38461538461538464, -0.7692307692307693, -0.00021428638734878638, 0.41025641025641024, -0.5769230769230769, -0.00017315930185409693, 0.358974358974359, -0.4358974358974359, -0.0001234350463327689]]),\n",
              "              list([[0.0, 0.0, 0.0, 0.0, 0.0, 0.0, 0.0, 0.0, 0.0, 0.0, 0.0, 0.0, 0.0, 0.0, 0.0, 0.0, 0.0, 0.0, 0.0, 0.0, 0.0, 0.0, 0.0, 0.0, 0.0, 0.0, 0.0, 0.0, 0.0, 0.0, 0.0, 0.0, 0.0, 0.0, 0.0, 0.0, 0.0, 0.0, 0.0, 0.0, 0.0, 0.0, 0.0, 0.0, 0.0, 0.0, 0.0, 0.0, 0.0, 0.0, 0.0, 0.0, 0.0, 0.0, 0.0, 0.0, 0.0, 0.0, 0.0, 0.0, 0.0, 0.0, 0.0, 0.0, 0.0, 7.823228560692559e-10, 0.1076923076923077, -0.007692307692307693, -3.976495578311957e-05, 0.2, -0.16923076923076924, -7.268928994353001e-05, 0.23076923076923078, -0.3384615384615385, -0.00011467132717370986, 0.23846153846153847, -0.49230769230769234, -0.0001536628231406212, 0.11538461538461539, -0.5615384615384615, -2.7695891017524094e-05, 0.18461538461538463, -0.7615384615384615, -0.00010286245065239759, 0.26153846153846155, -0.9, -0.00015617478638887405, 0.3230769230769231, -1.0, -0.0001880744185585242, 0.06153846153846154, -0.5846153846153846, -5.27021403496082e-05, 0.2, -0.5846153846153846, -0.00016274602653888555, 0.2076923076923077, -0.4153846153846154, -0.00019031457889538545, 0.16923076923076924, -0.3076923076923077, -0.00018259851405253778, 0.015384615384615385, -0.5615384615384615, -8.529834449291229e-05, 0.16923076923076924, -0.5153846153846153, -0.00019419449739731275, 0.16153846153846155, -0.3384615384615385, -0.0001696392034108822, 0.12307692307692308, -0.24615384615384617, -0.00012407123755950195, -0.023076923076923078, -0.49230769230769234, -0.00012227424348776157, 0.12307692307692308, -0.46153846153846156, -0.00018872343576871431, 0.13076923076923078, -0.3230769230769231, -0.0001574333613881698, 0.1, -0.24615384615384617, -0.00011449299322871061]]),\n",
              "              list([[0.0, 0.0, 0.0, 0.0, 0.0, 0.0, 0.0, 0.0, 0.0, 0.0, 0.0, 0.0, 0.0, 0.0, 0.0, 0.0, 0.0, 0.0, 0.0, 0.0, 0.0, 0.0, 0.0, 0.0, 0.0, 0.0, 0.0, 0.0, 0.0, 0.0, 0.0, 0.0, 0.0, 0.0, 0.0, 0.0, 0.0, 0.0, 0.0, 0.0, 0.0, 0.0, 0.0, 0.0, 0.0, 0.0, 0.0, 0.0, 0.0, 0.0, 0.0, 0.0, 0.0, 0.0, 0.0, 0.0, 0.0, 0.0, 0.0, 0.0, 0.0, 0.0, 0.0, 0.0, 0.0, 8.64263612330773e-10, 0.10687022900763359, 0.015267175572519083, -5.849222617067454e-05, 0.20610687022900764, -0.13740458015267176, -9.733584944073481e-05, 0.2366412213740458, -0.31297709923664124, -0.00014223545107222696, 0.2366412213740458, -0.48091603053435117, -0.00018565924056158722, 0.12213740458015267, -0.5343511450381679, -5.112920055976351e-05, 0.19083969465648856, -0.732824427480916, -0.00012616579996720524, 0.26717557251908397, -0.8854961832061069, -0.00017737278728994704, 0.32061068702290074, -1.0, -0.00020964440839891214, 0.05343511450381679, -0.5648854961832062, -6.917389180824047e-05, 0.183206106870229, -0.5801526717557252, -0.00018345261746235476, 0.19083969465648856, -0.4122137404580153, -0.00021303337038928316, 0.15267175572519084, -0.2900763358778626, -0.00020636252717662402, 0.0, -0.5343511450381679, -9.513814144462119e-05, 0.15267175572519084, -0.4961832061068702, -0.00021433053922107203, 0.1450381679389313, -0.31297709923664124, -0.00019264121660749422, 0.09923664122137404, -0.20610687022900764, -0.00014746007118516296, -0.04580152671755725, -0.46564885496183206, -0.0001262673496745015, 0.10687022900763359, -0.44274809160305345, -0.00020845959546001813, 0.12213740458015267, -0.31297709923664124, -0.00018407832404584374, 0.09923664122137404, -0.22137404580152673, -0.00014433281794759152]]),\n",
              "              list([[0.0, 0.0, 0.0, 0.0, 0.0, 0.0, 0.0, 0.0, 0.0, 0.0, 0.0, 0.0, 0.0, 0.0, 0.0, 0.0, 0.0, 0.0, 0.0, 0.0, 0.0, 0.0, 0.0, 0.0, 0.0, 0.0, 0.0, 0.0, 0.0, 0.0, 0.0, 0.0, 0.0, 0.0, 0.0, 0.0, 0.0, 0.0, 0.0, 0.0, 0.0, 0.0, 0.0, 0.0, 0.0, 0.0, 0.0, 0.0, 0.0, 0.0, 0.0, 0.0, 0.0, 0.0, 0.0, 0.0, 0.0, 0.0, 0.0, 0.0, 0.0, 0.0, 0.0, 0.0, 0.0, 7.563405719746533e-10, 0.10236220472440945, 0.007874015748031496, -5.10802675830567e-05, 0.2125984251968504, -0.15748031496062992, -8.345249394966862e-05, 0.2440944881889764, -0.3464566929133858, -0.00012242597505802245, 0.2440944881889764, -0.5118110236220472, -0.00016161849296937779, 0.11023622047244094, -0.5511811023622047, -3.524885080226763e-05, 0.1889763779527559, -0.7322834645669292, -0.00010469230991883541, 0.25984251968503935, -0.8818897637795275, -0.00015448717268433157, 0.31496062992125984, -1.0, -0.00018671907367199424, 0.05511811023622047, -0.5826771653543307, -5.2417800798425526e-05, 0.18110236220472442, -0.5984251968503937, -0.00015825929310847456, 0.1968503937007874, -0.4251968503937008, -0.0001861701213468717, 0.16535433070866143, -0.29133858267716534, -0.0001798569716102495, 0.0, -0.5511811023622047, -7.761478805401193e-05, 0.14960629921259844, -0.5118110236220472, -0.00018737604474927495, 0.14960629921259844, -0.33070866141732286, -0.0001668685416537007, 0.11023622047244094, -0.2125984251968504, -0.00012423586481668817, -0.03937007874015748, -0.48031496062992124, -0.00010774377000144148, 0.10236220472440945, -0.47244094488188976, -0.00018158188368391803, 0.12598425196850394, -0.3464566929133858, -0.00015871901446440088, 0.10236220472440945, -0.25196850393700787, -0.00012217215665682093]])],\n",
              "             dtype=object)                                                                                                                                                                                                                                                                                                                                                                                                                                                                                                                                                                                                                                                                                                                                                                                                                                                                                                                                                                                                                                                                                                                                                                                                                                                                                                                                                                                                                                                                                                                                                                                                                                                                                                                                     ,\n",
              "       list([0.017094999551773002, 0.273773968219757, 1.0, 0.752665162086486]),\n",
              "       'university',\n",
              "       array([list([]), list([]), list([]), list([]), list([]), list([]),\n",
              "              list([]), list([]), list([]), list([]), list([]), list([]),\n",
              "              list([]),\n",
              "              list([[0.0, 0.0, -3.1363518252264035e-09, 0.0, 0.22784810126582278, 0.00010193378629186486, 0.02531645569620253, 0.5316455696202531, 0.0001342739980620674, 0.08860759493670886, 0.7341772151898734, 0.00013091046174493017, 0.16455696202531644, 0.8354430379746836, 0.00011246396770960168, -0.05063291139240506, 0.8227848101265823, 0.00011858206148011775, 0.1518987341772152, 1.0, 6.141584908849077e-05, 0.3037974683544304, 0.9620253164556962, -6.230778644403702e-06, 0.3924050632911392, 0.8734177215189873, -4.082611655887169e-05, -0.012658227848101266, 0.8227848101265823, 4.33819132703769e-05, 0.20253164556962025, 0.9746835443037974, 2.2586221405882625e-05, 0.35443037974683544, 0.9367088607594937, -2.7534145201686064e-05, 0.46835443037974683, 0.8354430379746836, -6.482495537287073e-05, 0.0379746835443038, 0.7848101265822784, -3.07978148560358e-05, 0.24050632911392406, 0.9367088607594937, -4.584812912854213e-05, 0.379746835443038, 0.8987341772151899, -7.094625572237788e-05, 0.46835443037974683, 0.810126582278481, -9.26123967370655e-05, 0.08860759493670886, 0.7088607594936709, -9.687224851001667e-05, 0.25316455696202533, 0.8481012658227848, -0.00011063381275044213, 0.35443037974683544, 0.810126582278481, -0.0001028512333390079, 0.4177215189873418, 0.759493670886076, -9.209297809608375e-05, 0.0, 0.0, 0.0, 0.0, 0.0, 0.0, 0.0, 0.0, 0.0, 0.0, 0.0, 0.0, 0.0, 0.0, 0.0, 0.0, 0.0, 0.0, 0.0, 0.0, 0.0, 0.0, 0.0, 0.0, 0.0, 0.0, 0.0, 0.0, 0.0, 0.0, 0.0, 0.0, 0.0, 0.0, 0.0, 0.0, 0.0, 0.0, 0.0, 0.0, 0.0, 0.0, 0.0, 0.0, 0.0, 0.0, 0.0, 0.0, 0.0, 0.0, 0.0, 0.0, 0.0, 0.0, 0.0, 0.0, 0.0, 0.0, 0.0, 0.0, 0.0, 0.0, 0.0]]),\n",
              "              list([]), list([]), list([]), list([]), list([]), list([]),\n",
              "              list([]), list([]), list([]), list([]), list([]), list([]),\n",
              "              list([]), list([]), list([]),\n",
              "              list([[0.0, 0.0, -3.414917549938813e-09, -0.02702702702702703, 0.17567567567567569, 0.00010278570541256183, 0.013513513513513514, 0.44594594594594594, 0.00013612915535230895, 0.0945945945945946, 0.6351351351351351, 0.00012474100583711187, 0.1891891891891892, 0.7297297297297297, 9.645101916347001e-05, -0.04054054054054054, 0.8243243243243243, 0.0001463288239933349, 0.1891891891891892, 0.9864864864864865, 8.750609373925506e-05, 0.33783783783783783, 0.9324324324324325, 1.7437643396693307e-05, 0.43243243243243246, 0.8108108108108109, -1.9412563257926218e-05, 0.013513513513513514, 0.8378378378378378, 6.137596997054848e-05, 0.25675675675675674, 1.0, 2.8966790744783105e-05, 0.40540540540540543, 0.918918918918919, -2.47078321597262e-05, 0.5135135135135135, 0.7837837837837838, -5.907973123563303e-05, 0.08108108108108109, 0.7972972972972973, -2.6407437650738535e-05, 0.2972972972972973, 0.972972972972973, -6.95099651410773e-05, 0.44594594594594594, 0.8918918918918919, -0.00010169447852751693, 0.527027027027027, 0.7702702702702703, -0.00011667738844816749, 0.14864864864864866, 0.7297297297297297, -0.00010532342098854683, 0.3108108108108108, 0.9054054054054054, -0.00013994978036026696, 0.4189189189189189, 0.8783783783783784, -0.0001355873143954857, 0.5, 0.7972972972972973, -0.00012209382210228895, 0.0, 0.0, 0.0, 0.0, 0.0, 0.0, 0.0, 0.0, 0.0, 0.0, 0.0, 0.0, 0.0, 0.0, 0.0, 0.0, 0.0, 0.0, 0.0, 0.0, 0.0, 0.0, 0.0, 0.0, 0.0, 0.0, 0.0, 0.0, 0.0, 0.0, 0.0, 0.0, 0.0, 0.0, 0.0, 0.0, 0.0, 0.0, 0.0, 0.0, 0.0, 0.0, 0.0, 0.0, 0.0, 0.0, 0.0, 0.0, 0.0, 0.0, 0.0, 0.0, 0.0, 0.0, 0.0, 0.0, 0.0, 0.0, 0.0, 0.0, 0.0, 0.0, 0.0]])],\n",
              "             dtype=object)                                                                                                                                                                                                                                                                                                                                                                                                                                                                                                                                                                                                                                                                                                                                                                                                                                                                                                                                                                                                                                                                                                                                                                                                                                                                                                                                                                                                                                                                                                                                                                                                                                                                            ,\n",
              "       list([0.06248387694358801, 0.21971645951271002, 1.0, 0.7641385793685911]),\n",
              "       'fix',\n",
              "       array([list([]), list([]), list([]), list([]), list([]), list([]),\n",
              "              list([]), list([]), list([]), list([]), list([]),\n",
              "              list([[0.0, 0.0, 0.0, 0.0, 0.0, 0.0, 0.0, 0.0, 0.0, 0.0, 0.0, 0.0, 0.0, 0.0, 0.0, 0.0, 0.0, 0.0, 0.0, 0.0, 0.0, 0.0, 0.0, 0.0, 0.0, 0.0, 0.0, 0.0, 0.0, 0.0, 0.0, 0.0, 0.0, 0.0, 0.0, 0.0, 0.0, 0.0, 0.0, 0.0, 0.0, 0.0, 0.0, 0.0, 0.0, 0.0, 0.0, 0.0, 0.0, 0.0, 0.0, 0.0, 0.0, 0.0, 0.0, 0.0, 0.0, 0.0, 0.0, 0.0, 0.0, 0.0, 0.0, 0.0, 0.0, 8.039081447314426e-10, 0.19736842105263158, -0.2236842105263158, -3.7237940552203276e-05, 0.4868421052631579, -0.23684210526315788, -0.00012060970460113727, 0.7236842105263158, -0.06578947368421052, -0.00019291567763215616, 0.881578947368421, 0.10526315789473684, -0.0002506518442379801, 0.47368421052631576, -0.5, -0.00029958912024372503, 0.75, -0.4605263157894737, -0.00046963930914276525, 0.8947368421052632, -0.3157894736842105, -0.0005476720337020723, 1.0, -0.14473684210526316, -0.00058344727087962, 0.40789473684210525, -0.27631578947368424, -0.00036450833278267006, 0.7368421052631579, 0.11842105263157894, -0.0005465073412970492, 0.6710526315789473, 0.21052631578947367, -0.0005355486156124817, 0.5657894736842105, 0.18421052631578946, -0.0004932972063359461, 0.34210526315789475, -0.013157894736842105, -0.00042224047999632984, 0.618421052631579, 0.35526315789473684, -0.0005488998599742588, 0.5263157894736842, 0.3684210526315789, -0.00043442977690383007, 0.42105263157894735, 0.2894736842105263, -0.00032820292797527815, 0.25, 0.25, -0.00048317377896685347, 0.4868421052631579, 0.5131578947368421, -0.0005104446195458111, 0.42105263157894735, 0.5, -0.00039250631571600313, 0.32894736842105265, 0.40789473684210525, -0.00029914044333915964]]),\n",
              "              list([[0.0, 0.0, 0.0, 0.0, 0.0, 0.0, 0.0, 0.0, 0.0, 0.0, 0.0, 0.0, 0.0, 0.0, 0.0, 0.0, 0.0, 0.0, 0.0, 0.0, 0.0, 0.0, 0.0, 0.0, 0.0, 0.0, 0.0, 0.0, 0.0, 0.0, 0.0, 0.0, 0.0, 0.0, 0.0, 0.0, 0.0, 0.0, 0.0, 0.0, 0.0, 0.0, 0.0, 0.0, 0.0, 0.0, 0.0, 0.0, 0.0, 0.0, 0.0, 0.0, 0.0, 0.0, 0.0, 0.0, 0.0, 0.0, 0.0, 0.0, 0.0, 0.0, 0.0, 0.0, 0.0, 5.609292999645121e-10, 0.2054794520547945, -0.1780821917808219, -4.78426020031106e-05, 0.5068493150684932, -0.1232876712328767, -0.0001565670492510273, 0.726027397260274, 0.0958904109589041, -0.00025215331618099997, 0.8356164383561644, 0.3150684931506849, -0.00033634002894571385, 0.4931506849315068, -0.4383561643835616, -0.0003581489755274498, 0.7671232876712328, -0.3972602739726027, -0.0005449703192874177, 0.9041095890410958, -0.2328767123287671, -0.0006329609106664789, 1.0, -0.0547945205479452, -0.0006811746893680259, 0.3972602739726027, -0.2465753424657534, -0.00043605946718829953, 0.6986301369863014, 0.2465753424657534, -0.0006566340588543513, 0.6027397260273972, 0.3150684931506849, -0.0006496300538108773, 0.4931506849315068, 0.2328767123287671, -0.0006085306099832874, 0.2876712328767123, 0.0136986301369863, -0.0005054168709336895, 0.5616438356164384, 0.4657534246575342, -0.0006563104178807506, 0.4520547945205479, 0.4657534246575342, -0.00053045878263369, 0.3561643835616438, 0.3561643835616438, -0.00041654195687542225, 0.1780821917808219, 0.273972602739726, -0.0005789520601703696, 0.410958904109589, 0.6164383561643836, -0.0006166284214960385, 0.3424657534246575, 0.5753424657534246, -0.00048987113245546, 0.2465753424657534, 0.4657534246575342, -0.00039334753400658906]]),\n",
              "              list([[0.0, 0.0, 0.0, 0.0, 0.0, 0.0, 0.0, 0.0, 0.0, 0.0, 0.0, 0.0, 0.0, 0.0, 0.0, 0.0, 0.0, 0.0, 0.0, 0.0, 0.0, 0.0, 0.0, 0.0, 0.0, 0.0, 0.0, 0.0, 0.0, 0.0, 0.0, 0.0, 0.0, 0.0, 0.0, 0.0, 0.0, 0.0, 0.0, 0.0, 0.0, 0.0, 0.0, 0.0, 0.0, 0.0, 0.0, 0.0, 0.0, 0.0, 0.0, 0.0, 0.0, 0.0, 0.0, 0.0, 0.0, 0.0, 0.0, 0.0, 0.0, 0.0, 0.0, 0.0, 0.0, 8.786266200196999e-10, 0.20987654320987653, -0.13580246913580246, -2.594471242232823e-05, 0.48148148148148145, -0.04938271604938271, -0.00010101036111145844, 0.6666666666666666, 0.18518518518518517, -0.0001722295642083074, 0.7654320987654321, 0.43209876543209874, -0.0002318647356680882, 0.5308641975308642, -0.2962962962962963, -0.00024297164270171412, 0.7777777777777778, -0.1728395061728395, -0.00040841921244138554, 0.9135802469135802, 0.012345679012345678, -0.0005033288013052057, 1.0, 0.20987654320987653, -0.0005537159281012453, 0.4444444444444444, -0.12345679012345678, -0.00031014685921462964, 0.6666666666666666, 0.345679012345679, -0.0004849656956431306, 0.5925925925925926, 0.4074074074074074, -0.0004914620960200275, 0.5061728395061729, 0.32098765432098764, -0.00046555247203803354, 0.345679012345679, 0.08641975308641975, -0.0003728196944719479, 0.5308641975308642, 0.5308641975308642, -0.000492570024949533, 0.4444444444444444, 0.5185185185185185, -0.0004003416332933638, 0.37037037037037035, 0.3950617283950617, -0.00031332345104511874, 0.2345679012345679, 0.2962962962962963, -0.0004392155894526729, 0.3950617283950617, 0.654320987654321, -0.0004634316320772524, 0.32098765432098764, 0.6049382716049383, -0.0003576395274312408, 0.25925925925925924, 0.48148148148148145, -0.00027314941456288465]]),\n",
              "              list([[0.0, 0.0, 0.0, 0.0, 0.0, 0.0, 0.0, 0.0, 0.0, 0.0, 0.0, 0.0, 0.0, 0.0, 0.0, 0.0, 0.0, 0.0, 0.0, 0.0, 0.0, 0.0, 0.0, 0.0, 0.0, 0.0, 0.0, 0.0, 0.0, 0.0, 0.0, 0.0, 0.0, 0.0, 0.0, 0.0, 0.0, 0.0, 0.0, 0.0, 0.0, 0.0, 0.0, 0.0, 0.0, 0.0, 0.0, 0.0, 0.0, 0.0, 0.0, 0.0, 0.0, 0.0, 0.0, 0.0, 0.0, 0.0, 0.0, 0.0, 0.0, 0.0, 0.0, 0.0, 0.0, 5.750664471364601e-10, 0.18518518518518517, -0.13580246913580246, -7.071202735123397e-07, 0.43209876543209874, -0.09876543209876543, -7.138612829608682e-05, 0.5802469135802469, 0.07407407407407407, -0.00014353210083496425, 0.6666666666666666, 0.2839506172839506, -0.0002074032148093353, 0.5185185185185185, -0.19753086419753085, -0.00024011128662545004, 0.7901234567901234, -0.09876543209876543, -0.0004092109975991426, 0.9259259259259259, 0.09876543209876543, -0.0004959038378279886, 1.0, 0.2716049382716049, -0.0005358639230698715, 0.4444444444444444, -0.04938271604938271, -0.0003188565879324336, 0.6419753086419753, 0.4691358024691358, -0.0004981797602441576, 0.5555555555555556, 0.4691358024691358, -0.0004898838146969125, 0.4691358024691358, 0.3333333333333333, -0.00044242205259240703, 0.3333333333333333, 0.13580246913580246, -0.0003905575492499787, 0.49382716049382713, 0.6172839506172839, -0.0005151385694374273, 0.4074074074074074, 0.5555555555555556, -0.00041406863817462216, 0.345679012345679, 0.4074074074074074, -0.00031424396567874483, 0.2222222222222222, 0.2962962962962963, -0.00046160890732282474, 0.35802469135802467, 0.6790123456790124, -0.0004944101343920201, 0.2962962962962963, 0.6172839506172839, -0.0003812758734932652, 0.2345679012345679, 0.4691358024691358, -0.0002857519796601048]]),\n",
              "              list([[0.0, 0.0, 0.0, 0.0, 0.0, 0.0, 0.0, 0.0, 0.0, 0.0, 0.0, 0.0, 0.0, 0.0, 0.0, 0.0, 0.0, 0.0, 0.0, 0.0, 0.0, 0.0, 0.0, 0.0, 0.0, 0.0, 0.0, 0.0, 0.0, 0.0, 0.0, 0.0, 0.0, 0.0, 0.0, 0.0, 0.0, 0.0, 0.0, 0.0, 0.0, 0.0, 0.0, 0.0, 0.0, 0.0, 0.0, 0.0, 0.0, 0.0, 0.0, 0.0, 0.0, 0.0, 0.0, 0.0, 0.0, 0.0, 0.0, 0.0, 0.0, 0.0, 0.0, 0.0, 0.0, 6.976038825192385e-10, 0.18292682926829268, -0.15853658536585366, -6.614065524644968e-06, 0.4268292682926829, -0.13414634146341464, -8.037724395895877e-05, 0.5853658536585366, 0.036585365853658534, -0.00015414751520970973, 0.6707317073170732, 0.23170731707317074, -0.0002201267677109416, 0.524390243902439, -0.24390243902439024, -0.00024861694745174266, 0.7804878048780488, -0.12195121951219512, -0.00042241938957353917, 0.9146341463414634, 0.06097560975609756, -0.0005166039506836635, 1.0, 0.24390243902439024, -0.0005628612891929905, 0.43902439024390244, -0.0975609756097561, -0.0003251566483480174, 0.6463414634146342, 0.4268292682926829, -0.0005059850106878979, 0.5609756097560976, 0.4268292682926829, -0.0005015302449464798, 0.4634146341463415, 0.2926829268292683, -0.00045888880040587446, 0.32926829268292684, 0.08536585365853659, -0.0003951374986549703, 0.5, 0.5609756097560976, -0.00051837373615765, 0.4146341463414634, 0.5121951219512195, -0.0004207997060403591, 0.35365853658536583, 0.36585365853658536, -0.00032560649986674146, 0.21951219512195122, 0.2682926829268293, -0.00046552540507258436, 0.35365853658536583, 0.6341463414634146, -0.0004992386462484918, 0.2926829268292683, 0.573170731707317, -0.0003907785001324444, 0.24390243902439024, 0.4268292682926829, -0.0002996157400491761]]),\n",
              "              list([[0.0, 0.0, -7.402415311543659e-10, -0.1693548387096774, 0.08870967741935484, 2.3908811741538586e-05, -0.2903225806451613, 0.2903225806451613, -1.0000071450767497e-05, -0.3467741935483871, 0.532258064516129, -5.021289501699709e-05, -0.3467741935483871, 0.7338709677419355, -0.00010830056553165759, -0.3548387096774194, 0.3225806451612903, -0.0001477986844556947, -0.43548387096774194, 0.6774193548387096, -0.00023521936588710355, -0.4435483870967742, 0.9193548387096774, -0.0002799636774486111, -0.41935483870967744, 1.0, -0.00030069302527173874, -0.2661290322580645, 0.3629032258064516, -0.0002009898964916506, -0.33064516129032256, 0.8225806451612904, -0.00026431878007227374, -0.29838709677419356, 1.0, -0.0002743034293093989, -0.25806451612903225, 1.0, -0.0002846334790510516, -0.16129032258064516, 0.41935483870967744, -0.00024409520049248972, -0.20161290322580644, 0.8548387096774194, -0.0002962110504027336, -0.16129032258064516, 0.9516129032258065, -0.0002741475679701374, -0.13709677419354838, 0.9274193548387096, -0.00025880958644613144, -0.04838709677419355, 0.46774193548387094, -0.00028148056158135013, -0.08064516129032258, 0.7983870967741935, -0.0003273643613342316, -0.06451612903225806, 0.8629032258064516, -0.0003023340757335386, -0.04838709677419355, 0.8306451612903226, -0.0002765496892313803, 0.0, 0.0, 0.0, 0.0, 0.0, 0.0, 0.0, 0.0, 0.0, 0.0, 0.0, 0.0, 0.0, 0.0, 0.0, 0.0, 0.0, 0.0, 0.0, 0.0, 0.0, 0.0, 0.0, 0.0, 0.0, 0.0, 0.0, 0.0, 0.0, 0.0, 0.0, 0.0, 0.0, 0.0, 0.0, 0.0, 0.0, 0.0, 0.0, 0.0, 0.0, 0.0, 0.0, 0.0, 0.0, 0.0, 0.0, 0.0, 0.0, 0.0, 0.0, 0.0, 0.0, 0.0, 0.0, 0.0, 0.0, 0.0, 0.0, 0.0, 0.0, 0.0, 0.0]]),\n",
              "              list([[0.0, 0.0, -8.017827705468031e-10, -0.21333333333333335, -0.02666666666666667, 1.1048537368575732e-05, -0.4533333333333333, 0.10666666666666667, -5.7128369808197024e-05, -0.6133333333333333, 0.3333333333333333, -0.0001292068138718605, -0.7333333333333333, 0.56, -0.00021996721625328064, -0.5733333333333334, -0.04, -0.00025137476623058317, -0.8133333333333334, 0.28, -0.0004137787222862244, -0.9333333333333333, 0.5866666666666667, -0.0004872109492619832, -1.0, 0.8266666666666667, -0.0005221173167228698, -0.4666666666666667, 0.05333333333333334, -0.0003365430980920792, -0.68, 0.72, -0.0004936950405438741, -0.6266666666666667, 0.9066666666666666, -0.0004889730115731557, -0.56, 0.8933333333333333, -0.0004663084944089254, -0.32, 0.2, -0.0004119522124528885, -0.4666666666666667, 0.8666666666666667, -0.0005699886878331503, -0.41333333333333333, 0.9466666666666667, -0.0005042632917563121, -0.36, 0.8266666666666667, -0.00042987083395322164, -0.16, 0.37333333333333335, -0.0004795571168263753, -0.29333333333333333, 0.88, -0.0006119078894456228, -0.25333333333333335, 0.9066666666666666, -0.0005659548441569011, -0.21333333333333335, 0.7866666666666666, -0.0005020717779795329, 0.0, 0.0, -8.017827705468031e-10, -0.21333333333333335, -0.02666666666666667, 1.1048537368575732e-05, -0.4533333333333333, 0.10666666666666667, -5.7128369808197024e-05, -0.6133333333333333, 0.3333333333333333, -0.0001292068138718605, -0.7333333333333333, 0.56, -0.00021996721625328064, -0.5733333333333334, -0.04, -0.00025137476623058317, -0.8133333333333334, 0.28, -0.0004137787222862244, -0.9333333333333333, 0.5866666666666667, -0.0004872109492619832, -1.0, 0.8266666666666667, -0.0005221173167228698, -0.4666666666666667, 0.05333333333333334, -0.0003365430980920792, -0.68, 0.72, -0.0004936950405438741, -0.6266666666666667, 0.9066666666666666, -0.0004889730115731557, -0.56, 0.8933333333333333, -0.0004663084944089254, -0.32, 0.2, -0.0004119522124528885, -0.4666666666666667, 0.8666666666666667, -0.0005699886878331503, -0.41333333333333333, 0.9466666666666667, -0.0005042632917563121, -0.36, 0.8266666666666667, -0.00042987083395322164, -0.16, 0.37333333333333335, -0.0004795571168263753, -0.29333333333333333, 0.88, -0.0006119078894456228, -0.25333333333333335, 0.9066666666666666, -0.0005659548441569011, -0.21333333333333335, 0.7866666666666666, -0.0005020717779795329]]),\n",
              "              list([[0.0, 0.0, -1.71471668095733e-09, -0.24324324324324326, -0.0945945945945946, -5.016220588790807e-06, -0.5, -0.10810810810810811, -9.137230321160846e-05, -0.6891891891891891, -0.05405405405405406, -0.00018354998649777594, -0.8513513513513513, -0.013513513513513514, -0.00028909002808300227, -0.4864864864864865, -0.5405405405405406, -0.0002882932690349785, -0.7297297297297297, -0.6621621621621622, -0.0004792830126511084, -0.8918918918918919, -0.5540540540540541, -0.0005658717977034079, -1.0, -0.43243243243243246, -0.0006080871397579038, -0.3783783783783784, -0.4594594594594595, -0.0003770382923854364, -0.6756756756756757, -0.06756756756756757, -0.0005721546004752856, -0.6756756756756757, 0.21621621621621623, -0.000578269362449646, -0.6216216216216216, 0.3108108108108108, -0.0005584421089372119, -0.25675675675675674, -0.2702702702702703, -0.00045720120338169307, -0.5, 0.21621621621621623, -0.0006364622228854412, -0.47297297297297297, 0.40540540540540543, -0.0005663163154511838, -0.40540540540540543, 0.3918918918918919, -0.00048696350406956027, -0.13513513513513514, -0.04054054054054054, -0.0005315375086423513, -0.33783783783783783, 0.33783783783783783, -0.0006687808278444651, -0.33783783783783783, 0.44594594594594594, -0.0006180083429491198, -0.28378378378378377, 0.40540540540540543, -0.0005504882114159094, 0.0, 0.0, 0.0, 0.0, 0.0, 0.0, 0.0, 0.0, 0.0, 0.0, 0.0, 0.0, 0.0, 0.0, 0.0, 0.0, 0.0, 0.0, 0.0, 0.0, 0.0, 0.0, 0.0, 0.0, 0.0, 0.0, 0.0, 0.0, 0.0, 0.0, 0.0, 0.0, 0.0, 0.0, 0.0, 0.0, 0.0, 0.0, 0.0, 0.0, 0.0, 0.0, 0.0, 0.0, 0.0, 0.0, 0.0, 0.0, 0.0, 0.0, 0.0, 0.0, 0.0, 0.0, 0.0, 0.0, 0.0, 0.0, 0.0, 0.0, 0.0, 0.0, 0.0]]),\n",
              "              list([]), list([]), list([]), list([]), list([]), list([]),\n",
              "              list([]), list([]), list([]), list([]), list([])], dtype=object)                                                                                                                                                                                                                                                                                                                                                                                                                                                                                                                                                                                                                                                                                                                                                                                                                                                                                                                                                                                                                                                                                                                                                                                                                                                                                                                                                                                                                                                                                                                                                                                                                                                                                                                                                                                                                                                                                                                                                                                                                                                                                                                                                                                                                                                                                                                                                                                               ,\n",
              "       list([0.0, 0.009079158306121, 1.0, 0.88167381286621]), 'clock',\n",
              "       array([], shape=(30, 0), dtype=float64),\n",
              "       list([0.0, 0.13979989290237402, 1.0, 0.8841031789779661]), 'there',\n",
              "       array([list([]), list([]), list([]), list([]), list([]), list([]),\n",
              "              list([]), list([]), list([]), list([]),\n",
              "              list([[0.0, 0.0, 0.0, 0.0, 0.0, 0.0, 0.0, 0.0, 0.0, 0.0, 0.0, 0.0, 0.0, 0.0, 0.0, 0.0, 0.0, 0.0, 0.0, 0.0, 0.0, 0.0, 0.0, 0.0, 0.0, 0.0, 0.0, 0.0, 0.0, 0.0, 0.0, 0.0, 0.0, 0.0, 0.0, 0.0, 0.0, 0.0, 0.0, 0.0, 0.0, 0.0, 0.0, 0.0, 0.0, 0.0, 0.0, 0.0, 0.0, 0.0, 0.0, 0.0, 0.0, 0.0, 0.0, 0.0, 0.0, 0.0, 0.0, 0.0, 0.0, 0.0, 0.0, 0.0, 0.0, 5.345749503437716e-10, 0.10062893081761007, -0.018867924528301886, -7.498195781460349e-05, 0.20754716981132076, -0.15723270440251572, -0.0001341982293616301, 0.24528301886792453, -0.29559748427672955, -0.00019310943126303595, 0.23270440251572327, -0.41509433962264153, -0.00025383978144927595, 0.15723270440251572, -0.5786163522012578, -0.00012117140463688088, 0.2138364779874214, -0.7484276729559748, -0.00023888906686560913, 0.27672955974842767, -0.8867924528301887, -0.00032367484655770114, 0.3333333333333333, -1.0, -0.0003808289297721671, 0.06289308176100629, -0.6289308176100629, -0.00014183971351422605, 0.16352201257861634, -0.4968553459119497, -0.00029396640617142684, 0.14465408805031446, -0.27044025157232704, -0.000327316680981678, 0.1069182389937107, -0.1509433962264151, -0.0003238640866189633, -0.031446540880503145, -0.5911949685534591, -0.00017121962546927375, 0.06289308176100629, -0.4339622641509434, -0.00031235148696779453, 0.05660377358490566, -0.24528301886792453, -0.00027851870506064697, 0.025157232704402517, -0.16352201257861634, -0.00022817114895244813, -0.11949685534591195, -0.4968553459119497, -0.0002085746224946196, -0.03773584905660377, -0.37735849056603776, -0.0003004109709517761, -0.025157232704402517, -0.23270440251572327, -0.00026794518314817415, -0.050314465408805034, -0.18867924528301888, -0.000224811944571681]]),\n",
              "              list([]), list([]), list([]), list([]), list([]), list([]),\n",
              "              list([]), list([]), list([]), list([]), list([]), list([]),\n",
              "              list([]), list([]), list([]),\n",
              "              list([[0.0, 0.0, 0.0, 0.0, 0.0, 0.0, 0.0, 0.0, 0.0, 0.0, 0.0, 0.0, 0.0, 0.0, 0.0, 0.0, 0.0, 0.0, 0.0, 0.0, 0.0, 0.0, 0.0, 0.0, 0.0, 0.0, 0.0, 0.0, 0.0, 0.0, 0.0, 0.0, 0.0, 0.0, 0.0, 0.0, 0.0, 0.0, 0.0, 0.0, 0.0, 0.0, 0.0, 0.0, 0.0, 0.0, 0.0, 0.0, 0.0, 0.0, 0.0, 0.0, 0.0, 0.0, 0.0, 0.0, 0.0, 0.0, 0.0, 0.0, 0.0, 0.0, 0.0, 0.0, 0.0, 1.2733158470265124e-09, 0.08870967741935484, -0.03225806451612903, -0.00013586000028637148, 0.1693548387096774, -0.14516129032258066, -0.00023712940333831694, 0.18548387096774194, -0.25, -0.0003231584485019407, 0.14516129032258066, -0.33064516129032256, -0.0004101635047024296, 0.16129032258064516, -0.47580645161290325, -0.00021468072889312622, 0.20161290322580644, -0.7096774193548387, -0.0003457908788996358, 0.23387096774193547, -0.8870967741935484, -0.0004287433600233447, 0.25, -1.0, -0.00048072552008013574, 0.04838709677419355, -0.4838709677419355, -0.00020192141434358012, 0.04032258064516129, -0.6209677419354839, -0.0003501236018153929, 0.056451612903225805, -0.46774193548387094, -0.00037949228839528177, 0.06451612903225806, -0.3467741935483871, -0.0003756764795511, -0.056451612903225805, -0.43548387096774194, -0.00020048970116242287, -0.07258064516129033, -0.5, -0.0003210020161444141, -0.04838709677419355, -0.3709677419354839, -0.0002814503987469981, -0.04032258064516129, -0.2903225806451613, -0.00023292239394880112, -0.1532258064516129, -0.3387096774193548, -0.00020970165308925413, -0.1693548387096774, -0.4112903225806452, -0.0002807908120655244, -0.14516129032258066, -0.3225806451612903, -0.00024155046670667587, -0.12903225806451613, -0.27419354838709675, -0.0001974700829915462]]),\n",
              "              list([]), list([]), list([])], dtype=object)                                                                                                                                                                                                                                                                                                                                                                                                                                                                                                                                                                                                                                                                                                                                                                                                                                                                                                                                                                                                                                                                                                                                                                                                                                                                                                                                                                                                                                                                                                                                                                                                                                                                                                             ,\n",
              "       list([0.019787907600402003, 0.13764008879661502, 1.0, 0.7488411068916321]),\n",
              "       'next week',\n",
              "       array([list([]), list([]), list([]), list([]), list([]), list([]),\n",
              "              list([]), list([]), list([]), list([]),\n",
              "              list([[0.0, 0.0, 0.0, 0.0, 0.0, 0.0, 0.0, 0.0, 0.0, 0.0, 0.0, 0.0, 0.0, 0.0, 0.0, 0.0, 0.0, 0.0, 0.0, 0.0, 0.0, 0.0, 0.0, 0.0, 0.0, 0.0, 0.0, 0.0, 0.0, 0.0, 0.0, 0.0, 0.0, 0.0, 0.0, 0.0, 0.0, 0.0, 0.0, 0.0, 0.0, 0.0, 0.0, 0.0, 0.0, 0.0, 0.0, 0.0, 0.0, 0.0, 0.0, 0.0, 0.0, 0.0, 0.0, 0.0, 0.0, 0.0, 0.0, 0.0, 0.0, 0.0, 0.0, 0.0, 0.0, 5.345749503437716e-10, 0.10062893081761007, -0.018867924528301886, -7.498195781460349e-05, 0.20754716981132076, -0.15723270440251572, -0.0001341982293616301, 0.24528301886792453, -0.29559748427672955, -0.00019310943126303595, 0.23270440251572327, -0.41509433962264153, -0.00025383978144927595, 0.15723270440251572, -0.5786163522012578, -0.00012117140463688088, 0.2138364779874214, -0.7484276729559748, -0.00023888906686560913, 0.27672955974842767, -0.8867924528301887, -0.00032367484655770114, 0.3333333333333333, -1.0, -0.0003808289297721671, 0.06289308176100629, -0.6289308176100629, -0.00014183971351422605, 0.16352201257861634, -0.4968553459119497, -0.00029396640617142684, 0.14465408805031446, -0.27044025157232704, -0.000327316680981678, 0.1069182389937107, -0.1509433962264151, -0.0003238640866189633, -0.031446540880503145, -0.5911949685534591, -0.00017121962546927375, 0.06289308176100629, -0.4339622641509434, -0.00031235148696779453, 0.05660377358490566, -0.24528301886792453, -0.00027851870506064697, 0.025157232704402517, -0.16352201257861634, -0.00022817114895244813, -0.11949685534591195, -0.4968553459119497, -0.0002085746224946196, -0.03773584905660377, -0.37735849056603776, -0.0003004109709517761, -0.025157232704402517, -0.23270440251572327, -0.00026794518314817415, -0.050314465408805034, -0.18867924528301888, -0.000224811944571681]]),\n",
              "              list([]), list([]), list([]), list([]), list([]), list([]),\n",
              "              list([]), list([]), list([]), list([]), list([]), list([]),\n",
              "              list([]), list([]), list([]),\n",
              "              list([[0.0, 0.0, 0.0, 0.0, 0.0, 0.0, 0.0, 0.0, 0.0, 0.0, 0.0, 0.0, 0.0, 0.0, 0.0, 0.0, 0.0, 0.0, 0.0, 0.0, 0.0, 0.0, 0.0, 0.0, 0.0, 0.0, 0.0, 0.0, 0.0, 0.0, 0.0, 0.0, 0.0, 0.0, 0.0, 0.0, 0.0, 0.0, 0.0, 0.0, 0.0, 0.0, 0.0, 0.0, 0.0, 0.0, 0.0, 0.0, 0.0, 0.0, 0.0, 0.0, 0.0, 0.0, 0.0, 0.0, 0.0, 0.0, 0.0, 0.0, 0.0, 0.0, 0.0, 0.0, 0.0, 1.2733158470265124e-09, 0.08870967741935484, -0.03225806451612903, -0.00013586000028637148, 0.1693548387096774, -0.14516129032258066, -0.00023712940333831694, 0.18548387096774194, -0.25, -0.0003231584485019407, 0.14516129032258066, -0.33064516129032256, -0.0004101635047024296, 0.16129032258064516, -0.47580645161290325, -0.00021468072889312622, 0.20161290322580644, -0.7096774193548387, -0.0003457908788996358, 0.23387096774193547, -0.8870967741935484, -0.0004287433600233447, 0.25, -1.0, -0.00048072552008013574, 0.04838709677419355, -0.4838709677419355, -0.00020192141434358012, 0.04032258064516129, -0.6209677419354839, -0.0003501236018153929, 0.056451612903225805, -0.46774193548387094, -0.00037949228839528177, 0.06451612903225806, -0.3467741935483871, -0.0003756764795511, -0.056451612903225805, -0.43548387096774194, -0.00020048970116242287, -0.07258064516129033, -0.5, -0.0003210020161444141, -0.04838709677419355, -0.3709677419354839, -0.0002814503987469981, -0.04032258064516129, -0.2903225806451613, -0.00023292239394880112, -0.1532258064516129, -0.3387096774193548, -0.00020970165308925413, -0.1693548387096774, -0.4112903225806452, -0.0002807908120655244, -0.14516129032258066, -0.3225806451612903, -0.00024155046670667587, -0.12903225806451613, -0.27419354838709675, -0.0001974700829915462]]),\n",
              "              list([]), list([]), list([])], dtype=object)                                                                                                                                                                                                                                                                                                                                                                                                                                                                                                                                                                                                                                                                                                                                                                                                                                                                                                                                                                                                                                                                                                                                                                                                                                                                                                                                                                                                                                                                                                                                                                                                                                                                                                             ,\n",
              "       list([0.057004362344741, 0.219485610723495, 1.0, 0.75902384519577]),\n",
              "       'next week'], dtype=object)"
            ]
          },
          "metadata": {},
          "execution_count": 35
        }
      ]
    },
    {
      "cell_type": "code",
      "source": [
        "#np.set_printoptions(threshold=sys.maxsize)\n",
        "np.array(mediapipe_keypoints)[:30].shape"
      ],
      "metadata": {
        "colab": {
          "base_uri": "https://localhost:8080/"
        },
        "id": "7bU8hBST3r0f",
        "outputId": "4dd90ae4-0399-4123-9a31-5152f90d89b3"
      },
      "execution_count": null,
      "outputs": [
        {
          "output_type": "execute_result",
          "data": {
            "text/plain": [
              "(30,)"
            ]
          },
          "metadata": {},
          "execution_count": 23
        }
      ]
    },
    {
      "cell_type": "code",
      "source": [
        "np.save('test3.npy', np.array(mediapipe_keypoints)[:30])"
      ],
      "metadata": {
        "id": "tpxBKj4t_H6v"
      },
      "execution_count": null,
      "outputs": []
    },
    {
      "cell_type": "code",
      "source": [
        "x = np.load('test3.npy',allow_pickle=True)\n"
      ],
      "metadata": {
        "id": "w6BJVzcC_0Sv"
      },
      "execution_count": null,
      "outputs": []
    },
    {
      "cell_type": "code",
      "source": [
        "x"
      ],
      "metadata": {
        "colab": {
          "base_uri": "https://localhost:8080/"
        },
        "id": "jXXwuQC3A3CD",
        "outputId": "fefd428b-26b6-4a54-bf0c-2910101adb6a"
      },
      "execution_count": null,
      "outputs": [
        {
          "output_type": "execute_result",
          "data": {
            "text/plain": [
              "array([array([[ 0.00000000e+00,  0.00000000e+00,  0.00000000e+00,\n",
              "                0.00000000e+00,  0.00000000e+00,  0.00000000e+00,\n",
              "                0.00000000e+00,  0.00000000e+00,  0.00000000e+00,\n",
              "                0.00000000e+00,  0.00000000e+00,  0.00000000e+00,\n",
              "                0.00000000e+00,  0.00000000e+00,  0.00000000e+00,\n",
              "                0.00000000e+00,  0.00000000e+00,  0.00000000e+00,\n",
              "                0.00000000e+00,  0.00000000e+00,  0.00000000e+00,\n",
              "                0.00000000e+00,  0.00000000e+00,  0.00000000e+00,\n",
              "                0.00000000e+00,  0.00000000e+00,  0.00000000e+00,\n",
              "                0.00000000e+00,  0.00000000e+00,  0.00000000e+00,\n",
              "                0.00000000e+00,  0.00000000e+00,  0.00000000e+00,\n",
              "                0.00000000e+00,  0.00000000e+00,  0.00000000e+00,\n",
              "                0.00000000e+00,  0.00000000e+00,  0.00000000e+00,\n",
              "                0.00000000e+00,  0.00000000e+00,  0.00000000e+00,\n",
              "                0.00000000e+00,  0.00000000e+00,  0.00000000e+00,\n",
              "                0.00000000e+00,  0.00000000e+00,  0.00000000e+00,\n",
              "                0.00000000e+00,  0.00000000e+00,  0.00000000e+00,\n",
              "                0.00000000e+00,  0.00000000e+00,  0.00000000e+00,\n",
              "                0.00000000e+00,  0.00000000e+00,  0.00000000e+00,\n",
              "                0.00000000e+00,  0.00000000e+00,  0.00000000e+00,\n",
              "                0.00000000e+00,  0.00000000e+00,  0.00000000e+00,\n",
              "                0.00000000e+00,  0.00000000e+00,  3.27458517e-09,\n",
              "                7.14285714e-02, -2.67857143e-01, -1.70147385e-05,\n",
              "                2.58928571e-01, -3.48214286e-01, -3.95676138e-05,\n",
              "                4.10714286e-01, -3.03571429e-01, -3.64381205e-05,\n",
              "                5.00000000e-01, -2.50000000e-01, -4.82831882e-05,\n",
              "                3.75000000e-01, -3.21428571e-01, -3.10947520e-04,\n",
              "                6.07142857e-01, -4.46428571e-01, -4.48487766e-04,\n",
              "                7.67857143e-01, -5.17857143e-01, -5.23480188e-04,\n",
              "                8.92857143e-01, -5.62500000e-01, -5.70651942e-04,\n",
              "                4.10714286e-01, -1.16071429e-01, -3.48434318e-04,\n",
              "                6.87500000e-01, -1.87500000e-01, -4.60340575e-04,\n",
              "                8.57142857e-01, -2.23214286e-01, -5.38275544e-04,\n",
              "                1.00000000e+00, -2.58928571e-01, -5.95045343e-04,\n",
              "                4.10714286e-01,  6.25000000e-02, -3.66726291e-04,\n",
              "                6.69642857e-01,  5.35714286e-02, -4.99860151e-04,\n",
              "                8.39285714e-01,  4.46428571e-02, -6.15748776e-04,\n",
              "                9.64285714e-01,  3.57142857e-02, -6.92661186e-04,\n",
              "                3.66071429e-01,  1.96428571e-01, -3.69043023e-04,\n",
              "                5.26785714e-01,  3.21428571e-01, -5.32777647e-04,\n",
              "                6.33928571e-01,  3.83928571e-01, -6.24203123e-04,\n",
              "                7.32142857e-01,  4.37500000e-01, -6.72552934e-04]]),\n",
              "       array([[ 0.00000000e+00,  0.00000000e+00,  0.00000000e+00,\n",
              "                0.00000000e+00,  0.00000000e+00,  0.00000000e+00,\n",
              "                0.00000000e+00,  0.00000000e+00,  0.00000000e+00,\n",
              "                0.00000000e+00,  0.00000000e+00,  0.00000000e+00,\n",
              "                0.00000000e+00,  0.00000000e+00,  0.00000000e+00,\n",
              "                0.00000000e+00,  0.00000000e+00,  0.00000000e+00,\n",
              "                0.00000000e+00,  0.00000000e+00,  0.00000000e+00,\n",
              "                0.00000000e+00,  0.00000000e+00,  0.00000000e+00,\n",
              "                0.00000000e+00,  0.00000000e+00,  0.00000000e+00,\n",
              "                0.00000000e+00,  0.00000000e+00,  0.00000000e+00,\n",
              "                0.00000000e+00,  0.00000000e+00,  0.00000000e+00,\n",
              "                0.00000000e+00,  0.00000000e+00,  0.00000000e+00,\n",
              "                0.00000000e+00,  0.00000000e+00,  0.00000000e+00,\n",
              "                0.00000000e+00,  0.00000000e+00,  0.00000000e+00,\n",
              "                0.00000000e+00,  0.00000000e+00,  0.00000000e+00,\n",
              "                0.00000000e+00,  0.00000000e+00,  0.00000000e+00,\n",
              "                0.00000000e+00,  0.00000000e+00,  0.00000000e+00,\n",
              "                0.00000000e+00,  0.00000000e+00,  0.00000000e+00,\n",
              "                0.00000000e+00,  0.00000000e+00,  0.00000000e+00,\n",
              "                0.00000000e+00,  0.00000000e+00,  0.00000000e+00,\n",
              "                0.00000000e+00,  0.00000000e+00,  0.00000000e+00,\n",
              "                0.00000000e+00,  0.00000000e+00,  3.01907194e-09,\n",
              "                7.07964602e-02, -2.56637168e-01,  2.45671789e-05,\n",
              "                2.56637168e-01, -3.27433628e-01,  3.33665268e-05,\n",
              "                4.15929204e-01, -3.00884956e-01,  6.52961136e-05,\n",
              "                5.04424779e-01, -2.56637168e-01,  8.04980838e-05,\n",
              "                3.71681416e-01, -3.09734513e-01, -2.74437076e-04,\n",
              "                6.10619469e-01, -4.42477876e-01, -3.96112425e-04,\n",
              "                7.69911504e-01, -5.22123894e-01, -4.62651681e-04,\n",
              "                8.84955752e-01, -5.66371681e-01, -5.05739411e-04,\n",
              "                4.15929204e-01, -1.06194690e-01, -3.14860382e-04,\n",
              "                6.90265487e-01, -1.94690265e-01, -4.06551150e-04,\n",
              "                8.58407080e-01, -2.30088496e-01, -4.71781873e-04,\n",
              "                1.00000000e+00, -2.65486726e-01, -5.21315410e-04,\n",
              "                4.15929204e-01,  6.19469027e-02, -3.31922377e-04,\n",
              "                6.81415929e-01,  5.30973451e-02, -4.55739850e-04,\n",
              "                8.40707965e-01,  2.65486726e-02, -5.78927387e-04,\n",
              "                9.64601770e-01,  1.76991150e-02, -6.62151427e-04,\n",
              "                3.71681416e-01,  1.94690265e-01, -3.26901707e-04,\n",
              "                5.30973451e-01,  3.18584071e-01, -5.00373180e-04,\n",
              "                6.28318584e-01,  3.80530973e-01, -6.06865548e-04,\n",
              "                7.16814159e-01,  4.33628319e-01, -6.64697944e-04]]),\n",
              "       array([[ 0.00000000e+00,  0.00000000e+00,  0.00000000e+00,\n",
              "                0.00000000e+00,  0.00000000e+00,  0.00000000e+00,\n",
              "                0.00000000e+00,  0.00000000e+00,  0.00000000e+00,\n",
              "                0.00000000e+00,  0.00000000e+00,  0.00000000e+00,\n",
              "                0.00000000e+00,  0.00000000e+00,  0.00000000e+00,\n",
              "                0.00000000e+00,  0.00000000e+00,  0.00000000e+00,\n",
              "                0.00000000e+00,  0.00000000e+00,  0.00000000e+00,\n",
              "                0.00000000e+00,  0.00000000e+00,  0.00000000e+00,\n",
              "                0.00000000e+00,  0.00000000e+00,  0.00000000e+00,\n",
              "                0.00000000e+00,  0.00000000e+00,  0.00000000e+00,\n",
              "                0.00000000e+00,  0.00000000e+00,  0.00000000e+00,\n",
              "                0.00000000e+00,  0.00000000e+00,  0.00000000e+00,\n",
              "                0.00000000e+00,  0.00000000e+00,  0.00000000e+00,\n",
              "                0.00000000e+00,  0.00000000e+00,  0.00000000e+00,\n",
              "                0.00000000e+00,  0.00000000e+00,  0.00000000e+00,\n",
              "                0.00000000e+00,  0.00000000e+00,  0.00000000e+00,\n",
              "                0.00000000e+00,  0.00000000e+00,  0.00000000e+00,\n",
              "                0.00000000e+00,  0.00000000e+00,  0.00000000e+00,\n",
              "                0.00000000e+00,  0.00000000e+00,  0.00000000e+00,\n",
              "                0.00000000e+00,  0.00000000e+00,  0.00000000e+00,\n",
              "                0.00000000e+00,  0.00000000e+00,  0.00000000e+00,\n",
              "                0.00000000e+00,  0.00000000e+00,  3.12521243e-09,\n",
              "                7.07964602e-02, -2.65486726e-01, -7.47035111e-06,\n",
              "                2.65486726e-01, -3.36283186e-01, -1.37467199e-05,\n",
              "                4.24778761e-01, -2.92035398e-01,  3.82554913e-06,\n",
              "                5.13274336e-01, -2.38938053e-01,  5.46866898e-06,\n",
              "                3.89380531e-01, -2.92035398e-01, -2.68886476e-04,\n",
              "                6.19469027e-01, -4.15929204e-01, -3.85931602e-04,\n",
              "                7.78761062e-01, -4.77876106e-01, -4.52229407e-04,\n",
              "                9.02654867e-01, -5.22123894e-01, -4.97070693e-04,\n",
              "                4.24778761e-01, -9.73451327e-02, -3.05514453e-04,\n",
              "                6.90265487e-01, -1.50442478e-01, -3.93976878e-04,\n",
              "                8.67256637e-01, -1.76991150e-01, -4.62450483e-04,\n",
              "                1.00000000e+00, -1.94690265e-01, -5.15531683e-04,\n",
              "                4.24778761e-01,  7.96460177e-02, -3.25233239e-04,\n",
              "                6.72566372e-01,  7.96460177e-02, -4.49229493e-04,\n",
              "                8.40707965e-01,  7.07964602e-02, -5.74797656e-04,\n",
              "                9.73451327e-01,  7.07964602e-02, -6.61782657e-04,\n",
              "                3.71681416e-01,  2.12389381e-01, -3.28145328e-04,\n",
              "                5.30973451e-01,  3.45132743e-01, -4.94911410e-04,\n",
              "                6.28318584e-01,  4.15929204e-01, -5.98108940e-04,\n",
              "                7.16814159e-01,  4.77876106e-01, -6.57119318e-04]]),\n",
              "       array([[ 0.00000000e+00,  0.00000000e+00,  0.00000000e+00,\n",
              "                0.00000000e+00,  0.00000000e+00,  0.00000000e+00,\n",
              "                0.00000000e+00,  0.00000000e+00,  0.00000000e+00,\n",
              "                0.00000000e+00,  0.00000000e+00,  0.00000000e+00,\n",
              "                0.00000000e+00,  0.00000000e+00,  0.00000000e+00,\n",
              "                0.00000000e+00,  0.00000000e+00,  0.00000000e+00,\n",
              "                0.00000000e+00,  0.00000000e+00,  0.00000000e+00,\n",
              "                0.00000000e+00,  0.00000000e+00,  0.00000000e+00,\n",
              "                0.00000000e+00,  0.00000000e+00,  0.00000000e+00,\n",
              "                0.00000000e+00,  0.00000000e+00,  0.00000000e+00,\n",
              "                0.00000000e+00,  0.00000000e+00,  0.00000000e+00,\n",
              "                0.00000000e+00,  0.00000000e+00,  0.00000000e+00,\n",
              "                0.00000000e+00,  0.00000000e+00,  0.00000000e+00,\n",
              "                0.00000000e+00,  0.00000000e+00,  0.00000000e+00,\n",
              "                0.00000000e+00,  0.00000000e+00,  0.00000000e+00,\n",
              "                0.00000000e+00,  0.00000000e+00,  0.00000000e+00,\n",
              "                0.00000000e+00,  0.00000000e+00,  0.00000000e+00,\n",
              "                0.00000000e+00,  0.00000000e+00,  0.00000000e+00,\n",
              "                0.00000000e+00,  0.00000000e+00,  0.00000000e+00,\n",
              "                0.00000000e+00,  0.00000000e+00,  0.00000000e+00,\n",
              "                0.00000000e+00,  0.00000000e+00,  0.00000000e+00,\n",
              "                0.00000000e+00,  0.00000000e+00,  2.78809625e-09,\n",
              "                8.84955752e-02, -2.47787611e-01,  4.56164393e-05,\n",
              "                2.74336283e-01, -2.92035398e-01,  7.09621895e-05,\n",
              "                4.07079646e-01, -2.56637168e-01,  1.08904436e-04,\n",
              "                4.77876106e-01, -2.12389381e-01,  1.36372155e-04,\n",
              "                4.15929204e-01, -2.56637168e-01, -1.57303383e-04,\n",
              "                6.28318584e-01, -3.36283186e-01, -2.36769874e-04,\n",
              "                7.69911504e-01, -3.80530973e-01, -2.73733952e-04,\n",
              "                8.84955752e-01, -3.98230088e-01, -2.97914993e-04,\n",
              "                4.42477876e-01, -6.19469027e-02, -2.13791888e-04,\n",
              "                6.90265487e-01, -9.73451327e-02, -3.05987993e-04,\n",
              "                8.58407080e-01, -1.15044248e-01, -3.87527609e-04,\n",
              "                1.00000000e+00, -1.15044248e-01, -4.42651488e-04,\n",
              "                4.15929204e-01,  1.06194690e-01, -2.50046430e-04,\n",
              "                6.63716814e-01,  1.50442478e-01, -3.90550633e-04,\n",
              "                8.23008850e-01,  1.68141593e-01, -5.29348652e-04,\n",
              "                9.55752212e-01,  1.85840708e-01, -6.13984545e-04,\n",
              "                3.62831858e-01,  2.47787611e-01, -2.62304580e-04,\n",
              "                5.04424779e-01,  4.15929204e-01, -4.33717418e-04,\n",
              "                5.92920354e-01,  5.04424779e-01, -5.38468229e-04,\n",
              "                6.81415929e-01,  5.75221239e-01, -5.92883446e-04]]),\n",
              "       array([[ 0.00000000e+00,  0.00000000e+00,  0.00000000e+00,\n",
              "                0.00000000e+00,  0.00000000e+00,  0.00000000e+00,\n",
              "                0.00000000e+00,  0.00000000e+00,  0.00000000e+00,\n",
              "                0.00000000e+00,  0.00000000e+00,  0.00000000e+00,\n",
              "                0.00000000e+00,  0.00000000e+00,  0.00000000e+00,\n",
              "                0.00000000e+00,  0.00000000e+00,  0.00000000e+00,\n",
              "                0.00000000e+00,  0.00000000e+00,  0.00000000e+00,\n",
              "                0.00000000e+00,  0.00000000e+00,  0.00000000e+00,\n",
              "                0.00000000e+00,  0.00000000e+00,  0.00000000e+00,\n",
              "                0.00000000e+00,  0.00000000e+00,  0.00000000e+00,\n",
              "                0.00000000e+00,  0.00000000e+00,  0.00000000e+00,\n",
              "                0.00000000e+00,  0.00000000e+00,  0.00000000e+00,\n",
              "                0.00000000e+00,  0.00000000e+00,  0.00000000e+00,\n",
              "                0.00000000e+00,  0.00000000e+00,  0.00000000e+00,\n",
              "                0.00000000e+00,  0.00000000e+00,  0.00000000e+00,\n",
              "                0.00000000e+00,  0.00000000e+00,  0.00000000e+00,\n",
              "                0.00000000e+00,  0.00000000e+00,  0.00000000e+00,\n",
              "                0.00000000e+00,  0.00000000e+00,  0.00000000e+00,\n",
              "                0.00000000e+00,  0.00000000e+00,  0.00000000e+00,\n",
              "                0.00000000e+00,  0.00000000e+00,  0.00000000e+00,\n",
              "                0.00000000e+00,  0.00000000e+00,  0.00000000e+00,\n",
              "                0.00000000e+00,  0.00000000e+00,  2.49227602e-09,\n",
              "                1.14035088e-01, -2.10526316e-01,  1.76769906e-05,\n",
              "                2.98245614e-01, -2.19298246e-01,  2.52706497e-05,\n",
              "                4.12280702e-01, -1.40350877e-01,  3.97057248e-05,\n",
              "                4.64912281e-01, -6.14035088e-02,  3.72326712e-05,\n",
              "                4.56140351e-01, -1.66666667e-01, -1.33937323e-04,\n",
              "                6.75438596e-01, -1.92982456e-01, -1.96850712e-04,\n",
              "                8.24561404e-01, -2.01754386e-01, -2.19388064e-04,\n",
              "                9.29824561e-01, -2.01754386e-01, -2.32198602e-04,\n",
              "                4.64912281e-01,  3.50877193e-02, -1.84457814e-04,\n",
              "                7.10526316e-01,  4.38596491e-02, -2.44795606e-04,\n",
              "                8.77192982e-01,  6.14035088e-02, -2.98686685e-04,\n",
              "                1.00000000e+00,  7.89473684e-02, -3.32402294e-04,\n",
              "                4.21052632e-01,  2.10526316e-01, -2.23160966e-04,\n",
              "                6.57894737e-01,  2.80701754e-01, -3.41886981e-04,\n",
              "                8.15789474e-01,  3.15789474e-01, -4.74402224e-04,\n",
              "                9.47368421e-01,  3.42105263e-01, -5.56467983e-04,\n",
              "                3.33333333e-01,  3.42105263e-01, -2.43368477e-04,\n",
              "                4.56140351e-01,  5.08771930e-01, -3.93435882e-04,\n",
              "                5.43859649e-01,  6.22807018e-01, -4.86278743e-04,\n",
              "                6.14035088e-01,  7.10526316e-01, -5.34491385e-04]]),\n",
              "       array([[ 0.00000000e+00,  0.00000000e+00,  0.00000000e+00,\n",
              "                0.00000000e+00,  0.00000000e+00,  0.00000000e+00,\n",
              "                0.00000000e+00,  0.00000000e+00,  0.00000000e+00,\n",
              "                0.00000000e+00,  0.00000000e+00,  0.00000000e+00,\n",
              "                0.00000000e+00,  0.00000000e+00,  0.00000000e+00,\n",
              "                0.00000000e+00,  0.00000000e+00,  0.00000000e+00,\n",
              "                0.00000000e+00,  0.00000000e+00,  0.00000000e+00,\n",
              "                0.00000000e+00,  0.00000000e+00,  0.00000000e+00,\n",
              "                0.00000000e+00,  0.00000000e+00,  0.00000000e+00,\n",
              "                0.00000000e+00,  0.00000000e+00,  0.00000000e+00,\n",
              "                0.00000000e+00,  0.00000000e+00,  0.00000000e+00,\n",
              "                0.00000000e+00,  0.00000000e+00,  0.00000000e+00,\n",
              "                0.00000000e+00,  0.00000000e+00,  0.00000000e+00,\n",
              "                0.00000000e+00,  0.00000000e+00,  0.00000000e+00,\n",
              "                0.00000000e+00,  0.00000000e+00,  0.00000000e+00,\n",
              "                0.00000000e+00,  0.00000000e+00,  0.00000000e+00,\n",
              "                0.00000000e+00,  0.00000000e+00,  0.00000000e+00,\n",
              "                0.00000000e+00,  0.00000000e+00,  0.00000000e+00,\n",
              "                0.00000000e+00,  0.00000000e+00,  0.00000000e+00,\n",
              "                0.00000000e+00,  0.00000000e+00,  0.00000000e+00,\n",
              "                0.00000000e+00,  0.00000000e+00,  0.00000000e+00,\n",
              "                0.00000000e+00,  0.00000000e+00,  2.49405474e-09,\n",
              "                1.05769231e-01, -7.69230769e-02,  7.96383728e-06,\n",
              "                2.69230769e-01, -7.69230769e-02, -4.69951136e-06,\n",
              "                3.94230769e-01, -6.73076923e-02, -4.40110083e-06,\n",
              "                4.61538462e-01, -8.65384615e-02, -2.17243751e-05,\n",
              "                3.94230769e-01,  8.65384615e-02, -1.65859076e-04,\n",
              "                5.00000000e-01,  3.07692308e-01, -2.42408669e-04,\n",
              "                5.76923077e-01,  4.32692308e-01, -2.91092178e-04,\n",
              "                6.44230769e-01,  5.38461538e-01, -3.19669202e-04,\n",
              "                4.42307692e-01,  1.92307692e-01, -2.19130351e-04,\n",
              "                7.01923077e-01,  3.17307692e-01, -3.04557885e-04,\n",
              "                8.65384615e-01,  3.75000000e-01, -3.43413450e-04,\n",
              "                9.90384615e-01,  4.13461538e-01, -3.60388130e-04,\n",
              "                4.32692308e-01,  2.78846154e-01, -2.62125628e-04,\n",
              "                6.82692308e-01,  3.94230769e-01, -3.94017830e-04,\n",
              "                8.55769231e-01,  4.42307692e-01, -5.08291504e-04,\n",
              "                1.00000000e+00,  4.80769231e-01, -5.67938094e-04,\n",
              "                3.75000000e-01,  3.46153846e-01, -2.87556519e-04,\n",
              "                5.48076923e-01,  5.00000000e-01, -4.38674855e-04,\n",
              "                6.63461538e-01,  5.86538462e-01, -5.16727603e-04,\n",
              "                7.50000000e-01,  6.44230769e-01, -5.52698934e-04]]),\n",
              "       array([[ 0.00000000e+00,  0.00000000e+00,  0.00000000e+00,\n",
              "                0.00000000e+00,  0.00000000e+00,  0.00000000e+00,\n",
              "                0.00000000e+00,  0.00000000e+00,  0.00000000e+00,\n",
              "                0.00000000e+00,  0.00000000e+00,  0.00000000e+00,\n",
              "                0.00000000e+00,  0.00000000e+00,  0.00000000e+00,\n",
              "                0.00000000e+00,  0.00000000e+00,  0.00000000e+00,\n",
              "                0.00000000e+00,  0.00000000e+00,  0.00000000e+00,\n",
              "                0.00000000e+00,  0.00000000e+00,  0.00000000e+00,\n",
              "                0.00000000e+00,  0.00000000e+00,  0.00000000e+00,\n",
              "                0.00000000e+00,  0.00000000e+00,  0.00000000e+00,\n",
              "                0.00000000e+00,  0.00000000e+00,  0.00000000e+00,\n",
              "                0.00000000e+00,  0.00000000e+00,  0.00000000e+00,\n",
              "                0.00000000e+00,  0.00000000e+00,  0.00000000e+00,\n",
              "                0.00000000e+00,  0.00000000e+00,  0.00000000e+00,\n",
              "                0.00000000e+00,  0.00000000e+00,  0.00000000e+00,\n",
              "                0.00000000e+00,  0.00000000e+00,  0.00000000e+00,\n",
              "                0.00000000e+00,  0.00000000e+00,  0.00000000e+00,\n",
              "                0.00000000e+00,  0.00000000e+00,  0.00000000e+00,\n",
              "                0.00000000e+00,  0.00000000e+00,  0.00000000e+00,\n",
              "                0.00000000e+00,  0.00000000e+00,  0.00000000e+00,\n",
              "                0.00000000e+00,  0.00000000e+00,  0.00000000e+00,\n",
              "                0.00000000e+00,  0.00000000e+00,  1.90964982e-09,\n",
              "                1.38297872e-01, -1.06382979e-01,  3.53329889e-05,\n",
              "                3.19148936e-01, -6.38297872e-02,  2.38686483e-05,\n",
              "                4.46808511e-01,  0.00000000e+00,  1.55755155e-05,\n",
              "                5.21276596e-01,  5.31914894e-02, -1.29252377e-05,\n",
              "                4.36170213e-01,  1.17021277e-01, -1.41037638e-04,\n",
              "                5.31914894e-01,  3.51063830e-01, -2.15342011e-04,\n",
              "                5.95744681e-01,  5.00000000e-01, -2.63065555e-04,\n",
              "                6.48936170e-01,  6.06382979e-01, -2.96697516e-04,\n",
              "                4.57446809e-01,  2.76595745e-01, -2.22367215e-04,\n",
              "                7.12765957e-01,  4.57446809e-01, -3.12769151e-04,\n",
              "                8.72340426e-01,  5.63829787e-01, -3.69662181e-04,\n",
              "                1.00000000e+00,  6.48936170e-01, -4.05030999e-04,\n",
              "                4.14893617e-01,  4.04255319e-01, -2.92449952e-04,\n",
              "                6.70212766e-01,  5.95744681e-01, -4.43019924e-04,\n",
              "                8.51063830e-01,  7.02127660e-01, -5.82382123e-04,\n",
              "                9.89361702e-01,  7.76595745e-01, -6.62554491e-04,\n",
              "                3.40425532e-01,  4.89361702e-01, -3.39728245e-04,\n",
              "                5.00000000e-01,  6.80851064e-01, -5.05338126e-04,\n",
              "                6.06382979e-01,  7.87234043e-01, -5.95597630e-04,\n",
              "                6.91489362e-01,  8.51063830e-01, -6.44108360e-04]]),\n",
              "       array([[ 0.00000000e+00,  0.00000000e+00,  0.00000000e+00,\n",
              "                0.00000000e+00,  0.00000000e+00,  0.00000000e+00,\n",
              "                0.00000000e+00,  0.00000000e+00,  0.00000000e+00,\n",
              "                0.00000000e+00,  0.00000000e+00,  0.00000000e+00,\n",
              "                0.00000000e+00,  0.00000000e+00,  0.00000000e+00,\n",
              "                0.00000000e+00,  0.00000000e+00,  0.00000000e+00,\n",
              "                0.00000000e+00,  0.00000000e+00,  0.00000000e+00,\n",
              "                0.00000000e+00,  0.00000000e+00,  0.00000000e+00,\n",
              "                0.00000000e+00,  0.00000000e+00,  0.00000000e+00,\n",
              "                0.00000000e+00,  0.00000000e+00,  0.00000000e+00,\n",
              "                0.00000000e+00,  0.00000000e+00,  0.00000000e+00,\n",
              "                0.00000000e+00,  0.00000000e+00,  0.00000000e+00,\n",
              "                0.00000000e+00,  0.00000000e+00,  0.00000000e+00,\n",
              "                0.00000000e+00,  0.00000000e+00,  0.00000000e+00,\n",
              "                0.00000000e+00,  0.00000000e+00,  0.00000000e+00,\n",
              "                0.00000000e+00,  0.00000000e+00,  0.00000000e+00,\n",
              "                0.00000000e+00,  0.00000000e+00,  0.00000000e+00,\n",
              "                0.00000000e+00,  0.00000000e+00,  0.00000000e+00,\n",
              "                0.00000000e+00,  0.00000000e+00,  0.00000000e+00,\n",
              "                0.00000000e+00,  0.00000000e+00,  0.00000000e+00,\n",
              "                0.00000000e+00,  0.00000000e+00,  0.00000000e+00,\n",
              "                0.00000000e+00,  0.00000000e+00,  1.69233956e-09,\n",
              "                1.54761905e-01, -2.38095238e-02,  4.45207032e-05,\n",
              "                3.33333333e-01,  7.14285714e-02,  4.94043232e-05,\n",
              "                4.64285714e-01,  1.54761905e-01,  4.93106310e-05,\n",
              "                5.35714286e-01,  2.02380952e-01,  2.99164371e-05,\n",
              "                4.40476190e-01,  2.61904762e-01, -8.75331794e-05,\n",
              "                5.11904762e-01,  5.47619048e-01, -1.51267031e-04,\n",
              "                5.71428571e-01,  7.14285714e-01, -1.95358680e-04,\n",
              "                6.07142857e-01,  8.45238095e-01, -2.28375773e-04,\n",
              "                4.64285714e-01,  4.16666667e-01, -1.72028440e-04,\n",
              "                7.02380952e-01,  6.78571429e-01, -2.56571852e-04,\n",
              "                8.45238095e-01,  8.21428571e-01, -3.07442066e-04,\n",
              "                9.64285714e-01,  9.40476190e-01, -3.36139175e-04,\n",
              "                4.16666667e-01,  5.11904762e-01, -2.49784617e-04,\n",
              "                6.78571429e-01,  7.73809524e-01, -3.93619051e-04,\n",
              "                8.57142857e-01,  9.04761905e-01, -5.35449856e-04,\n",
              "                9.88095238e-01,  1.00000000e+00, -6.16663003e-04,\n",
              "                3.33333333e-01,  5.83333333e-01, -3.06890169e-04,\n",
              "                4.88095238e-01,  7.97619048e-01, -4.65447748e-04,\n",
              "                6.07142857e-01,  9.04761905e-01, -5.63431709e-04,\n",
              "                7.02380952e-01,  9.88095238e-01, -6.18202346e-04]]),\n",
              "       array([[ 0.00000000e+00,  0.00000000e+00,  1.52004431e-09,\n",
              "                3.80952381e-02,  1.90476190e-01,  7.33685813e-05,\n",
              "                1.42857143e-01,  3.42857143e-01,  8.98432607e-05,\n",
              "                2.66666667e-01,  3.71428571e-01,  9.17788063e-05,\n",
              "                3.33333333e-01,  3.33333333e-01,  7.72844911e-05,\n",
              "                2.28571429e-01,  4.85714286e-01, -1.97171278e-05,\n",
              "                2.66666667e-01,  7.33333333e-01, -9.32694368e-05,\n",
              "                3.14285714e-01,  8.85714286e-01, -1.50473274e-04,\n",
              "                3.61904762e-01,  1.00000000e+00, -1.84405932e-04,\n",
              "                3.23809524e-01,  4.38095238e-01, -1.13295826e-04,\n",
              "                5.23809524e-01,  6.38095238e-01, -1.87714185e-04,\n",
              "                6.47619048e-01,  7.61904762e-01, -2.25935114e-04,\n",
              "                7.42857143e-01,  8.57142857e-01, -2.47702748e-04,\n",
              "                3.90476190e-01,  3.23809524e-01, -2.04372246e-04,\n",
              "                6.09523810e-01,  5.04761905e-01, -3.25377676e-04,\n",
              "                7.52380952e-01,  6.38095238e-01, -4.19846177e-04,\n",
              "                8.57142857e-01,  7.33333333e-01, -4.69092918e-04,\n",
              "                4.38095238e-01,  1.80952381e-01, -2.77755268e-04,\n",
              "                6.28571429e-01,  2.66666667e-01, -4.08162602e-04,\n",
              "                7.52380952e-01,  3.23809524e-01, -4.77402551e-04,\n",
              "                8.57142857e-01,  3.71428571e-01, -5.16937141e-04,\n",
              "                0.00000000e+00,  0.00000000e+00,  0.00000000e+00,\n",
              "                0.00000000e+00,  0.00000000e+00,  0.00000000e+00,\n",
              "                0.00000000e+00,  0.00000000e+00,  0.00000000e+00,\n",
              "                0.00000000e+00,  0.00000000e+00,  0.00000000e+00,\n",
              "                0.00000000e+00,  0.00000000e+00,  0.00000000e+00,\n",
              "                0.00000000e+00,  0.00000000e+00,  0.00000000e+00,\n",
              "                0.00000000e+00,  0.00000000e+00,  0.00000000e+00,\n",
              "                0.00000000e+00,  0.00000000e+00,  0.00000000e+00,\n",
              "                0.00000000e+00,  0.00000000e+00,  0.00000000e+00,\n",
              "                0.00000000e+00,  0.00000000e+00,  0.00000000e+00,\n",
              "                0.00000000e+00,  0.00000000e+00,  0.00000000e+00,\n",
              "                0.00000000e+00,  0.00000000e+00,  0.00000000e+00,\n",
              "                0.00000000e+00,  0.00000000e+00,  0.00000000e+00,\n",
              "                0.00000000e+00,  0.00000000e+00,  0.00000000e+00,\n",
              "                0.00000000e+00,  0.00000000e+00,  0.00000000e+00,\n",
              "                0.00000000e+00,  0.00000000e+00,  0.00000000e+00,\n",
              "                0.00000000e+00,  0.00000000e+00,  0.00000000e+00,\n",
              "                0.00000000e+00,  0.00000000e+00,  0.00000000e+00,\n",
              "                0.00000000e+00,  0.00000000e+00,  0.00000000e+00,\n",
              "                0.00000000e+00,  0.00000000e+00,  0.00000000e+00,\n",
              "                0.00000000e+00,  0.00000000e+00,  0.00000000e+00]]),\n",
              "       array([[ 0.00000000e+00,  0.00000000e+00,  1.44706875e-09,\n",
              "                6.31578947e-02,  1.36842105e-01,  5.47645565e-05,\n",
              "                1.89473684e-01,  2.73684211e-01,  5.38372484e-05,\n",
              "                3.05263158e-01,  3.26315789e-01,  4.58175807e-05,\n",
              "                3.78947368e-01,  3.15789474e-01,  2.12378481e-05,\n",
              "                2.73684211e-01,  4.21052632e-01, -8.75664875e-05,\n",
              "                3.15789474e-01,  7.05263158e-01, -1.72057591e-04,\n",
              "                3.68421053e-01,  8.73684211e-01, -2.33027241e-04,\n",
              "                4.10526316e-01,  1.00000000e+00, -2.70016511e-04,\n",
              "                3.57894737e-01,  4.21052632e-01, -1.73681994e-04,\n",
              "                5.78947368e-01,  6.42105263e-01, -2.69676882e-04,\n",
              "                7.26315789e-01,  7.78947368e-01, -3.15889285e-04,\n",
              "                8.21052632e-01,  8.84210526e-01, -3.40022696e-04,\n",
              "                4.10526316e-01,  3.68421053e-01, -2.53752894e-04,\n",
              "                6.63157895e-01,  5.78947368e-01, -4.00618503e-04,\n",
              "                8.21052632e-01,  7.26315789e-01, -5.19096930e-04,\n",
              "                9.36842105e-01,  8.31578947e-01, -5.79465690e-04,\n",
              "                4.42105263e-01,  2.73684211e-01, -3.14102694e-04,\n",
              "                6.42105263e-01,  3.89473684e-01, -4.65505139e-04,\n",
              "                7.78947368e-01,  4.63157895e-01, -5.52096179e-04,\n",
              "                8.94736842e-01,  5.26315789e-01, -6.00152737e-04,\n",
              "                0.00000000e+00,  0.00000000e+00,  0.00000000e+00,\n",
              "                0.00000000e+00,  0.00000000e+00,  0.00000000e+00,\n",
              "                0.00000000e+00,  0.00000000e+00,  0.00000000e+00,\n",
              "                0.00000000e+00,  0.00000000e+00,  0.00000000e+00,\n",
              "                0.00000000e+00,  0.00000000e+00,  0.00000000e+00,\n",
              "                0.00000000e+00,  0.00000000e+00,  0.00000000e+00,\n",
              "                0.00000000e+00,  0.00000000e+00,  0.00000000e+00,\n",
              "                0.00000000e+00,  0.00000000e+00,  0.00000000e+00,\n",
              "                0.00000000e+00,  0.00000000e+00,  0.00000000e+00,\n",
              "                0.00000000e+00,  0.00000000e+00,  0.00000000e+00,\n",
              "                0.00000000e+00,  0.00000000e+00,  0.00000000e+00,\n",
              "                0.00000000e+00,  0.00000000e+00,  0.00000000e+00,\n",
              "                0.00000000e+00,  0.00000000e+00,  0.00000000e+00,\n",
              "                0.00000000e+00,  0.00000000e+00,  0.00000000e+00,\n",
              "                0.00000000e+00,  0.00000000e+00,  0.00000000e+00,\n",
              "                0.00000000e+00,  0.00000000e+00,  0.00000000e+00,\n",
              "                0.00000000e+00,  0.00000000e+00,  0.00000000e+00,\n",
              "                0.00000000e+00,  0.00000000e+00,  0.00000000e+00,\n",
              "                0.00000000e+00,  0.00000000e+00,  0.00000000e+00,\n",
              "                0.00000000e+00,  0.00000000e+00,  0.00000000e+00,\n",
              "                0.00000000e+00,  0.00000000e+00,  0.00000000e+00]]),\n",
              "       array([[ 0.00000000e+00,  0.00000000e+00,  0.00000000e+00,\n",
              "                0.00000000e+00,  0.00000000e+00,  0.00000000e+00,\n",
              "                0.00000000e+00,  0.00000000e+00,  0.00000000e+00,\n",
              "                0.00000000e+00,  0.00000000e+00,  0.00000000e+00,\n",
              "                0.00000000e+00,  0.00000000e+00,  0.00000000e+00,\n",
              "                0.00000000e+00,  0.00000000e+00,  0.00000000e+00,\n",
              "                0.00000000e+00,  0.00000000e+00,  0.00000000e+00,\n",
              "                0.00000000e+00,  0.00000000e+00,  0.00000000e+00,\n",
              "                0.00000000e+00,  0.00000000e+00,  0.00000000e+00,\n",
              "                0.00000000e+00,  0.00000000e+00,  0.00000000e+00,\n",
              "                0.00000000e+00,  0.00000000e+00,  0.00000000e+00,\n",
              "                0.00000000e+00,  0.00000000e+00,  0.00000000e+00,\n",
              "                0.00000000e+00,  0.00000000e+00,  0.00000000e+00,\n",
              "                0.00000000e+00,  0.00000000e+00,  0.00000000e+00,\n",
              "                0.00000000e+00,  0.00000000e+00,  0.00000000e+00,\n",
              "                0.00000000e+00,  0.00000000e+00,  0.00000000e+00,\n",
              "                0.00000000e+00,  0.00000000e+00,  0.00000000e+00,\n",
              "                0.00000000e+00,  0.00000000e+00,  0.00000000e+00,\n",
              "                0.00000000e+00,  0.00000000e+00,  0.00000000e+00,\n",
              "                0.00000000e+00,  0.00000000e+00,  0.00000000e+00,\n",
              "                0.00000000e+00,  0.00000000e+00,  0.00000000e+00,\n",
              "                0.00000000e+00,  0.00000000e+00,  1.15677480e-09,\n",
              "                1.72043011e-01, -7.52688172e-02,  4.70959061e-05,\n",
              "                3.44086022e-01,  0.00000000e+00,  3.53445304e-05,\n",
              "                4.40860215e-01,  9.67741935e-02,  1.81491299e-05,\n",
              "                4.83870968e-01,  1.61290323e-01, -2.02070624e-05,\n",
              "                4.19354839e-01,  1.50537634e-01, -1.19823892e-04,\n",
              "                5.16129032e-01,  3.44086022e-01, -1.78007850e-04,\n",
              "                5.48387097e-01,  4.62365591e-01, -2.11954017e-04,\n",
              "                5.91397849e-01,  5.69892473e-01, -2.42216232e-04,\n",
              "                4.19354839e-01,  3.44086022e-01, -2.12075109e-04,\n",
              "                6.34408602e-01,  5.80645161e-01, -2.81860691e-04,\n",
              "                7.63440860e-01,  7.20430108e-01, -3.18107305e-04,\n",
              "                8.70967742e-01,  8.38709677e-01, -3.42534434e-04,\n",
              "                3.54838710e-01,  4.83870968e-01, -2.96337049e-04,\n",
              "                5.91397849e-01,  7.20430108e-01, -4.39873145e-04,\n",
              "                7.41935484e-01,  8.70967742e-01, -5.75390354e-04,\n",
              "                8.70967742e-01,  9.78494624e-01, -6.55389361e-04,\n",
              "                2.47311828e-01,  5.69892473e-01, -3.57826711e-04,\n",
              "                3.76344086e-01,  7.84946237e-01, -5.16382036e-04,\n",
              "                4.62365591e-01,  9.03225806e-01, -6.05844963e-04,\n",
              "                5.37634409e-01,  1.00000000e+00, -6.57390122e-04]]),\n",
              "       array([[ 0.00000000e+00,  0.00000000e+00,  0.00000000e+00,\n",
              "                0.00000000e+00,  0.00000000e+00,  0.00000000e+00,\n",
              "                0.00000000e+00,  0.00000000e+00,  0.00000000e+00,\n",
              "                0.00000000e+00,  0.00000000e+00,  0.00000000e+00,\n",
              "                0.00000000e+00,  0.00000000e+00,  0.00000000e+00,\n",
              "                0.00000000e+00,  0.00000000e+00,  0.00000000e+00,\n",
              "                0.00000000e+00,  0.00000000e+00,  0.00000000e+00,\n",
              "                0.00000000e+00,  0.00000000e+00,  0.00000000e+00,\n",
              "                0.00000000e+00,  0.00000000e+00,  0.00000000e+00,\n",
              "                0.00000000e+00,  0.00000000e+00,  0.00000000e+00,\n",
              "                0.00000000e+00,  0.00000000e+00,  0.00000000e+00,\n",
              "                0.00000000e+00,  0.00000000e+00,  0.00000000e+00,\n",
              "                0.00000000e+00,  0.00000000e+00,  0.00000000e+00,\n",
              "                0.00000000e+00,  0.00000000e+00,  0.00000000e+00,\n",
              "                0.00000000e+00,  0.00000000e+00,  0.00000000e+00,\n",
              "                0.00000000e+00,  0.00000000e+00,  0.00000000e+00,\n",
              "                0.00000000e+00,  0.00000000e+00,  0.00000000e+00,\n",
              "                0.00000000e+00,  0.00000000e+00,  0.00000000e+00,\n",
              "                0.00000000e+00,  0.00000000e+00,  0.00000000e+00,\n",
              "                0.00000000e+00,  0.00000000e+00,  0.00000000e+00,\n",
              "                0.00000000e+00,  0.00000000e+00,  0.00000000e+00,\n",
              "                0.00000000e+00,  0.00000000e+00,  1.60346706e-09,\n",
              "                1.74311927e-01, -8.25688073e-02,  2.36065452e-05,\n",
              "                3.30275229e-01, -1.83486239e-02,  9.75763323e-06,\n",
              "                4.12844037e-01,  8.25688073e-02, -7.33575344e-06,\n",
              "                4.31192661e-01,  1.55963303e-01, -4.71402378e-05,\n",
              "                4.22018349e-01,  1.00917431e-01, -1.31093436e-04,\n",
              "                6.05504587e-01,  1.83486239e-01, -1.94421192e-04,\n",
              "                7.15596330e-01,  2.38532110e-01, -2.18470829e-04,\n",
              "                7.98165138e-01,  2.93577982e-01, -2.40092909e-04,\n",
              "                3.76146789e-01,  3.02752294e-01, -2.01808682e-04,\n",
              "                5.77981651e-01,  4.67889908e-01, -2.70312361e-04,\n",
              "                6.97247706e-01,  5.77981651e-01, -3.16059712e-04,\n",
              "                7.79816514e-01,  6.78899083e-01, -3.46113680e-04,\n",
              "                2.84403670e-01,  4.49541284e-01, -2.63767830e-04,\n",
              "                4.77064220e-01,  6.51376147e-01, -3.91025438e-04,\n",
              "                5.96330275e-01,  7.70642202e-01, -5.10449496e-04,\n",
              "                6.97247706e-01,  8.62385321e-01, -5.84551090e-04,\n",
              "                1.65137615e-01,  5.41284404e-01, -3.07427805e-04,\n",
              "                2.20183486e-01,  7.61467890e-01, -4.51456311e-04,\n",
              "                2.56880734e-01,  8.89908257e-01, -5.28431233e-04,\n",
              "                2.93577982e-01,  1.00000000e+00, -5.69652595e-04]]),\n",
              "       array([[ 0.00000000e+00,  0.00000000e+00,  0.00000000e+00,\n",
              "                0.00000000e+00,  0.00000000e+00,  0.00000000e+00,\n",
              "                0.00000000e+00,  0.00000000e+00,  0.00000000e+00,\n",
              "                0.00000000e+00,  0.00000000e+00,  0.00000000e+00,\n",
              "                0.00000000e+00,  0.00000000e+00,  0.00000000e+00,\n",
              "                0.00000000e+00,  0.00000000e+00,  0.00000000e+00,\n",
              "                0.00000000e+00,  0.00000000e+00,  0.00000000e+00,\n",
              "                0.00000000e+00,  0.00000000e+00,  0.00000000e+00,\n",
              "                0.00000000e+00,  0.00000000e+00,  0.00000000e+00,\n",
              "                0.00000000e+00,  0.00000000e+00,  0.00000000e+00,\n",
              "                0.00000000e+00,  0.00000000e+00,  0.00000000e+00,\n",
              "                0.00000000e+00,  0.00000000e+00,  0.00000000e+00,\n",
              "                0.00000000e+00,  0.00000000e+00,  0.00000000e+00,\n",
              "                0.00000000e+00,  0.00000000e+00,  0.00000000e+00,\n",
              "                0.00000000e+00,  0.00000000e+00,  0.00000000e+00,\n",
              "                0.00000000e+00,  0.00000000e+00,  0.00000000e+00,\n",
              "                0.00000000e+00,  0.00000000e+00,  0.00000000e+00,\n",
              "                0.00000000e+00,  0.00000000e+00,  0.00000000e+00,\n",
              "                0.00000000e+00,  0.00000000e+00,  0.00000000e+00,\n",
              "                0.00000000e+00,  0.00000000e+00,  0.00000000e+00,\n",
              "                0.00000000e+00,  0.00000000e+00,  0.00000000e+00,\n",
              "                0.00000000e+00,  0.00000000e+00,  1.70110883e-09,\n",
              "                1.71171171e-01, -6.30630631e-02,  3.64212571e-05,\n",
              "                3.15315315e-01,  2.70270270e-02,  3.53141788e-05,\n",
              "                3.69369369e-01,  1.35135135e-01,  2.77876661e-05,\n",
              "                3.78378378e-01,  2.07207207e-01,  9.91267452e-08,\n",
              "                4.05405405e-01,  1.26126126e-01, -1.01026710e-04,\n",
              "                5.94594595e-01,  2.07207207e-01, -1.63539539e-04,\n",
              "                7.11711712e-01,  2.70270270e-01, -1.88060105e-04,\n",
              "                8.01801802e-01,  3.15315315e-01, -2.04359441e-04,\n",
              "                3.69369369e-01,  3.06306306e-01, -1.67939460e-04,\n",
              "                5.58558559e-01,  4.77477477e-01, -2.20018531e-04,\n",
              "                6.75675676e-01,  5.94594595e-01, -2.57805023e-04,\n",
              "                7.47747748e-01,  6.93693694e-01, -2.80781523e-04,\n",
              "                2.70270270e-01,  4.41441441e-01, -2.26745919e-04,\n",
              "                4.59459459e-01,  6.48648649e-01, -3.39068204e-04,\n",
              "                5.85585586e-01,  7.65765766e-01, -4.58973787e-04,\n",
              "                6.75675676e-01,  8.64864865e-01, -5.33677369e-04,\n",
              "                1.53153153e-01,  5.31531532e-01, -2.67354402e-04,\n",
              "                1.98198198e-01,  7.56756757e-01, -3.98697013e-04,\n",
              "                2.25225225e-01,  8.91891892e-01, -4.76156437e-04,\n",
              "                2.61261261e-01,  1.00000000e+00, -5.17494003e-04]]),\n",
              "       array([[ 0.00000000e+00,  0.00000000e+00,  0.00000000e+00,\n",
              "                0.00000000e+00,  0.00000000e+00,  0.00000000e+00,\n",
              "                0.00000000e+00,  0.00000000e+00,  0.00000000e+00,\n",
              "                0.00000000e+00,  0.00000000e+00,  0.00000000e+00,\n",
              "                0.00000000e+00,  0.00000000e+00,  0.00000000e+00,\n",
              "                0.00000000e+00,  0.00000000e+00,  0.00000000e+00,\n",
              "                0.00000000e+00,  0.00000000e+00,  0.00000000e+00,\n",
              "                0.00000000e+00,  0.00000000e+00,  0.00000000e+00,\n",
              "                0.00000000e+00,  0.00000000e+00,  0.00000000e+00,\n",
              "                0.00000000e+00,  0.00000000e+00,  0.00000000e+00,\n",
              "                0.00000000e+00,  0.00000000e+00,  0.00000000e+00,\n",
              "                0.00000000e+00,  0.00000000e+00,  0.00000000e+00,\n",
              "                0.00000000e+00,  0.00000000e+00,  0.00000000e+00,\n",
              "                0.00000000e+00,  0.00000000e+00,  0.00000000e+00,\n",
              "                0.00000000e+00,  0.00000000e+00,  0.00000000e+00,\n",
              "                0.00000000e+00,  0.00000000e+00,  0.00000000e+00,\n",
              "                0.00000000e+00,  0.00000000e+00,  0.00000000e+00,\n",
              "                0.00000000e+00,  0.00000000e+00,  0.00000000e+00,\n",
              "                0.00000000e+00,  0.00000000e+00,  0.00000000e+00,\n",
              "                0.00000000e+00,  0.00000000e+00,  0.00000000e+00,\n",
              "                0.00000000e+00,  0.00000000e+00,  0.00000000e+00,\n",
              "                0.00000000e+00,  0.00000000e+00,  1.49737619e-09,\n",
              "                1.69642857e-01, -5.35714286e-02,  3.95565626e-05,\n",
              "                3.03571429e-01,  4.46428571e-02,  3.74042970e-05,\n",
              "                3.57142857e-01,  1.60714286e-01,  2.64491121e-05,\n",
              "                3.66071429e-01,  2.41071429e-01, -4.90290092e-06,\n",
              "                4.01785714e-01,  1.42857143e-01, -9.21428935e-05,\n",
              "                5.80357143e-01,  2.23214286e-01, -1.55164611e-04,\n",
              "                6.96428571e-01,  2.85714286e-01, -1.81176350e-04,\n",
              "                7.85714286e-01,  3.39285714e-01, -1.98024242e-04,\n",
              "                3.57142857e-01,  3.12500000e-01, -1.64800490e-04,\n",
              "                5.53571429e-01,  4.64285714e-01, -2.21287931e-04,\n",
              "                6.69642857e-01,  5.71428571e-01, -2.68403823e-04,\n",
              "                7.50000000e-01,  6.60714286e-01, -2.98221163e-04,\n",
              "                2.67857143e-01,  4.37500000e-01, -2.28896088e-04,\n",
              "                4.46428571e-01,  6.42857143e-01, -3.42561863e-04,\n",
              "                5.62500000e-01,  7.67857143e-01, -4.61247982e-04,\n",
              "                6.51785714e-01,  8.75000000e-01, -5.34780556e-04,\n",
              "                1.51785714e-01,  5.17857143e-01, -2.74875052e-04,\n",
              "                1.96428571e-01,  7.50000000e-01, -4.05216689e-04,\n",
              "                2.23214286e-01,  8.83928571e-01, -4.77664838e-04,\n",
              "                2.50000000e-01,  1.00000000e+00, -5.15243737e-04]]),\n",
              "       array([[ 0.00000000e+00,  0.00000000e+00,  0.00000000e+00,\n",
              "                0.00000000e+00,  0.00000000e+00,  0.00000000e+00,\n",
              "                0.00000000e+00,  0.00000000e+00,  0.00000000e+00,\n",
              "                0.00000000e+00,  0.00000000e+00,  0.00000000e+00,\n",
              "                0.00000000e+00,  0.00000000e+00,  0.00000000e+00,\n",
              "                0.00000000e+00,  0.00000000e+00,  0.00000000e+00,\n",
              "                0.00000000e+00,  0.00000000e+00,  0.00000000e+00,\n",
              "                0.00000000e+00,  0.00000000e+00,  0.00000000e+00,\n",
              "                0.00000000e+00,  0.00000000e+00,  0.00000000e+00,\n",
              "                0.00000000e+00,  0.00000000e+00,  0.00000000e+00,\n",
              "                0.00000000e+00,  0.00000000e+00,  0.00000000e+00,\n",
              "                0.00000000e+00,  0.00000000e+00,  0.00000000e+00,\n",
              "                0.00000000e+00,  0.00000000e+00,  0.00000000e+00,\n",
              "                0.00000000e+00,  0.00000000e+00,  0.00000000e+00,\n",
              "                0.00000000e+00,  0.00000000e+00,  0.00000000e+00,\n",
              "                0.00000000e+00,  0.00000000e+00,  0.00000000e+00,\n",
              "                0.00000000e+00,  0.00000000e+00,  0.00000000e+00,\n",
              "                0.00000000e+00,  0.00000000e+00,  0.00000000e+00,\n",
              "                0.00000000e+00,  0.00000000e+00,  0.00000000e+00,\n",
              "                0.00000000e+00,  0.00000000e+00,  0.00000000e+00,\n",
              "                0.00000000e+00,  0.00000000e+00,  0.00000000e+00,\n",
              "                0.00000000e+00,  0.00000000e+00,  1.77424736e-09,\n",
              "                1.71171171e-01, -6.30630631e-02,  2.34070561e-05,\n",
              "                3.15315315e-01,  1.80180180e-02,  1.08805347e-05,\n",
              "                3.78378378e-01,  1.26126126e-01, -8.70788967e-06,\n",
              "                3.87387387e-01,  1.98198198e-01, -4.79063690e-05,\n",
              "                4.14414414e-01,  1.26126126e-01, -1.10442675e-04,\n",
              "                6.03603604e-01,  2.16216216e-01, -1.88150502e-04,\n",
              "                7.29729730e-01,  2.70270270e-01, -2.27358931e-04,\n",
              "                8.19819820e-01,  3.15315315e-01, -2.55495545e-04,\n",
              "                3.69369369e-01,  3.06306306e-01, -1.84672088e-04,\n",
              "                5.76576577e-01,  4.59459459e-01, -2.59672485e-04,\n",
              "                6.93693694e-01,  5.67567568e-01, -3.20154402e-04,\n",
              "                7.83783784e-01,  6.57657658e-01, -3.58918665e-04,\n",
              "                2.79279279e-01,  4.32432432e-01, -2.51419456e-04,\n",
              "                4.68468468e-01,  6.48648649e-01, -3.79605504e-04,\n",
              "                5.85585586e-01,  7.83783784e-01, -4.97377603e-04,\n",
              "                6.75675676e-01,  8.91891892e-01, -5.68097373e-04,\n",
              "                1.71171171e-01,  5.22522523e-01, -3.02285090e-04,\n",
              "                2.25225225e-01,  7.47747748e-01, -4.49196746e-04,\n",
              "                2.61261261e-01,  8.82882883e-01, -5.22406252e-04,\n",
              "                2.88288288e-01,  1.00000000e+00, -5.56945633e-04]]),\n",
              "       array([[ 0.00000000e+00,  0.00000000e+00,  0.00000000e+00,\n",
              "                0.00000000e+00,  0.00000000e+00,  0.00000000e+00,\n",
              "                0.00000000e+00,  0.00000000e+00,  0.00000000e+00,\n",
              "                0.00000000e+00,  0.00000000e+00,  0.00000000e+00,\n",
              "                0.00000000e+00,  0.00000000e+00,  0.00000000e+00,\n",
              "                0.00000000e+00,  0.00000000e+00,  0.00000000e+00,\n",
              "                0.00000000e+00,  0.00000000e+00,  0.00000000e+00,\n",
              "                0.00000000e+00,  0.00000000e+00,  0.00000000e+00,\n",
              "                0.00000000e+00,  0.00000000e+00,  0.00000000e+00,\n",
              "                0.00000000e+00,  0.00000000e+00,  0.00000000e+00,\n",
              "                0.00000000e+00,  0.00000000e+00,  0.00000000e+00,\n",
              "                0.00000000e+00,  0.00000000e+00,  0.00000000e+00,\n",
              "                0.00000000e+00,  0.00000000e+00,  0.00000000e+00,\n",
              "                0.00000000e+00,  0.00000000e+00,  0.00000000e+00,\n",
              "                0.00000000e+00,  0.00000000e+00,  0.00000000e+00,\n",
              "                0.00000000e+00,  0.00000000e+00,  0.00000000e+00,\n",
              "                0.00000000e+00,  0.00000000e+00,  0.00000000e+00,\n",
              "                0.00000000e+00,  0.00000000e+00,  0.00000000e+00,\n",
              "                0.00000000e+00,  0.00000000e+00,  0.00000000e+00,\n",
              "                0.00000000e+00,  0.00000000e+00,  0.00000000e+00,\n",
              "                0.00000000e+00,  0.00000000e+00,  0.00000000e+00,\n",
              "                0.00000000e+00,  0.00000000e+00,  1.87924263e-09,\n",
              "                1.68224299e-01, -9.34579439e-02,  3.21918937e-05,\n",
              "                3.17757009e-01, -2.80373832e-02,  2.36310396e-05,\n",
              "                3.92523364e-01,  7.47663551e-02,  1.31409550e-05,\n",
              "                4.11214953e-01,  1.58878505e-01, -2.21846499e-05,\n",
              "                4.11214953e-01,  1.02803738e-01, -1.33542588e-04,\n",
              "                5.79439252e-01,  1.96261682e-01, -1.88661565e-04,\n",
              "                6.63551402e-01,  2.52336449e-01, -2.06677452e-04,\n",
              "                7.28971963e-01,  3.08411215e-01, -2.21838217e-04,\n",
              "                3.73831776e-01,  2.89719626e-01, -2.04476380e-04,\n",
              "                5.79439252e-01,  4.76635514e-01, -2.66654330e-04,\n",
              "                7.10280374e-01,  5.98130841e-01, -3.09173331e-04,\n",
              "                8.03738318e-01,  7.00934579e-01, -3.35285597e-04,\n",
              "                2.80373832e-01,  4.39252336e-01, -2.64554607e-04,\n",
              "                4.95327103e-01,  6.54205607e-01, -3.91511368e-04,\n",
              "                6.26168224e-01,  7.75700935e-01, -5.20294410e-04,\n",
              "                7.28971963e-01,  8.69158879e-01, -5.99057039e-04,\n",
              "                1.58878505e-01,  5.32710280e-01, -3.03660110e-04,\n",
              "                2.24299065e-01,  7.66355140e-01, -4.50300975e-04,\n",
              "                2.71028037e-01,  8.97196262e-01, -5.33623499e-04,\n",
              "                3.08411215e-01,  1.00000000e+00, -5.79330966e-04]]),\n",
              "       array([[ 0.00000000e+00,  0.00000000e+00,  1.85677683e-09,\n",
              "                2.67857143e-02,  2.58928571e-01,  6.64974671e-05,\n",
              "                1.42857143e-01,  4.19642857e-01,  8.52005905e-05,\n",
              "                2.58928571e-01,  4.37500000e-01,  9.11989981e-05,\n",
              "                3.39285714e-01,  3.75000000e-01,  8.07539992e-05,\n",
              "                2.32142857e-01,  5.17857143e-01, -5.54660052e-05,\n",
              "                3.12500000e-01,  7.50000000e-01, -1.24047618e-04,\n",
              "                3.75000000e-01,  9.01785714e-01, -1.64677356e-04,\n",
              "                4.19642857e-01,  1.00000000e+00, -1.87885149e-04,\n",
              "                3.39285714e-01,  4.19642857e-01, -1.31380112e-04,\n",
              "                5.44642857e-01,  6.33928571e-01, -1.92894550e-04,\n",
              "                6.69642857e-01,  7.50000000e-01, -2.22374020e-04,\n",
              "                7.67857143e-01,  8.30357143e-01, -2.42463479e-04,\n",
              "                4.10714286e-01,  2.85714286e-01, -2.00751853e-04,\n",
              "                6.33928571e-01,  4.37500000e-01, -2.89534285e-04,\n",
              "                7.67857143e-01,  5.35714286e-01, -3.70918241e-04,\n",
              "                8.66071429e-01,  6.07142857e-01, -4.19514586e-04,\n",
              "                4.55357143e-01,  1.25000000e-01, -2.54130573e-04,\n",
              "                6.42857143e-01,  1.78571429e-01, -3.62412173e-04,\n",
              "                7.67857143e-01,  2.05357143e-01, -4.27661963e-04,\n",
              "                8.66071429e-01,  2.32142857e-01, -4.65338152e-04,\n",
              "                0.00000000e+00,  0.00000000e+00,  0.00000000e+00,\n",
              "                0.00000000e+00,  0.00000000e+00,  0.00000000e+00,\n",
              "                0.00000000e+00,  0.00000000e+00,  0.00000000e+00,\n",
              "                0.00000000e+00,  0.00000000e+00,  0.00000000e+00,\n",
              "                0.00000000e+00,  0.00000000e+00,  0.00000000e+00,\n",
              "                0.00000000e+00,  0.00000000e+00,  0.00000000e+00,\n",
              "                0.00000000e+00,  0.00000000e+00,  0.00000000e+00,\n",
              "                0.00000000e+00,  0.00000000e+00,  0.00000000e+00,\n",
              "                0.00000000e+00,  0.00000000e+00,  0.00000000e+00,\n",
              "                0.00000000e+00,  0.00000000e+00,  0.00000000e+00,\n",
              "                0.00000000e+00,  0.00000000e+00,  0.00000000e+00,\n",
              "                0.00000000e+00,  0.00000000e+00,  0.00000000e+00,\n",
              "                0.00000000e+00,  0.00000000e+00,  0.00000000e+00,\n",
              "                0.00000000e+00,  0.00000000e+00,  0.00000000e+00,\n",
              "                0.00000000e+00,  0.00000000e+00,  0.00000000e+00,\n",
              "                0.00000000e+00,  0.00000000e+00,  0.00000000e+00,\n",
              "                0.00000000e+00,  0.00000000e+00,  0.00000000e+00,\n",
              "                0.00000000e+00,  0.00000000e+00,  0.00000000e+00,\n",
              "                0.00000000e+00,  0.00000000e+00,  0.00000000e+00,\n",
              "                0.00000000e+00,  0.00000000e+00,  0.00000000e+00,\n",
              "                0.00000000e+00,  0.00000000e+00,  0.00000000e+00]]),\n",
              "       array([[ 0.00000000e+00,  0.00000000e+00,  0.00000000e+00,\n",
              "                0.00000000e+00,  0.00000000e+00,  0.00000000e+00,\n",
              "                0.00000000e+00,  0.00000000e+00,  0.00000000e+00,\n",
              "                0.00000000e+00,  0.00000000e+00,  0.00000000e+00,\n",
              "                0.00000000e+00,  0.00000000e+00,  0.00000000e+00,\n",
              "                0.00000000e+00,  0.00000000e+00,  0.00000000e+00,\n",
              "                0.00000000e+00,  0.00000000e+00,  0.00000000e+00,\n",
              "                0.00000000e+00,  0.00000000e+00,  0.00000000e+00,\n",
              "                0.00000000e+00,  0.00000000e+00,  0.00000000e+00,\n",
              "                0.00000000e+00,  0.00000000e+00,  0.00000000e+00,\n",
              "                0.00000000e+00,  0.00000000e+00,  0.00000000e+00,\n",
              "                0.00000000e+00,  0.00000000e+00,  0.00000000e+00,\n",
              "                0.00000000e+00,  0.00000000e+00,  0.00000000e+00,\n",
              "                0.00000000e+00,  0.00000000e+00,  0.00000000e+00,\n",
              "                0.00000000e+00,  0.00000000e+00,  0.00000000e+00,\n",
              "                0.00000000e+00,  0.00000000e+00,  0.00000000e+00,\n",
              "                0.00000000e+00,  0.00000000e+00,  0.00000000e+00,\n",
              "                0.00000000e+00,  0.00000000e+00,  0.00000000e+00,\n",
              "                0.00000000e+00,  0.00000000e+00,  0.00000000e+00,\n",
              "                0.00000000e+00,  0.00000000e+00,  0.00000000e+00,\n",
              "                0.00000000e+00,  0.00000000e+00,  0.00000000e+00,\n",
              "                0.00000000e+00,  0.00000000e+00,  1.61651183e-09,\n",
              "                1.44329897e-01, -9.27835052e-02,  5.24409499e-05,\n",
              "                3.29896907e-01, -4.12371134e-02,  4.77398832e-05,\n",
              "                4.32989691e-01,  6.18556701e-02,  3.89315207e-05,\n",
              "                4.84536082e-01,  1.44329897e-01,  1.12219438e-05,\n",
              "                4.02061856e-01,  9.27835052e-02, -1.24328232e-04,\n",
              "                5.15463918e-01,  3.29896907e-01, -1.96681752e-04,\n",
              "                5.77319588e-01,  4.74226804e-01, -2.30519562e-04,\n",
              "                6.39175258e-01,  5.97938144e-01, -2.50061878e-04,\n",
              "                4.32989691e-01,  2.47422680e-01, -2.05260231e-04,\n",
              "                6.80412371e-01,  4.53608247e-01, -2.94621074e-04,\n",
              "                8.35051546e-01,  5.77319588e-01, -3.38204051e-04,\n",
              "                9.58762887e-01,  6.59793814e-01, -3.62066418e-04,\n",
              "                4.12371134e-01,  3.60824742e-01, -2.76613808e-04,\n",
              "                6.80412371e-01,  5.25773196e-01, -4.20027672e-04,\n",
              "                8.55670103e-01,  5.97938144e-01, -5.52582180e-04,\n",
              "                1.00000000e+00,  6.49484536e-01, -6.25578552e-04,\n",
              "                3.50515464e-01,  4.43298969e-01, -3.25269613e-04,\n",
              "                5.46391753e-01,  5.67010309e-01, -4.64758039e-04,\n",
              "                6.80412371e-01,  6.28865979e-01, -5.52711259e-04,\n",
              "                7.83505155e-01,  6.70103093e-01, -6.04746729e-04]]),\n",
              "       array([[ 0.00000000e+00,  0.00000000e+00,  0.00000000e+00,\n",
              "                0.00000000e+00,  0.00000000e+00,  0.00000000e+00,\n",
              "                0.00000000e+00,  0.00000000e+00,  0.00000000e+00,\n",
              "                0.00000000e+00,  0.00000000e+00,  0.00000000e+00,\n",
              "                0.00000000e+00,  0.00000000e+00,  0.00000000e+00,\n",
              "                0.00000000e+00,  0.00000000e+00,  0.00000000e+00,\n",
              "                0.00000000e+00,  0.00000000e+00,  0.00000000e+00,\n",
              "                0.00000000e+00,  0.00000000e+00,  0.00000000e+00,\n",
              "                0.00000000e+00,  0.00000000e+00,  0.00000000e+00,\n",
              "                0.00000000e+00,  0.00000000e+00,  0.00000000e+00,\n",
              "                0.00000000e+00,  0.00000000e+00,  0.00000000e+00,\n",
              "                0.00000000e+00,  0.00000000e+00,  0.00000000e+00,\n",
              "                0.00000000e+00,  0.00000000e+00,  0.00000000e+00,\n",
              "                0.00000000e+00,  0.00000000e+00,  0.00000000e+00,\n",
              "                0.00000000e+00,  0.00000000e+00,  0.00000000e+00,\n",
              "                0.00000000e+00,  0.00000000e+00,  0.00000000e+00,\n",
              "                0.00000000e+00,  0.00000000e+00,  0.00000000e+00,\n",
              "                0.00000000e+00,  0.00000000e+00,  0.00000000e+00,\n",
              "                0.00000000e+00,  0.00000000e+00,  0.00000000e+00,\n",
              "                0.00000000e+00,  0.00000000e+00,  0.00000000e+00,\n",
              "                0.00000000e+00,  0.00000000e+00,  0.00000000e+00,\n",
              "                0.00000000e+00,  0.00000000e+00,  1.95032218e-09,\n",
              "                1.48514851e-01, -1.78217822e-01,  2.70391788e-06,\n",
              "                3.26732673e-01, -1.68316832e-01, -2.01549017e-05,\n",
              "                4.25742574e-01, -7.92079208e-02, -4.29531458e-05,\n",
              "                4.45544554e-01,  9.90099010e-03, -8.53312322e-05,\n",
              "                4.45544554e-01, -1.08910891e-01, -1.37780848e-04,\n",
              "                6.83168317e-01, -1.28712871e-01, -2.18048581e-04,\n",
              "                8.31683168e-01, -1.38613861e-01, -2.58609855e-04,\n",
              "                9.40594059e-01, -1.28712871e-01, -2.86114651e-04,\n",
              "                4.45544554e-01,  8.91089109e-02, -2.01726166e-04,\n",
              "                7.02970297e-01,  1.48514851e-01, -2.82654686e-04,\n",
              "                8.71287129e-01,  1.78217822e-01, -3.53864071e-04,\n",
              "                1.00000000e+00,  2.17821782e-01, -4.01296459e-04,\n",
              "                3.86138614e-01,  2.87128713e-01, -2.57496215e-04,\n",
              "                6.53465347e-01,  3.96039604e-01, -3.95005292e-04,\n",
              "                8.11881188e-01,  4.55445545e-01, -5.29642300e-04,\n",
              "                9.50495050e-01,  5.14851485e-01, -6.10282294e-04,\n",
              "                2.97029703e-01,  4.45544554e-01, -2.95965315e-04,\n",
              "                4.25742574e-01,  6.53465347e-01, -4.43201365e-04,\n",
              "                5.14851485e-01,  7.72277228e-01, -5.24082581e-04,\n",
              "                5.94059406e-01,  8.81188119e-01, -5.66010170e-04]]),\n",
              "       array([[ 0.00000000e+00,  0.00000000e+00,  2.86665612e-09,\n",
              "                9.17431193e-02,  2.01834862e-01,  3.84870336e-05,\n",
              "                2.47706422e-01,  3.02752294e-01,  3.38735563e-05,\n",
              "                3.76146789e-01,  2.75229358e-01,  2.70470879e-05,\n",
              "                4.31192661e-01,  1.83486239e-01,  7.31663035e-06,\n",
              "                3.39449541e-01,  3.02752294e-01, -1.12263742e-04,\n",
              "                4.86238532e-01,  4.77064220e-01, -1.95685159e-04,\n",
              "                5.87155963e-01,  5.87155963e-01, -2.41938859e-04,\n",
              "                6.51376147e-01,  6.69724771e-01, -2.64689583e-04,\n",
              "                4.03669725e-01,  1.74311927e-01, -1.80992699e-04,\n",
              "                6.60550459e-01,  2.56880734e-01, -2.54500384e-04,\n",
              "                8.34862385e-01,  3.11926606e-01, -2.89073607e-04,\n",
              "                9.44954128e-01,  3.39449541e-01, -3.08452430e-04,\n",
              "                4.22018349e-01,  9.17431193e-03, -2.42624158e-04,\n",
              "                6.88073394e-01,  4.58715596e-02, -3.44243106e-04,\n",
              "                8.71559633e-01,  7.33944954e-02, -4.43430327e-04,\n",
              "                1.00000000e+00,  8.25688073e-02, -5.00192985e-04,\n",
              "                4.22018349e-01, -1.55963303e-01, -2.87187004e-04,\n",
              "                6.33027523e-01, -2.11009174e-01, -4.03543746e-04,\n",
              "                7.70642202e-01, -2.47706422e-01, -4.78642044e-04,\n",
              "                8.80733945e-01, -2.84403670e-01, -5.21159398e-04,\n",
              "                0.00000000e+00,  0.00000000e+00,  0.00000000e+00,\n",
              "                0.00000000e+00,  0.00000000e+00,  0.00000000e+00,\n",
              "                0.00000000e+00,  0.00000000e+00,  0.00000000e+00,\n",
              "                0.00000000e+00,  0.00000000e+00,  0.00000000e+00,\n",
              "                0.00000000e+00,  0.00000000e+00,  0.00000000e+00,\n",
              "                0.00000000e+00,  0.00000000e+00,  0.00000000e+00,\n",
              "                0.00000000e+00,  0.00000000e+00,  0.00000000e+00,\n",
              "                0.00000000e+00,  0.00000000e+00,  0.00000000e+00,\n",
              "                0.00000000e+00,  0.00000000e+00,  0.00000000e+00,\n",
              "                0.00000000e+00,  0.00000000e+00,  0.00000000e+00,\n",
              "                0.00000000e+00,  0.00000000e+00,  0.00000000e+00,\n",
              "                0.00000000e+00,  0.00000000e+00,  0.00000000e+00,\n",
              "                0.00000000e+00,  0.00000000e+00,  0.00000000e+00,\n",
              "                0.00000000e+00,  0.00000000e+00,  0.00000000e+00,\n",
              "                0.00000000e+00,  0.00000000e+00,  0.00000000e+00,\n",
              "                0.00000000e+00,  0.00000000e+00,  0.00000000e+00,\n",
              "                0.00000000e+00,  0.00000000e+00,  0.00000000e+00,\n",
              "                0.00000000e+00,  0.00000000e+00,  0.00000000e+00,\n",
              "                0.00000000e+00,  0.00000000e+00,  0.00000000e+00,\n",
              "                0.00000000e+00,  0.00000000e+00,  0.00000000e+00,\n",
              "                0.00000000e+00,  0.00000000e+00,  0.00000000e+00]]),\n",
              "       array([[ 0.00000000e+00,  0.00000000e+00,  0.00000000e+00,\n",
              "                0.00000000e+00,  0.00000000e+00,  0.00000000e+00,\n",
              "                0.00000000e+00,  0.00000000e+00,  0.00000000e+00,\n",
              "                0.00000000e+00,  0.00000000e+00,  0.00000000e+00,\n",
              "                0.00000000e+00,  0.00000000e+00,  0.00000000e+00,\n",
              "                0.00000000e+00,  0.00000000e+00,  0.00000000e+00,\n",
              "                0.00000000e+00,  0.00000000e+00,  0.00000000e+00,\n",
              "                0.00000000e+00,  0.00000000e+00,  0.00000000e+00,\n",
              "                0.00000000e+00,  0.00000000e+00,  0.00000000e+00,\n",
              "                0.00000000e+00,  0.00000000e+00,  0.00000000e+00,\n",
              "                0.00000000e+00,  0.00000000e+00,  0.00000000e+00,\n",
              "                0.00000000e+00,  0.00000000e+00,  0.00000000e+00,\n",
              "                0.00000000e+00,  0.00000000e+00,  0.00000000e+00,\n",
              "                0.00000000e+00,  0.00000000e+00,  0.00000000e+00,\n",
              "                0.00000000e+00,  0.00000000e+00,  0.00000000e+00,\n",
              "                0.00000000e+00,  0.00000000e+00,  0.00000000e+00,\n",
              "                0.00000000e+00,  0.00000000e+00,  0.00000000e+00,\n",
              "                0.00000000e+00,  0.00000000e+00,  0.00000000e+00,\n",
              "                0.00000000e+00,  0.00000000e+00,  0.00000000e+00,\n",
              "                0.00000000e+00,  0.00000000e+00,  0.00000000e+00,\n",
              "                0.00000000e+00,  0.00000000e+00,  0.00000000e+00,\n",
              "                0.00000000e+00,  0.00000000e+00,  2.28488338e-09,\n",
              "                9.34579439e-02, -2.05607477e-01,  2.92578860e-05,\n",
              "                2.71028037e-01, -2.52336449e-01,  2.91207488e-05,\n",
              "                3.92523364e-01, -2.05607477e-01,  2.82583680e-05,\n",
              "                4.48598131e-01, -1.49532710e-01,  1.02269054e-05,\n",
              "                4.11214953e-01, -2.33644860e-01, -1.26696688e-04,\n",
              "                6.26168224e-01, -3.36448598e-01, -2.10409584e-04,\n",
              "                7.66355140e-01, -4.11214953e-01, -2.50668918e-04,\n",
              "                8.78504673e-01, -4.48598131e-01, -2.72762866e-04,\n",
              "                4.48598131e-01, -5.60747664e-02, -1.93348851e-04,\n",
              "                7.10280374e-01, -1.12149533e-01, -2.76034541e-04,\n",
              "                8.69158879e-01, -1.40186916e-01, -3.41435459e-04,\n",
              "                1.00000000e+00, -1.40186916e-01, -3.77785658e-04,\n",
              "                4.29906542e-01,  1.30841121e-01, -2.48343692e-04,\n",
              "                7.00934579e-01,  1.30841121e-01, -3.82677208e-04,\n",
              "                8.59813084e-01,  1.21495327e-01, -5.12757870e-04,\n",
              "                9.90654206e-01,  1.30841121e-01, -5.86292663e-04,\n",
              "                3.73831776e-01,  2.99065421e-01, -2.83992858e-04,\n",
              "                5.32710280e-01,  4.29906542e-01, -4.35302295e-04,\n",
              "                6.35514019e-01,  5.14018692e-01, -5.17264600e-04,\n",
              "                7.19626168e-01,  5.79439252e-01, -5.53175772e-04]]),\n",
              "       array([[ 0.00000000e+00,  0.00000000e+00,  0.00000000e+00,\n",
              "                0.00000000e+00,  0.00000000e+00,  0.00000000e+00,\n",
              "                0.00000000e+00,  0.00000000e+00,  0.00000000e+00,\n",
              "                0.00000000e+00,  0.00000000e+00,  0.00000000e+00,\n",
              "                0.00000000e+00,  0.00000000e+00,  0.00000000e+00,\n",
              "                0.00000000e+00,  0.00000000e+00,  0.00000000e+00,\n",
              "                0.00000000e+00,  0.00000000e+00,  0.00000000e+00,\n",
              "                0.00000000e+00,  0.00000000e+00,  0.00000000e+00,\n",
              "                0.00000000e+00,  0.00000000e+00,  0.00000000e+00,\n",
              "                0.00000000e+00,  0.00000000e+00,  0.00000000e+00,\n",
              "                0.00000000e+00,  0.00000000e+00,  0.00000000e+00,\n",
              "                0.00000000e+00,  0.00000000e+00,  0.00000000e+00,\n",
              "                0.00000000e+00,  0.00000000e+00,  0.00000000e+00,\n",
              "                0.00000000e+00,  0.00000000e+00,  0.00000000e+00,\n",
              "                0.00000000e+00,  0.00000000e+00,  0.00000000e+00,\n",
              "                0.00000000e+00,  0.00000000e+00,  0.00000000e+00,\n",
              "                0.00000000e+00,  0.00000000e+00,  0.00000000e+00,\n",
              "                0.00000000e+00,  0.00000000e+00,  0.00000000e+00,\n",
              "                0.00000000e+00,  0.00000000e+00,  0.00000000e+00,\n",
              "                0.00000000e+00,  0.00000000e+00,  0.00000000e+00,\n",
              "                0.00000000e+00,  0.00000000e+00,  0.00000000e+00,\n",
              "                0.00000000e+00,  0.00000000e+00,  3.01647093e-09,\n",
              "                7.47663551e-02, -2.24299065e-01,  9.83954404e-07,\n",
              "                2.42990654e-01, -3.08411215e-01, -1.15057517e-05,\n",
              "                3.64485981e-01, -2.42990654e-01, -2.25921231e-05,\n",
              "                4.29906542e-01, -1.86915888e-01, -5.07333229e-05,\n",
              "                3.73831776e-01, -3.27102804e-01, -1.56074954e-04,\n",
              "                5.70093458e-01, -4.85981308e-01, -2.61330263e-04,\n",
              "                7.00934579e-01, -5.88785047e-01, -3.24104225e-04,\n",
              "                8.03738318e-01, -6.54205607e-01, -3.64433765e-04,\n",
              "                4.39252336e-01, -1.49532710e-01, -2.19101626e-04,\n",
              "                6.82242991e-01, -2.61682243e-01, -3.10573483e-04,\n",
              "                8.50467290e-01, -3.17757009e-01, -3.96889643e-04,\n",
              "                9.81308411e-01, -3.64485981e-01, -4.50478780e-04,\n",
              "                4.48598131e-01,  2.80373832e-02, -2.73704581e-04,\n",
              "                7.00934579e-01, -3.73831776e-02, -4.18627965e-04,\n",
              "                8.69158879e-01, -7.47663551e-02, -5.66523696e-04,\n",
              "                1.00000000e+00, -1.02803738e-01, -6.55166666e-04,\n",
              "                4.11214953e-01,  2.05607477e-01, -3.12452213e-04,\n",
              "                5.88785047e-01,  3.08411215e-01, -4.87808034e-04,\n",
              "                6.91588785e-01,  3.73831776e-01, -5.86498424e-04,\n",
              "                7.85046729e-01,  4.20560748e-01, -6.34414570e-04]]),\n",
              "       array([[ 0.00000000e+00,  0.00000000e+00,  0.00000000e+00,\n",
              "                0.00000000e+00,  0.00000000e+00,  0.00000000e+00,\n",
              "                0.00000000e+00,  0.00000000e+00,  0.00000000e+00,\n",
              "                0.00000000e+00,  0.00000000e+00,  0.00000000e+00,\n",
              "                0.00000000e+00,  0.00000000e+00,  0.00000000e+00,\n",
              "                0.00000000e+00,  0.00000000e+00,  0.00000000e+00,\n",
              "                0.00000000e+00,  0.00000000e+00,  0.00000000e+00,\n",
              "                0.00000000e+00,  0.00000000e+00,  0.00000000e+00,\n",
              "                0.00000000e+00,  0.00000000e+00,  0.00000000e+00,\n",
              "                0.00000000e+00,  0.00000000e+00,  0.00000000e+00,\n",
              "                0.00000000e+00,  0.00000000e+00,  0.00000000e+00,\n",
              "                0.00000000e+00,  0.00000000e+00,  0.00000000e+00,\n",
              "                0.00000000e+00,  0.00000000e+00,  0.00000000e+00,\n",
              "                0.00000000e+00,  0.00000000e+00,  0.00000000e+00,\n",
              "                0.00000000e+00,  0.00000000e+00,  0.00000000e+00,\n",
              "                0.00000000e+00,  0.00000000e+00,  0.00000000e+00,\n",
              "                0.00000000e+00,  0.00000000e+00,  0.00000000e+00,\n",
              "                0.00000000e+00,  0.00000000e+00,  0.00000000e+00,\n",
              "                0.00000000e+00,  0.00000000e+00,  0.00000000e+00,\n",
              "                0.00000000e+00,  0.00000000e+00,  0.00000000e+00,\n",
              "                0.00000000e+00,  0.00000000e+00,  0.00000000e+00,\n",
              "                0.00000000e+00,  0.00000000e+00,  2.86792316e-09,\n",
              "                6.60377358e-02, -2.54716981e-01,  3.92301019e-06,\n",
              "                2.26415094e-01, -3.67924528e-01, -2.07104681e-05,\n",
              "                3.58490566e-01, -3.30188679e-01, -4.92768661e-05,\n",
              "                4.24528302e-01, -2.54716981e-01, -9.47483394e-05,\n",
              "                3.49056604e-01, -4.33962264e-01, -1.59603596e-04,\n",
              "                5.28301887e-01, -6.41509434e-01, -2.70004788e-04,\n",
              "                6.41509434e-01, -7.73584906e-01, -3.32540112e-04,\n",
              "                7.35849057e-01, -8.67924528e-01, -3.76245429e-04,\n",
              "                4.33962264e-01, -2.73584906e-01, -2.38037633e-04,\n",
              "                6.79245283e-01, -4.24528302e-01, -3.30810734e-04,\n",
              "                8.39622642e-01, -5.09433962e-01, -4.08440934e-04,\n",
              "                9.62264151e-01, -5.75471698e-01, -4.57502480e-04,\n",
              "                4.62264151e-01, -9.43396226e-02, -3.09305758e-04,\n",
              "                7.16981132e-01, -2.07547170e-01, -4.51552559e-04,\n",
              "                8.77358491e-01, -2.83018868e-01, -5.82878882e-04,\n",
              "                1.00000000e+00, -3.39622642e-01, -6.62446725e-04,\n",
              "                4.52830189e-01,  9.43396226e-02, -3.67546946e-04,\n",
              "                6.41509434e-01,  1.69811321e-01, -5.26866577e-04,\n",
              "                7.64150943e-01,  2.07547170e-01, -6.07995352e-04,\n",
              "                8.67924528e-01,  2.45283019e-01, -6.48402240e-04]]),\n",
              "       array([[ 0.00000000e+00,  0.00000000e+00,  0.00000000e+00,\n",
              "                0.00000000e+00,  0.00000000e+00,  0.00000000e+00,\n",
              "                0.00000000e+00,  0.00000000e+00,  0.00000000e+00,\n",
              "                0.00000000e+00,  0.00000000e+00,  0.00000000e+00,\n",
              "                0.00000000e+00,  0.00000000e+00,  0.00000000e+00,\n",
              "                0.00000000e+00,  0.00000000e+00,  0.00000000e+00,\n",
              "                0.00000000e+00,  0.00000000e+00,  0.00000000e+00,\n",
              "                0.00000000e+00,  0.00000000e+00,  0.00000000e+00,\n",
              "                0.00000000e+00,  0.00000000e+00,  0.00000000e+00,\n",
              "                0.00000000e+00,  0.00000000e+00,  0.00000000e+00,\n",
              "                0.00000000e+00,  0.00000000e+00,  0.00000000e+00,\n",
              "                0.00000000e+00,  0.00000000e+00,  0.00000000e+00,\n",
              "                0.00000000e+00,  0.00000000e+00,  0.00000000e+00,\n",
              "                0.00000000e+00,  0.00000000e+00,  0.00000000e+00,\n",
              "                0.00000000e+00,  0.00000000e+00,  0.00000000e+00,\n",
              "                0.00000000e+00,  0.00000000e+00,  0.00000000e+00,\n",
              "                0.00000000e+00,  0.00000000e+00,  0.00000000e+00,\n",
              "                0.00000000e+00,  0.00000000e+00,  0.00000000e+00,\n",
              "                0.00000000e+00,  0.00000000e+00,  0.00000000e+00,\n",
              "                0.00000000e+00,  0.00000000e+00,  0.00000000e+00,\n",
              "                0.00000000e+00,  0.00000000e+00,  0.00000000e+00,\n",
              "                0.00000000e+00,  0.00000000e+00,  1.72612452e-09,\n",
              "                2.80373832e-02, -2.52336449e-01,  1.17023380e-05,\n",
              "                1.49532710e-01, -4.11214953e-01, -4.67447827e-06,\n",
              "                2.71028037e-01, -4.48598131e-01, -2.66168858e-05,\n",
              "                3.45794393e-01, -4.48598131e-01, -6.19028530e-05,\n",
              "                2.99065421e-01, -5.14018692e-01, -1.10618866e-04,\n",
              "                4.48598131e-01, -7.47663551e-01, -2.01096097e-04,\n",
              "                5.51401869e-01, -8.97196262e-01, -2.55126471e-04,\n",
              "                6.26168224e-01, -1.00000000e+00, -2.91578976e-04,\n",
              "                3.92523364e-01, -3.64485981e-01, -1.86174829e-04,\n",
              "                6.07476636e-01, -5.60747664e-01, -2.69739497e-04,\n",
              "                7.57009346e-01, -6.82242991e-01, -3.48535097e-04,\n",
              "                8.69158879e-01, -7.85046729e-01, -3.99860510e-04,\n",
              "                4.48598131e-01, -1.86915888e-01, -2.54905269e-04,\n",
              "                6.72897196e-01, -3.27102804e-01, -3.86327993e-04,\n",
              "                8.22429907e-01, -4.39252336e-01, -5.11512578e-04,\n",
              "                9.43925234e-01, -5.32710280e-01, -5.87784102e-04,\n",
              "                4.57943925e-01,  9.34579439e-03, -3.09248150e-04,\n",
              "                6.44859813e-01,  3.73831776e-02, -4.47935590e-04,\n",
              "                7.66355140e-01,  5.60747664e-02, -5.14181940e-04,\n",
              "                8.69158879e-01,  5.60747664e-02, -5.44713514e-04]]),\n",
              "       array([[ 0.00000000e+00,  0.00000000e+00,  0.00000000e+00,\n",
              "                0.00000000e+00,  0.00000000e+00,  0.00000000e+00,\n",
              "                0.00000000e+00,  0.00000000e+00,  0.00000000e+00,\n",
              "                0.00000000e+00,  0.00000000e+00,  0.00000000e+00,\n",
              "                0.00000000e+00,  0.00000000e+00,  0.00000000e+00,\n",
              "                0.00000000e+00,  0.00000000e+00,  0.00000000e+00,\n",
              "                0.00000000e+00,  0.00000000e+00,  0.00000000e+00,\n",
              "                0.00000000e+00,  0.00000000e+00,  0.00000000e+00,\n",
              "                0.00000000e+00,  0.00000000e+00,  0.00000000e+00,\n",
              "                0.00000000e+00,  0.00000000e+00,  0.00000000e+00,\n",
              "                0.00000000e+00,  0.00000000e+00,  0.00000000e+00,\n",
              "                0.00000000e+00,  0.00000000e+00,  0.00000000e+00,\n",
              "                0.00000000e+00,  0.00000000e+00,  0.00000000e+00,\n",
              "                0.00000000e+00,  0.00000000e+00,  0.00000000e+00,\n",
              "                0.00000000e+00,  0.00000000e+00,  0.00000000e+00,\n",
              "                0.00000000e+00,  0.00000000e+00,  0.00000000e+00,\n",
              "                0.00000000e+00,  0.00000000e+00,  0.00000000e+00,\n",
              "                0.00000000e+00,  0.00000000e+00,  0.00000000e+00,\n",
              "                0.00000000e+00,  0.00000000e+00,  0.00000000e+00,\n",
              "                0.00000000e+00,  0.00000000e+00,  0.00000000e+00,\n",
              "                0.00000000e+00,  0.00000000e+00,  0.00000000e+00,\n",
              "                0.00000000e+00,  0.00000000e+00,  2.13056086e-09,\n",
              "               -9.00900901e-03, -2.07207207e-01, -3.65111171e-05,\n",
              "                9.00900901e-02, -3.96396396e-01, -8.34168346e-05,\n",
              "                1.98198198e-01, -4.86486486e-01, -1.27222775e-04,\n",
              "                2.61261261e-01, -5.49549550e-01, -1.81272492e-04,\n",
              "                1.98198198e-01, -4.77477477e-01, -2.01826663e-04,\n",
              "                3.24324324e-01, -7.29729730e-01, -3.25159212e-04,\n",
              "                4.14414414e-01, -8.82882883e-01, -3.95527663e-04,\n",
              "                4.86486486e-01, -1.00000000e+00, -4.39209981e-04,\n",
              "                2.88288288e-01, -3.60360360e-01, -2.68591467e-04,\n",
              "                4.77477477e-01, -5.85585586e-01, -3.93753452e-04,\n",
              "                6.03603604e-01, -7.29729730e-01, -4.88479831e-04,\n",
              "                7.11711712e-01, -8.46846847e-01, -5.44017634e-04,\n",
              "                3.51351351e-01, -1.98198198e-01, -3.29509512e-04,\n",
              "                5.67567568e-01, -3.69369369e-01, -4.81778168e-04,\n",
              "                6.93693694e-01, -4.95495495e-01, -6.05939946e-04,\n",
              "                8.01801802e-01, -6.03603604e-01, -6.78079757e-04,\n",
              "                3.78378378e-01, -9.00900901e-03, -3.80019112e-04,\n",
              "                5.58558559e-01, -9.00900901e-03, -5.33680759e-04,\n",
              "                6.75675676e-01, -1.80180180e-02, -6.06749777e-04,\n",
              "                7.83783784e-01, -2.70270270e-02, -6.38781904e-04]]),\n",
              "       array([[ 0.00000000e+00,  0.00000000e+00,  0.00000000e+00,\n",
              "                0.00000000e+00,  0.00000000e+00,  0.00000000e+00,\n",
              "                0.00000000e+00,  0.00000000e+00,  0.00000000e+00,\n",
              "                0.00000000e+00,  0.00000000e+00,  0.00000000e+00,\n",
              "                0.00000000e+00,  0.00000000e+00,  0.00000000e+00,\n",
              "                0.00000000e+00,  0.00000000e+00,  0.00000000e+00,\n",
              "                0.00000000e+00,  0.00000000e+00,  0.00000000e+00,\n",
              "                0.00000000e+00,  0.00000000e+00,  0.00000000e+00,\n",
              "                0.00000000e+00,  0.00000000e+00,  0.00000000e+00,\n",
              "                0.00000000e+00,  0.00000000e+00,  0.00000000e+00,\n",
              "                0.00000000e+00,  0.00000000e+00,  0.00000000e+00,\n",
              "                0.00000000e+00,  0.00000000e+00,  0.00000000e+00,\n",
              "                0.00000000e+00,  0.00000000e+00,  0.00000000e+00,\n",
              "                0.00000000e+00,  0.00000000e+00,  0.00000000e+00,\n",
              "                0.00000000e+00,  0.00000000e+00,  0.00000000e+00,\n",
              "                0.00000000e+00,  0.00000000e+00,  0.00000000e+00,\n",
              "                0.00000000e+00,  0.00000000e+00,  0.00000000e+00,\n",
              "                0.00000000e+00,  0.00000000e+00,  0.00000000e+00,\n",
              "                0.00000000e+00,  0.00000000e+00,  0.00000000e+00,\n",
              "                0.00000000e+00,  0.00000000e+00,  0.00000000e+00,\n",
              "                0.00000000e+00,  0.00000000e+00,  0.00000000e+00,\n",
              "                0.00000000e+00,  0.00000000e+00,  1.90353694e-09,\n",
              "               -8.26446281e-03, -2.14876033e-01,  1.36123883e-06,\n",
              "                9.09090909e-02, -3.71900826e-01, -2.64169071e-05,\n",
              "                2.06611570e-01, -4.21487603e-01, -5.68121549e-05,\n",
              "                2.72727273e-01, -4.21487603e-01, -9.97245435e-05,\n",
              "                1.98347107e-01, -4.79338843e-01, -1.55932570e-04,\n",
              "                2.97520661e-01, -7.19008264e-01, -2.56842849e-04,\n",
              "                3.71900826e-01, -8.84297521e-01, -3.13362738e-04,\n",
              "                4.29752066e-01, -1.00000000e+00, -3.50480545e-04,\n",
              "                2.89256198e-01, -3.71900826e-01, -2.27563099e-04,\n",
              "                4.54545455e-01, -6.11570248e-01, -3.34520293e-04,\n",
              "                5.61983471e-01, -7.60330579e-01, -4.14128485e-04,\n",
              "                6.52892562e-01, -8.84297521e-01, -4.63190835e-04,\n",
              "                3.55371901e-01, -2.31404959e-01, -2.91291286e-04,\n",
              "                5.37190083e-01, -4.29752066e-01, -4.35909826e-04,\n",
              "                6.61157025e-01, -5.70247934e-01, -5.55110187e-04,\n",
              "                7.60330579e-01, -6.85950413e-01, -6.22323352e-04,\n",
              "                3.88429752e-01, -6.61157025e-02, -3.41005777e-04,\n",
              "                5.70247934e-01, -1.07438017e-01, -4.77176868e-04,\n",
              "                6.94214876e-01, -1.32231405e-01, -5.44230800e-04,\n",
              "                8.01652893e-01, -1.57024793e-01, -5.76223039e-04]]),\n",
              "       array([[ 0.00000000e+00,  0.00000000e+00,  0.00000000e+00,\n",
              "                0.00000000e+00,  0.00000000e+00,  0.00000000e+00,\n",
              "                0.00000000e+00,  0.00000000e+00,  0.00000000e+00,\n",
              "                0.00000000e+00,  0.00000000e+00,  0.00000000e+00,\n",
              "                0.00000000e+00,  0.00000000e+00,  0.00000000e+00,\n",
              "                0.00000000e+00,  0.00000000e+00,  0.00000000e+00,\n",
              "                0.00000000e+00,  0.00000000e+00,  0.00000000e+00,\n",
              "                0.00000000e+00,  0.00000000e+00,  0.00000000e+00,\n",
              "                0.00000000e+00,  0.00000000e+00,  0.00000000e+00,\n",
              "                0.00000000e+00,  0.00000000e+00,  0.00000000e+00,\n",
              "                0.00000000e+00,  0.00000000e+00,  0.00000000e+00,\n",
              "                0.00000000e+00,  0.00000000e+00,  0.00000000e+00,\n",
              "                0.00000000e+00,  0.00000000e+00,  0.00000000e+00,\n",
              "                0.00000000e+00,  0.00000000e+00,  0.00000000e+00,\n",
              "                0.00000000e+00,  0.00000000e+00,  0.00000000e+00,\n",
              "                0.00000000e+00,  0.00000000e+00,  0.00000000e+00,\n",
              "                0.00000000e+00,  0.00000000e+00,  0.00000000e+00,\n",
              "                0.00000000e+00,  0.00000000e+00,  0.00000000e+00,\n",
              "                0.00000000e+00,  0.00000000e+00,  0.00000000e+00,\n",
              "                0.00000000e+00,  0.00000000e+00,  0.00000000e+00,\n",
              "                0.00000000e+00,  0.00000000e+00,  0.00000000e+00,\n",
              "                0.00000000e+00,  0.00000000e+00,  1.61655133e-09,\n",
              "               -2.29007634e-02, -2.06106870e-01,  1.61571563e-05,\n",
              "                5.34351145e-02, -3.66412214e-01,  3.92712381e-06,\n",
              "                1.37404580e-01, -4.35114504e-01, -1.34121088e-05,\n",
              "                1.90839695e-01, -4.65648855e-01, -4.48712283e-05,\n",
              "                1.45038168e-01, -4.88549618e-01, -1.14330816e-04,\n",
              "                2.29007634e-01, -7.25190840e-01, -1.99895253e-04,\n",
              "                2.82442748e-01, -8.85496183e-01, -2.47444901e-04,\n",
              "                3.35877863e-01, -1.00000000e+00, -2.79272046e-04,\n",
              "                2.44274809e-01, -4.04580153e-01, -1.83208142e-04,\n",
              "                3.66412214e-01, -6.56488550e-01, -2.76407127e-04,\n",
              "                4.50381679e-01, -8.16793893e-01, -3.57465406e-04,\n",
              "                5.34351145e-01, -9.46564885e-01, -4.08144625e-04,\n",
              "                3.20610687e-01, -2.82442748e-01, -2.43426507e-04,\n",
              "                4.73282443e-01, -4.96183206e-01, -3.82724012e-04,\n",
              "                5.72519084e-01, -6.41221374e-01, -5.13618343e-04,\n",
              "                6.48854962e-01, -7.63358779e-01, -5.89956593e-04,\n",
              "                3.58778626e-01, -1.29770992e-01, -2.87591729e-04,\n",
              "                5.19083969e-01, -1.75572519e-01, -4.32264174e-04,\n",
              "                6.33587786e-01, -2.06106870e-01, -5.14411517e-04,\n",
              "                7.25190840e-01, -2.36641221e-01, -5.56063390e-04]]),\n",
              "       array([[ 0.00000000e+00,  0.00000000e+00,  0.00000000e+00,\n",
              "                0.00000000e+00,  0.00000000e+00,  0.00000000e+00,\n",
              "                0.00000000e+00,  0.00000000e+00,  0.00000000e+00,\n",
              "                0.00000000e+00,  0.00000000e+00,  0.00000000e+00,\n",
              "                0.00000000e+00,  0.00000000e+00,  0.00000000e+00,\n",
              "                0.00000000e+00,  0.00000000e+00,  0.00000000e+00,\n",
              "                0.00000000e+00,  0.00000000e+00,  0.00000000e+00,\n",
              "                0.00000000e+00,  0.00000000e+00,  0.00000000e+00,\n",
              "                0.00000000e+00,  0.00000000e+00,  0.00000000e+00,\n",
              "                0.00000000e+00,  0.00000000e+00,  0.00000000e+00,\n",
              "                0.00000000e+00,  0.00000000e+00,  0.00000000e+00,\n",
              "                0.00000000e+00,  0.00000000e+00,  0.00000000e+00,\n",
              "                0.00000000e+00,  0.00000000e+00,  0.00000000e+00,\n",
              "                0.00000000e+00,  0.00000000e+00,  0.00000000e+00,\n",
              "                0.00000000e+00,  0.00000000e+00,  0.00000000e+00,\n",
              "                0.00000000e+00,  0.00000000e+00,  0.00000000e+00,\n",
              "                0.00000000e+00,  0.00000000e+00,  0.00000000e+00,\n",
              "                0.00000000e+00,  0.00000000e+00,  0.00000000e+00,\n",
              "                0.00000000e+00,  0.00000000e+00,  0.00000000e+00,\n",
              "                0.00000000e+00,  0.00000000e+00,  0.00000000e+00,\n",
              "                0.00000000e+00,  0.00000000e+00,  0.00000000e+00,\n",
              "                0.00000000e+00,  0.00000000e+00,  1.08057005e-09,\n",
              "               -2.85714286e-02, -1.92857143e-01,  1.83602296e-05,\n",
              "                2.85714286e-02, -3.50000000e-01,  5.57919016e-06,\n",
              "                1.00000000e-01, -4.14285714e-01, -1.92958462e-05,\n",
              "                1.57142857e-01, -4.28571429e-01, -5.63772528e-05,\n",
              "                1.21428571e-01, -5.00000000e-01, -6.31529904e-05,\n",
              "                1.78571429e-01, -7.35714286e-01, -1.40294446e-04,\n",
              "                2.28571429e-01, -8.92857143e-01, -1.87177796e-04,\n",
              "                2.64285714e-01, -1.00000000e+00, -2.18080290e-04,\n",
              "                2.14285714e-01, -4.42857143e-01, -1.35493797e-04,\n",
              "                3.14285714e-01, -6.78571429e-01, -2.14265726e-04,\n",
              "                3.85714286e-01, -8.35714286e-01, -2.82570134e-04,\n",
              "                4.42857143e-01, -9.57142857e-01, -3.26137378e-04,\n",
              "                2.85714286e-01, -3.35714286e-01, -2.05151378e-04,\n",
              "                4.21428571e-01, -5.42857143e-01, -3.20324861e-04,\n",
              "                5.00000000e-01, -6.85714286e-01, -4.27351386e-04,\n",
              "                5.57142857e-01, -8.00000000e-01, -4.91101880e-04,\n",
              "                3.35714286e-01, -2.00000000e-01, -2.63695153e-04,\n",
              "                4.78571429e-01, -2.64285714e-01, -3.85071843e-04,\n",
              "                5.71428571e-01, -3.00000000e-01, -4.50660554e-04,\n",
              "                6.57142857e-01, -3.35714286e-01, -4.83679665e-04]]),\n",
              "       array([[ 0.00000000e+00,  0.00000000e+00,  0.00000000e+00,\n",
              "                0.00000000e+00,  0.00000000e+00,  0.00000000e+00,\n",
              "                0.00000000e+00,  0.00000000e+00,  0.00000000e+00,\n",
              "                0.00000000e+00,  0.00000000e+00,  0.00000000e+00,\n",
              "                0.00000000e+00,  0.00000000e+00,  0.00000000e+00,\n",
              "                0.00000000e+00,  0.00000000e+00,  0.00000000e+00,\n",
              "                0.00000000e+00,  0.00000000e+00,  0.00000000e+00,\n",
              "                0.00000000e+00,  0.00000000e+00,  0.00000000e+00,\n",
              "                0.00000000e+00,  0.00000000e+00,  0.00000000e+00,\n",
              "                0.00000000e+00,  0.00000000e+00,  0.00000000e+00,\n",
              "                0.00000000e+00,  0.00000000e+00,  0.00000000e+00,\n",
              "                0.00000000e+00,  0.00000000e+00,  0.00000000e+00,\n",
              "                0.00000000e+00,  0.00000000e+00,  0.00000000e+00,\n",
              "                0.00000000e+00,  0.00000000e+00,  0.00000000e+00,\n",
              "                0.00000000e+00,  0.00000000e+00,  0.00000000e+00,\n",
              "                0.00000000e+00,  0.00000000e+00,  0.00000000e+00,\n",
              "                0.00000000e+00,  0.00000000e+00,  0.00000000e+00,\n",
              "                0.00000000e+00,  0.00000000e+00,  0.00000000e+00,\n",
              "                0.00000000e+00,  0.00000000e+00,  0.00000000e+00,\n",
              "                0.00000000e+00,  0.00000000e+00,  0.00000000e+00,\n",
              "                0.00000000e+00,  0.00000000e+00,  0.00000000e+00,\n",
              "                0.00000000e+00,  0.00000000e+00,  2.09771929e-09,\n",
              "               -3.54609929e-02, -1.98581560e-01,  1.68218571e-05,\n",
              "                2.12765957e-02, -3.68794326e-01,  3.01167965e-06,\n",
              "                1.13475177e-01, -4.18439716e-01, -2.09752619e-05,\n",
              "                1.77304965e-01, -4.11347518e-01, -5.76538873e-05,\n",
              "                8.51063830e-02, -4.89361702e-01, -7.02616105e-05,\n",
              "                1.34751773e-01, -7.16312057e-01, -1.42792134e-04,\n",
              "                1.63120567e-01, -8.79432624e-01, -1.90126241e-04,\n",
              "                1.91489362e-01, -1.00000000e+00, -2.23731979e-04,\n",
              "                1.77304965e-01, -4.39716312e-01, -1.37106562e-04,\n",
              "                2.62411348e-01, -6.80851064e-01, -2.06861447e-04,\n",
              "                3.26241135e-01, -8.43971631e-01, -2.77406516e-04,\n",
              "                3.75886525e-01, -9.78723404e-01, -3.23598214e-04,\n",
              "                2.48226950e-01, -3.40425532e-01, -1.99434526e-04,\n",
              "                3.61702128e-01, -5.60283688e-01, -3.01641564e-04,\n",
              "                4.32624113e-01, -7.16312057e-01, -4.09771127e-04,\n",
              "                4.96453901e-01, -8.29787234e-01, -4.76779033e-04,\n",
              "                3.04964539e-01, -2.19858156e-01, -2.51624548e-04,\n",
              "                4.39716312e-01, -3.04964539e-01, -3.63868655e-04,\n",
              "                5.39007092e-01, -3.47517730e-01, -4.26897237e-04,\n",
              "                6.17021277e-01, -3.82978723e-01, -4.59243325e-04]]),\n",
              "       array([[ 0.00000000e+00,  0.00000000e+00,  0.00000000e+00,\n",
              "                0.00000000e+00,  0.00000000e+00,  0.00000000e+00,\n",
              "                0.00000000e+00,  0.00000000e+00,  0.00000000e+00,\n",
              "                0.00000000e+00,  0.00000000e+00,  0.00000000e+00,\n",
              "                0.00000000e+00,  0.00000000e+00,  0.00000000e+00,\n",
              "                0.00000000e+00,  0.00000000e+00,  0.00000000e+00,\n",
              "                0.00000000e+00,  0.00000000e+00,  0.00000000e+00,\n",
              "                0.00000000e+00,  0.00000000e+00,  0.00000000e+00,\n",
              "                0.00000000e+00,  0.00000000e+00,  0.00000000e+00,\n",
              "                0.00000000e+00,  0.00000000e+00,  0.00000000e+00,\n",
              "                0.00000000e+00,  0.00000000e+00,  0.00000000e+00,\n",
              "                0.00000000e+00,  0.00000000e+00,  0.00000000e+00,\n",
              "                0.00000000e+00,  0.00000000e+00,  0.00000000e+00,\n",
              "                0.00000000e+00,  0.00000000e+00,  0.00000000e+00,\n",
              "                0.00000000e+00,  0.00000000e+00,  0.00000000e+00,\n",
              "                0.00000000e+00,  0.00000000e+00,  0.00000000e+00,\n",
              "                0.00000000e+00,  0.00000000e+00,  0.00000000e+00,\n",
              "                0.00000000e+00,  0.00000000e+00,  0.00000000e+00,\n",
              "                0.00000000e+00,  0.00000000e+00,  0.00000000e+00,\n",
              "                0.00000000e+00,  0.00000000e+00,  0.00000000e+00,\n",
              "                0.00000000e+00,  0.00000000e+00,  0.00000000e+00,\n",
              "                0.00000000e+00,  0.00000000e+00,  1.99233637e-09,\n",
              "               -4.16666667e-02, -2.08333333e-01,  1.81980027e-05,\n",
              "                2.08333333e-02, -3.88888889e-01,  3.85351248e-06,\n",
              "                1.18055556e-01, -4.44444444e-01, -2.01620553e-05,\n",
              "                2.01388889e-01, -4.37500000e-01, -5.38830193e-05,\n",
              "                5.55555556e-02, -4.93055556e-01, -6.99494267e-05,\n",
              "                9.02777778e-02, -7.22222222e-01, -1.44714593e-04,\n",
              "                1.11111111e-01, -8.75000000e-01, -1.94133997e-04,\n",
              "                1.25000000e-01, -1.00000000e+00, -2.28949719e-04,\n",
              "                1.38888889e-01, -4.51388889e-01, -1.36413624e-04,\n",
              "                2.22222222e-01, -6.94444444e-01, -2.04156761e-04,\n",
              "                2.70833333e-01, -8.61111111e-01, -2.70286885e-04,\n",
              "                3.05555556e-01, -1.00000000e+00, -3.14652868e-04,\n",
              "                2.15277778e-01, -3.68055556e-01, -1.98790791e-04,\n",
              "                3.12500000e-01, -5.90277778e-01, -2.91653986e-04,\n",
              "                3.75000000e-01, -7.50000000e-01, -3.89135572e-04,\n",
              "                4.23611111e-01, -8.75000000e-01, -4.51476572e-04,\n",
              "                2.70833333e-01, -2.56944444e-01, -2.52649602e-04,\n",
              "                4.02777778e-01, -3.47222222e-01, -3.44497074e-04,\n",
              "                4.86111111e-01, -3.95833333e-01, -3.95786172e-04,\n",
              "                5.62500000e-01, -4.37500000e-01, -4.24717217e-04]])],\n",
              "      dtype=object)"
            ]
          },
          "metadata": {},
          "execution_count": 44
        }
      ]
    },
    {
      "cell_type": "code",
      "execution_count": null,
      "metadata": {
        "colab": {
          "base_uri": "https://localhost:8080/"
        },
        "id": "AeYuzhIRzn6G",
        "outputId": "823cb7a2-c5a0-4d11-e179-60e3456a1535"
      },
      "outputs": [
        {
          "output_type": "stream",
          "name": "stdout",
          "text": [
            "  adding: content/output_files/ (stored 0%)\n",
            "  adding: content/output_files/output_1580.txt (deflated 91%)\n",
            "  adding: content/output_files/output_0.txt (stored 0%)\n",
            "  adding: content/output_files/output_1575.txt (deflated 93%)\n",
            "  adding: content/output_files/output_1585.txt (deflated 97%)\n"
          ]
        }
      ],
      "source": [
        "!zip -r /content/0-500.zip /content/output_files"
      ]
    },
    {
      "cell_type": "code",
      "execution_count": null,
      "metadata": {
        "colab": {
          "base_uri": "https://localhost:8080/",
          "height": 1000
        },
        "id": "QCzWOxdlBwCY",
        "outputId": "e2e46274-3884-4a75-b21e-830dae9895fc"
      },
      "outputs": [
        {
          "output_type": "stream",
          "name": "stderr",
          "text": [
            "\r  0%|          | 0/16054 [00:00<?, ?it/s]"
          ]
        },
        {
          "output_type": "stream",
          "name": "stdout",
          "text": [
            "[youtube] s-QgMaUgtTQ: Downloading webpage\n",
            "[youtube] s-QgMaUgtTQ: Downloading android player API JSON\n",
            "[info] s-QgMaUgtTQ: Downloading 1 format(s): 18\n",
            "[download] Destination: video.mp4\n",
            "[download] 100% of 591.03KiB in 00:00               \n",
            "[MoviePy] >>>> Building video clip.mp4\n",
            "[MoviePy] Writing audio in clipTEMP_MPY_wvf_snd.mp3\n"
          ]
        },
        {
          "output_type": "stream",
          "name": "stderr",
          "text": [
            "\n",
            "100%|██████████| 62/62 [00:00<00:00, 1236.55it/s]"
          ]
        },
        {
          "output_type": "stream",
          "name": "stdout",
          "text": [
            "[MoviePy] Done.\n",
            "[MoviePy] Writing video clip.mp4\n"
          ]
        },
        {
          "output_type": "stream",
          "name": "stderr",
          "text": [
            "\n",
            "\n",
            "  0%|          | 0/84 [00:00<?, ?it/s]\u001b[A\n",
            " 40%|████      | 34/84 [00:00<00:00, 338.60it/s]\u001b[A\n",
            "100%|██████████| 84/84 [00:00<00:00, 191.50it/s]\n"
          ]
        },
        {
          "output_type": "stream",
          "name": "stdout",
          "text": [
            "[MoviePy] Done.\n",
            "[MoviePy] >>>> Video ready: clip.mp4 \n",
            "\n"
          ]
        },
        {
          "output_type": "stream",
          "name": "stderr",
          "text": [
            "\r  0%|          | 1/16054 [00:03<16:17:15,  3.65s/it]"
          ]
        },
        {
          "output_type": "stream",
          "name": "stdout",
          "text": [
            "[youtube] s-QgMaUgtTQ: Downloading webpage\n",
            "[youtube] s-QgMaUgtTQ: Downloading android player API JSON\n",
            "[info] s-QgMaUgtTQ: Downloading 1 format(s): 18\n",
            "[download] Destination: video.mp4\n",
            "[download] 100% of 591.03KiB in 00:00               \n",
            "[MoviePy] >>>> Building video clip.mp4\n",
            "[MoviePy] Writing audio in clipTEMP_MPY_wvf_snd.mp3\n"
          ]
        },
        {
          "output_type": "stream",
          "name": "stderr",
          "text": [
            "\n",
            "100%|██████████| 66/66 [00:00<00:00, 1404.41it/s]"
          ]
        },
        {
          "output_type": "stream",
          "name": "stdout",
          "text": [
            "[MoviePy] Done.\n",
            "[MoviePy] Writing video clip.mp4\n"
          ]
        },
        {
          "output_type": "stream",
          "name": "stderr",
          "text": [
            "\n",
            "\n",
            "  0%|          | 0/89 [00:00<?, ?it/s]\u001b[A\n",
            " 38%|███▊      | 34/89 [00:00<00:00, 337.95it/s]\u001b[A\n",
            "100%|██████████| 89/89 [00:00<00:00, 188.62it/s]\n"
          ]
        },
        {
          "output_type": "stream",
          "name": "stdout",
          "text": [
            "[MoviePy] Done.\n",
            "[MoviePy] >>>> Video ready: clip.mp4 \n",
            "\n"
          ]
        },
        {
          "output_type": "stream",
          "name": "stderr",
          "text": [
            "\r  0%|          | 2/16054 [00:07<16:43:22,  3.75s/it]"
          ]
        },
        {
          "output_type": "stream",
          "name": "stdout",
          "text": [
            "[youtube] s-QgMaUgtTQ: Downloading webpage\n",
            "[youtube] s-QgMaUgtTQ: Downloading android player API JSON\n",
            "[info] s-QgMaUgtTQ: Downloading 1 format(s): 18\n",
            "[download] Destination: video.mp4\n",
            "[download] 100% of 591.03KiB in 00:00               \n",
            "[MoviePy] >>>> Building video clip.mp4\n",
            "[MoviePy] Writing audio in clipTEMP_MPY_wvf_snd.mp3\n"
          ]
        },
        {
          "output_type": "stream",
          "name": "stderr",
          "text": [
            "\n",
            "100%|██████████| 23/23 [00:00<00:00, 1679.36it/s]"
          ]
        },
        {
          "output_type": "stream",
          "name": "stdout",
          "text": [
            "[MoviePy] Done.\n",
            "[MoviePy] Writing video clip.mp4\n"
          ]
        },
        {
          "output_type": "stream",
          "name": "stderr",
          "text": [
            "\n",
            "\n",
            "100%|██████████| 32/32 [00:00<00:00, 337.72it/s]\n"
          ]
        },
        {
          "output_type": "stream",
          "name": "stdout",
          "text": [
            "[MoviePy] Done.\n",
            "[MoviePy] >>>> Video ready: clip.mp4 \n",
            "\n"
          ]
        },
        {
          "output_type": "stream",
          "name": "stderr",
          "text": [
            "\r  0%|          | 3/16054 [00:09<13:36:59,  3.05s/it]"
          ]
        },
        {
          "output_type": "stream",
          "name": "stdout",
          "text": [
            "[youtube] s-QgMaUgtTQ: Downloading webpage\n",
            "[youtube] s-QgMaUgtTQ: Downloading android player API JSON\n",
            "[info] s-QgMaUgtTQ: Downloading 1 format(s): 18\n",
            "[download] Destination: video.mp4\n",
            "[download] 100% of 591.03KiB in 00:00               \n",
            "[MoviePy] >>>> Building video clip.mp4\n",
            "[MoviePy] Writing audio in clipTEMP_MPY_wvf_snd.mp3\n"
          ]
        },
        {
          "output_type": "stream",
          "name": "stderr",
          "text": [
            "\n",
            "100%|██████████| 59/59 [00:00<00:00, 1189.27it/s]"
          ]
        },
        {
          "output_type": "stream",
          "name": "stdout",
          "text": [
            "[MoviePy] Done.\n",
            "[MoviePy] Writing video clip.mp4\n"
          ]
        },
        {
          "output_type": "stream",
          "name": "stderr",
          "text": [
            "\n",
            "\n",
            "  0%|          | 0/80 [00:00<?, ?it/s]\u001b[A\n",
            " 42%|████▎     | 34/80 [00:00<00:00, 333.42it/s]\u001b[A\n",
            "100%|██████████| 80/80 [00:00<00:00, 198.63it/s]\n"
          ]
        },
        {
          "output_type": "stream",
          "name": "stdout",
          "text": [
            "[MoviePy] Done.\n",
            "[MoviePy] >>>> Video ready: clip.mp4 \n",
            "\n"
          ]
        },
        {
          "output_type": "stream",
          "name": "stderr",
          "text": [
            "\r  0%|          | 4/16054 [00:12<13:40:33,  3.07s/it]"
          ]
        },
        {
          "output_type": "stream",
          "name": "stdout",
          "text": [
            "[youtube] s-QgMaUgtTQ: Downloading webpage\n",
            "[youtube] s-QgMaUgtTQ: Downloading android player API JSON\n",
            "[info] s-QgMaUgtTQ: Downloading 1 format(s): 18\n",
            "[download] Destination: video.mp4\n",
            "[download] 100% of 591.03KiB in 00:00               \n",
            "[MoviePy] >>>> Building video clip.mp4\n",
            "[MoviePy] Writing audio in clipTEMP_MPY_wvf_snd.mp3\n"
          ]
        },
        {
          "output_type": "stream",
          "name": "stderr",
          "text": [
            "\n",
            "100%|██████████| 56/56 [00:00<00:00, 1163.57it/s]"
          ]
        },
        {
          "output_type": "stream",
          "name": "stdout",
          "text": [
            "[MoviePy] Done.\n",
            "[MoviePy] Writing video clip.mp4\n"
          ]
        },
        {
          "output_type": "stream",
          "name": "stderr",
          "text": [
            "\n",
            "\n",
            "  0%|          | 0/76 [00:00<?, ?it/s]\u001b[A\n",
            " 43%|████▎     | 33/76 [00:00<00:00, 329.94it/s]\u001b[A\n",
            "100%|██████████| 76/76 [00:00<00:00, 208.50it/s]\n"
          ]
        },
        {
          "output_type": "stream",
          "name": "stdout",
          "text": [
            "[MoviePy] Done.\n",
            "[MoviePy] >>>> Video ready: clip.mp4 \n",
            "\n"
          ]
        },
        {
          "output_type": "stream",
          "name": "stderr",
          "text": [
            "\r  0%|          | 5/16054 [00:15<13:27:50,  3.02s/it]"
          ]
        },
        {
          "output_type": "stream",
          "name": "stdout",
          "text": [
            "[youtube] s-QgMaUgtTQ: Downloading webpage\n",
            "[youtube] s-QgMaUgtTQ: Downloading android player API JSON\n",
            "[info] s-QgMaUgtTQ: Downloading 1 format(s): 18\n",
            "[download] Destination: video.mp4\n",
            "[download] 100% of 591.03KiB in 00:00               \n",
            "[MoviePy] >>>> Building video clip.mp4\n",
            "[MoviePy] Writing audio in clipTEMP_MPY_wvf_snd.mp3\n"
          ]
        },
        {
          "output_type": "stream",
          "name": "stderr",
          "text": [
            "\n",
            "100%|██████████| 57/57 [00:00<00:00, 1143.51it/s]"
          ]
        },
        {
          "output_type": "stream",
          "name": "stdout",
          "text": [
            "[MoviePy] Done.\n",
            "[MoviePy] Writing video clip.mp4\n"
          ]
        },
        {
          "output_type": "stream",
          "name": "stderr",
          "text": [
            "\n",
            "\n",
            "  0%|          | 0/78 [00:00<?, ?it/s]\u001b[A\n",
            " 45%|████▍     | 35/78 [00:00<00:00, 341.83it/s]\u001b[A\n",
            "100%|██████████| 78/78 [00:00<00:00, 199.23it/s]\n"
          ]
        },
        {
          "output_type": "stream",
          "name": "stdout",
          "text": [
            "[MoviePy] Done.\n",
            "[MoviePy] >>>> Video ready: clip.mp4 \n",
            "\n"
          ]
        },
        {
          "output_type": "stream",
          "name": "stderr",
          "text": [
            "\r  0%|          | 6/16054 [00:18<13:47:36,  3.09s/it]"
          ]
        },
        {
          "output_type": "stream",
          "name": "stdout",
          "text": [
            "[youtube] s-QgMaUgtTQ: Downloading webpage\n",
            "[youtube] s-QgMaUgtTQ: Downloading android player API JSON\n",
            "[info] s-QgMaUgtTQ: Downloading 1 format(s): 18\n",
            "[download] Destination: video.mp4\n",
            "[download] 100% of 591.03KiB in 00:00               \n",
            "[MoviePy] >>>> Building video clip.mp4\n",
            "[MoviePy] Writing audio in clipTEMP_MPY_wvf_snd.mp3\n"
          ]
        },
        {
          "output_type": "stream",
          "name": "stderr",
          "text": [
            "\n",
            "100%|██████████| 49/49 [00:00<00:00, 1009.87it/s]"
          ]
        },
        {
          "output_type": "stream",
          "name": "stdout",
          "text": [
            "[MoviePy] Done.\n",
            "[MoviePy] Writing video clip.mp4\n"
          ]
        },
        {
          "output_type": "stream",
          "name": "stderr",
          "text": [
            "\n",
            "\n",
            "  0%|          | 0/67 [00:00<?, ?it/s]\u001b[A\n",
            "100%|██████████| 67/67 [00:00<00:00, 252.83it/s]\n"
          ]
        },
        {
          "output_type": "stream",
          "name": "stdout",
          "text": [
            "[MoviePy] Done.\n",
            "[MoviePy] >>>> Video ready: clip.mp4 \n",
            "\n"
          ]
        },
        {
          "output_type": "stream",
          "name": "stderr",
          "text": [
            "\r  0%|          | 7/16054 [00:21<13:24:29,  3.01s/it]"
          ]
        },
        {
          "output_type": "stream",
          "name": "stdout",
          "text": [
            "[youtube] s-QgMaUgtTQ: Downloading webpage\n",
            "[youtube] s-QgMaUgtTQ: Downloading android player API JSON\n",
            "[info] s-QgMaUgtTQ: Downloading 1 format(s): 18\n",
            "[download] Destination: video.mp4\n",
            "[download] 100% of 591.03KiB in 00:00               \n",
            "[MoviePy] >>>> Building video clip.mp4\n",
            "[MoviePy] Writing audio in clipTEMP_MPY_wvf_snd.mp3\n"
          ]
        },
        {
          "output_type": "stream",
          "name": "stderr",
          "text": [
            "\n",
            "100%|██████████| 87/87 [00:00<00:00, 1396.55it/s]"
          ]
        },
        {
          "output_type": "stream",
          "name": "stdout",
          "text": [
            "[MoviePy] Done.\n",
            "[MoviePy] Writing video clip.mp4\n"
          ]
        },
        {
          "output_type": "stream",
          "name": "stderr",
          "text": [
            "\n",
            "\n",
            "  0%|          | 0/118 [00:00<?, ?it/s]\u001b[A\n",
            " 26%|██▋       | 31/118 [00:00<00:00, 302.60it/s]\u001b[A\n",
            " 53%|█████▎    | 62/118 [00:00<00:00, 232.38it/s]\u001b[A\n",
            " 74%|███████▎  | 87/118 [00:00<00:00, 166.19it/s]\u001b[A\n",
            "100%|██████████| 118/118 [00:00<00:00, 159.11it/s]\n"
          ]
        },
        {
          "output_type": "stream",
          "name": "stdout",
          "text": [
            "[MoviePy] Done.\n",
            "[MoviePy] >>>> Video ready: clip.mp4 \n",
            "\n"
          ]
        },
        {
          "output_type": "stream",
          "name": "stderr",
          "text": [
            "\r  0%|          | 8/16054 [00:26<15:10:10,  3.40s/it]"
          ]
        },
        {
          "output_type": "stream",
          "name": "stdout",
          "text": [
            "[youtube] s-QgMaUgtTQ: Downloading webpage\n",
            "[youtube] s-QgMaUgtTQ: Downloading android player API JSON\n",
            "[info] s-QgMaUgtTQ: Downloading 1 format(s): 18\n",
            "[download] Destination: video.mp4\n",
            "[download] 100% of 591.03KiB in 00:00               \n",
            "[MoviePy] >>>> Building video clip.mp4\n",
            "[MoviePy] Writing audio in clipTEMP_MPY_wvf_snd.mp3\n"
          ]
        },
        {
          "output_type": "stream",
          "name": "stderr",
          "text": [
            "\n",
            "100%|██████████| 63/63 [00:00<00:00, 1248.26it/s]"
          ]
        },
        {
          "output_type": "stream",
          "name": "stdout",
          "text": [
            "[MoviePy] Done.\n",
            "[MoviePy] Writing video clip.mp4\n"
          ]
        },
        {
          "output_type": "stream",
          "name": "stderr",
          "text": [
            "\n",
            "\n",
            "  0%|          | 0/86 [00:00<?, ?it/s]\u001b[A\n",
            " 43%|████▎     | 37/86 [00:00<00:00, 365.41it/s]\u001b[A\n",
            "100%|██████████| 86/86 [00:00<00:00, 196.82it/s]\n"
          ]
        },
        {
          "output_type": "stream",
          "name": "stdout",
          "text": [
            "[MoviePy] Done.\n",
            "[MoviePy] >>>> Video ready: clip.mp4 \n",
            "\n"
          ]
        },
        {
          "output_type": "stream",
          "name": "stderr",
          "text": [
            "\r  0%|          | 9/16054 [00:29<15:29:21,  3.48s/it]"
          ]
        },
        {
          "output_type": "stream",
          "name": "stdout",
          "text": [
            "[youtube] s-QgMaUgtTQ: Downloading webpage\n",
            "[youtube] s-QgMaUgtTQ: Downloading android player API JSON\n",
            "[info] s-QgMaUgtTQ: Downloading 1 format(s): 18\n",
            "[download] Destination: video.mp4\n",
            "[download] 100% of 591.03KiB in 00:00               \n",
            "[MoviePy] >>>> Building video clip.mp4\n",
            "[MoviePy] Writing audio in clipTEMP_MPY_wvf_snd.mp3\n"
          ]
        },
        {
          "output_type": "stream",
          "name": "stderr",
          "text": [
            "\n",
            "100%|██████████| 24/24 [00:00<00:00, 1949.89it/s]"
          ]
        },
        {
          "output_type": "stream",
          "name": "stdout",
          "text": [
            "[MoviePy] Done.\n",
            "[MoviePy] Writing video clip.mp4\n"
          ]
        },
        {
          "output_type": "stream",
          "name": "stderr",
          "text": [
            "\n",
            "\n",
            "100%|██████████| 33/33 [00:00<00:00, 338.55it/s]\n"
          ]
        },
        {
          "output_type": "stream",
          "name": "stdout",
          "text": [
            "[MoviePy] Done.\n",
            "[MoviePy] >>>> Video ready: clip.mp4 \n",
            "\n"
          ]
        },
        {
          "output_type": "stream",
          "name": "stderr",
          "text": [
            "\r  0%|          | 10/16054 [00:31<13:28:09,  3.02s/it]"
          ]
        },
        {
          "output_type": "stream",
          "name": "stdout",
          "text": [
            "[youtube] s-QgMaUgtTQ: Downloading webpage\n",
            "[youtube] s-QgMaUgtTQ: Downloading android player API JSON\n",
            "[info] s-QgMaUgtTQ: Downloading 1 format(s): 18\n",
            "[download] Destination: video.mp4\n",
            "[download] 100% of 591.03KiB in 00:00               \n",
            "[MoviePy] >>>> Building video clip.mp4\n",
            "[MoviePy] Writing audio in clipTEMP_MPY_wvf_snd.mp3\n"
          ]
        },
        {
          "output_type": "stream",
          "name": "stderr",
          "text": [
            "\n",
            "100%|██████████| 42/42 [00:00<00:00, 1274.59it/s]"
          ]
        },
        {
          "output_type": "stream",
          "name": "stdout",
          "text": [
            "[MoviePy] Done.\n",
            "[MoviePy] Writing video clip.mp4\n"
          ]
        },
        {
          "output_type": "stream",
          "name": "stderr",
          "text": [
            "\n",
            "\n",
            "  0%|          | 0/57 [00:00<?, ?it/s]\u001b[A\n",
            "100%|██████████| 57/57 [00:00<00:00, 270.59it/s]\n"
          ]
        },
        {
          "output_type": "stream",
          "name": "stdout",
          "text": [
            "[MoviePy] Done.\n",
            "[MoviePy] >>>> Video ready: clip.mp4 \n",
            "\n"
          ]
        },
        {
          "output_type": "stream",
          "name": "stderr",
          "text": [
            "\r  0%|          | 11/16054 [00:34<13:49:13,  3.10s/it]"
          ]
        },
        {
          "output_type": "stream",
          "name": "stdout",
          "text": [
            "[youtube] s-QgMaUgtTQ: Downloading webpage\n",
            "[youtube] s-QgMaUgtTQ: Downloading android player API JSON\n",
            "[info] s-QgMaUgtTQ: Downloading 1 format(s): 18\n",
            "[download] Destination: video.mp4\n",
            "[download] 100% of 591.03KiB in 00:00               \n",
            "[MoviePy] >>>> Building video clip.mp4\n",
            "[MoviePy] Writing audio in clipTEMP_MPY_wvf_snd.mp3\n"
          ]
        },
        {
          "output_type": "stream",
          "name": "stderr",
          "text": [
            "\n",
            "100%|██████████| 38/38 [00:00<00:00, 1074.87it/s]"
          ]
        },
        {
          "output_type": "stream",
          "name": "stdout",
          "text": [
            "[MoviePy] Done.\n",
            "[MoviePy] Writing video clip.mp4\n"
          ]
        },
        {
          "output_type": "stream",
          "name": "stderr",
          "text": [
            "\n",
            "\n",
            "  0%|          | 0/51 [00:00<?, ?it/s]\u001b[A\n",
            "100%|██████████| 51/51 [00:00<00:00, 302.44it/s]\n"
          ]
        },
        {
          "output_type": "stream",
          "name": "stdout",
          "text": [
            "[MoviePy] Done.\n",
            "[MoviePy] >>>> Video ready: clip.mp4 \n",
            "\n"
          ]
        },
        {
          "output_type": "stream",
          "name": "stderr",
          "text": [
            "\r  0%|          | 12/16054 [00:37<13:42:55,  3.08s/it]"
          ]
        },
        {
          "output_type": "stream",
          "name": "stdout",
          "text": [
            "[youtube] s-QgMaUgtTQ: Downloading webpage\n",
            "[youtube] s-QgMaUgtTQ: Downloading android player API JSON\n",
            "[info] s-QgMaUgtTQ: Downloading 1 format(s): 18\n",
            "[download] Destination: video.mp4\n",
            "[download] 100% of 591.03KiB in 00:00               \n",
            "[MoviePy] >>>> Building video clip.mp4\n",
            "[MoviePy] Writing audio in clipTEMP_MPY_wvf_snd.mp3\n"
          ]
        },
        {
          "output_type": "stream",
          "name": "stderr",
          "text": [
            "\n",
            "100%|██████████| 36/36 [00:00<00:00, 1118.94it/s]"
          ]
        },
        {
          "output_type": "stream",
          "name": "stdout",
          "text": [
            "[MoviePy] Done.\n",
            "[MoviePy] Writing video clip.mp4\n"
          ]
        },
        {
          "output_type": "stream",
          "name": "stderr",
          "text": [
            "\n",
            "\n",
            "  0%|          | 0/49 [00:00<?, ?it/s]\u001b[A\n",
            "100%|██████████| 49/49 [00:00<00:00, 332.79it/s]\n"
          ]
        },
        {
          "output_type": "stream",
          "name": "stdout",
          "text": [
            "[MoviePy] Done.\n",
            "[MoviePy] >>>> Video ready: clip.mp4 \n",
            "\n"
          ]
        },
        {
          "output_type": "stream",
          "name": "stderr",
          "text": [
            "\r  0%|          | 13/16054 [00:40<13:28:48,  3.03s/it]"
          ]
        },
        {
          "output_type": "stream",
          "name": "stdout",
          "text": [
            "[youtube] s-QgMaUgtTQ: Downloading webpage\n",
            "[youtube] s-QgMaUgtTQ: Downloading android player API JSON\n",
            "[info] s-QgMaUgtTQ: Downloading 1 format(s): 18\n",
            "[download] Destination: video.mp4\n",
            "[download] 100% of 591.03KiB in 00:00               \n",
            "[MoviePy] >>>> Building video clip.mp4\n",
            "[MoviePy] Writing audio in clipTEMP_MPY_wvf_snd.mp3\n"
          ]
        },
        {
          "output_type": "stream",
          "name": "stderr",
          "text": [
            "\n",
            "100%|██████████| 65/65 [00:00<00:00, 1220.34it/s]"
          ]
        },
        {
          "output_type": "stream",
          "name": "stdout",
          "text": [
            "[MoviePy] Done.\n",
            "[MoviePy] Writing video clip.mp4\n"
          ]
        },
        {
          "output_type": "stream",
          "name": "stderr",
          "text": [
            "\n",
            "\n",
            "  0%|          | 0/88 [00:00<?, ?it/s]\u001b[A\n",
            " 36%|███▋      | 32/88 [00:00<00:00, 312.69it/s]\u001b[A\n",
            " 73%|███████▎  | 64/88 [00:00<00:00, 218.79it/s]\u001b[A\n",
            "100%|██████████| 88/88 [00:00<00:00, 181.34it/s]\n"
          ]
        },
        {
          "output_type": "stream",
          "name": "stdout",
          "text": [
            "[MoviePy] Done.\n",
            "[MoviePy] >>>> Video ready: clip.mp4 \n",
            "\n"
          ]
        },
        {
          "output_type": "stream",
          "name": "stderr",
          "text": [
            "\r  0%|          | 14/16054 [00:44<14:23:34,  3.23s/it]"
          ]
        },
        {
          "output_type": "stream",
          "name": "stdout",
          "text": [
            "[youtube] s-QgMaUgtTQ: Downloading webpage\n",
            "[youtube] s-QgMaUgtTQ: Downloading android player API JSON\n",
            "[info] s-QgMaUgtTQ: Downloading 1 format(s): 18\n",
            "[download] Destination: video.mp4\n",
            "[download] 100% of 591.03KiB in 00:00               \n",
            "[MoviePy] >>>> Building video clip.mp4\n",
            "[MoviePy] Writing audio in clipTEMP_MPY_wvf_snd.mp3\n"
          ]
        },
        {
          "output_type": "stream",
          "name": "stderr",
          "text": [
            "\n",
            "100%|██████████| 27/27 [00:00<00:00, 1413.42it/s]"
          ]
        },
        {
          "output_type": "stream",
          "name": "stdout",
          "text": [
            "[MoviePy] Done.\n",
            "[MoviePy] Writing video clip.mp4\n"
          ]
        },
        {
          "output_type": "stream",
          "name": "stderr",
          "text": [
            "\n",
            "\n",
            "  0%|          | 0/37 [00:00<?, ?it/s]\u001b[A\n",
            "100%|██████████| 37/37 [00:00<00:00, 304.29it/s]\n"
          ]
        },
        {
          "output_type": "stream",
          "name": "stdout",
          "text": [
            "[MoviePy] Done.\n",
            "[MoviePy] >>>> Video ready: clip.mp4 \n",
            "\n"
          ]
        },
        {
          "output_type": "stream",
          "name": "stderr",
          "text": [
            "\r  0%|          | 15/16054 [00:46<12:55:38,  2.90s/it]"
          ]
        },
        {
          "output_type": "stream",
          "name": "stdout",
          "text": [
            "[youtube] s-QgMaUgtTQ: Downloading webpage\n",
            "[youtube] s-QgMaUgtTQ: Downloading android player API JSON\n",
            "[info] s-QgMaUgtTQ: Downloading 1 format(s): 18\n",
            "[download] Destination: video.mp4\n",
            "[download] 100% of 591.03KiB in 00:00               \n",
            "[MoviePy] >>>> Building video clip.mp4\n",
            "[MoviePy] Writing audio in clipTEMP_MPY_wvf_snd.mp3\n"
          ]
        },
        {
          "output_type": "stream",
          "name": "stderr",
          "text": [
            "\n",
            "100%|██████████| 39/39 [00:00<00:00, 1127.38it/s]"
          ]
        },
        {
          "output_type": "stream",
          "name": "stdout",
          "text": [
            "[MoviePy] Done.\n",
            "[MoviePy] Writing video clip.mp4\n"
          ]
        },
        {
          "output_type": "stream",
          "name": "stderr",
          "text": [
            "\n",
            "\n",
            "  0%|          | 0/53 [00:00<?, ?it/s]\u001b[A\n",
            "100%|██████████| 53/53 [00:00<00:00, 300.18it/s]\n"
          ]
        },
        {
          "output_type": "stream",
          "name": "stdout",
          "text": [
            "[MoviePy] Done.\n",
            "[MoviePy] >>>> Video ready: clip.mp4 \n",
            "\n"
          ]
        },
        {
          "output_type": "stream",
          "name": "stderr",
          "text": [
            "\r  0%|          | 16/16054 [00:50<13:36:16,  3.05s/it]"
          ]
        },
        {
          "output_type": "stream",
          "name": "stdout",
          "text": [
            "[youtube] s-QgMaUgtTQ: Downloading webpage\n",
            "[youtube] s-QgMaUgtTQ: Downloading android player API JSON\n",
            "[info] s-QgMaUgtTQ: Downloading 1 format(s): 18\n",
            "[download] Destination: video.mp4\n",
            "[download] 100% of 591.03KiB in 00:00               \n",
            "[MoviePy] >>>> Building video clip.mp4\n",
            "[MoviePy] Writing audio in clipTEMP_MPY_wvf_snd.mp3\n"
          ]
        },
        {
          "output_type": "stream",
          "name": "stderr",
          "text": [
            "\n",
            "100%|██████████| 83/83 [00:00<00:00, 1380.83it/s]"
          ]
        },
        {
          "output_type": "stream",
          "name": "stdout",
          "text": [
            "[MoviePy] Done.\n",
            "[MoviePy] Writing video clip.mp4\n"
          ]
        },
        {
          "output_type": "stream",
          "name": "stderr",
          "text": [
            "\n",
            "\n",
            "  0%|          | 0/113 [00:00<?, ?it/s]\u001b[A\n",
            " 29%|██▉       | 33/113 [00:00<00:00, 327.13it/s]\u001b[A\n",
            " 58%|█████▊    | 66/113 [00:00<00:00, 225.88it/s]\u001b[A\n",
            " 81%|████████  | 91/113 [00:00<00:00, 161.90it/s]\u001b[A\n",
            "100%|██████████| 113/113 [00:00<00:00, 163.67it/s]\n"
          ]
        },
        {
          "output_type": "stream",
          "name": "stdout",
          "text": [
            "[MoviePy] Done.\n",
            "[MoviePy] >>>> Video ready: clip.mp4 \n",
            "\n"
          ]
        },
        {
          "output_type": "stream",
          "name": "stderr",
          "text": [
            "\r  0%|          | 17/16054 [00:54<14:44:03,  3.31s/it]"
          ]
        },
        {
          "output_type": "stream",
          "name": "stdout",
          "text": [
            "[youtube] s-QgMaUgtTQ: Downloading webpage\n",
            "[youtube] s-QgMaUgtTQ: Downloading android player API JSON\n",
            "[info] s-QgMaUgtTQ: Downloading 1 format(s): 18\n",
            "[download] Destination: video.mp4\n",
            "[download] 100% of 591.03KiB in 00:00               \n",
            "[MoviePy] >>>> Building video clip.mp4\n",
            "[MoviePy] Writing audio in clipTEMP_MPY_wvf_snd.mp3\n"
          ]
        },
        {
          "output_type": "stream",
          "name": "stderr",
          "text": [
            "\n",
            "100%|██████████| 82/82 [00:00<00:00, 1242.87it/s]"
          ]
        },
        {
          "output_type": "stream",
          "name": "stdout",
          "text": [
            "[MoviePy] Done.\n",
            "[MoviePy] Writing video clip.mp4\n"
          ]
        },
        {
          "output_type": "stream",
          "name": "stderr",
          "text": [
            "\n",
            "\n",
            "  0%|          | 0/112 [00:00<?, ?it/s]\u001b[A\n",
            " 29%|██▉       | 33/112 [00:00<00:00, 325.11it/s]\u001b[A\n",
            " 59%|█████▉    | 66/112 [00:00<00:00, 220.05it/s]\u001b[A\n",
            " 80%|████████  | 90/112 [00:00<00:00, 148.62it/s]\u001b[A\n",
            "100%|██████████| 112/112 [00:00<00:00, 151.86it/s]\n"
          ]
        },
        {
          "output_type": "stream",
          "name": "stdout",
          "text": [
            "[MoviePy] Done.\n",
            "[MoviePy] >>>> Video ready: clip.mp4 \n",
            "\n"
          ]
        },
        {
          "output_type": "stream",
          "name": "stderr",
          "text": [
            "\r  0%|          | 18/16054 [00:57<15:30:38,  3.48s/it]"
          ]
        },
        {
          "output_type": "stream",
          "name": "stdout",
          "text": [
            "[youtube] s-QgMaUgtTQ: Downloading webpage\n",
            "[youtube] s-QgMaUgtTQ: Downloading android player API JSON\n",
            "[info] s-QgMaUgtTQ: Downloading 1 format(s): 18\n",
            "[download] Destination: video.mp4\n",
            "[download] 100% of 591.03KiB in 00:00               \n",
            "[MoviePy] >>>> Building video clip.mp4\n",
            "[MoviePy] Writing audio in clipTEMP_MPY_wvf_snd.mp3\n"
          ]
        },
        {
          "output_type": "stream",
          "name": "stderr",
          "text": [
            "\n",
            "100%|██████████| 70/70 [00:00<00:00, 1054.43it/s]"
          ]
        },
        {
          "output_type": "stream",
          "name": "stdout",
          "text": [
            "[MoviePy] Done.\n",
            "[MoviePy] Writing video clip.mp4\n"
          ]
        },
        {
          "output_type": "stream",
          "name": "stderr",
          "text": [
            "\n",
            "\n",
            "  0%|          | 0/96 [00:00<?, ?it/s]\u001b[A\n",
            " 39%|███▊      | 37/96 [00:00<00:00, 367.20it/s]\u001b[A\n",
            "100%|██████████| 96/96 [00:00<00:00, 188.54it/s]\n"
          ]
        },
        {
          "output_type": "stream",
          "name": "stdout",
          "text": [
            "[MoviePy] Done.\n",
            "[MoviePy] >>>> Video ready: clip.mp4 \n",
            "\n"
          ]
        },
        {
          "output_type": "stream",
          "name": "stderr",
          "text": [
            "\r  0%|          | 19/16054 [01:01<15:43:37,  3.53s/it]"
          ]
        },
        {
          "output_type": "stream",
          "name": "stdout",
          "text": [
            "[youtube] s-QgMaUgtTQ: Downloading webpage\n",
            "[youtube] s-QgMaUgtTQ: Downloading android player API JSON\n",
            "[info] s-QgMaUgtTQ: Downloading 1 format(s): 18\n",
            "[download] Destination: video.mp4\n",
            "[download] 100% of 591.03KiB in 00:00               \n",
            "[MoviePy] >>>> Building video clip.mp4\n",
            "[MoviePy] Writing audio in clipTEMP_MPY_wvf_snd.mp3\n"
          ]
        },
        {
          "output_type": "stream",
          "name": "stderr",
          "text": [
            "\n",
            " 49%|████▊     | 56/115 [00:00<00:00, 1028.85it/s]\n",
            "  0%|          | 20/16054 [01:02<12:49:01,  2.88s/it]"
          ]
        },
        {
          "output_type": "stream",
          "name": "stdout",
          "text": [
            "Caught this error: OSError('Error in file video.mp4, Accessing time t=11.88-11.92 seconds, with clip duration=11 seconds, ')\n",
            "[youtube] s-QgMaUgtTQ: Downloading webpage\n",
            "[youtube] s-QgMaUgtTQ: Downloading android player API JSON\n",
            "[info] s-QgMaUgtTQ: Downloading 1 format(s): 18\n",
            "[download] video.mp4 has already been downloaded\n",
            "[download] 100% of 591.03KiB\n",
            "[MoviePy] >>>> Building video clip.mp4\n",
            "[MoviePy] Writing audio in clipTEMP_MPY_wvf_snd.mp3\n"
          ]
        },
        {
          "output_type": "stream",
          "name": "stderr",
          "text": [
            "\n",
            "100%|██████████| 65/65 [00:00<00:00, 1143.51it/s]"
          ]
        },
        {
          "output_type": "stream",
          "name": "stdout",
          "text": [
            "[MoviePy] Done.\n",
            "[MoviePy] Writing video clip.mp4\n"
          ]
        },
        {
          "output_type": "stream",
          "name": "stderr",
          "text": [
            "\n",
            "\n",
            "  0%|          | 0/88 [00:00<?, ?it/s]\u001b[A\n",
            " 39%|███▊      | 34/88 [00:00<00:00, 330.76it/s]\u001b[A\n",
            "100%|██████████| 88/88 [00:00<00:00, 185.81it/s]\n"
          ]
        },
        {
          "output_type": "stream",
          "name": "stdout",
          "text": [
            "[MoviePy] Done.\n",
            "[MoviePy] >>>> Video ready: clip.mp4 \n",
            "\n"
          ]
        },
        {
          "output_type": "stream",
          "name": "stderr",
          "text": [
            "\r  0%|          | 21/16054 [01:06<13:33:37,  3.04s/it]"
          ]
        },
        {
          "output_type": "stream",
          "name": "stdout",
          "text": [
            "[youtube] s-QgMaUgtTQ: Downloading webpage\n",
            "[youtube] s-QgMaUgtTQ: Downloading android player API JSON\n",
            "[info] s-QgMaUgtTQ: Downloading 1 format(s): 18\n",
            "[download] Destination: video.mp4\n",
            "[download] 100% of 591.03KiB in 00:00               \n",
            "[MoviePy] >>>> Building video clip.mp4\n",
            "[MoviePy] Writing audio in clipTEMP_MPY_wvf_snd.mp3\n"
          ]
        },
        {
          "output_type": "stream",
          "name": "stderr",
          "text": [
            "\n",
            "100%|██████████| 50/50 [00:00<00:00, 1285.13it/s]"
          ]
        },
        {
          "output_type": "stream",
          "name": "stdout",
          "text": [
            "[MoviePy] Done.\n",
            "[MoviePy] Writing video clip.mp4\n"
          ]
        },
        {
          "output_type": "stream",
          "name": "stderr",
          "text": [
            "\n",
            "\n",
            "  0%|          | 0/69 [00:00<?, ?it/s]\u001b[A\n",
            " 49%|████▉     | 34/69 [00:00<00:00, 339.83it/s]\u001b[A\n",
            "100%|██████████| 69/69 [00:00<00:00, 207.77it/s]\n"
          ]
        },
        {
          "output_type": "stream",
          "name": "stdout",
          "text": [
            "[MoviePy] Done.\n",
            "[MoviePy] >>>> Video ready: clip.mp4 \n",
            "\n"
          ]
        },
        {
          "output_type": "stream",
          "name": "stderr",
          "text": [
            "\r  0%|          | 22/16054 [01:09<13:40:37,  3.07s/it]"
          ]
        },
        {
          "output_type": "stream",
          "name": "stdout",
          "text": [
            "[youtube] s-QgMaUgtTQ: Downloading webpage\n",
            "[youtube] s-QgMaUgtTQ: Downloading android player API JSON\n",
            "[info] s-QgMaUgtTQ: Downloading 1 format(s): 18\n",
            "[download] Destination: video.mp4\n",
            "[download] 100% of 591.03KiB in 00:00               \n",
            "[MoviePy] >>>> Building video clip.mp4\n",
            "[MoviePy] Writing audio in clipTEMP_MPY_wvf_snd.mp3\n"
          ]
        },
        {
          "output_type": "stream",
          "name": "stderr",
          "text": [
            "\n",
            "100%|██████████| 80/80 [00:00<00:00, 1428.77it/s]"
          ]
        },
        {
          "output_type": "stream",
          "name": "stdout",
          "text": [
            "[MoviePy] Done.\n",
            "[MoviePy] Writing video clip.mp4\n"
          ]
        },
        {
          "output_type": "stream",
          "name": "stderr",
          "text": [
            "\n",
            "\n",
            "  0%|          | 0/109 [00:00<?, ?it/s]\u001b[A\n",
            " 29%|██▉       | 32/109 [00:00<00:00, 317.37it/s]\u001b[A\n",
            " 59%|█████▊    | 64/109 [00:00<00:00, 226.47it/s]\u001b[A\n",
            " 82%|████████▏ | 89/109 [00:00<00:00, 165.14it/s]\u001b[A\n",
            " 99%|█████████▉| 108/109 [00:00<00:00, 161.17it/s]\n"
          ]
        },
        {
          "output_type": "stream",
          "name": "stdout",
          "text": [
            "[MoviePy] Done.\n",
            "[MoviePy] >>>> Video ready: clip.mp4 \n",
            "\n"
          ]
        },
        {
          "output_type": "stream",
          "name": "stderr",
          "text": [
            "\r  0%|          | 23/16054 [01:13<14:27:25,  3.25s/it]"
          ]
        },
        {
          "output_type": "stream",
          "name": "stdout",
          "text": [
            "[youtube] s-QgMaUgtTQ: Downloading webpage\n",
            "[youtube] s-QgMaUgtTQ: Downloading android player API JSON\n",
            "[info] s-QgMaUgtTQ: Downloading 1 format(s): 18\n",
            "[download] Destination: video.mp4\n",
            "[download] 100% of 591.03KiB in 00:00               \n",
            "[MoviePy] >>>> Building video clip.mp4\n",
            "[MoviePy] Writing audio in clipTEMP_MPY_wvf_snd.mp3\n"
          ]
        },
        {
          "output_type": "stream",
          "name": "stderr",
          "text": [
            "\n",
            "100%|██████████| 53/53 [00:00<00:00, 1025.21it/s]"
          ]
        },
        {
          "output_type": "stream",
          "name": "stdout",
          "text": [
            "[MoviePy] Done.\n",
            "[MoviePy] Writing video clip.mp4\n"
          ]
        },
        {
          "output_type": "stream",
          "name": "stderr",
          "text": [
            "\n",
            "\n",
            "  0%|          | 0/73 [00:00<?, ?it/s]\u001b[A\n",
            " 48%|████▊     | 35/73 [00:00<00:00, 340.90it/s]\u001b[A\n",
            "100%|██████████| 73/73 [00:00<00:00, 208.82it/s]\n"
          ]
        },
        {
          "output_type": "stream",
          "name": "stdout",
          "text": [
            "[MoviePy] Done.\n",
            "[MoviePy] >>>> Video ready: clip.mp4 \n",
            "\n"
          ]
        },
        {
          "output_type": "stream",
          "name": "stderr",
          "text": [
            "\r  0%|          | 24/16054 [01:16<14:10:20,  3.18s/it]"
          ]
        },
        {
          "output_type": "stream",
          "name": "stdout",
          "text": [
            "[youtube] s-QgMaUgtTQ: Downloading webpage\n",
            "[youtube] s-QgMaUgtTQ: Downloading android player API JSON\n",
            "[info] s-QgMaUgtTQ: Downloading 1 format(s): 18\n",
            "[download] Destination: video.mp4\n",
            "[download] 100% of 591.03KiB in 00:00               \n",
            "[MoviePy] >>>> Building video clip.mp4\n",
            "[MoviePy] Writing audio in clipTEMP_MPY_wvf_snd.mp3\n"
          ]
        },
        {
          "output_type": "stream",
          "name": "stderr",
          "text": [
            "\n",
            "100%|██████████| 43/43 [00:00<00:00, 1224.77it/s]"
          ]
        },
        {
          "output_type": "stream",
          "name": "stdout",
          "text": [
            "[MoviePy] Done.\n",
            "[MoviePy] Writing video clip.mp4\n"
          ]
        },
        {
          "output_type": "stream",
          "name": "stderr",
          "text": [
            "\n",
            "\n",
            "  0%|          | 0/58 [00:00<?, ?it/s]\u001b[A\n",
            "100%|██████████| 58/58 [00:00<00:00, 259.26it/s]\n"
          ]
        },
        {
          "output_type": "stream",
          "name": "stdout",
          "text": [
            "[MoviePy] Done.\n",
            "[MoviePy] >>>> Video ready: clip.mp4 \n",
            "\n"
          ]
        },
        {
          "output_type": "stream",
          "name": "stderr",
          "text": [
            "\r  0%|          | 25/16054 [01:19<14:02:11,  3.15s/it]"
          ]
        },
        {
          "output_type": "stream",
          "name": "stdout",
          "text": [
            "[youtube] s-QgMaUgtTQ: Downloading webpage\n",
            "[youtube] s-QgMaUgtTQ: Downloading android player API JSON\n",
            "[info] s-QgMaUgtTQ: Downloading 1 format(s): 18\n",
            "[download] Destination: video.mp4\n",
            "[download] 100% of 591.03KiB in 00:00               \n",
            "[MoviePy] >>>> Building video clip.mp4\n",
            "[MoviePy] Writing audio in clipTEMP_MPY_wvf_snd.mp3\n"
          ]
        },
        {
          "output_type": "stream",
          "name": "stderr",
          "text": [
            "\n",
            "100%|██████████| 81/81 [00:00<00:00, 1340.20it/s]"
          ]
        },
        {
          "output_type": "stream",
          "name": "stdout",
          "text": [
            "[MoviePy] Done.\n",
            "[MoviePy] Writing video clip.mp4\n"
          ]
        },
        {
          "output_type": "stream",
          "name": "stderr",
          "text": [
            "\n",
            "\n",
            "  0%|          | 0/110 [00:00<?, ?it/s]\u001b[A\n",
            " 30%|███       | 33/110 [00:00<00:00, 326.31it/s]\u001b[A\n",
            " 60%|██████    | 66/110 [00:00<00:00, 224.62it/s]\u001b[A\n",
            " 83%|████████▎ | 91/110 [00:00<00:00, 164.22it/s]\u001b[A\n",
            "100%|██████████| 110/110 [00:00<00:00, 159.60it/s]\n"
          ]
        },
        {
          "output_type": "stream",
          "name": "stdout",
          "text": [
            "[MoviePy] Done.\n",
            "[MoviePy] >>>> Video ready: clip.mp4 \n",
            "\n"
          ]
        },
        {
          "output_type": "stream",
          "name": "stderr",
          "text": [
            "\r  0%|          | 26/16054 [01:23<15:10:02,  3.41s/it]"
          ]
        },
        {
          "output_type": "stream",
          "name": "stdout",
          "text": [
            "[youtube] s-QgMaUgtTQ: Downloading webpage\n",
            "[youtube] s-QgMaUgtTQ: Downloading android player API JSON\n",
            "[info] s-QgMaUgtTQ: Downloading 1 format(s): 18\n",
            "[download] Destination: video.mp4\n",
            "[download] 100% of 591.03KiB in 00:00               \n",
            "[MoviePy] >>>> Building video clip.mp4\n",
            "[MoviePy] Writing audio in clipTEMP_MPY_wvf_snd.mp3\n"
          ]
        },
        {
          "output_type": "stream",
          "name": "stderr",
          "text": [
            "\n",
            "100%|██████████| 44/44 [00:00<00:00, 1206.47it/s]"
          ]
        },
        {
          "output_type": "stream",
          "name": "stdout",
          "text": [
            "[MoviePy] Done.\n",
            "[MoviePy] Writing video clip.mp4\n"
          ]
        },
        {
          "output_type": "stream",
          "name": "stderr",
          "text": [
            "\n",
            "\n",
            "  0%|          | 0/59 [00:00<?, ?it/s]\u001b[A\n",
            "100%|██████████| 59/59 [00:00<00:00, 255.10it/s]\n"
          ]
        },
        {
          "output_type": "stream",
          "name": "stdout",
          "text": [
            "[MoviePy] Done.\n",
            "[MoviePy] >>>> Video ready: clip.mp4 \n",
            "\n"
          ]
        },
        {
          "output_type": "stream",
          "name": "stderr",
          "text": [
            "\r  0%|          | 27/16054 [01:26<14:58:08,  3.36s/it]"
          ]
        },
        {
          "output_type": "stream",
          "name": "stdout",
          "text": [
            "[youtube] s-QgMaUgtTQ: Downloading webpage\n",
            "[youtube] s-QgMaUgtTQ: Downloading android player API JSON\n",
            "[info] s-QgMaUgtTQ: Downloading 1 format(s): 18\n",
            "[download] Destination: video.mp4\n",
            "[download] 100% of 591.03KiB in 00:00               \n",
            "[MoviePy] >>>> Building video clip.mp4\n",
            "[MoviePy] Writing audio in clipTEMP_MPY_wvf_snd.mp3\n"
          ]
        },
        {
          "output_type": "stream",
          "name": "stderr",
          "text": [
            "\n",
            "100%|██████████| 56/56 [00:00<00:00, 1249.55it/s]"
          ]
        },
        {
          "output_type": "stream",
          "name": "stdout",
          "text": [
            "[MoviePy] Done.\n",
            "[MoviePy] Writing video clip.mp4\n"
          ]
        },
        {
          "output_type": "stream",
          "name": "stderr",
          "text": [
            "\n",
            "\n",
            "  0%|          | 0/76 [00:00<?, ?it/s]\u001b[A\n",
            " 43%|████▎     | 33/76 [00:00<00:00, 326.99it/s]\u001b[A\n",
            "100%|██████████| 76/76 [00:00<00:00, 199.06it/s]\n"
          ]
        },
        {
          "output_type": "stream",
          "name": "stdout",
          "text": [
            "[MoviePy] Done.\n",
            "[MoviePy] >>>> Video ready: clip.mp4 \n",
            "\n"
          ]
        },
        {
          "output_type": "stream",
          "name": "stderr",
          "text": [
            "\r  0%|          | 28/16054 [01:29<14:53:06,  3.34s/it]"
          ]
        },
        {
          "output_type": "stream",
          "name": "stdout",
          "text": [
            "[youtube] s-QgMaUgtTQ: Downloading webpage\n",
            "[youtube] s-QgMaUgtTQ: Downloading android player API JSON\n",
            "[info] s-QgMaUgtTQ: Downloading 1 format(s): 18\n",
            "[download] Destination: video.mp4\n",
            "[download] 100% of 591.03KiB in 00:00               \n",
            "[MoviePy] >>>> Building video clip.mp4\n",
            "[MoviePy] Writing audio in clipTEMP_MPY_wvf_snd.mp3\n"
          ]
        },
        {
          "output_type": "stream",
          "name": "stderr",
          "text": [
            "\n",
            "100%|██████████| 64/64 [00:00<00:00, 1233.44it/s]"
          ]
        },
        {
          "output_type": "stream",
          "name": "stdout",
          "text": [
            "[MoviePy] Done.\n",
            "[MoviePy] Writing video clip.mp4\n"
          ]
        },
        {
          "output_type": "stream",
          "name": "stderr",
          "text": [
            "\n",
            "\n",
            "  0%|          | 0/87 [00:00<?, ?it/s]\u001b[A\n",
            " 43%|████▎     | 37/87 [00:00<00:00, 368.10it/s]\u001b[A\n",
            "100%|██████████| 87/87 [00:00<00:00, 192.24it/s]\n"
          ]
        },
        {
          "output_type": "stream",
          "name": "stdout",
          "text": [
            "[MoviePy] Done.\n",
            "[MoviePy] >>>> Video ready: clip.mp4 \n",
            "\n"
          ]
        },
        {
          "output_type": "stream",
          "name": "stderr",
          "text": [
            "\r  0%|          | 29/16054 [01:34<16:17:11,  3.66s/it]"
          ]
        },
        {
          "output_type": "stream",
          "name": "stdout",
          "text": [
            "[youtube] s-QgMaUgtTQ: Downloading webpage\n",
            "[youtube] s-QgMaUgtTQ: Downloading android player API JSON\n",
            "[info] s-QgMaUgtTQ: Downloading 1 format(s): 18\n",
            "[download] Destination: video.mp4\n",
            "[download] 100% of 591.03KiB in 00:00               \n",
            "[MoviePy] >>>> Building video clip.mp4\n",
            "[MoviePy] Writing audio in clipTEMP_MPY_wvf_snd.mp3\n"
          ]
        },
        {
          "output_type": "stream",
          "name": "stderr",
          "text": [
            "\n",
            "100%|██████████| 33/33 [00:00<00:00, 1002.27it/s]"
          ]
        },
        {
          "output_type": "stream",
          "name": "stdout",
          "text": [
            "[MoviePy] Done.\n",
            "[MoviePy] Writing video clip.mp4\n"
          ]
        },
        {
          "output_type": "stream",
          "name": "stderr",
          "text": [
            "\n",
            "\n",
            "  0%|          | 0/45 [00:00<?, ?it/s]\u001b[A\n",
            "100%|██████████| 45/45 [00:00<00:00, 293.83it/s]\n"
          ]
        },
        {
          "output_type": "stream",
          "name": "stdout",
          "text": [
            "[MoviePy] Done.\n",
            "[MoviePy] >>>> Video ready: clip.mp4 \n",
            "\n"
          ]
        },
        {
          "output_type": "stream",
          "name": "stderr",
          "text": [
            "\r  0%|          | 30/16054 [01:37<15:09:54,  3.41s/it]"
          ]
        },
        {
          "output_type": "stream",
          "name": "stdout",
          "text": [
            "[youtube] s-QgMaUgtTQ: Downloading webpage\n",
            "[youtube] s-QgMaUgtTQ: Downloading android player API JSON\n"
          ]
        },
        {
          "output_type": "stream",
          "name": "stderr",
          "text": [
            "\r  0%|          | 30/16054 [01:37<14:29:49,  3.26s/it]\n"
          ]
        },
        {
          "output_type": "error",
          "ename": "KeyboardInterrupt",
          "evalue": "ignored",
          "traceback": [
            "\u001b[0;31m---------------------------------------------------------------------------\u001b[0m",
            "\u001b[0;31mKeyboardInterrupt\u001b[0m                         Traceback (most recent call last)",
            "\u001b[0;32m<ipython-input-24-a650916fb958>\u001b[0m in \u001b[0;36m<module>\u001b[0;34m()\u001b[0m\n\u001b[1;32m     23\u001b[0m \u001b[0;34m\u001b[0m\u001b[0m\n\u001b[1;32m     24\u001b[0m     \u001b[0;32mwith\u001b[0m \u001b[0mYoutubeDL\u001b[0m\u001b[0;34m(\u001b[0m\u001b[0mydl_opts\u001b[0m\u001b[0;34m)\u001b[0m \u001b[0;32mas\u001b[0m \u001b[0mydl\u001b[0m\u001b[0;34m:\u001b[0m\u001b[0;34m\u001b[0m\u001b[0;34m\u001b[0m\u001b[0m\n\u001b[0;32m---> 25\u001b[0;31m       \u001b[0mydl\u001b[0m\u001b[0;34m.\u001b[0m\u001b[0mdownload\u001b[0m\u001b[0;34m(\u001b[0m\u001b[0;34m[\u001b[0m\u001b[0mvideo_url\u001b[0m\u001b[0;34m]\u001b[0m\u001b[0;34m)\u001b[0m\u001b[0;34m\u001b[0m\u001b[0;34m\u001b[0m\u001b[0m\n\u001b[0m\u001b[1;32m     26\u001b[0m \u001b[0;34m\u001b[0m\u001b[0m\n\u001b[1;32m     27\u001b[0m     \u001b[0;31m#print(\"Download completed.\")\u001b[0m\u001b[0;34m\u001b[0m\u001b[0;34m\u001b[0m\u001b[0;34m\u001b[0m\u001b[0m\n",
            "\u001b[0;32m/usr/local/lib/python3.7/dist-packages/yt_dlp/YoutubeDL.py\u001b[0m in \u001b[0;36mdownload\u001b[0;34m(self, url_list)\u001b[0m\n\u001b[1;32m   3253\u001b[0m         \u001b[0;32mfor\u001b[0m \u001b[0murl\u001b[0m \u001b[0;32min\u001b[0m \u001b[0murl_list\u001b[0m\u001b[0;34m:\u001b[0m\u001b[0;34m\u001b[0m\u001b[0;34m\u001b[0m\u001b[0m\n\u001b[1;32m   3254\u001b[0m             self.__download_wrapper(self.extract_info)(\n\u001b[0;32m-> 3255\u001b[0;31m                 url, force_generic_extractor=self.params.get('force_generic_extractor', False))\n\u001b[0m\u001b[1;32m   3256\u001b[0m \u001b[0;34m\u001b[0m\u001b[0m\n\u001b[1;32m   3257\u001b[0m         \u001b[0;32mreturn\u001b[0m \u001b[0mself\u001b[0m\u001b[0;34m.\u001b[0m\u001b[0m_download_retcode\u001b[0m\u001b[0;34m\u001b[0m\u001b[0;34m\u001b[0m\u001b[0m\n",
            "\u001b[0;32m/usr/local/lib/python3.7/dist-packages/yt_dlp/YoutubeDL.py\u001b[0m in \u001b[0;36mwrapper\u001b[0;34m(*args, **kwargs)\u001b[0m\n\u001b[1;32m   3228\u001b[0m         \u001b[0;32mdef\u001b[0m \u001b[0mwrapper\u001b[0m\u001b[0;34m(\u001b[0m\u001b[0;34m*\u001b[0m\u001b[0margs\u001b[0m\u001b[0;34m,\u001b[0m \u001b[0;34m**\u001b[0m\u001b[0mkwargs\u001b[0m\u001b[0;34m)\u001b[0m\u001b[0;34m:\u001b[0m\u001b[0;34m\u001b[0m\u001b[0;34m\u001b[0m\u001b[0m\n\u001b[1;32m   3229\u001b[0m             \u001b[0;32mtry\u001b[0m\u001b[0;34m:\u001b[0m\u001b[0;34m\u001b[0m\u001b[0;34m\u001b[0m\u001b[0m\n\u001b[0;32m-> 3230\u001b[0;31m                 \u001b[0mres\u001b[0m \u001b[0;34m=\u001b[0m \u001b[0mfunc\u001b[0m\u001b[0;34m(\u001b[0m\u001b[0;34m*\u001b[0m\u001b[0margs\u001b[0m\u001b[0;34m,\u001b[0m \u001b[0;34m**\u001b[0m\u001b[0mkwargs\u001b[0m\u001b[0;34m)\u001b[0m\u001b[0;34m\u001b[0m\u001b[0;34m\u001b[0m\u001b[0m\n\u001b[0m\u001b[1;32m   3231\u001b[0m             \u001b[0;32mexcept\u001b[0m \u001b[0mUnavailableVideoError\u001b[0m \u001b[0;32mas\u001b[0m \u001b[0me\u001b[0m\u001b[0;34m:\u001b[0m\u001b[0;34m\u001b[0m\u001b[0;34m\u001b[0m\u001b[0m\n\u001b[1;32m   3232\u001b[0m                 \u001b[0mself\u001b[0m\u001b[0;34m.\u001b[0m\u001b[0mreport_error\u001b[0m\u001b[0;34m(\u001b[0m\u001b[0me\u001b[0m\u001b[0;34m)\u001b[0m\u001b[0;34m\u001b[0m\u001b[0;34m\u001b[0m\u001b[0m\n",
            "\u001b[0;32m/usr/local/lib/python3.7/dist-packages/yt_dlp/YoutubeDL.py\u001b[0m in \u001b[0;36mextract_info\u001b[0;34m(self, url, download, ie_key, extra_info, process, force_generic_extractor)\u001b[0m\n\u001b[1;32m   1384\u001b[0m                     \u001b[0;32mraise\u001b[0m \u001b[0mExistingVideoReached\u001b[0m\u001b[0;34m(\u001b[0m\u001b[0;34m)\u001b[0m\u001b[0;34m\u001b[0m\u001b[0;34m\u001b[0m\u001b[0m\n\u001b[1;32m   1385\u001b[0m                 \u001b[0;32mbreak\u001b[0m\u001b[0;34m\u001b[0m\u001b[0;34m\u001b[0m\u001b[0m\n\u001b[0;32m-> 1386\u001b[0;31m             \u001b[0;32mreturn\u001b[0m \u001b[0mself\u001b[0m\u001b[0;34m.\u001b[0m\u001b[0m__extract_info\u001b[0m\u001b[0;34m(\u001b[0m\u001b[0murl\u001b[0m\u001b[0;34m,\u001b[0m \u001b[0mself\u001b[0m\u001b[0;34m.\u001b[0m\u001b[0mget_info_extractor\u001b[0m\u001b[0;34m(\u001b[0m\u001b[0mie_key\u001b[0m\u001b[0;34m)\u001b[0m\u001b[0;34m,\u001b[0m \u001b[0mdownload\u001b[0m\u001b[0;34m,\u001b[0m \u001b[0mextra_info\u001b[0m\u001b[0;34m,\u001b[0m \u001b[0mprocess\u001b[0m\u001b[0;34m)\u001b[0m\u001b[0;34m\u001b[0m\u001b[0;34m\u001b[0m\u001b[0m\n\u001b[0m\u001b[1;32m   1387\u001b[0m         \u001b[0;32melse\u001b[0m\u001b[0;34m:\u001b[0m\u001b[0;34m\u001b[0m\u001b[0;34m\u001b[0m\u001b[0m\n\u001b[1;32m   1388\u001b[0m             \u001b[0mself\u001b[0m\u001b[0;34m.\u001b[0m\u001b[0mreport_error\u001b[0m\u001b[0;34m(\u001b[0m\u001b[0;34m'no suitable InfoExtractor for URL %s'\u001b[0m \u001b[0;34m%\u001b[0m \u001b[0murl\u001b[0m\u001b[0;34m)\u001b[0m\u001b[0;34m\u001b[0m\u001b[0;34m\u001b[0m\u001b[0m\n",
            "\u001b[0;32m/usr/local/lib/python3.7/dist-packages/yt_dlp/YoutubeDL.py\u001b[0m in \u001b[0;36mwrapper\u001b[0;34m(self, *args, **kwargs)\u001b[0m\n\u001b[1;32m   1393\u001b[0m             \u001b[0;32mwhile\u001b[0m \u001b[0;32mTrue\u001b[0m\u001b[0;34m:\u001b[0m\u001b[0;34m\u001b[0m\u001b[0;34m\u001b[0m\u001b[0m\n\u001b[1;32m   1394\u001b[0m                 \u001b[0;32mtry\u001b[0m\u001b[0;34m:\u001b[0m\u001b[0;34m\u001b[0m\u001b[0;34m\u001b[0m\u001b[0m\n\u001b[0;32m-> 1395\u001b[0;31m                     \u001b[0;32mreturn\u001b[0m \u001b[0mfunc\u001b[0m\u001b[0;34m(\u001b[0m\u001b[0mself\u001b[0m\u001b[0;34m,\u001b[0m \u001b[0;34m*\u001b[0m\u001b[0margs\u001b[0m\u001b[0;34m,\u001b[0m \u001b[0;34m**\u001b[0m\u001b[0mkwargs\u001b[0m\u001b[0;34m)\u001b[0m\u001b[0;34m\u001b[0m\u001b[0;34m\u001b[0m\u001b[0m\n\u001b[0m\u001b[1;32m   1396\u001b[0m                 \u001b[0;32mexcept\u001b[0m \u001b[0;34m(\u001b[0m\u001b[0mDownloadCancelled\u001b[0m\u001b[0;34m,\u001b[0m \u001b[0mLazyList\u001b[0m\u001b[0;34m.\u001b[0m\u001b[0mIndexError\u001b[0m\u001b[0;34m,\u001b[0m \u001b[0mPagedList\u001b[0m\u001b[0;34m.\u001b[0m\u001b[0mIndexError\u001b[0m\u001b[0;34m)\u001b[0m\u001b[0;34m:\u001b[0m\u001b[0;34m\u001b[0m\u001b[0;34m\u001b[0m\u001b[0m\n\u001b[1;32m   1397\u001b[0m                     \u001b[0;32mraise\u001b[0m\u001b[0;34m\u001b[0m\u001b[0;34m\u001b[0m\u001b[0m\n",
            "\u001b[0;32m/usr/local/lib/python3.7/dist-packages/yt_dlp/YoutubeDL.py\u001b[0m in \u001b[0;36m__extract_info\u001b[0;34m(self, url, ie, download, extra_info, process)\u001b[0m\n\u001b[1;32m   1463\u001b[0m     \u001b[0;34m@\u001b[0m\u001b[0m__handle_extraction_exceptions\u001b[0m\u001b[0;34m\u001b[0m\u001b[0;34m\u001b[0m\u001b[0m\n\u001b[1;32m   1464\u001b[0m     \u001b[0;32mdef\u001b[0m \u001b[0m__extract_info\u001b[0m\u001b[0;34m(\u001b[0m\u001b[0mself\u001b[0m\u001b[0;34m,\u001b[0m \u001b[0murl\u001b[0m\u001b[0;34m,\u001b[0m \u001b[0mie\u001b[0m\u001b[0;34m,\u001b[0m \u001b[0mdownload\u001b[0m\u001b[0;34m,\u001b[0m \u001b[0mextra_info\u001b[0m\u001b[0;34m,\u001b[0m \u001b[0mprocess\u001b[0m\u001b[0;34m)\u001b[0m\u001b[0;34m:\u001b[0m\u001b[0;34m\u001b[0m\u001b[0;34m\u001b[0m\u001b[0m\n\u001b[0;32m-> 1465\u001b[0;31m         \u001b[0mie_result\u001b[0m \u001b[0;34m=\u001b[0m \u001b[0mie\u001b[0m\u001b[0;34m.\u001b[0m\u001b[0mextract\u001b[0m\u001b[0;34m(\u001b[0m\u001b[0murl\u001b[0m\u001b[0;34m)\u001b[0m\u001b[0;34m\u001b[0m\u001b[0;34m\u001b[0m\u001b[0m\n\u001b[0m\u001b[1;32m   1466\u001b[0m         \u001b[0;32mif\u001b[0m \u001b[0mie_result\u001b[0m \u001b[0;32mis\u001b[0m \u001b[0;32mNone\u001b[0m\u001b[0;34m:\u001b[0m  \u001b[0;31m# Finished already (backwards compatibility; listformats and friends should be moved here)\u001b[0m\u001b[0;34m\u001b[0m\u001b[0;34m\u001b[0m\u001b[0m\n\u001b[1;32m   1467\u001b[0m             \u001b[0;32mreturn\u001b[0m\u001b[0;34m\u001b[0m\u001b[0;34m\u001b[0m\u001b[0m\n",
            "\u001b[0;32m/usr/local/lib/python3.7/dist-packages/yt_dlp/extractor/common.py\u001b[0m in \u001b[0;36mextract\u001b[0;34m(self, url)\u001b[0m\n\u001b[1;32m    640\u001b[0m                     \u001b[0mself\u001b[0m\u001b[0;34m.\u001b[0m\u001b[0minitialize\u001b[0m\u001b[0;34m(\u001b[0m\u001b[0;34m)\u001b[0m\u001b[0;34m\u001b[0m\u001b[0;34m\u001b[0m\u001b[0m\n\u001b[1;32m    641\u001b[0m                     \u001b[0mself\u001b[0m\u001b[0;34m.\u001b[0m\u001b[0mwrite_debug\u001b[0m\u001b[0;34m(\u001b[0m\u001b[0;34m'Extracting URL: %s'\u001b[0m \u001b[0;34m%\u001b[0m \u001b[0murl\u001b[0m\u001b[0;34m)\u001b[0m\u001b[0;34m\u001b[0m\u001b[0;34m\u001b[0m\u001b[0m\n\u001b[0;32m--> 642\u001b[0;31m                     \u001b[0mie_result\u001b[0m \u001b[0;34m=\u001b[0m \u001b[0mself\u001b[0m\u001b[0;34m.\u001b[0m\u001b[0m_real_extract\u001b[0m\u001b[0;34m(\u001b[0m\u001b[0murl\u001b[0m\u001b[0;34m)\u001b[0m\u001b[0;34m\u001b[0m\u001b[0;34m\u001b[0m\u001b[0m\n\u001b[0m\u001b[1;32m    643\u001b[0m                     \u001b[0;32mif\u001b[0m \u001b[0mie_result\u001b[0m \u001b[0;32mis\u001b[0m \u001b[0;32mNone\u001b[0m\u001b[0;34m:\u001b[0m\u001b[0;34m\u001b[0m\u001b[0;34m\u001b[0m\u001b[0m\n\u001b[1;32m    644\u001b[0m                         \u001b[0;32mreturn\u001b[0m \u001b[0;32mNone\u001b[0m\u001b[0;34m\u001b[0m\u001b[0;34m\u001b[0m\u001b[0m\n",
            "\u001b[0;32m/usr/local/lib/python3.7/dist-packages/yt_dlp/extractor/youtube.py\u001b[0m in \u001b[0;36m_real_extract\u001b[0;34m(self, url)\u001b[0m\n\u001b[1;32m   3416\u001b[0m \u001b[0;34m\u001b[0m\u001b[0m\n\u001b[1;32m   3417\u001b[0m         live_broadcast_details, is_live, streaming_data, formats = self._list_formats(\n\u001b[0;32m-> 3418\u001b[0;31m             video_id, microformats, video_details, player_responses, player_url, duration)\n\u001b[0m\u001b[1;32m   3419\u001b[0m \u001b[0;34m\u001b[0m\u001b[0m\n\u001b[1;32m   3420\u001b[0m         \u001b[0;32mif\u001b[0m \u001b[0;32mnot\u001b[0m \u001b[0mformats\u001b[0m\u001b[0;34m:\u001b[0m\u001b[0;34m\u001b[0m\u001b[0;34m\u001b[0m\u001b[0m\n",
            "\u001b[0;32m/usr/local/lib/python3.7/dist-packages/yt_dlp/extractor/youtube.py\u001b[0m in \u001b[0;36m_list_formats\u001b[0;34m(self, video_id, microformats, video_details, player_responses, player_url, duration)\u001b[0m\n\u001b[1;32m   3329\u001b[0m \u001b[0;34m\u001b[0m\u001b[0m\n\u001b[1;32m   3330\u001b[0m         \u001b[0mstreaming_data\u001b[0m \u001b[0;34m=\u001b[0m \u001b[0mtraverse_obj\u001b[0m\u001b[0;34m(\u001b[0m\u001b[0mplayer_responses\u001b[0m\u001b[0;34m,\u001b[0m \u001b[0;34m(\u001b[0m\u001b[0;34m...\u001b[0m\u001b[0;34m,\u001b[0m \u001b[0;34m'streamingData'\u001b[0m\u001b[0;34m)\u001b[0m\u001b[0;34m,\u001b[0m \u001b[0mdefault\u001b[0m\u001b[0;34m=\u001b[0m\u001b[0;34m[\u001b[0m\u001b[0;34m]\u001b[0m\u001b[0;34m)\u001b[0m\u001b[0;34m\u001b[0m\u001b[0;34m\u001b[0m\u001b[0m\n\u001b[0;32m-> 3331\u001b[0;31m         \u001b[0mformats\u001b[0m \u001b[0;34m=\u001b[0m \u001b[0mlist\u001b[0m\u001b[0;34m(\u001b[0m\u001b[0mself\u001b[0m\u001b[0;34m.\u001b[0m\u001b[0m_extract_formats\u001b[0m\u001b[0;34m(\u001b[0m\u001b[0mstreaming_data\u001b[0m\u001b[0;34m,\u001b[0m \u001b[0mvideo_id\u001b[0m\u001b[0;34m,\u001b[0m \u001b[0mplayer_url\u001b[0m\u001b[0;34m,\u001b[0m \u001b[0mis_live\u001b[0m\u001b[0;34m,\u001b[0m \u001b[0mduration\u001b[0m\u001b[0;34m)\u001b[0m\u001b[0;34m)\u001b[0m\u001b[0;34m\u001b[0m\u001b[0;34m\u001b[0m\u001b[0m\n\u001b[0m\u001b[1;32m   3332\u001b[0m \u001b[0;34m\u001b[0m\u001b[0m\n\u001b[1;32m   3333\u001b[0m         \u001b[0;32mreturn\u001b[0m \u001b[0mlive_broadcast_details\u001b[0m\u001b[0;34m,\u001b[0m \u001b[0mis_live\u001b[0m\u001b[0;34m,\u001b[0m \u001b[0mstreaming_data\u001b[0m\u001b[0;34m,\u001b[0m \u001b[0mformats\u001b[0m\u001b[0;34m\u001b[0m\u001b[0;34m\u001b[0m\u001b[0m\n",
            "\u001b[0;32m/usr/local/lib/python3.7/dist-packages/yt_dlp/extractor/youtube.py\u001b[0m in \u001b[0;36m_extract_formats\u001b[0;34m(self, streaming_data, video_id, player_url, is_live, duration)\u001b[0m\n\u001b[1;32m   3156\u001b[0m                 \u001b[0mfmt_url\u001b[0m \u001b[0;34m+=\u001b[0m \u001b[0;34m'&'\u001b[0m \u001b[0;34m+\u001b[0m \u001b[0msp\u001b[0m \u001b[0;34m+\u001b[0m \u001b[0;34m'='\u001b[0m \u001b[0;34m+\u001b[0m \u001b[0msignature\u001b[0m\u001b[0;34m\u001b[0m\u001b[0;34m\u001b[0m\u001b[0m\n\u001b[1;32m   3157\u001b[0m \u001b[0;34m\u001b[0m\u001b[0m\n\u001b[0;32m-> 3158\u001b[0;31m             \u001b[0mquery\u001b[0m \u001b[0;34m=\u001b[0m \u001b[0mparse_qs\u001b[0m\u001b[0;34m(\u001b[0m\u001b[0mfmt_url\u001b[0m\u001b[0;34m)\u001b[0m\u001b[0;34m\u001b[0m\u001b[0;34m\u001b[0m\u001b[0m\n\u001b[0m\u001b[1;32m   3159\u001b[0m             \u001b[0mthrottled\u001b[0m \u001b[0;34m=\u001b[0m \u001b[0;32mFalse\u001b[0m\u001b[0;34m\u001b[0m\u001b[0;34m\u001b[0m\u001b[0m\n\u001b[1;32m   3160\u001b[0m             \u001b[0;32mif\u001b[0m \u001b[0mquery\u001b[0m\u001b[0;34m.\u001b[0m\u001b[0mget\u001b[0m\u001b[0;34m(\u001b[0m\u001b[0;34m'n'\u001b[0m\u001b[0;34m)\u001b[0m\u001b[0;34m:\u001b[0m\u001b[0;34m\u001b[0m\u001b[0;34m\u001b[0m\u001b[0m\n",
            "\u001b[0;32m/usr/local/lib/python3.7/dist-packages/yt_dlp/utils.py\u001b[0m in \u001b[0;36mparse_qs\u001b[0;34m(url)\u001b[0m\n\u001b[1;32m   2800\u001b[0m \u001b[0;34m\u001b[0m\u001b[0m\n\u001b[1;32m   2801\u001b[0m \u001b[0;32mdef\u001b[0m \u001b[0mparse_qs\u001b[0m\u001b[0;34m(\u001b[0m\u001b[0murl\u001b[0m\u001b[0;34m)\u001b[0m\u001b[0;34m:\u001b[0m\u001b[0;34m\u001b[0m\u001b[0;34m\u001b[0m\u001b[0m\n\u001b[0;32m-> 2802\u001b[0;31m     \u001b[0;32mreturn\u001b[0m \u001b[0mcompat_parse_qs\u001b[0m\u001b[0;34m(\u001b[0m\u001b[0mcompat_urllib_parse_urlparse\u001b[0m\u001b[0;34m(\u001b[0m\u001b[0murl\u001b[0m\u001b[0;34m)\u001b[0m\u001b[0;34m.\u001b[0m\u001b[0mquery\u001b[0m\u001b[0;34m)\u001b[0m\u001b[0;34m\u001b[0m\u001b[0;34m\u001b[0m\u001b[0m\n\u001b[0m\u001b[1;32m   2803\u001b[0m \u001b[0;34m\u001b[0m\u001b[0m\n\u001b[1;32m   2804\u001b[0m \u001b[0;34m\u001b[0m\u001b[0m\n",
            "\u001b[0;32m/usr/lib/python3.7/urllib/parse.py\u001b[0m in \u001b[0;36murlparse\u001b[0;34m(url, scheme, allow_fragments)\u001b[0m\n\u001b[1;32m    369\u001b[0m     (e.g. netloc is a single string) and we don't expand % escapes.\"\"\"\n\u001b[1;32m    370\u001b[0m     \u001b[0murl\u001b[0m\u001b[0;34m,\u001b[0m \u001b[0mscheme\u001b[0m\u001b[0;34m,\u001b[0m \u001b[0m_coerce_result\u001b[0m \u001b[0;34m=\u001b[0m \u001b[0m_coerce_args\u001b[0m\u001b[0;34m(\u001b[0m\u001b[0murl\u001b[0m\u001b[0;34m,\u001b[0m \u001b[0mscheme\u001b[0m\u001b[0;34m)\u001b[0m\u001b[0;34m\u001b[0m\u001b[0;34m\u001b[0m\u001b[0m\n\u001b[0;32m--> 371\u001b[0;31m     \u001b[0msplitresult\u001b[0m \u001b[0;34m=\u001b[0m \u001b[0murlsplit\u001b[0m\u001b[0;34m(\u001b[0m\u001b[0murl\u001b[0m\u001b[0;34m,\u001b[0m \u001b[0mscheme\u001b[0m\u001b[0;34m,\u001b[0m \u001b[0mallow_fragments\u001b[0m\u001b[0;34m)\u001b[0m\u001b[0;34m\u001b[0m\u001b[0;34m\u001b[0m\u001b[0m\n\u001b[0m\u001b[1;32m    372\u001b[0m     \u001b[0mscheme\u001b[0m\u001b[0;34m,\u001b[0m \u001b[0mnetloc\u001b[0m\u001b[0;34m,\u001b[0m \u001b[0murl\u001b[0m\u001b[0;34m,\u001b[0m \u001b[0mquery\u001b[0m\u001b[0;34m,\u001b[0m \u001b[0mfragment\u001b[0m \u001b[0;34m=\u001b[0m \u001b[0msplitresult\u001b[0m\u001b[0;34m\u001b[0m\u001b[0;34m\u001b[0m\u001b[0m\n\u001b[1;32m    373\u001b[0m     \u001b[0;32mif\u001b[0m \u001b[0mscheme\u001b[0m \u001b[0;32min\u001b[0m \u001b[0muses_params\u001b[0m \u001b[0;32mand\u001b[0m \u001b[0;34m';'\u001b[0m \u001b[0;32min\u001b[0m \u001b[0murl\u001b[0m\u001b[0;34m:\u001b[0m\u001b[0;34m\u001b[0m\u001b[0;34m\u001b[0m\u001b[0m\n",
            "\u001b[0;32m/usr/lib/python3.7/urllib/parse.py\u001b[0m in \u001b[0;36murlsplit\u001b[0;34m(url, scheme, allow_fragments)\u001b[0m\n\u001b[1;32m    464\u001b[0m \u001b[0;34m\u001b[0m\u001b[0m\n\u001b[1;32m    465\u001b[0m     \u001b[0;32mif\u001b[0m \u001b[0murl\u001b[0m\u001b[0;34m[\u001b[0m\u001b[0;34m:\u001b[0m\u001b[0;36m2\u001b[0m\u001b[0;34m]\u001b[0m \u001b[0;34m==\u001b[0m \u001b[0;34m'//'\u001b[0m\u001b[0;34m:\u001b[0m\u001b[0;34m\u001b[0m\u001b[0;34m\u001b[0m\u001b[0m\n\u001b[0;32m--> 466\u001b[0;31m         \u001b[0mnetloc\u001b[0m\u001b[0;34m,\u001b[0m \u001b[0murl\u001b[0m \u001b[0;34m=\u001b[0m \u001b[0m_splitnetloc\u001b[0m\u001b[0;34m(\u001b[0m\u001b[0murl\u001b[0m\u001b[0;34m,\u001b[0m \u001b[0;36m2\u001b[0m\u001b[0;34m)\u001b[0m\u001b[0;34m\u001b[0m\u001b[0;34m\u001b[0m\u001b[0m\n\u001b[0m\u001b[1;32m    467\u001b[0m         if (('[' in netloc and ']' not in netloc) or\n\u001b[1;32m    468\u001b[0m                 (']' in netloc and '[' not in netloc)):\n",
            "\u001b[0;32m/usr/lib/python3.7/urllib/parse.py\u001b[0m in \u001b[0;36m_splitnetloc\u001b[0;34m(url, start)\u001b[0m\n\u001b[1;32m    393\u001b[0m         \u001b[0;32mif\u001b[0m \u001b[0mwdelim\u001b[0m \u001b[0;34m>=\u001b[0m \u001b[0;36m0\u001b[0m\u001b[0;34m:\u001b[0m                    \u001b[0;31m# if found\u001b[0m\u001b[0;34m\u001b[0m\u001b[0;34m\u001b[0m\u001b[0m\n\u001b[1;32m    394\u001b[0m             \u001b[0mdelim\u001b[0m \u001b[0;34m=\u001b[0m \u001b[0mmin\u001b[0m\u001b[0;34m(\u001b[0m\u001b[0mdelim\u001b[0m\u001b[0;34m,\u001b[0m \u001b[0mwdelim\u001b[0m\u001b[0;34m)\u001b[0m     \u001b[0;31m# use earliest delim position\u001b[0m\u001b[0;34m\u001b[0m\u001b[0;34m\u001b[0m\u001b[0m\n\u001b[0;32m--> 395\u001b[0;31m     \u001b[0;32mreturn\u001b[0m \u001b[0murl\u001b[0m\u001b[0;34m[\u001b[0m\u001b[0mstart\u001b[0m\u001b[0;34m:\u001b[0m\u001b[0mdelim\u001b[0m\u001b[0;34m]\u001b[0m\u001b[0;34m,\u001b[0m \u001b[0murl\u001b[0m\u001b[0;34m[\u001b[0m\u001b[0mdelim\u001b[0m\u001b[0;34m:\u001b[0m\u001b[0;34m]\u001b[0m   \u001b[0;31m# return (domain, rest)\u001b[0m\u001b[0;34m\u001b[0m\u001b[0;34m\u001b[0m\u001b[0m\n\u001b[0m\u001b[1;32m    396\u001b[0m \u001b[0;34m\u001b[0m\u001b[0m\n\u001b[1;32m    397\u001b[0m \u001b[0;32mdef\u001b[0m \u001b[0m_checknetloc\u001b[0m\u001b[0;34m(\u001b[0m\u001b[0mnetloc\u001b[0m\u001b[0;34m)\u001b[0m\u001b[0;34m:\u001b[0m\u001b[0;34m\u001b[0m\u001b[0;34m\u001b[0m\u001b[0m\n",
            "\u001b[0;31mKeyboardInterrupt\u001b[0m: "
          ]
        }
      ],
      "source": [
        "#Original\n",
        "FRAMES_FIX = 30\n",
        "\n",
        "from math import floor\n",
        "import cv2\n",
        "from pytube import YouTube\n",
        "import pandas as pd\n",
        "import numpy as np\n",
        "import mediapipe as mp\n",
        "import tqdm\n",
        "from moviepy.video.io.ffmpeg_tools import ffmpeg_extract_subclip\n",
        "\n",
        "columns = [\"mediapipe_keypoint\",\"box\",\"label\"]\n",
        "\n",
        "global_data = pd.DataFrame(columns=columns)\n",
        "\n",
        "\n",
        "for i in tqdm.tqdm(range(len(df))):\n",
        "  try:\n",
        "    \n",
        "    #Append to global dataframe\n",
        "    global_data = global_data.append(pd.DataFrame([[np.array(mediapipe_keypoints)[:30],df[\"box\"][i],label]],columns=columns))\n",
        "    \n",
        "    with YoutubeDL(ydl_opts) as ydl:\n",
        "      ydl.download([video_url])\n",
        "    \n",
        "    #print(\"Download completed.\")\n",
        "    trim_video(df[\"start_time\"][i], df[\"end_time\"][i])\n",
        "    \n",
        "    !rm video.mp4\n",
        "    # Calculate number of frames\n",
        "    cap = cv2. VideoCapture(\"clip.mp4\")\n",
        "    number_of_frames = int(cap. get(cv2. CAP_PROP_FRAME_COUNT))\n",
        "    N = floor(number_of_frames/FRAMES_FIX)\n",
        "    \n",
        "    # The frame images will be stored in mediapipe_keypoints\n",
        "    mediapipe_keypoints = []\n",
        "    label=label_one_list[i]\n",
        "    # Open the video file\n",
        "    capture = cv2.VideoCapture('/content/clip.mp4')\n",
        "    fps = capture.get(cv2.CAP_PROP_FPS)\n",
        "    current_frame = 0\n",
        "    while capture.isOpened():\n",
        "      # Read the current frame\n",
        "      ret, frame = capture.read()\n",
        "      # Convert it to a PIL image (required for CLIP) and store it\n",
        "      if ret == True:\n",
        "        if len(mediapipe_keypoints) > 180:\n",
        "          break\n",
        "        mediapipe_keypoints.append(frame[:, :, ::-1])\n",
        "      else:\n",
        "        break\n",
        "      # Skip N frames\n",
        "      current_frame += N\n",
        "      \n",
        "      capture.set(cv2.CAP_PROP_POS_FRAMES, current_frame)\n",
        "    \n",
        "  except Exception as error:\n",
        "          print('Caught this error: ' + repr(error))   \n",
        "\n",
        "\n"
      ]
    },
    {
      "cell_type": "markdown",
      "metadata": {
        "id": "bYWJ4Vhte9H8"
      },
      "source": [
        "## Select a YouTube video\n",
        "\n",
        "Paste a link to a YouTube video or choose one of the examples. \n",
        "\n",
        "Choose a value for `N` which defines how many frames should be skipped. `N = 30` is usually about 1 frame every second."
      ]
    },
    {
      "cell_type": "code",
      "execution_count": null,
      "metadata": {
        "colab": {
          "base_uri": "https://localhost:8080/"
        },
        "id": "mrDn4qnmCQCC",
        "outputId": "c53b6a67-8bad-4925-b756-28a2a5c5db07"
      },
      "outputs": [
        {
          "data": {
            "text/plain": [
              "0"
            ]
          },
          "execution_count": 24,
          "metadata": {},
          "output_type": "execute_result"
        }
      ],
      "source": [
        "# Dashcam video of driving around San Francisco\n",
        "video_url = \"https://www.youtube.com/watch?v=C37R_Ix8-qs\"  \n",
        "\n",
        "# How much frames to skip\n",
        "N = 6\n",
        "\n",
        "FRAMES_FIX = 30\n",
        "\n",
        "from math import floor\n",
        "N = floor(number_of_frames/FRAMES_FIX)\n",
        "N"
      ]
    },
    {
      "cell_type": "markdown",
      "metadata": {
        "id": "OQEncpKceUUy"
      },
      "source": [
        "## Setup the environment\n",
        "\n",
        "Install CLIP and install its dependencies."
      ]
    },
    {
      "cell_type": "code",
      "execution_count": null,
      "metadata": {
        "id": "LQ_le-BO30LB"
      },
      "outputs": [],
      "source": [
        "# pytube is used to download videos from YouTube\n",
        "!pip install pytube\n",
        "\n",
        "# TQDM\n",
        "!pip install tqdm\n",
        "# Intall a newer version of plotly\n",
        "!pip install plotly==4.14.3\n",
        "\n",
        "# Install CLIP from the GitHub repo\n",
        "!pip install git+https://github.com/openai/CLIP.git\n",
        "\n",
        "# Install torch 1.7.1 with GPU support\n",
        "!pip install torch==1.7.1+cu101 torchvision==0.8.2+cu101 -f https://download.pytorch.org/whl/torch_stable.html"
      ]
    },
    {
      "cell_type": "markdown",
      "metadata": {
        "id": "8snSpx68fgPK"
      },
      "source": [
        "## Download the video and process with CLIP\n",
        "\n",
        "In this section the video is downloaded, every N-th frame is extracted and each frame is processed using CLIP."
      ]
    },
    {
      "cell_type": "markdown",
      "metadata": {
        "id": "gdQCw7S0gbPp"
      },
      "source": [
        "Download the video locallyat 360p resoultion using `pytube`. A bigger resolution is not needed because CLIP scales down the images anyway."
      ]
    },
    {
      "cell_type": "code",
      "execution_count": null,
      "metadata": {
        "colab": {
          "base_uri": "https://localhost:8080/",
          "height": 208
        },
        "id": "5LJQF1bvG6DX",
        "outputId": "b9b54fb9-cfaf-43f5-d4fb-dd04c7665c50"
      },
      "outputs": [
        {
          "ename": "AttributeError",
          "evalue": "ignored",
          "output_type": "error",
          "traceback": [
            "\u001b[0;31m---------------------------------------------------------------------------\u001b[0m",
            "\u001b[0;31mAttributeError\u001b[0m                            Traceback (most recent call last)",
            "\u001b[0;32m<ipython-input-26-bea1fae197da>\u001b[0m in \u001b[0;36m<module>\u001b[0;34m()\u001b[0m\n\u001b[1;32m      1\u001b[0m \u001b[0mimage\u001b[0m \u001b[0;34m=\u001b[0m \u001b[0mcv2\u001b[0m\u001b[0;34m.\u001b[0m\u001b[0mimread\u001b[0m\u001b[0;34m(\u001b[0m\u001b[0;34m\"/content/download.png\"\u001b[0m\u001b[0;34m)\u001b[0m\u001b[0;34m\u001b[0m\u001b[0;34m\u001b[0m\u001b[0m\n\u001b[0;32m----> 2\u001b[0;31m \u001b[0mimage_width\u001b[0m\u001b[0;34m,\u001b[0m \u001b[0mimage_height\u001b[0m \u001b[0;34m=\u001b[0m \u001b[0mimage\u001b[0m\u001b[0;34m.\u001b[0m\u001b[0mshape\u001b[0m\u001b[0;34m[\u001b[0m\u001b[0;36m1\u001b[0m\u001b[0;34m]\u001b[0m\u001b[0;34m,\u001b[0m \u001b[0mimage\u001b[0m\u001b[0;34m.\u001b[0m\u001b[0mshape\u001b[0m\u001b[0;34m[\u001b[0m\u001b[0;36m0\u001b[0m\u001b[0;34m]\u001b[0m\u001b[0;34m\u001b[0m\u001b[0;34m\u001b[0m\u001b[0m\n\u001b[0m\u001b[1;32m      3\u001b[0m \u001b[0mimage_width\u001b[0m\u001b[0;34m,\u001b[0m \u001b[0mimage_height\u001b[0m\u001b[0;34m\u001b[0m\u001b[0;34m\u001b[0m\u001b[0m\n",
            "\u001b[0;31mAttributeError\u001b[0m: 'NoneType' object has no attribute 'shape'"
          ]
        }
      ],
      "source": [
        "image = cv2.imread(\"/content/download.png\")\n",
        "image_width, image_height = image.shape[1], image.shape[0]\n",
        "image_width, image_height"
      ]
    },
    {
      "cell_type": "code",
      "execution_count": null,
      "metadata": {
        "id": "audRnjIiHFsZ"
      },
      "outputs": [],
      "source": [
        ""
      ]
    },
    {
      "cell_type": "code",
      "execution_count": null,
      "metadata": {
        "colab": {
          "base_uri": "https://localhost:8080/",
          "height": 451
        },
        "id": "Uz8HXiTL4T5Z",
        "outputId": "7a7519c1-83a1-45ea-d236-605f9633983b"
      },
      "outputs": [
        {
          "ename": "RegexMatchError",
          "evalue": "ignored",
          "output_type": "error",
          "traceback": [
            "\u001b[0;31m---------------------------------------------------------------------------\u001b[0m",
            "\u001b[0;31mRegexMatchError\u001b[0m                           Traceback (most recent call last)",
            "\u001b[0;32m/usr/local/lib/python3.7/dist-packages/pytube/__main__.py\u001b[0m in \u001b[0;36mfmt_streams\u001b[0;34m(self)\u001b[0m\n\u001b[1;32m    180\u001b[0m         \u001b[0;32mtry\u001b[0m\u001b[0;34m:\u001b[0m\u001b[0;34m\u001b[0m\u001b[0;34m\u001b[0m\u001b[0m\n\u001b[0;32m--> 181\u001b[0;31m             \u001b[0mextract\u001b[0m\u001b[0;34m.\u001b[0m\u001b[0mapply_signature\u001b[0m\u001b[0;34m(\u001b[0m\u001b[0mstream_manifest\u001b[0m\u001b[0;34m,\u001b[0m \u001b[0mself\u001b[0m\u001b[0;34m.\u001b[0m\u001b[0mvid_info\u001b[0m\u001b[0;34m,\u001b[0m \u001b[0mself\u001b[0m\u001b[0;34m.\u001b[0m\u001b[0mjs\u001b[0m\u001b[0;34m)\u001b[0m\u001b[0;34m\u001b[0m\u001b[0;34m\u001b[0m\u001b[0m\n\u001b[0m\u001b[1;32m    182\u001b[0m         \u001b[0;32mexcept\u001b[0m \u001b[0mexceptions\u001b[0m\u001b[0;34m.\u001b[0m\u001b[0mExtractError\u001b[0m\u001b[0;34m:\u001b[0m\u001b[0;34m\u001b[0m\u001b[0;34m\u001b[0m\u001b[0m\n",
            "\u001b[0;32m/usr/local/lib/python3.7/dist-packages/pytube/extract.py\u001b[0m in \u001b[0;36mapply_signature\u001b[0;34m(stream_manifest, vid_info, js)\u001b[0m\n\u001b[1;32m    408\u001b[0m     \"\"\"\n\u001b[0;32m--> 409\u001b[0;31m     \u001b[0mcipher\u001b[0m \u001b[0;34m=\u001b[0m \u001b[0mCipher\u001b[0m\u001b[0;34m(\u001b[0m\u001b[0mjs\u001b[0m\u001b[0;34m=\u001b[0m\u001b[0mjs\u001b[0m\u001b[0;34m)\u001b[0m\u001b[0;34m\u001b[0m\u001b[0;34m\u001b[0m\u001b[0m\n\u001b[0m\u001b[1;32m    410\u001b[0m \u001b[0;34m\u001b[0m\u001b[0m\n",
            "\u001b[0;32m/usr/local/lib/python3.7/dist-packages/pytube/cipher.py\u001b[0m in \u001b[0;36m__init__\u001b[0;34m(self, js)\u001b[0m\n\u001b[1;32m     33\u001b[0m             raise RegexMatchError(\n\u001b[0;32m---> 34\u001b[0;31m                 \u001b[0mcaller\u001b[0m\u001b[0;34m=\u001b[0m\u001b[0;34m\"__init__\"\u001b[0m\u001b[0;34m,\u001b[0m \u001b[0mpattern\u001b[0m\u001b[0;34m=\u001b[0m\u001b[0mvar_regex\u001b[0m\u001b[0;34m.\u001b[0m\u001b[0mpattern\u001b[0m\u001b[0;34m\u001b[0m\u001b[0;34m\u001b[0m\u001b[0m\n\u001b[0m\u001b[1;32m     35\u001b[0m             )\n",
            "\u001b[0;31mRegexMatchError\u001b[0m: __init__: could not find match for ^\\w+\\W",
            "\nDuring handling of the above exception, another exception occurred:\n",
            "\u001b[0;31mRegexMatchError\u001b[0m                           Traceback (most recent call last)",
            "\u001b[0;32m<ipython-input-27-59b903d53a68>\u001b[0m in \u001b[0;36m<module>\u001b[0;34m()\u001b[0m\n\u001b[1;32m      2\u001b[0m \u001b[0;34m\u001b[0m\u001b[0m\n\u001b[1;32m      3\u001b[0m \u001b[0;31m# Choose a video stream with resolution of 360p\u001b[0m\u001b[0;34m\u001b[0m\u001b[0;34m\u001b[0m\u001b[0;34m\u001b[0m\u001b[0m\n\u001b[0;32m----> 4\u001b[0;31m \u001b[0mstreams\u001b[0m \u001b[0;34m=\u001b[0m \u001b[0mYouTube\u001b[0m\u001b[0;34m(\u001b[0m\u001b[0mvideo_url\u001b[0m\u001b[0;34m)\u001b[0m\u001b[0;34m.\u001b[0m\u001b[0mstreams\u001b[0m\u001b[0;34m.\u001b[0m\u001b[0mfilter\u001b[0m\u001b[0;34m(\u001b[0m\u001b[0madaptive\u001b[0m\u001b[0;34m=\u001b[0m\u001b[0;32mTrue\u001b[0m\u001b[0;34m,\u001b[0m \u001b[0msubtype\u001b[0m\u001b[0;34m=\u001b[0m\u001b[0;34m\"mp4\"\u001b[0m\u001b[0;34m,\u001b[0m \u001b[0mresolution\u001b[0m\u001b[0;34m=\u001b[0m\u001b[0;34m\"360p\"\u001b[0m\u001b[0;34m,\u001b[0m \u001b[0monly_video\u001b[0m\u001b[0;34m=\u001b[0m\u001b[0;32mTrue\u001b[0m\u001b[0;34m)\u001b[0m\u001b[0;34m\u001b[0m\u001b[0;34m\u001b[0m\u001b[0m\n\u001b[0m\u001b[1;32m      5\u001b[0m \u001b[0;34m\u001b[0m\u001b[0m\n\u001b[1;32m      6\u001b[0m \u001b[0;31m# Check if there is a valid stream\u001b[0m\u001b[0;34m\u001b[0m\u001b[0;34m\u001b[0m\u001b[0;34m\u001b[0m\u001b[0m\n",
            "\u001b[0;32m/usr/local/lib/python3.7/dist-packages/pytube/__main__.py\u001b[0m in \u001b[0;36mstreams\u001b[0;34m(self)\u001b[0m\n\u001b[1;32m    294\u001b[0m         \"\"\"\n\u001b[1;32m    295\u001b[0m         \u001b[0mself\u001b[0m\u001b[0;34m.\u001b[0m\u001b[0mcheck_availability\u001b[0m\u001b[0;34m(\u001b[0m\u001b[0;34m)\u001b[0m\u001b[0;34m\u001b[0m\u001b[0;34m\u001b[0m\u001b[0m\n\u001b[0;32m--> 296\u001b[0;31m         \u001b[0;32mreturn\u001b[0m \u001b[0mStreamQuery\u001b[0m\u001b[0;34m(\u001b[0m\u001b[0mself\u001b[0m\u001b[0;34m.\u001b[0m\u001b[0mfmt_streams\u001b[0m\u001b[0;34m)\u001b[0m\u001b[0;34m\u001b[0m\u001b[0;34m\u001b[0m\u001b[0m\n\u001b[0m\u001b[1;32m    297\u001b[0m \u001b[0;34m\u001b[0m\u001b[0m\n\u001b[1;32m    298\u001b[0m     \u001b[0;34m@\u001b[0m\u001b[0mproperty\u001b[0m\u001b[0;34m\u001b[0m\u001b[0;34m\u001b[0m\u001b[0m\n",
            "\u001b[0;32m/usr/local/lib/python3.7/dist-packages/pytube/__main__.py\u001b[0m in \u001b[0;36mfmt_streams\u001b[0;34m(self)\u001b[0m\n\u001b[1;32m    186\u001b[0m             \u001b[0mpytube\u001b[0m\u001b[0;34m.\u001b[0m\u001b[0m__js__\u001b[0m \u001b[0;34m=\u001b[0m \u001b[0;32mNone\u001b[0m\u001b[0;34m\u001b[0m\u001b[0;34m\u001b[0m\u001b[0m\n\u001b[1;32m    187\u001b[0m             \u001b[0mpytube\u001b[0m\u001b[0;34m.\u001b[0m\u001b[0m__js_url__\u001b[0m \u001b[0;34m=\u001b[0m \u001b[0;32mNone\u001b[0m\u001b[0;34m\u001b[0m\u001b[0;34m\u001b[0m\u001b[0m\n\u001b[0;32m--> 188\u001b[0;31m             \u001b[0mextract\u001b[0m\u001b[0;34m.\u001b[0m\u001b[0mapply_signature\u001b[0m\u001b[0;34m(\u001b[0m\u001b[0mstream_manifest\u001b[0m\u001b[0;34m,\u001b[0m \u001b[0mself\u001b[0m\u001b[0;34m.\u001b[0m\u001b[0mvid_info\u001b[0m\u001b[0;34m,\u001b[0m \u001b[0mself\u001b[0m\u001b[0;34m.\u001b[0m\u001b[0mjs\u001b[0m\u001b[0;34m)\u001b[0m\u001b[0;34m\u001b[0m\u001b[0;34m\u001b[0m\u001b[0m\n\u001b[0m\u001b[1;32m    189\u001b[0m \u001b[0;34m\u001b[0m\u001b[0m\n\u001b[1;32m    190\u001b[0m         \u001b[0;31m# build instances of :class:`Stream <Stream>`\u001b[0m\u001b[0;34m\u001b[0m\u001b[0;34m\u001b[0m\u001b[0;34m\u001b[0m\u001b[0m\n",
            "\u001b[0;32m/usr/local/lib/python3.7/dist-packages/pytube/extract.py\u001b[0m in \u001b[0;36mapply_signature\u001b[0;34m(stream_manifest, vid_info, js)\u001b[0m\n\u001b[1;32m    407\u001b[0m \u001b[0;34m\u001b[0m\u001b[0m\n\u001b[1;32m    408\u001b[0m     \"\"\"\n\u001b[0;32m--> 409\u001b[0;31m     \u001b[0mcipher\u001b[0m \u001b[0;34m=\u001b[0m \u001b[0mCipher\u001b[0m\u001b[0;34m(\u001b[0m\u001b[0mjs\u001b[0m\u001b[0;34m=\u001b[0m\u001b[0mjs\u001b[0m\u001b[0;34m)\u001b[0m\u001b[0;34m\u001b[0m\u001b[0;34m\u001b[0m\u001b[0m\n\u001b[0m\u001b[1;32m    410\u001b[0m \u001b[0;34m\u001b[0m\u001b[0m\n\u001b[1;32m    411\u001b[0m     \u001b[0;32mfor\u001b[0m \u001b[0mi\u001b[0m\u001b[0;34m,\u001b[0m \u001b[0mstream\u001b[0m \u001b[0;32min\u001b[0m \u001b[0menumerate\u001b[0m\u001b[0;34m(\u001b[0m\u001b[0mstream_manifest\u001b[0m\u001b[0;34m)\u001b[0m\u001b[0;34m:\u001b[0m\u001b[0;34m\u001b[0m\u001b[0;34m\u001b[0m\u001b[0m\n",
            "\u001b[0;32m/usr/local/lib/python3.7/dist-packages/pytube/cipher.py\u001b[0m in \u001b[0;36m__init__\u001b[0;34m(self, js)\u001b[0m\n\u001b[1;32m     32\u001b[0m         \u001b[0;32mif\u001b[0m \u001b[0;32mnot\u001b[0m \u001b[0mvar_match\u001b[0m\u001b[0;34m:\u001b[0m\u001b[0;34m\u001b[0m\u001b[0;34m\u001b[0m\u001b[0m\n\u001b[1;32m     33\u001b[0m             raise RegexMatchError(\n\u001b[0;32m---> 34\u001b[0;31m                 \u001b[0mcaller\u001b[0m\u001b[0;34m=\u001b[0m\u001b[0;34m\"__init__\"\u001b[0m\u001b[0;34m,\u001b[0m \u001b[0mpattern\u001b[0m\u001b[0;34m=\u001b[0m\u001b[0mvar_regex\u001b[0m\u001b[0;34m.\u001b[0m\u001b[0mpattern\u001b[0m\u001b[0;34m\u001b[0m\u001b[0;34m\u001b[0m\u001b[0m\n\u001b[0m\u001b[1;32m     35\u001b[0m             )\n\u001b[1;32m     36\u001b[0m         \u001b[0mvar\u001b[0m \u001b[0;34m=\u001b[0m \u001b[0mvar_match\u001b[0m\u001b[0;34m.\u001b[0m\u001b[0mgroup\u001b[0m\u001b[0;34m(\u001b[0m\u001b[0;36m0\u001b[0m\u001b[0;34m)\u001b[0m\u001b[0;34m[\u001b[0m\u001b[0;34m:\u001b[0m\u001b[0;34m-\u001b[0m\u001b[0;36m1\u001b[0m\u001b[0;34m]\u001b[0m\u001b[0;34m\u001b[0m\u001b[0;34m\u001b[0m\u001b[0m\n",
            "\u001b[0;31mRegexMatchError\u001b[0m: __init__: could not find match for ^\\w+\\W"
          ]
        }
      ],
      "source": [
        "from pytube import YouTube\n",
        "\n",
        "# Choose a video stream with resolution of 360p\n",
        "streams = YouTube(video_url).streams.filter(adaptive=True, subtype=\"mp4\", resolution=\"360p\", only_video=True)\n",
        "\n",
        "# Check if there is a valid stream\n",
        "if len(streams) == 0:\n",
        "  raise \"No suitable stream found for this YouTube video!\"\n",
        "\n",
        "# Download the video as video.mp4\n",
        "print(\"Downloading...\")\n",
        "streams[0].download(filename=\"video.mp4\")\n",
        "print(\"Download completed.\")"
      ]
    },
    {
      "cell_type": "code",
      "execution_count": null,
      "metadata": {
        "id": "6IJjI_Ce_tw1"
      },
      "outputs": [],
      "source": [
        "# Dashcam video of driving around San Francisco\n",
        "video_url = \"https://www.youtube.com/watch?v=C37R_Ix8-qs\"  \n",
        "\n",
        "# How much frames to skip\n",
        "N = 6"
      ]
    },
    {
      "cell_type": "code",
      "execution_count": null,
      "metadata": {
        "id": "DQ12z3lx9RPS"
      },
      "outputs": [],
      "source": [
        "from moviepy.video.io.ffmpeg_tools import ffmpeg_extract_subclip\n",
        "ffmpeg_extract_subclip(\"video.mp4\", round(df[\"start_time\"][i]), round(df[\"end_time\"][i]), targetname=\"final_video.mp4\")"
      ]
    },
    {
      "cell_type": "markdown",
      "metadata": {
        "id": "hfG5b7_Ig_CO"
      },
      "source": [
        "Extract every `N-th` frame of the video."
      ]
    },
    {
      "cell_type": "code",
      "execution_count": null,
      "metadata": {
        "id": "tVmQBxqpCAX7"
      },
      "outputs": [],
      "source": [
        "import cv2\n",
        "from PIL import Image\n",
        "\n",
        "# The frame images will be stored in video_frames\n",
        "video_frames = []\n",
        "\n",
        "# Open the video file\n",
        "capture = cv2.VideoCapture('/content/clip.mp4')\n",
        "fps = capture.get(cv2.CAP_PROP_FPS)\n",
        "\n",
        "current_frame = 0\n",
        "while capture.isOpened():\n",
        "  # Read the current frame\n",
        "  ret, frame = capture.read()\n",
        "\n",
        "  # Convert it to a PIL image (required for CLIP) and store it\n",
        "  if ret == True:\n",
        "    video_frames.append(Image.fromarray(frame[:, :, ::-1]))\n",
        "    print(frame.shape)\n",
        "  else:\n",
        "    break\n",
        "\n",
        "  # Skip N frames\n",
        "  current_frame += 6\n",
        "  capture.set(cv2.CAP_PROP_POS_FRAMES, current_frame)\n",
        "\n",
        "# Print some statistics\n",
        "print(f\"Frames extracted: {len(video_frames)}\")"
      ]
    },
    {
      "cell_type": "code",
      "execution_count": null,
      "metadata": {
        "id": "qTn_4OQJCcXK"
      },
      "outputs": [],
      "source": [
        "Image.fromarray(video_frames[25])"
      ]
    },
    {
      "cell_type": "code",
      "execution_count": null,
      "metadata": {
        "id": "i4UQSCpXaaWf"
      },
      "outputs": [],
      "source": [
        "\n",
        "numpy_array = get_keypoints(video_frames[13])\n",
        "\n",
        "numpy_array"
      ]
    },
    {
      "cell_type": "markdown",
      "metadata": {
        "id": "Dw6oW1-sh50o"
      },
      "source": [
        "Load the public CLIP model."
      ]
    },
    {
      "cell_type": "code",
      "execution_count": null,
      "metadata": {
        "id": "ztgBXLiqC5M-"
      },
      "outputs": [],
      "source": [
        "import clip\n",
        "import torch\n",
        "\n",
        "# Load the open CLIP model\n",
        "device = \"cuda\" if torch.cuda.is_available() else \"cpu\"\n",
        "model, preprocess = clip.load(\"ViT-B/32\", device=device)"
      ]
    },
    {
      "cell_type": "markdown",
      "metadata": {
        "id": "75fR84yEibsx"
      },
      "source": [
        "Encode all frames using CLIP. The encoding is done in batches for a better efficiency."
      ]
    },
    {
      "cell_type": "code",
      "execution_count": null,
      "metadata": {
        "id": "RfLC2iEiE3yL"
      },
      "outputs": [],
      "source": [
        "import math\n",
        "import numpy as np\n",
        "import torch\n",
        "\n",
        "# You can try tuning the batch size for very large videos, but it should usually be OK\n",
        "batch_size = 256\n",
        "batches = math.ceil(len(video_frames) / batch_size)\n",
        "\n",
        "# The encoded features will bs stored in video_features\n",
        "video_features = torch.empty([0, 512], dtype=torch.float16).to(device)\n",
        "\n",
        "# Process each batch\n",
        "for i in range(batches):\n",
        "  print(f\"Processing batch {i+1}/{batches}\")\n",
        "\n",
        "  # Get the relevant frames\n",
        "  batch_frames = video_frames[i*batch_size : (i+1)*batch_size]\n",
        "  \n",
        "  # Preprocess the images for the batch\n",
        "  batch_preprocessed = torch.stack([preprocess(frame) for frame in batch_frames]).to(device)\n",
        "  \n",
        "  # Encode with CLIP and normalize\n",
        "  with torch.no_grad():\n",
        "    batch_features = model.encode_image(batch_preprocessed)\n",
        "    batch_features /= batch_features.norm(dim=-1, keepdim=True)\n",
        "\n",
        "  # Append the batch to the list containing all features\n",
        "  video_features = torch.cat((video_features, batch_features))\n",
        "\n",
        "# Print some stats\n",
        "print(f\"Features: {video_features.shape}\")"
      ]
    },
    {
      "cell_type": "code",
      "execution_count": null,
      "metadata": {
        "id": "XpVs1xWyyR4_"
      },
      "outputs": [],
      "source": [
        "import os\n",
        "from os.path import exists, join, basename, splitext\n",
        "# initiating variable for cloning openpose\n",
        "git_repo_url = 'https://github.com/CMU-Perceptual-Computing-Lab/openpose.git'\n",
        "project_name = splitext(basename(git_repo_url))[0]\n",
        "if not exists(project_name):\n",
        "  # see: https://github.com/CMU-Perceptual-Computing-Lab/openpose/issues/949\n",
        "  # install new CMake becaue of CUDA10\n",
        "  !wget -q https://cmake.org/files/v3.13/cmake-3.13.0-Linux-x86_64.tar.gz\n",
        "  !tar xfz cmake-3.13.0-Linux-x86_64.tar.gz --strip-components=1 -C /usr/local\n",
        "  # clone openpose\n",
        "  !git clone -q --depth 1 $git_repo_url\n",
        "  !sed -i 's/execute_process(COMMAND git checkout master WORKING_DIRECTORY ${CMAKE_SOURCE_DIR}\\/3rdparty\\/caffe)/execute_process(COMMAND git checkout f019d0dfe86f49d1140961f8c7dec22130c83154 WORKING_DIRECTORY ${CMAKE_SOURCE_DIR}\\/3rdparty\\/caffe)/g' openpose/CMakeLists.txt\n",
        "  # install system dependencies\n",
        "  !apt-get -qq install -y libatlas-base-dev libprotobuf-dev libleveldb-dev libsnappy-dev libhdf5-serial-dev protobuf-compiler libgflags-dev libgoogle-glog-dev liblmdb-dev opencl-headers ocl-icd-opencl-dev libviennacl-dev\n",
        "  # install python dependencies\n",
        "  !pip install -q youtube-dl\n",
        "  # build openpose\n",
        "  !cd openpose && rm -rf build || true && mkdir build && cd build && cmake .. && make -j`nproc`\n",
        "from IPython.display import YouTubeVideo"
      ]
    },
    {
      "cell_type": "code",
      "execution_count": null,
      "metadata": {
        "id": "3LsuockUyaLw"
      },
      "outputs": [],
      "source": [
        "YOUTUBE_ID = '0daS_SDCT_U'\n",
        "YouTubeVideo(YOUTUBE_ID)\n",
        "import io\n",
        "import base64\n",
        "from IPython.display import HTML\n",
        "file_name=\"output.mp4\"\n",
        "width=640\n",
        "height=480\n",
        "video_encoded = base64.b64encode(io.open(file_name, 'rb').read())\n",
        "return HTML(data='''<video width=\"{0}\" height=\"{1}\" alt=\"test\" controls>\n",
        "                        <source src=\"data:video/mp4;base64,{2}\" type=\"video/mp4\" />\n",
        "                      </video>'''.format(width, height, video_encoded.decode('ascii')))"
      ]
    }
  ],
  "metadata": {
    "accelerator": "GPU",
    "colab": {
      "collapsed_sections": [],
      "name": "Sign Language Openpose+CNNLSTM",
      "provenance": [],
      "include_colab_link": true
    },
    "kernelspec": {
      "display_name": "Python 3",
      "name": "python3"
    },
    "language_info": {
      "name": "python"
    }
  },
  "nbformat": 4,
  "nbformat_minor": 0
}